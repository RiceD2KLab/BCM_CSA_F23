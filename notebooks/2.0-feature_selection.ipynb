{
  "cells": [
    {
      "cell_type": "markdown",
      "metadata": {},
      "source": [
        "# Import modules"
      ]
    },
    {
      "cell_type": "code",
      "execution_count": 24,
      "metadata": {
        "id": "d4gzerKEO8fL"
      },
      "outputs": [],
      "source": [
        "\n",
        "import pandas as pd\n",
        "import numpy as np\n",
        "from sklearn.linear_model import Lasso\n",
        "from sklearn.model_selection import train_test_split\n",
        "from sklearn.metrics import mean_squared_error\n",
        "from sklearn.linear_model import LassoCV\n",
        "from sklearn.impute import KNNImputer\n",
        "from sklearn.preprocessing import OneHotEncoder\n",
        "from sklearn.tree import DecisionTreeRegressor\n",
        "from sklearn.feature_selection import mutual_info_regression\n",
        "from sklearn.ensemble import RandomForestRegressor\n",
        "from sklearn.preprocessing import StandardScaler\n",
        "from sklearn.svm import SVC\n",
        "from sklearn.metrics import mean_squared_error\n",
        "import random\n",
        "import numpy as np\n",
        "\n",
        "random.seed(0)\n",
        "np.random.seed(0)"
      ]
    },
    {
      "cell_type": "markdown",
      "metadata": {
        "id": "qCvU9-SzCZ9t"
      },
      "source": [
        "upload 'shhs1-dataset-0.20.0 (1).csv' and 'shhs-data-dictionary-0.20.0-variables.csv'"
      ]
    },
    {
      "cell_type": "code",
      "execution_count": 25,
      "metadata": {
        "colab": {
          "base_uri": "https://localhost:8080/"
        },
        "id": "z0FviMLTC7Rg",
        "outputId": "a8ee0d1b-2c4a-423b-882a-bcbd51e52fa4"
      },
      "outputs": [
        {
          "name": "stderr",
          "output_type": "stream",
          "text": [
            "C:\\Users\\Risto Trajanov\\AppData\\Local\\Temp\\ipykernel_54392\\3278197214.py:3: DtypeWarning: Columns (1214) have mixed types. Specify dtype option on import or set low_memory=False.\n",
            "  shhs1 = pd.read_csv('../data/raw/shhs1-dataset-0.20.0.csv')\n"
          ]
        }
      ],
      "source": [
        "#read Sleep Heart Health Study Dataset\n",
        "\n",
        "shhs1 = pd.read_csv('../data/raw/shhs1-dataset-0.20.0.csv')\n",
        "#read Sleep Heart Health Study Dictionary\n",
        "var_dict = pd.read_csv('../data/interim/shhs-data-dictionary-0.20.0-variables.csv')"
      ]
    },
    {
      "cell_type": "code",
      "execution_count": 26,
      "metadata": {
        "colab": {
          "base_uri": "https://localhost:8080/"
        },
        "id": "VAdnUVhqVlFL",
        "outputId": "c3d94e73-c40b-46c9-d04f-f496316a70d6"
      },
      "outputs": [
        {
          "data": {
            "text/plain": [
              "(5804, 1271)"
            ]
          },
          "execution_count": 26,
          "metadata": {},
          "output_type": "execute_result"
        }
      ],
      "source": [
        "#find the shape of shhs1 - 5804 rows, 1271 columns\n",
        "shhs1.shape"
      ]
    },
    {
      "cell_type": "code",
      "execution_count": 27,
      "metadata": {
        "colab": {
          "base_uri": "https://localhost:8080/"
        },
        "id": "IdBTHXTECYLa",
        "outputId": "d6932510-a282-480e-8ede-75e67e3f80eb"
      },
      "outputs": [
        {
          "data": {
            "text/plain": [
              "(1896, 11)"
            ]
          },
          "execution_count": 27,
          "metadata": {},
          "output_type": "execute_result"
        }
      ],
      "source": [
        "#find the shape of var_dict - 1896 rows, 11 columns\n",
        "var_dict.shape"
      ]
    },
    {
      "cell_type": "markdown",
      "metadata": {
        "id": "KssRAm0uWEYm"
      },
      "source": [
        "# Data Processing"
      ]
    },
    {
      "cell_type": "code",
      "execution_count": 28,
      "metadata": {
        "id": "-99Mz7qVClSt"
      },
      "outputs": [],
      "source": [
        "# remove sleep monitoring columns from independent variables (unattinable for predicting)\n",
        "sleep_monitoring_col = var_dict[var_dict['folder'].str.contains(r'sleep monitoring', case=False, na=False)]['id']"
      ]
    },
    {
      "cell_type": "code",
      "execution_count": 29,
      "metadata": {
        "colab": {
          "base_uri": "https://localhost:8080/"
        },
        "id": "aQ5CRNQDER9E",
        "outputId": "29c6116c-7d7e-4920-b30b-2af19f65ab93"
      },
      "outputs": [
        {
          "data": {
            "text/plain": [
              "633        ahiov50\n",
              "634     headbox_id\n",
              "635        hrov150\n",
              "636        hrund30\n",
              "637     monitor_id\n",
              "           ...    \n",
              "1721      timest1p\n",
              "1722       timest2\n",
              "1723      timest2p\n",
              "1724      timest34\n",
              "1725          waso\n",
              "Name: id, Length: 1093, dtype: object"
            ]
          },
          "execution_count": 29,
          "metadata": {},
          "output_type": "execute_result"
        }
      ],
      "source": [
        "sleep_monitoring_col"
      ]
    },
    {
      "cell_type": "code",
      "execution_count": 30,
      "metadata": {
        "id": "Say15UbMZt8d"
      },
      "outputs": [],
      "source": [
        "# drop target variables, pptidr (has numerical and categorical values in one column), and sleep monitoring columns in independent variable\n",
        "x = shhs1.drop(columns=['ahi_c0h4a', 'pptidr'])\n",
        "for col in sleep_monitoring_col:\n",
        "    if col in x.columns:\n",
        "        x = x.drop(columns=col)\n",
        "\n",
        "y = shhs1['ahi_c0h4a']"
      ]
    },
    {
      "cell_type": "code",
      "execution_count": 31,
      "metadata": {
        "colab": {
          "base_uri": "https://localhost:8080/",
          "height": 444
        },
        "id": "hCeqjn03MOXY",
        "outputId": "a6ac3805-aa08-43af-aa6c-fac1436456f3"
      },
      "outputs": [
        {
          "data": {
            "text/html": [
              "<div>\n",
              "<style scoped>\n",
              "    .dataframe tbody tr th:only-of-type {\n",
              "        vertical-align: middle;\n",
              "    }\n",
              "\n",
              "    .dataframe tbody tr th {\n",
              "        vertical-align: top;\n",
              "    }\n",
              "\n",
              "    .dataframe thead th {\n",
              "        text-align: right;\n",
              "    }\n",
              "</style>\n",
              "<table border=\"1\" class=\"dataframe\">\n",
              "  <thead>\n",
              "    <tr style=\"text-align: right;\">\n",
              "      <th></th>\n",
              "      <th>nsrrid</th>\n",
              "      <th>pptid</th>\n",
              "      <th>ecgdate</th>\n",
              "      <th>lvh3_1</th>\n",
              "      <th>lvh3_3</th>\n",
              "      <th>st4_1_3</th>\n",
              "      <th>st5_1_3</th>\n",
              "      <th>lvhst</th>\n",
              "      <th>mob1</th>\n",
              "      <th>part2deg</th>\n",
              "      <th>...</th>\n",
              "      <th>educat</th>\n",
              "      <th>date02</th>\n",
              "      <th>date25</th>\n",
              "      <th>weight</th>\n",
              "      <th>waist</th>\n",
              "      <th>height</th>\n",
              "      <th>weight20</th>\n",
              "      <th>lang15</th>\n",
              "      <th>age_category_s1</th>\n",
              "      <th>visitnumber</th>\n",
              "    </tr>\n",
              "  </thead>\n",
              "  <tbody>\n",
              "    <tr>\n",
              "      <th>0</th>\n",
              "      <td>200001</td>\n",
              "      <td>1</td>\n",
              "      <td>NaN</td>\n",
              "      <td>NaN</td>\n",
              "      <td>NaN</td>\n",
              "      <td>NaN</td>\n",
              "      <td>NaN</td>\n",
              "      <td>NaN</td>\n",
              "      <td>NaN</td>\n",
              "      <td>NaN</td>\n",
              "      <td>...</td>\n",
              "      <td>3.0</td>\n",
              "      <td>-48.0</td>\n",
              "      <td>0.0</td>\n",
              "      <td>65.0</td>\n",
              "      <td>86.0</td>\n",
              "      <td>178.0</td>\n",
              "      <td>69.0</td>\n",
              "      <td>1.0</td>\n",
              "      <td>7</td>\n",
              "      <td>1</td>\n",
              "    </tr>\n",
              "    <tr>\n",
              "      <th>1</th>\n",
              "      <td>200002</td>\n",
              "      <td>2</td>\n",
              "      <td>NaN</td>\n",
              "      <td>NaN</td>\n",
              "      <td>NaN</td>\n",
              "      <td>NaN</td>\n",
              "      <td>NaN</td>\n",
              "      <td>NaN</td>\n",
              "      <td>NaN</td>\n",
              "      <td>NaN</td>\n",
              "      <td>...</td>\n",
              "      <td>2.0</td>\n",
              "      <td>-111.0</td>\n",
              "      <td>-37.0</td>\n",
              "      <td>93.0</td>\n",
              "      <td>107.0</td>\n",
              "      <td>168.0</td>\n",
              "      <td>93.0</td>\n",
              "      <td>NaN</td>\n",
              "      <td>9</td>\n",
              "      <td>1</td>\n",
              "    </tr>\n",
              "    <tr>\n",
              "      <th>2</th>\n",
              "      <td>200003</td>\n",
              "      <td>3</td>\n",
              "      <td>NaN</td>\n",
              "      <td>NaN</td>\n",
              "      <td>NaN</td>\n",
              "      <td>NaN</td>\n",
              "      <td>NaN</td>\n",
              "      <td>NaN</td>\n",
              "      <td>NaN</td>\n",
              "      <td>NaN</td>\n",
              "      <td>...</td>\n",
              "      <td>3.0</td>\n",
              "      <td>-7.0</td>\n",
              "      <td>0.0</td>\n",
              "      <td>51.0</td>\n",
              "      <td>82.0</td>\n",
              "      <td>145.0</td>\n",
              "      <td>50.7</td>\n",
              "      <td>1.0</td>\n",
              "      <td>9</td>\n",
              "      <td>1</td>\n",
              "    </tr>\n",
              "    <tr>\n",
              "      <th>3</th>\n",
              "      <td>200004</td>\n",
              "      <td>4</td>\n",
              "      <td>NaN</td>\n",
              "      <td>NaN</td>\n",
              "      <td>NaN</td>\n",
              "      <td>NaN</td>\n",
              "      <td>NaN</td>\n",
              "      <td>NaN</td>\n",
              "      <td>NaN</td>\n",
              "      <td>NaN</td>\n",
              "      <td>...</td>\n",
              "      <td>3.0</td>\n",
              "      <td>-24.0</td>\n",
              "      <td>0.0</td>\n",
              "      <td>64.0</td>\n",
              "      <td>85.0</td>\n",
              "      <td>180.0</td>\n",
              "      <td>65.4</td>\n",
              "      <td>1.0</td>\n",
              "      <td>6</td>\n",
              "      <td>1</td>\n",
              "    </tr>\n",
              "    <tr>\n",
              "      <th>4</th>\n",
              "      <td>200005</td>\n",
              "      <td>5</td>\n",
              "      <td>NaN</td>\n",
              "      <td>NaN</td>\n",
              "      <td>NaN</td>\n",
              "      <td>NaN</td>\n",
              "      <td>NaN</td>\n",
              "      <td>NaN</td>\n",
              "      <td>NaN</td>\n",
              "      <td>NaN</td>\n",
              "      <td>...</td>\n",
              "      <td>2.0</td>\n",
              "      <td>-89.0</td>\n",
              "      <td>-33.0</td>\n",
              "      <td>56.0</td>\n",
              "      <td>76.0</td>\n",
              "      <td>155.0</td>\n",
              "      <td>56.0</td>\n",
              "      <td>NaN</td>\n",
              "      <td>8</td>\n",
              "      <td>1</td>\n",
              "    </tr>\n",
              "    <tr>\n",
              "      <th>...</th>\n",
              "      <td>...</td>\n",
              "      <td>...</td>\n",
              "      <td>...</td>\n",
              "      <td>...</td>\n",
              "      <td>...</td>\n",
              "      <td>...</td>\n",
              "      <td>...</td>\n",
              "      <td>...</td>\n",
              "      <td>...</td>\n",
              "      <td>...</td>\n",
              "      <td>...</td>\n",
              "      <td>...</td>\n",
              "      <td>...</td>\n",
              "      <td>...</td>\n",
              "      <td>...</td>\n",
              "      <td>...</td>\n",
              "      <td>...</td>\n",
              "      <td>...</td>\n",
              "      <td>...</td>\n",
              "      <td>...</td>\n",
              "      <td>...</td>\n",
              "    </tr>\n",
              "    <tr>\n",
              "      <th>5799</th>\n",
              "      <td>205800</td>\n",
              "      <td>5835</td>\n",
              "      <td>-854.0</td>\n",
              "      <td>0.0</td>\n",
              "      <td>0.0</td>\n",
              "      <td>0.0</td>\n",
              "      <td>0.0</td>\n",
              "      <td>0.0</td>\n",
              "      <td>0.0</td>\n",
              "      <td>0.0</td>\n",
              "      <td>...</td>\n",
              "      <td>2.0</td>\n",
              "      <td>-168.0</td>\n",
              "      <td>1.0</td>\n",
              "      <td>70.5</td>\n",
              "      <td>99.0</td>\n",
              "      <td>166.0</td>\n",
              "      <td>70.8</td>\n",
              "      <td>1.0</td>\n",
              "      <td>8</td>\n",
              "      <td>1</td>\n",
              "    </tr>\n",
              "    <tr>\n",
              "      <th>5800</th>\n",
              "      <td>205801</td>\n",
              "      <td>5836</td>\n",
              "      <td>-755.0</td>\n",
              "      <td>0.0</td>\n",
              "      <td>0.0</td>\n",
              "      <td>0.0</td>\n",
              "      <td>0.0</td>\n",
              "      <td>0.0</td>\n",
              "      <td>0.0</td>\n",
              "      <td>0.0</td>\n",
              "      <td>...</td>\n",
              "      <td>3.0</td>\n",
              "      <td>-95.0</td>\n",
              "      <td>1.0</td>\n",
              "      <td>83.6</td>\n",
              "      <td>99.0</td>\n",
              "      <td>176.0</td>\n",
              "      <td>82.8</td>\n",
              "      <td>1.0</td>\n",
              "      <td>6</td>\n",
              "      <td>1</td>\n",
              "    </tr>\n",
              "    <tr>\n",
              "      <th>5801</th>\n",
              "      <td>205802</td>\n",
              "      <td>5837</td>\n",
              "      <td>-768.0</td>\n",
              "      <td>0.0</td>\n",
              "      <td>0.0</td>\n",
              "      <td>0.0</td>\n",
              "      <td>0.0</td>\n",
              "      <td>0.0</td>\n",
              "      <td>0.0</td>\n",
              "      <td>0.0</td>\n",
              "      <td>...</td>\n",
              "      <td>4.0</td>\n",
              "      <td>-83.0</td>\n",
              "      <td>1.0</td>\n",
              "      <td>75.0</td>\n",
              "      <td>91.0</td>\n",
              "      <td>175.0</td>\n",
              "      <td>74.2</td>\n",
              "      <td>1.0</td>\n",
              "      <td>7</td>\n",
              "      <td>1</td>\n",
              "    </tr>\n",
              "    <tr>\n",
              "      <th>5802</th>\n",
              "      <td>205803</td>\n",
              "      <td>5838</td>\n",
              "      <td>-755.0</td>\n",
              "      <td>0.0</td>\n",
              "      <td>0.0</td>\n",
              "      <td>0.0</td>\n",
              "      <td>0.0</td>\n",
              "      <td>0.0</td>\n",
              "      <td>0.0</td>\n",
              "      <td>0.0</td>\n",
              "      <td>...</td>\n",
              "      <td>2.0</td>\n",
              "      <td>-89.0</td>\n",
              "      <td>0.0</td>\n",
              "      <td>76.8</td>\n",
              "      <td>93.0</td>\n",
              "      <td>176.0</td>\n",
              "      <td>78.6</td>\n",
              "      <td>1.0</td>\n",
              "      <td>6</td>\n",
              "      <td>1</td>\n",
              "    </tr>\n",
              "    <tr>\n",
              "      <th>5803</th>\n",
              "      <td>205804</td>\n",
              "      <td>5839</td>\n",
              "      <td>-713.0</td>\n",
              "      <td>0.0</td>\n",
              "      <td>0.0</td>\n",
              "      <td>0.0</td>\n",
              "      <td>0.0</td>\n",
              "      <td>0.0</td>\n",
              "      <td>0.0</td>\n",
              "      <td>0.0</td>\n",
              "      <td>...</td>\n",
              "      <td>2.0</td>\n",
              "      <td>-77.0</td>\n",
              "      <td>1.0</td>\n",
              "      <td>112.7</td>\n",
              "      <td>112.0</td>\n",
              "      <td>186.0</td>\n",
              "      <td>117.4</td>\n",
              "      <td>1.0</td>\n",
              "      <td>6</td>\n",
              "      <td>1</td>\n",
              "    </tr>\n",
              "  </tbody>\n",
              "</table>\n",
              "<p>5804 rows × 293 columns</p>\n",
              "</div>"
            ],
            "text/plain": [
              "      nsrrid  pptid  ecgdate  lvh3_1  lvh3_3  st4_1_3  st5_1_3  lvhst  mob1  \\\n",
              "0     200001      1      NaN     NaN     NaN      NaN      NaN    NaN   NaN   \n",
              "1     200002      2      NaN     NaN     NaN      NaN      NaN    NaN   NaN   \n",
              "2     200003      3      NaN     NaN     NaN      NaN      NaN    NaN   NaN   \n",
              "3     200004      4      NaN     NaN     NaN      NaN      NaN    NaN   NaN   \n",
              "4     200005      5      NaN     NaN     NaN      NaN      NaN    NaN   NaN   \n",
              "...      ...    ...      ...     ...     ...      ...      ...    ...   ...   \n",
              "5799  205800   5835   -854.0     0.0     0.0      0.0      0.0    0.0   0.0   \n",
              "5800  205801   5836   -755.0     0.0     0.0      0.0      0.0    0.0   0.0   \n",
              "5801  205802   5837   -768.0     0.0     0.0      0.0      0.0    0.0   0.0   \n",
              "5802  205803   5838   -755.0     0.0     0.0      0.0      0.0    0.0   0.0   \n",
              "5803  205804   5839   -713.0     0.0     0.0      0.0      0.0    0.0   0.0   \n",
              "\n",
              "      part2deg  ...  educat  date02  date25  weight  waist  height  weight20  \\\n",
              "0          NaN  ...     3.0   -48.0     0.0    65.0   86.0   178.0      69.0   \n",
              "1          NaN  ...     2.0  -111.0   -37.0    93.0  107.0   168.0      93.0   \n",
              "2          NaN  ...     3.0    -7.0     0.0    51.0   82.0   145.0      50.7   \n",
              "3          NaN  ...     3.0   -24.0     0.0    64.0   85.0   180.0      65.4   \n",
              "4          NaN  ...     2.0   -89.0   -33.0    56.0   76.0   155.0      56.0   \n",
              "...        ...  ...     ...     ...     ...     ...    ...     ...       ...   \n",
              "5799       0.0  ...     2.0  -168.0     1.0    70.5   99.0   166.0      70.8   \n",
              "5800       0.0  ...     3.0   -95.0     1.0    83.6   99.0   176.0      82.8   \n",
              "5801       0.0  ...     4.0   -83.0     1.0    75.0   91.0   175.0      74.2   \n",
              "5802       0.0  ...     2.0   -89.0     0.0    76.8   93.0   176.0      78.6   \n",
              "5803       0.0  ...     2.0   -77.0     1.0   112.7  112.0   186.0     117.4   \n",
              "\n",
              "      lang15  age_category_s1  visitnumber  \n",
              "0        1.0                7            1  \n",
              "1        NaN                9            1  \n",
              "2        1.0                9            1  \n",
              "3        1.0                6            1  \n",
              "4        NaN                8            1  \n",
              "...      ...              ...          ...  \n",
              "5799     1.0                8            1  \n",
              "5800     1.0                6            1  \n",
              "5801     1.0                7            1  \n",
              "5802     1.0                6            1  \n",
              "5803     1.0                6            1  \n",
              "\n",
              "[5804 rows x 293 columns]"
            ]
          },
          "execution_count": 31,
          "metadata": {},
          "output_type": "execute_result"
        }
      ],
      "source": [
        "x"
      ]
    },
    {
      "cell_type": "code",
      "execution_count": 32,
      "metadata": {
        "id": "eOMTE6ijg41r"
      },
      "outputs": [],
      "source": [
        "# normalize x\n",
        "scaler = StandardScaler()\n",
        "x_scaled = scaler.fit_transform(x)\n",
        "\n",
        "imputer = KNNImputer(n_neighbors=5)  # You can change the number of neighbors if needed\n",
        "x_imputed_scaled = imputer.fit_transform(x_scaled)\n",
        "\n",
        "# reverse scaling\n",
        "x_imputed = scaler.inverse_transform(x_imputed_scaled)\n",
        "\n",
        "# Convert the result back to DataFrame\n",
        "x_imputed = pd.DataFrame(x_imputed, columns=x.columns)"
      ]
    },
    {
      "cell_type": "markdown",
      "metadata": {
        "id": "bEi_vnQVicWc"
      },
      "source": [
        "problem with knn: how many neighbors are the best?\n",
        "NaNs categorical variables will be imputed, but the result might not be intepretable"
      ]
    },
    {
      "cell_type": "code",
      "execution_count": 33,
      "metadata": {
        "colab": {
          "base_uri": "https://localhost:8080/",
          "height": 444
        },
        "id": "e997GUw7iRWw",
        "outputId": "088f8839-8f8d-4eba-c2ca-163fba8d28ea"
      },
      "outputs": [
        {
          "data": {
            "text/html": [
              "<div>\n",
              "<style scoped>\n",
              "    .dataframe tbody tr th:only-of-type {\n",
              "        vertical-align: middle;\n",
              "    }\n",
              "\n",
              "    .dataframe tbody tr th {\n",
              "        vertical-align: top;\n",
              "    }\n",
              "\n",
              "    .dataframe thead th {\n",
              "        text-align: right;\n",
              "    }\n",
              "</style>\n",
              "<table border=\"1\" class=\"dataframe\">\n",
              "  <thead>\n",
              "    <tr style=\"text-align: right;\">\n",
              "      <th></th>\n",
              "      <th>nsrrid</th>\n",
              "      <th>pptid</th>\n",
              "      <th>ecgdate</th>\n",
              "      <th>lvh3_1</th>\n",
              "      <th>lvh3_3</th>\n",
              "      <th>st4_1_3</th>\n",
              "      <th>st5_1_3</th>\n",
              "      <th>lvhst</th>\n",
              "      <th>mob1</th>\n",
              "      <th>part2deg</th>\n",
              "      <th>...</th>\n",
              "      <th>educat</th>\n",
              "      <th>date02</th>\n",
              "      <th>date25</th>\n",
              "      <th>weight</th>\n",
              "      <th>waist</th>\n",
              "      <th>height</th>\n",
              "      <th>weight20</th>\n",
              "      <th>lang15</th>\n",
              "      <th>age_category_s1</th>\n",
              "      <th>visitnumber</th>\n",
              "    </tr>\n",
              "  </thead>\n",
              "  <tbody>\n",
              "    <tr>\n",
              "      <th>0</th>\n",
              "      <td>200001.0</td>\n",
              "      <td>1.0</td>\n",
              "      <td>-748.2</td>\n",
              "      <td>0.4</td>\n",
              "      <td>0.6</td>\n",
              "      <td>0.2</td>\n",
              "      <td>2.000000e-01</td>\n",
              "      <td>0.2</td>\n",
              "      <td>0.0</td>\n",
              "      <td>0.0</td>\n",
              "      <td>...</td>\n",
              "      <td>3.0</td>\n",
              "      <td>-48.0</td>\n",
              "      <td>0.0</td>\n",
              "      <td>65.0</td>\n",
              "      <td>86.0</td>\n",
              "      <td>178.0</td>\n",
              "      <td>69.0</td>\n",
              "      <td>1.0</td>\n",
              "      <td>7.0</td>\n",
              "      <td>1.0</td>\n",
              "    </tr>\n",
              "    <tr>\n",
              "      <th>1</th>\n",
              "      <td>200002.0</td>\n",
              "      <td>2.0</td>\n",
              "      <td>-75.8</td>\n",
              "      <td>0.2</td>\n",
              "      <td>0.2</td>\n",
              "      <td>0.0</td>\n",
              "      <td>2.000000e-01</td>\n",
              "      <td>0.0</td>\n",
              "      <td>0.0</td>\n",
              "      <td>0.0</td>\n",
              "      <td>...</td>\n",
              "      <td>2.0</td>\n",
              "      <td>-111.0</td>\n",
              "      <td>-37.0</td>\n",
              "      <td>93.0</td>\n",
              "      <td>107.0</td>\n",
              "      <td>168.0</td>\n",
              "      <td>93.0</td>\n",
              "      <td>1.0</td>\n",
              "      <td>9.0</td>\n",
              "      <td>1.0</td>\n",
              "    </tr>\n",
              "    <tr>\n",
              "      <th>2</th>\n",
              "      <td>200003.0</td>\n",
              "      <td>3.0</td>\n",
              "      <td>-1071.8</td>\n",
              "      <td>0.2</td>\n",
              "      <td>0.0</td>\n",
              "      <td>0.0</td>\n",
              "      <td>4.000000e-01</td>\n",
              "      <td>0.0</td>\n",
              "      <td>0.0</td>\n",
              "      <td>0.0</td>\n",
              "      <td>...</td>\n",
              "      <td>3.0</td>\n",
              "      <td>-7.0</td>\n",
              "      <td>0.0</td>\n",
              "      <td>51.0</td>\n",
              "      <td>82.0</td>\n",
              "      <td>145.0</td>\n",
              "      <td>50.7</td>\n",
              "      <td>1.0</td>\n",
              "      <td>9.0</td>\n",
              "      <td>1.0</td>\n",
              "    </tr>\n",
              "    <tr>\n",
              "      <th>3</th>\n",
              "      <td>200004.0</td>\n",
              "      <td>4.0</td>\n",
              "      <td>-728.6</td>\n",
              "      <td>0.0</td>\n",
              "      <td>0.0</td>\n",
              "      <td>0.0</td>\n",
              "      <td>2.000000e-01</td>\n",
              "      <td>0.0</td>\n",
              "      <td>0.0</td>\n",
              "      <td>0.0</td>\n",
              "      <td>...</td>\n",
              "      <td>3.0</td>\n",
              "      <td>-24.0</td>\n",
              "      <td>0.0</td>\n",
              "      <td>64.0</td>\n",
              "      <td>85.0</td>\n",
              "      <td>180.0</td>\n",
              "      <td>65.4</td>\n",
              "      <td>1.0</td>\n",
              "      <td>6.0</td>\n",
              "      <td>1.0</td>\n",
              "    </tr>\n",
              "    <tr>\n",
              "      <th>4</th>\n",
              "      <td>200005.0</td>\n",
              "      <td>5.0</td>\n",
              "      <td>-241.8</td>\n",
              "      <td>0.2</td>\n",
              "      <td>0.0</td>\n",
              "      <td>0.0</td>\n",
              "      <td>2.775558e-17</td>\n",
              "      <td>0.0</td>\n",
              "      <td>0.0</td>\n",
              "      <td>0.0</td>\n",
              "      <td>...</td>\n",
              "      <td>2.0</td>\n",
              "      <td>-89.0</td>\n",
              "      <td>-33.0</td>\n",
              "      <td>56.0</td>\n",
              "      <td>76.0</td>\n",
              "      <td>155.0</td>\n",
              "      <td>56.0</td>\n",
              "      <td>1.0</td>\n",
              "      <td>8.0</td>\n",
              "      <td>1.0</td>\n",
              "    </tr>\n",
              "    <tr>\n",
              "      <th>...</th>\n",
              "      <td>...</td>\n",
              "      <td>...</td>\n",
              "      <td>...</td>\n",
              "      <td>...</td>\n",
              "      <td>...</td>\n",
              "      <td>...</td>\n",
              "      <td>...</td>\n",
              "      <td>...</td>\n",
              "      <td>...</td>\n",
              "      <td>...</td>\n",
              "      <td>...</td>\n",
              "      <td>...</td>\n",
              "      <td>...</td>\n",
              "      <td>...</td>\n",
              "      <td>...</td>\n",
              "      <td>...</td>\n",
              "      <td>...</td>\n",
              "      <td>...</td>\n",
              "      <td>...</td>\n",
              "      <td>...</td>\n",
              "      <td>...</td>\n",
              "    </tr>\n",
              "    <tr>\n",
              "      <th>5799</th>\n",
              "      <td>205800.0</td>\n",
              "      <td>5835.0</td>\n",
              "      <td>-854.0</td>\n",
              "      <td>0.0</td>\n",
              "      <td>0.0</td>\n",
              "      <td>0.0</td>\n",
              "      <td>0.000000e+00</td>\n",
              "      <td>0.0</td>\n",
              "      <td>0.0</td>\n",
              "      <td>0.0</td>\n",
              "      <td>...</td>\n",
              "      <td>2.0</td>\n",
              "      <td>-168.0</td>\n",
              "      <td>1.0</td>\n",
              "      <td>70.5</td>\n",
              "      <td>99.0</td>\n",
              "      <td>166.0</td>\n",
              "      <td>70.8</td>\n",
              "      <td>1.0</td>\n",
              "      <td>8.0</td>\n",
              "      <td>1.0</td>\n",
              "    </tr>\n",
              "    <tr>\n",
              "      <th>5800</th>\n",
              "      <td>205801.0</td>\n",
              "      <td>5836.0</td>\n",
              "      <td>-755.0</td>\n",
              "      <td>0.0</td>\n",
              "      <td>0.0</td>\n",
              "      <td>0.0</td>\n",
              "      <td>0.000000e+00</td>\n",
              "      <td>0.0</td>\n",
              "      <td>0.0</td>\n",
              "      <td>0.0</td>\n",
              "      <td>...</td>\n",
              "      <td>3.0</td>\n",
              "      <td>-95.0</td>\n",
              "      <td>1.0</td>\n",
              "      <td>83.6</td>\n",
              "      <td>99.0</td>\n",
              "      <td>176.0</td>\n",
              "      <td>82.8</td>\n",
              "      <td>1.0</td>\n",
              "      <td>6.0</td>\n",
              "      <td>1.0</td>\n",
              "    </tr>\n",
              "    <tr>\n",
              "      <th>5801</th>\n",
              "      <td>205802.0</td>\n",
              "      <td>5837.0</td>\n",
              "      <td>-768.0</td>\n",
              "      <td>0.0</td>\n",
              "      <td>0.0</td>\n",
              "      <td>0.0</td>\n",
              "      <td>0.000000e+00</td>\n",
              "      <td>0.0</td>\n",
              "      <td>0.0</td>\n",
              "      <td>0.0</td>\n",
              "      <td>...</td>\n",
              "      <td>4.0</td>\n",
              "      <td>-83.0</td>\n",
              "      <td>1.0</td>\n",
              "      <td>75.0</td>\n",
              "      <td>91.0</td>\n",
              "      <td>175.0</td>\n",
              "      <td>74.2</td>\n",
              "      <td>1.0</td>\n",
              "      <td>7.0</td>\n",
              "      <td>1.0</td>\n",
              "    </tr>\n",
              "    <tr>\n",
              "      <th>5802</th>\n",
              "      <td>205803.0</td>\n",
              "      <td>5838.0</td>\n",
              "      <td>-755.0</td>\n",
              "      <td>0.0</td>\n",
              "      <td>0.0</td>\n",
              "      <td>0.0</td>\n",
              "      <td>0.000000e+00</td>\n",
              "      <td>0.0</td>\n",
              "      <td>0.0</td>\n",
              "      <td>0.0</td>\n",
              "      <td>...</td>\n",
              "      <td>2.0</td>\n",
              "      <td>-89.0</td>\n",
              "      <td>0.0</td>\n",
              "      <td>76.8</td>\n",
              "      <td>93.0</td>\n",
              "      <td>176.0</td>\n",
              "      <td>78.6</td>\n",
              "      <td>1.0</td>\n",
              "      <td>6.0</td>\n",
              "      <td>1.0</td>\n",
              "    </tr>\n",
              "    <tr>\n",
              "      <th>5803</th>\n",
              "      <td>205804.0</td>\n",
              "      <td>5839.0</td>\n",
              "      <td>-713.0</td>\n",
              "      <td>0.0</td>\n",
              "      <td>0.0</td>\n",
              "      <td>0.0</td>\n",
              "      <td>0.000000e+00</td>\n",
              "      <td>0.0</td>\n",
              "      <td>0.0</td>\n",
              "      <td>0.0</td>\n",
              "      <td>...</td>\n",
              "      <td>2.0</td>\n",
              "      <td>-77.0</td>\n",
              "      <td>1.0</td>\n",
              "      <td>112.7</td>\n",
              "      <td>112.0</td>\n",
              "      <td>186.0</td>\n",
              "      <td>117.4</td>\n",
              "      <td>1.0</td>\n",
              "      <td>6.0</td>\n",
              "      <td>1.0</td>\n",
              "    </tr>\n",
              "  </tbody>\n",
              "</table>\n",
              "<p>5804 rows × 293 columns</p>\n",
              "</div>"
            ],
            "text/plain": [
              "        nsrrid   pptid  ecgdate  lvh3_1  lvh3_3  st4_1_3       st5_1_3  lvhst  \\\n",
              "0     200001.0     1.0   -748.2     0.4     0.6      0.2  2.000000e-01    0.2   \n",
              "1     200002.0     2.0    -75.8     0.2     0.2      0.0  2.000000e-01    0.0   \n",
              "2     200003.0     3.0  -1071.8     0.2     0.0      0.0  4.000000e-01    0.0   \n",
              "3     200004.0     4.0   -728.6     0.0     0.0      0.0  2.000000e-01    0.0   \n",
              "4     200005.0     5.0   -241.8     0.2     0.0      0.0  2.775558e-17    0.0   \n",
              "...        ...     ...      ...     ...     ...      ...           ...    ...   \n",
              "5799  205800.0  5835.0   -854.0     0.0     0.0      0.0  0.000000e+00    0.0   \n",
              "5800  205801.0  5836.0   -755.0     0.0     0.0      0.0  0.000000e+00    0.0   \n",
              "5801  205802.0  5837.0   -768.0     0.0     0.0      0.0  0.000000e+00    0.0   \n",
              "5802  205803.0  5838.0   -755.0     0.0     0.0      0.0  0.000000e+00    0.0   \n",
              "5803  205804.0  5839.0   -713.0     0.0     0.0      0.0  0.000000e+00    0.0   \n",
              "\n",
              "      mob1  part2deg  ...  educat  date02  date25  weight  waist  height  \\\n",
              "0      0.0       0.0  ...     3.0   -48.0     0.0    65.0   86.0   178.0   \n",
              "1      0.0       0.0  ...     2.0  -111.0   -37.0    93.0  107.0   168.0   \n",
              "2      0.0       0.0  ...     3.0    -7.0     0.0    51.0   82.0   145.0   \n",
              "3      0.0       0.0  ...     3.0   -24.0     0.0    64.0   85.0   180.0   \n",
              "4      0.0       0.0  ...     2.0   -89.0   -33.0    56.0   76.0   155.0   \n",
              "...    ...       ...  ...     ...     ...     ...     ...    ...     ...   \n",
              "5799   0.0       0.0  ...     2.0  -168.0     1.0    70.5   99.0   166.0   \n",
              "5800   0.0       0.0  ...     3.0   -95.0     1.0    83.6   99.0   176.0   \n",
              "5801   0.0       0.0  ...     4.0   -83.0     1.0    75.0   91.0   175.0   \n",
              "5802   0.0       0.0  ...     2.0   -89.0     0.0    76.8   93.0   176.0   \n",
              "5803   0.0       0.0  ...     2.0   -77.0     1.0   112.7  112.0   186.0   \n",
              "\n",
              "      weight20  lang15  age_category_s1  visitnumber  \n",
              "0         69.0     1.0              7.0          1.0  \n",
              "1         93.0     1.0              9.0          1.0  \n",
              "2         50.7     1.0              9.0          1.0  \n",
              "3         65.4     1.0              6.0          1.0  \n",
              "4         56.0     1.0              8.0          1.0  \n",
              "...        ...     ...              ...          ...  \n",
              "5799      70.8     1.0              8.0          1.0  \n",
              "5800      82.8     1.0              6.0          1.0  \n",
              "5801      74.2     1.0              7.0          1.0  \n",
              "5802      78.6     1.0              6.0          1.0  \n",
              "5803     117.4     1.0              6.0          1.0  \n",
              "\n",
              "[5804 rows x 293 columns]"
            ]
          },
          "execution_count": 33,
          "metadata": {},
          "output_type": "execute_result"
        }
      ],
      "source": [
        "x_imputed"
      ]
    },
    {
      "cell_type": "code",
      "execution_count": 34,
      "metadata": {
        "id": "pGCx6tEpFXNK"
      },
      "outputs": [],
      "source": [
        "def find_important_features(model, model_name, target_var):\n",
        "  model_importances = model.feature_importances_\n",
        "  model_features = np.array(x_imputed.columns)[model_importances > 0]\n",
        "  model_dataset = x_imputed[model_features]\n",
        "  model_dataset[target_var] = shhs1[target_var]\n",
        "  print(len(model_features))\n",
        "  csv_name = model_name + \"_\" + target_var + \".csv\"\n",
        "  model_dataset.to_csv(csv_name, index=False)\n",
        "\n"
      ]
    },
    {
      "cell_type": "markdown",
      "metadata": {
        "id": "pCvx4EI-zLV9"
      },
      "source": [
        "# Feature selection"
      ]
    },
    {
      "cell_type": "markdown",
      "metadata": {
        "id": "jwJIjwHTlmyK"
      },
      "source": [
        "## Target variable: ahi_c0h4a"
      ]
    },
    {
      "cell_type": "markdown",
      "metadata": {
        "id": "DLpiYeDOzS1I"
      },
      "source": [
        "### Decision Tree\n"
      ]
    },
    {
      "cell_type": "code",
      "execution_count": 35,
      "metadata": {
        "colab": {
          "base_uri": "https://localhost:8080/",
          "height": 75
        },
        "id": "2M3vVh6GzhPw",
        "outputId": "b5ec0867-e8cb-4ad7-90bf-a5de127c9e6c"
      },
      "outputs": [
        {
          "data": {
            "text/html": [
              "<style>#sk-container-id-2 {color: black;}#sk-container-id-2 pre{padding: 0;}#sk-container-id-2 div.sk-toggleable {background-color: white;}#sk-container-id-2 label.sk-toggleable__label {cursor: pointer;display: block;width: 100%;margin-bottom: 0;padding: 0.3em;box-sizing: border-box;text-align: center;}#sk-container-id-2 label.sk-toggleable__label-arrow:before {content: \"▸\";float: left;margin-right: 0.25em;color: #696969;}#sk-container-id-2 label.sk-toggleable__label-arrow:hover:before {color: black;}#sk-container-id-2 div.sk-estimator:hover label.sk-toggleable__label-arrow:before {color: black;}#sk-container-id-2 div.sk-toggleable__content {max-height: 0;max-width: 0;overflow: hidden;text-align: left;background-color: #f0f8ff;}#sk-container-id-2 div.sk-toggleable__content pre {margin: 0.2em;color: black;border-radius: 0.25em;background-color: #f0f8ff;}#sk-container-id-2 input.sk-toggleable__control:checked~div.sk-toggleable__content {max-height: 200px;max-width: 100%;overflow: auto;}#sk-container-id-2 input.sk-toggleable__control:checked~label.sk-toggleable__label-arrow:before {content: \"▾\";}#sk-container-id-2 div.sk-estimator input.sk-toggleable__control:checked~label.sk-toggleable__label {background-color: #d4ebff;}#sk-container-id-2 div.sk-label input.sk-toggleable__control:checked~label.sk-toggleable__label {background-color: #d4ebff;}#sk-container-id-2 input.sk-hidden--visually {border: 0;clip: rect(1px 1px 1px 1px);clip: rect(1px, 1px, 1px, 1px);height: 1px;margin: -1px;overflow: hidden;padding: 0;position: absolute;width: 1px;}#sk-container-id-2 div.sk-estimator {font-family: monospace;background-color: #f0f8ff;border: 1px dotted black;border-radius: 0.25em;box-sizing: border-box;margin-bottom: 0.5em;}#sk-container-id-2 div.sk-estimator:hover {background-color: #d4ebff;}#sk-container-id-2 div.sk-parallel-item::after {content: \"\";width: 100%;border-bottom: 1px solid gray;flex-grow: 1;}#sk-container-id-2 div.sk-label:hover label.sk-toggleable__label {background-color: #d4ebff;}#sk-container-id-2 div.sk-serial::before {content: \"\";position: absolute;border-left: 1px solid gray;box-sizing: border-box;top: 0;bottom: 0;left: 50%;z-index: 0;}#sk-container-id-2 div.sk-serial {display: flex;flex-direction: column;align-items: center;background-color: white;padding-right: 0.2em;padding-left: 0.2em;position: relative;}#sk-container-id-2 div.sk-item {position: relative;z-index: 1;}#sk-container-id-2 div.sk-parallel {display: flex;align-items: stretch;justify-content: center;background-color: white;position: relative;}#sk-container-id-2 div.sk-item::before, #sk-container-id-2 div.sk-parallel-item::before {content: \"\";position: absolute;border-left: 1px solid gray;box-sizing: border-box;top: 0;bottom: 0;left: 50%;z-index: -1;}#sk-container-id-2 div.sk-parallel-item {display: flex;flex-direction: column;z-index: 1;position: relative;background-color: white;}#sk-container-id-2 div.sk-parallel-item:first-child::after {align-self: flex-end;width: 50%;}#sk-container-id-2 div.sk-parallel-item:last-child::after {align-self: flex-start;width: 50%;}#sk-container-id-2 div.sk-parallel-item:only-child::after {width: 0;}#sk-container-id-2 div.sk-dashed-wrapped {border: 1px dashed gray;margin: 0 0.4em 0.5em 0.4em;box-sizing: border-box;padding-bottom: 0.4em;background-color: white;}#sk-container-id-2 div.sk-label label {font-family: monospace;font-weight: bold;display: inline-block;line-height: 1.2em;}#sk-container-id-2 div.sk-label-container {text-align: center;}#sk-container-id-2 div.sk-container {/* jupyter's `normalize.less` sets `[hidden] { display: none; }` but bootstrap.min.css set `[hidden] { display: none !important; }` so we also need the `!important` here to be able to override the default hidden behavior on the sphinx rendered scikit-learn.org. See: https://github.com/scikit-learn/scikit-learn/issues/21755 */display: inline-block !important;position: relative;}#sk-container-id-2 div.sk-text-repr-fallback {display: none;}</style><div id=\"sk-container-id-2\" class=\"sk-top-container\"><div class=\"sk-text-repr-fallback\"><pre>DecisionTreeRegressor(random_state=131)</pre><b>In a Jupyter environment, please rerun this cell to show the HTML representation or trust the notebook. <br />On GitHub, the HTML representation is unable to render, please try loading this page with nbviewer.org.</b></div><div class=\"sk-container\" hidden><div class=\"sk-item\"><div class=\"sk-estimator sk-toggleable\"><input class=\"sk-toggleable__control sk-hidden--visually\" id=\"sk-estimator-id-2\" type=\"checkbox\" checked><label for=\"sk-estimator-id-2\" class=\"sk-toggleable__label sk-toggleable__label-arrow\">DecisionTreeRegressor</label><div class=\"sk-toggleable__content\"><pre>DecisionTreeRegressor(random_state=131)</pre></div></div></div></div></div>"
            ],
            "text/plain": [
              "DecisionTreeRegressor(random_state=131)"
            ]
          },
          "execution_count": 35,
          "metadata": {},
          "output_type": "execute_result"
        }
      ],
      "source": [
        "#create decision tree\n",
        "tree = DecisionTreeRegressor(random_state = 131)\n",
        "tree.fit(x_imputed, y)"
      ]
    },
    {
      "cell_type": "code",
      "execution_count": 36,
      "metadata": {
        "colab": {
          "base_uri": "https://localhost:8080/"
        },
        "id": "7qQ-5aWfHDHc",
        "outputId": "3b41fff8-e16c-41b8-fb2c-3aaf59f60c19"
      },
      "outputs": [
        {
          "name": "stderr",
          "output_type": "stream",
          "text": [
            "C:\\Users\\Risto Trajanov\\AppData\\Local\\Temp\\ipykernel_54392\\826678462.py:5: SettingWithCopyWarning: \n",
            "A value is trying to be set on a copy of a slice from a DataFrame.\n",
            "Try using .loc[row_indexer,col_indexer] = value instead\n",
            "\n",
            "See the caveats in the documentation: https://pandas.pydata.org/pandas-docs/stable/user_guide/indexing.html#returning-a-view-versus-a-copy\n",
            "  model_dataset[target_var] = shhs1[target_var]\n"
          ]
        },
        {
          "name": "stdout",
          "output_type": "stream",
          "text": [
            "254\n"
          ]
        }
      ],
      "source": [
        "find_important_features(tree, \"decision_tree\", \"ahi_c0h4a\")"
      ]
    },
    {
      "cell_type": "code",
      "execution_count": 37,
      "metadata": {
        "colab": {
          "base_uri": "https://localhost:8080/"
        },
        "id": "hN1yf7wKzhau",
        "outputId": "e0ad9a66-b2aa-44a6-f465-a09d9b1a0f9f"
      },
      "outputs": [
        {
          "name": "stderr",
          "output_type": "stream",
          "text": [
            "C:\\Users\\Risto Trajanov\\AppData\\Local\\Temp\\ipykernel_54392\\122505251.py:5: SettingWithCopyWarning: \n",
            "A value is trying to be set on a copy of a slice from a DataFrame.\n",
            "Try using .loc[row_indexer,col_indexer] = value instead\n",
            "\n",
            "See the caveats in the documentation: https://pandas.pydata.org/pandas-docs/stable/user_guide/indexing.html#returning-a-view-versus-a-copy\n",
            "  decision_tree_dataset['ahi_c0h4a'] = shhs1['ahi_c0h4a']\n"
          ]
        }
      ],
      "source": [
        "#identify the most important features through decision trees\n",
        "tree_importances = tree.feature_importances_\n",
        "decision_tree_features = np.array(x_imputed.columns)[tree_importances > 0]\n",
        "decision_tree_dataset = x_imputed[decision_tree_features]\n",
        "decision_tree_dataset['ahi_c0h4a'] = shhs1['ahi_c0h4a']"
      ]
    },
    {
      "cell_type": "code",
      "execution_count": 38,
      "metadata": {
        "colab": {
          "base_uri": "https://localhost:8080/"
        },
        "id": "Vrg1Hf6ai3fm",
        "outputId": "f510d55c-550d-46e3-9fa5-1105407a0eb6"
      },
      "outputs": [
        {
          "data": {
            "text/plain": [
              "254"
            ]
          },
          "execution_count": 38,
          "metadata": {},
          "output_type": "execute_result"
        }
      ],
      "source": [
        "#end up with 249 features\n",
        "len(decision_tree_features)"
      ]
    },
    {
      "cell_type": "code",
      "execution_count": 39,
      "metadata": {
        "id": "MGhisCXecbxA"
      },
      "outputs": [],
      "source": [
        "#write to csv\n",
        "decision_tree_dataset.to_csv('../data/interim/feature_selection/decision_tree_ahi_c0h4a.csv', index=False)"
      ]
    },
    {
      "cell_type": "markdown",
      "metadata": {
        "id": "LdiNrYXZ3GaP"
      },
      "source": [
        "### Random Forest"
      ]
    },
    {
      "cell_type": "code",
      "execution_count": 40,
      "metadata": {
        "colab": {
          "base_uri": "https://localhost:8080/",
          "height": 75
        },
        "id": "uSUr0hsg25by",
        "outputId": "ce9aa420-2c02-4281-cfaa-11d64f0d20b3"
      },
      "outputs": [
        {
          "data": {
            "text/html": [
              "<style>#sk-container-id-3 {color: black;}#sk-container-id-3 pre{padding: 0;}#sk-container-id-3 div.sk-toggleable {background-color: white;}#sk-container-id-3 label.sk-toggleable__label {cursor: pointer;display: block;width: 100%;margin-bottom: 0;padding: 0.3em;box-sizing: border-box;text-align: center;}#sk-container-id-3 label.sk-toggleable__label-arrow:before {content: \"▸\";float: left;margin-right: 0.25em;color: #696969;}#sk-container-id-3 label.sk-toggleable__label-arrow:hover:before {color: black;}#sk-container-id-3 div.sk-estimator:hover label.sk-toggleable__label-arrow:before {color: black;}#sk-container-id-3 div.sk-toggleable__content {max-height: 0;max-width: 0;overflow: hidden;text-align: left;background-color: #f0f8ff;}#sk-container-id-3 div.sk-toggleable__content pre {margin: 0.2em;color: black;border-radius: 0.25em;background-color: #f0f8ff;}#sk-container-id-3 input.sk-toggleable__control:checked~div.sk-toggleable__content {max-height: 200px;max-width: 100%;overflow: auto;}#sk-container-id-3 input.sk-toggleable__control:checked~label.sk-toggleable__label-arrow:before {content: \"▾\";}#sk-container-id-3 div.sk-estimator input.sk-toggleable__control:checked~label.sk-toggleable__label {background-color: #d4ebff;}#sk-container-id-3 div.sk-label input.sk-toggleable__control:checked~label.sk-toggleable__label {background-color: #d4ebff;}#sk-container-id-3 input.sk-hidden--visually {border: 0;clip: rect(1px 1px 1px 1px);clip: rect(1px, 1px, 1px, 1px);height: 1px;margin: -1px;overflow: hidden;padding: 0;position: absolute;width: 1px;}#sk-container-id-3 div.sk-estimator {font-family: monospace;background-color: #f0f8ff;border: 1px dotted black;border-radius: 0.25em;box-sizing: border-box;margin-bottom: 0.5em;}#sk-container-id-3 div.sk-estimator:hover {background-color: #d4ebff;}#sk-container-id-3 div.sk-parallel-item::after {content: \"\";width: 100%;border-bottom: 1px solid gray;flex-grow: 1;}#sk-container-id-3 div.sk-label:hover label.sk-toggleable__label {background-color: #d4ebff;}#sk-container-id-3 div.sk-serial::before {content: \"\";position: absolute;border-left: 1px solid gray;box-sizing: border-box;top: 0;bottom: 0;left: 50%;z-index: 0;}#sk-container-id-3 div.sk-serial {display: flex;flex-direction: column;align-items: center;background-color: white;padding-right: 0.2em;padding-left: 0.2em;position: relative;}#sk-container-id-3 div.sk-item {position: relative;z-index: 1;}#sk-container-id-3 div.sk-parallel {display: flex;align-items: stretch;justify-content: center;background-color: white;position: relative;}#sk-container-id-3 div.sk-item::before, #sk-container-id-3 div.sk-parallel-item::before {content: \"\";position: absolute;border-left: 1px solid gray;box-sizing: border-box;top: 0;bottom: 0;left: 50%;z-index: -1;}#sk-container-id-3 div.sk-parallel-item {display: flex;flex-direction: column;z-index: 1;position: relative;background-color: white;}#sk-container-id-3 div.sk-parallel-item:first-child::after {align-self: flex-end;width: 50%;}#sk-container-id-3 div.sk-parallel-item:last-child::after {align-self: flex-start;width: 50%;}#sk-container-id-3 div.sk-parallel-item:only-child::after {width: 0;}#sk-container-id-3 div.sk-dashed-wrapped {border: 1px dashed gray;margin: 0 0.4em 0.5em 0.4em;box-sizing: border-box;padding-bottom: 0.4em;background-color: white;}#sk-container-id-3 div.sk-label label {font-family: monospace;font-weight: bold;display: inline-block;line-height: 1.2em;}#sk-container-id-3 div.sk-label-container {text-align: center;}#sk-container-id-3 div.sk-container {/* jupyter's `normalize.less` sets `[hidden] { display: none; }` but bootstrap.min.css set `[hidden] { display: none !important; }` so we also need the `!important` here to be able to override the default hidden behavior on the sphinx rendered scikit-learn.org. See: https://github.com/scikit-learn/scikit-learn/issues/21755 */display: inline-block !important;position: relative;}#sk-container-id-3 div.sk-text-repr-fallback {display: none;}</style><div id=\"sk-container-id-3\" class=\"sk-top-container\"><div class=\"sk-text-repr-fallback\"><pre>RandomForestRegressor(random_state=52)</pre><b>In a Jupyter environment, please rerun this cell to show the HTML representation or trust the notebook. <br />On GitHub, the HTML representation is unable to render, please try loading this page with nbviewer.org.</b></div><div class=\"sk-container\" hidden><div class=\"sk-item\"><div class=\"sk-estimator sk-toggleable\"><input class=\"sk-toggleable__control sk-hidden--visually\" id=\"sk-estimator-id-3\" type=\"checkbox\" checked><label for=\"sk-estimator-id-3\" class=\"sk-toggleable__label sk-toggleable__label-arrow\">RandomForestRegressor</label><div class=\"sk-toggleable__content\"><pre>RandomForestRegressor(random_state=52)</pre></div></div></div></div></div>"
            ],
            "text/plain": [
              "RandomForestRegressor(random_state=52)"
            ]
          },
          "execution_count": 40,
          "metadata": {},
          "output_type": "execute_result"
        }
      ],
      "source": [
        "#create a random forest with 100 \"trees\"\n",
        "forest = RandomForestRegressor(n_estimators=100, random_state = 52)  # You can change the number of trees if needed\n",
        "forest.fit(x_imputed, y)"
      ]
    },
    {
      "cell_type": "code",
      "execution_count": 41,
      "metadata": {
        "colab": {
          "base_uri": "https://localhost:8080/"
        },
        "id": "TQBsJBEbHiLK",
        "outputId": "1ea21eef-bf29-40cb-cd9a-048f4f22a76f"
      },
      "outputs": [
        {
          "name": "stderr",
          "output_type": "stream",
          "text": [
            "C:\\Users\\Risto Trajanov\\AppData\\Local\\Temp\\ipykernel_54392\\826678462.py:5: SettingWithCopyWarning: \n",
            "A value is trying to be set on a copy of a slice from a DataFrame.\n",
            "Try using .loc[row_indexer,col_indexer] = value instead\n",
            "\n",
            "See the caveats in the documentation: https://pandas.pydata.org/pandas-docs/stable/user_guide/indexing.html#returning-a-view-versus-a-copy\n",
            "  model_dataset[target_var] = shhs1[target_var]\n"
          ]
        },
        {
          "name": "stdout",
          "output_type": "stream",
          "text": [
            "279\n"
          ]
        }
      ],
      "source": [
        "find_important_features(forest, \"random_forest\", \"ahi_c0h4a\")"
      ]
    },
    {
      "cell_type": "code",
      "execution_count": 42,
      "metadata": {
        "colab": {
          "base_uri": "https://localhost:8080/"
        },
        "id": "42ZX1P6CgcCn",
        "outputId": "baec43a8-a8b1-4bfc-f9ff-f030bba4c268"
      },
      "outputs": [
        {
          "name": "stderr",
          "output_type": "stream",
          "text": [
            "C:\\Users\\Risto Trajanov\\AppData\\Local\\Temp\\ipykernel_54392\\14452465.py:5: SettingWithCopyWarning: \n",
            "A value is trying to be set on a copy of a slice from a DataFrame.\n",
            "Try using .loc[row_indexer,col_indexer] = value instead\n",
            "\n",
            "See the caveats in the documentation: https://pandas.pydata.org/pandas-docs/stable/user_guide/indexing.html#returning-a-view-versus-a-copy\n",
            "  random_forest_dataset['ahi_c0h4a'] = shhs1['ahi_c0h4a']\n"
          ]
        }
      ],
      "source": [
        "#identify the most important features through random forest\n",
        "forest_importances = forest.feature_importances_\n",
        "random_forest_features = np.array(x_imputed.columns)[forest_importances > 0]\n",
        "random_forest_dataset = x_imputed[decision_tree_features]\n",
        "random_forest_dataset['ahi_c0h4a'] = shhs1['ahi_c0h4a']"
      ]
    },
    {
      "cell_type": "code",
      "execution_count": 43,
      "metadata": {
        "colab": {
          "base_uri": "https://localhost:8080/"
        },
        "id": "Qyqquzcli0iR",
        "outputId": "57787b0f-0b5d-4119-a26d-e9e700a0436c"
      },
      "outputs": [
        {
          "data": {
            "text/plain": [
              "279"
            ]
          },
          "execution_count": 43,
          "metadata": {},
          "output_type": "execute_result"
        }
      ],
      "source": [
        "#end up with 278 features\n",
        "len(random_forest_features)"
      ]
    },
    {
      "cell_type": "code",
      "execution_count": 44,
      "metadata": {
        "id": "mkn1VU0tgxxS"
      },
      "outputs": [],
      "source": [
        "#write to csv\n",
        "random_forest_dataset.to_csv('../data/interim/feature_selection/random_forest_ahi_c0h4a.csv', index=False)"
      ]
    },
    {
      "cell_type": "markdown",
      "metadata": {
        "id": "w6JNAcZv0qKP"
      },
      "source": [
        "### Mutual Information"
      ]
    },
    {
      "cell_type": "code",
      "execution_count": 45,
      "metadata": {
        "id": "by-CtvFc0O45"
      },
      "outputs": [],
      "source": [
        "#create mutual information model\n",
        "mi = mutual_info_regression(x_imputed, y, random_state = 568)"
      ]
    },
    {
      "cell_type": "code",
      "execution_count": 46,
      "metadata": {
        "colab": {
          "base_uri": "https://localhost:8080/"
        },
        "id": "gqmO-Oqp0yxA",
        "outputId": "7a3f8ad5-3945-4f01-e05c-af3dd62e5df3"
      },
      "outputs": [
        {
          "name": "stderr",
          "output_type": "stream",
          "text": [
            "C:\\Users\\Risto Trajanov\\AppData\\Local\\Temp\\ipykernel_54392\\3929246669.py:8: SettingWithCopyWarning: \n",
            "A value is trying to be set on a copy of a slice from a DataFrame.\n",
            "Try using .loc[row_indexer,col_indexer] = value instead\n",
            "\n",
            "See the caveats in the documentation: https://pandas.pydata.org/pandas-docs/stable/user_guide/indexing.html#returning-a-view-versus-a-copy\n",
            "  mi_dataset['ahi_c0h4a'] = shhs1['ahi_c0h4a']\n"
          ]
        }
      ],
      "source": [
        "# Get feature names where mutual information is greater than 0\n",
        "mi_features = np.array(x_imputed.columns)[mi > 0]\n",
        "\n",
        "# Create a new dataset with only the features having non-zero mutual information\n",
        "mi_dataset = x_imputed[mi_features]\n",
        "\n",
        "# Add the 'ahi_c0h4a' column to the new dataset\n",
        "mi_dataset['ahi_c0h4a'] = shhs1['ahi_c0h4a']"
      ]
    },
    {
      "cell_type": "code",
      "execution_count": 47,
      "metadata": {
        "colab": {
          "base_uri": "https://localhost:8080/"
        },
        "id": "ktYuPh0GiunY",
        "outputId": "0c93a9ae-f71c-4b53-c525-7365ec97f81c"
      },
      "outputs": [
        {
          "data": {
            "text/plain": [
              "193"
            ]
          },
          "execution_count": 47,
          "metadata": {},
          "output_type": "execute_result"
        }
      ],
      "source": [
        "#end up with 198 features\n",
        "len(mi_features)"
      ]
    },
    {
      "cell_type": "code",
      "execution_count": 48,
      "metadata": {
        "id": "2TkNyeYJhSuI"
      },
      "outputs": [],
      "source": [
        "#write to csv\n",
        "mi_dataset.to_csv('../data/interim/feature_selection/mi_ahi_c0h4a.csv', index=False)"
      ]
    },
    {
      "cell_type": "markdown",
      "metadata": {
        "id": "fQdxT8sSZyEB"
      },
      "source": [
        "### Forward selection"
      ]
    },
    {
      "cell_type": "code",
      "execution_count": 49,
      "metadata": {
        "colab": {
          "base_uri": "https://localhost:8080/"
        },
        "id": "PAVRRnQnidYY",
        "outputId": "a0291639-8493-4607-8deb-afa3eef7d8ec"
      },
      "outputs": [
        {
          "name": "stdout",
          "output_type": "stream",
          "text": [
            "Added feature: neck20, Mean Squared Error with Features: 79.0476898873102\n",
            "Added feature: weight, Mean Squared Error with Features: 77.56948755497233\n",
            "Added feature: age_s1, Mean Squared Error with Features: 76.24158230087114\n",
            "Added feature: rawvt_s1, Mean Squared Error with Features: 75.7257035698676\n",
            "Added feature: diasbp, Mean Squared Error with Features: 75.31461213394292\n",
            "Added feature: asalw15, Mean Squared Error with Features: 75.0504628016291\n",
            "Added feature: shhs1_tcvd, Mean Squared Error with Features: 74.83050542714896\n",
            "Added feature: pptid, Mean Squared Error with Features: 74.32050716115323\n",
            "Added feature: nonsp_st, Mean Squared Error with Features: 74.10989384971398\n",
            "Added feature: twuweh02, Mean Squared Error with Features: 73.91855108140716\n",
            "Added feature: ccb1, Mean Squared Error with Features: 73.75153165182127\n",
            "Added feature: sleepy02, Mean Squared Error with Features: 73.58517596457797\n",
            "Added feature: hf15, Mean Squared Error with Features: 73.42803420102187\n",
            "Added feature: smknow15, Mean Squared Error with Features: 73.27492219100898\n",
            "Added feature: hosnr02, Mean Squared Error with Features: 73.14042606167675\n",
            "Added feature: shhs1_qc, Mean Squared Error with Features: 73.00835954696586\n",
            "Added feature: tfawem02, Mean Squared Error with Features: 72.9025663009612\n",
            "Added feature: systbp, Mean Squared Error with Features: 72.81169303874557\n",
            "Added feature: vt_s1, Mean Squared Error with Features: 72.72113612998119\n",
            "Added feature: hctz1, Mean Squared Error with Features: 72.6334420163945\n",
            "Added feature: aai, Mean Squared Error with Features: 72.55372609309987\n",
            "Added feature: drive02, Mean Squared Error with Features: 72.47403832406852\n",
            "Added feature: race, Mean Squared Error with Features: 72.40061474994637\n",
            "Added feature: ethnicity, Mean Squared Error with Features: 72.27300666911849\n",
            "Added feature: soda15, Mean Squared Error with Features: 72.19812333412756\n",
            "Added feature: napshr15, Mean Squared Error with Features: 72.12297908825985\n",
            "Added feature: othrcs15, Mean Squared Error with Features: 72.04453756994565\n",
            "Added feature: afib, Mean Squared Error with Features: 71.97801631662773\n",
            "Added feature: warf1, Mean Squared Error with Features: 71.85832627139293\n",
            "Added feature: phctdn25, Mean Squared Error with Features: 71.80051861956491\n",
            "Added feature: phlegm15, Mean Squared Error with Features: 71.7427133074002\n",
            "Added feature: carful25, Mean Squared Error with Features: 71.68013312071547\n",
            "Added feature: shhs1_all, Mean Squared Error with Features: 71.62102835827284\n",
            "Added feature: shhs1_ae, Mean Squared Error with Features: 71.54925415019899\n",
            "Added feature: nsaid1, Mean Squared Error with Features: 71.50631492362102\n",
            "Added feature: aced1, Mean Squared Error with Features: 71.46671737471875\n",
            "Added feature: truposmi, Mean Squared Error with Features: 71.42632161926308\n",
            "Added feature: exclnt25, Mean Squared Error with Features: 71.38751701937417\n",
            "Added feature: wk1ml25, Mean Squared Error with Features: 71.3386773892035\n",
            "Added feature: phacls25, Mean Squared Error with Features: 71.29677919067132\n",
            "Added feature: trig, Mean Squared Error with Features: 71.25369900070518\n",
            "Added feature: shots15, Mean Squared Error with Features: 71.21535027715008\n",
            "Added feature: irbbb, Mean Squared Error with Features: 71.18004953256924\n",
            "Added feature: issnor02, Mean Squared Error with Features: 71.14680730269923\n",
            "Added feature: basq1, Mean Squared Error with Features: 71.11433953307224\n",
            "Added feature: asthma15, Mean Squared Error with Features: 71.08179698395527\n",
            "Added feature: copd15, Mean Squared Error with Features: 71.04460151126814\n",
            "Added feature: ace1, Mean Squared Error with Features: 71.014992324165\n",
            "Added feature: hostbr02, Mean Squared Error with Features: 70.97203936116233\n",
            "Added feature: cp02, Mean Squared Error with Features: 70.94023406985178\n",
            "Added feature: sweats02, Mean Squared Error with Features: 70.89408739393546\n",
            "Added feature: ventrate, Mean Squared Error with Features: 70.86930057341836\n",
            "Added feature: av1deg, Mean Squared Error with Features: 70.841088664951\n",
            "Added feature: height, Mean Squared Error with Features: 70.78115342545782\n",
            "Added feature: gender, Mean Squared Error with Features: 69.83892803919932\n",
            "Added feature: tfawda02, Mean Squared Error with Features: 69.79742420324479\n",
            "Added feature: mi2slp02, Mean Squared Error with Features: 69.74578417599564\n",
            "Added feature: evsmok15, Mean Squared Error with Features: 69.70676585288868\n",
            "Added feature: funres02, Mean Squared Error with Features: 69.6757658422874\n",
            "Added feature: urdbpae, Mean Squared Error with Features: 69.6468344475077\n",
            "Added feature: tfaweh02, Mean Squared Error with Features: 69.62272619472192\n",
            "Added feature: runny15, Mean Squared Error with Features: 69.60218611321575\n",
            "Added feature: pvdl1, Mean Squared Error with Features: 69.58169538581029\n",
            "Added feature: tea15, Mean Squared Error with Features: 69.56107484306571\n",
            "Added feature: bend25, Mean Squared Error with Features: 69.54140661653543\n",
            "Added feature: bathe25, Mean Squared Error with Features: 69.51957265359563\n",
            "Added feature: tripae, Mean Squared Error with Features: 69.48258462931967\n",
            "Added feature: hip, Mean Squared Error with Features: 69.4636727258267\n",
            "Added feature: waist, Mean Squared Error with Features: 69.42958117501402\n",
            "Added feature: shhs1_ql, Mean Squared Error with Features: 69.40782566047076\n",
            "Added feature: slpill15, Mean Squared Error with Features: 69.39570073690645\n",
            "Added feature: ccbir1, Mean Squared Error with Features: 69.38307822538947\n",
            "Added feature: st5_1_3, Mean Squared Error with Features: 69.37189331537422\n",
            "Added feature: nonsp_tw, Mean Squared Error with Features: 69.32791385633621\n",
            "Added feature: nsrrid, Mean Squared Error with Features: 69.31893040373423\n",
            "Added feature: cigday15, Mean Squared Error with Features: 69.31108057117956\n",
            "Added feature: pdei1, Mean Squared Error with Features: 69.3036234864157\n",
            "Added feature: dig1, Mean Squared Error with Features: 69.29573399911304\n",
            "Added feature: ntca1, Mean Squared Error with Features: 69.2870674374099\n",
            "Added feature: stress15, Mean Squared Error with Features: 69.2806547806127\n",
            "Added feature: mob1, Mean Squared Error with Features: 69.27437926261948\n",
            "Added feature: sickez25, Mean Squared Error with Features: 69.26876100693448\n",
            "Added feature: worse25, Mean Squared Error with Features: 69.26095815333517\n",
            "Added feature: shhs1_ms, Mean Squared Error with Features: 69.25382408920443\n",
            "Added feature: nitro15, Mean Squared Error with Features: 69.247479679014\n",
            "Added feature: wine15, Mean Squared Error with Features: 69.24010530714122\n",
            "Added feature: cough315, Mean Squared Error with Features: 69.23305210271702\n",
            "Added feature: smokstat_s1, Mean Squared Error with Features: 69.2284558648189\n",
            "Added feature: ecg, Mean Squared Error with Features: 69.22404466763798\n",
            "Added feature: lipid1, Mean Squared Error with Features: 69.21987779585429\n",
            "Added feature: niac1, Mean Squared Error with Features: 69.2120150226419\n",
            "Added feature: crbron15, Mean Squared Error with Features: 69.20823825778385\n",
            "Added feature: tfawea02, Mean Squared Error with Features: 69.20505402132545\n",
            "Added feature: shhs1_hi, Mean Squared Error with Features: 69.19832966645163\n",
            "Added feature: date02, Mean Squared Error with Features: 69.19540345689329\n",
            "Added feature: coffee15, Mean Squared Error with Features: 69.19272633869\n",
            "Added feature: lah, Mean Squared Error with Features: 69.19069847620787\n",
            "Added feature: mi15, Mean Squared Error with Features: 69.18947533729937\n",
            "Added feature: paced, Mean Squared Error with Features: 69.18854290028585\n",
            "Added feature: emphys15, Mean Squared Error with Features: 69.18659500121102\n",
            "Added feature: twuwda02, Mean Squared Error with Features: 69.18462214985657\n",
            "Added feature: cgpkyr, Mean Squared Error with Features: 69.1837128352102\n",
            "Added feature: avesmk15, Mean Squared Error with Features: 69.1766839475747\n",
            "Added feature: mdsa02, Mean Squared Error with Features: 69.17643976370978\n",
            "Added feature: hctzk1, Mean Squared Error with Features: 69.17636404823921\n",
            "Added feature: painjt02, Mean Squared Error with Features: 69.17627918782983\n",
            "Added feature: bdpain25, Mean Squared Error with Features: 69.17616866091744\n",
            "No significant improvement in MSE or no further significant feature found. Stopping forward selection.\n"
          ]
        }
      ],
      "source": [
        "from sklearn.linear_model import LinearRegression\n",
        "from sklearn.model_selection import train_test_split\n",
        "from sklearn.metrics import mean_squared_error\n",
        "\n",
        "forward_selection_features = []\n",
        "\n",
        "# Start with an arbitrarily large initial MSE\n",
        "previous_mse = float('inf')\n",
        "mse_change_threshold = 1e-5  # Adjust this threshold value based on the scale of your MSE\n",
        "\n",
        "#run forward selection\n",
        "while len(forward_selection_features) < len(x_imputed.columns):\n",
        "    remaining_features = list(set(x_imputed.columns) - set(forward_selection_features))\n",
        "    best_feature_mse = float('inf')\n",
        "    best_feature = None\n",
        "\n",
        "    for feature in remaining_features:\n",
        "        candidate_features = forward_selection_features.copy()\n",
        "        candidate_features.append(feature)\n",
        "\n",
        "        # Split the data into training and testing sets\n",
        "        X_train, X_test, y_train, y_test = train_test_split(x_imputed[candidate_features], y, test_size=0.2, random_state=42)\n",
        "\n",
        "        # Fit a model with the selected features\n",
        "        model = LinearRegression()\n",
        "        model.fit(X_train, y_train)\n",
        "\n",
        "        # Evaluate the model with the added feature\n",
        "        y_pred = model.predict(X_test)\n",
        "        mse = mean_squared_error(y_test, y_pred)\n",
        "\n",
        "        # Update the best feature if the current one is better (lower MSE)\n",
        "        if mse < best_feature_mse:\n",
        "            best_feature_mse = mse\n",
        "            best_feature = feature\n",
        "\n",
        "    # Break the loop if change in MSE is smaller than the threshold or if no significant decrease in MSE\n",
        "    if abs(best_feature_mse - previous_mse) < mse_change_threshold or best_feature is None:\n",
        "        print(\"No significant improvement in MSE or no further significant feature found. Stopping forward selection.\")\n",
        "        break\n",
        "\n",
        "    forward_selection_features.append(best_feature)\n",
        "    print(f\"Added feature: {best_feature}, Mean Squared Error with Features: {best_feature_mse}\")\n",
        "\n",
        "    # Update the previous MSE for the next iteration\n",
        "    previous_mse = best_feature_mse\n"
      ]
    },
    {
      "cell_type": "code",
      "execution_count": 50,
      "metadata": {
        "colab": {
          "base_uri": "https://localhost:8080/"
        },
        "id": "vXfWd0OXp5td",
        "outputId": "7cb736d8-66a4-467d-9484-ef6ad1cddf59"
      },
      "outputs": [
        {
          "name": "stderr",
          "output_type": "stream",
          "text": [
            "C:\\Users\\Risto Trajanov\\AppData\\Local\\Temp\\ipykernel_54392\\2255316604.py:5: SettingWithCopyWarning: \n",
            "A value is trying to be set on a copy of a slice from a DataFrame.\n",
            "Try using .loc[row_indexer,col_indexer] = value instead\n",
            "\n",
            "See the caveats in the documentation: https://pandas.pydata.org/pandas-docs/stable/user_guide/indexing.html#returning-a-view-versus-a-copy\n",
            "  forward_selection_dataset['ahi_c0h4a'] = shhs1['ahi_c0h4a']\n"
          ]
        }
      ],
      "source": [
        "# Create a new dataset with only the features having non-zero mutual information\n",
        "forward_selection_dataset = x_imputed[forward_selection_features]\n",
        "\n",
        "# Add the 'ahi_c0h4a' column to the new dataset\n",
        "forward_selection_dataset['ahi_c0h4a'] = shhs1['ahi_c0h4a']"
      ]
    },
    {
      "cell_type": "code",
      "execution_count": 51,
      "metadata": {
        "id": "4iF11qy0qLrK"
      },
      "outputs": [],
      "source": [
        "#write to csv\n",
        "forward_selection_dataset.to_csv('../data/interim/feature_selection/forward_selection_ahi_c0h4a.csv', index=False)"
      ]
    },
    {
      "cell_type": "markdown",
      "metadata": {
        "id": "MleBtkR7q_fl"
      },
      "source": [
        "### Backward selection"
      ]
    },
    {
      "cell_type": "code",
      "execution_count": 52,
      "metadata": {
        "colab": {
          "base_uri": "https://localhost:8080/"
        },
        "id": "1NIGQhnnrCDH",
        "outputId": "713b18ff-da8c-4dec-fe75-9b3dedd36623"
      },
      "outputs": [
        {
          "name": "stdout",
          "output_type": "stream",
          "text": [
            "Removed feature: mh_s1, Mean Squared Error without Feature: 81.01581781694554\n",
            "Removed feature: o2thpy02, Mean Squared Error without Feature: 78.90895746083041\n",
            "Removed feature: pgrcar02, Mean Squared Error without Feature: 78.27711676505842\n",
            "Removed feature: nges02, Mean Squared Error without Feature: 77.75446772800588\n",
            "Removed feature: srhype, Mean Squared Error without Feature: 77.48295831509375\n",
            "Removed feature: sa15, Mean Squared Error without Feature: 77.20888067604854\n",
            "Removed feature: parrptdiab, Mean Squared Error without Feature: 76.96269469238993\n",
            "Removed feature: weight20, Mean Squared Error without Feature: 76.68041112833025\n",
            "Removed feature: twuwea02, Mean Squared Error without Feature: 76.40813972887382\n",
            "Removed feature: noise02, Mean Squared Error without Feature: 76.19252619671022\n",
            "Removed feature: ca15, Mean Squared Error without Feature: 75.98111616466767\n",
            "Removed feature: yrssnr02, Mean Squared Error without Feature: 75.80918620878032\n",
            "Removed feature: thry1, Mean Squared Error without Feature: 75.60497607145085\n",
            "Removed feature: bmi_s1, Mean Squared Error without Feature: 75.43635185596432\n",
            "Removed feature: incar02, Mean Squared Error without Feature: 75.19083691168706\n",
            "Removed feature: sinus15, Mean Squared Error without Feature: 74.9682242731357\n",
            "Removed feature: ns1yr15, Mean Squared Error without Feature: 74.75442398544446\n",
            "Removed feature: dias320, Mean Squared Error without Feature: 74.57877974271317\n",
            "Removed feature: modact25, Mean Squared Error without Feature: 74.3569988642777\n",
            "Removed feature: chol, Mean Squared Error without Feature: 74.21508209670044\n",
            "Removed feature: premar1, Mean Squared Error without Feature: 73.95580985840687\n",
            "Removed feature: hvsnrd02, Mean Squared Error without Feature: 73.86819027456265\n",
            "Removed feature: estrgn1, Mean Squared Error without Feature: 73.65919439192507\n",
            "Removed feature: alcoh, Mean Squared Error without Feature: 73.5929609766093\n",
            "Removed feature: vpbs, Mean Squared Error without Feature: 73.3961965452171\n",
            "Removed feature: date25, Mean Squared Error without Feature: 73.34308155151498\n",
            "Removed feature: anar1a1, Mean Squared Error without Feature: 73.20583790625876\n",
            "Removed feature: beer15, Mean Squared Error without Feature: 73.1514780008463\n",
            "Removed feature: cabg15, Mean Squared Error without Feature: 73.01002371703574\n",
            "Removed feature: shots15, Mean Squared Error without Feature: 72.96458722748294\n",
            "Removed feature: tca1, Mean Squared Error without Feature: 72.83613101473877\n",
            "Removed feature: napsmn15, Mean Squared Error without Feature: 72.7959661765985\n",
            "Removed feature: cpap02, Mean Squared Error without Feature: 72.66893288179361\n",
            "Removed feature: fev1, Mean Squared Error without Feature: 72.65210835936952\n",
            "Removed feature: surgsa02, Mean Squared Error without Feature: 72.54533744229114\n",
            "Removed feature: naps02, Mean Squared Error without Feature: 72.53285135553867\n",
            "Removed feature: down25, Mean Squared Error without Feature: 72.43060336841307\n",
            "Removed feature: cigday15, Mean Squared Error without Feature: 72.40927556702111\n",
            "Removed feature: shhs1_sdr, Mean Squared Error without Feature: 72.32365043424689\n",
            "Removed feature: mdsa02, Mean Squared Error without Feature: 72.30477595741985\n",
            "Removed feature: ntg1, Mean Squared Error without Feature: 72.22027113372936\n",
            "Removed feature: ankbp, Mean Squared Error without Feature: 72.21224559233056\n",
            "Removed feature: av3deg, Mean Squared Error without Feature: 72.12799943142745\n",
            "Removed feature: wpw, Mean Squared Error without Feature: 72.12383331088151\n",
            "Removed feature: shhs1_qa, Mean Squared Error without Feature: 72.1232071376991\n",
            "Removed feature: visitnumber, Mean Squared Error without Feature: 72.1217867290938\n",
            "No significant improvement in MSE or removing any more features deteriorates the model. Stopping backward selection.\n"
          ]
        }
      ],
      "source": [
        "from sklearn.linear_model import LinearRegression\n",
        "from sklearn.model_selection import train_test_split\n",
        "from sklearn.metrics import mean_squared_error\n",
        "\n",
        "# Starting with all the features\n",
        "backward_selection_features = list(x_imputed.columns)\n",
        "\n",
        "# Start with an arbitrarily large initial MSE\n",
        "previous_mse = float('inf')\n",
        "mse_change_threshold = 1e-4  # Adjust this threshold value based on the scale of your MSE\n",
        "\n",
        "#run backward selection\n",
        "while len(backward_selection_features) > 0:\n",
        "    removed_feature_mse = float('inf')\n",
        "    feature_to_remove = None\n",
        "\n",
        "    for feature in backward_selection_features:\n",
        "        candidate_features = backward_selection_features.copy()\n",
        "        candidate_features.remove(feature)\n",
        "\n",
        "        # Split the data into training and testing sets\n",
        "        X_train, X_test, y_train, y_test = train_test_split(x_imputed[candidate_features], y, test_size=0.2, random_state=42)\n",
        "\n",
        "        # Fit a model with the selected features\n",
        "        model = LinearRegression()\n",
        "        model.fit(X_train, y_train)\n",
        "\n",
        "        # Evaluate the model without the current feature\n",
        "        y_pred = model.predict(X_test)\n",
        "        mse = mean_squared_error(y_test, y_pred)\n",
        "\n",
        "        # Update the best feature to remove if the current one is better (lower MSE)\n",
        "        if mse < removed_feature_mse:\n",
        "            removed_feature_mse = mse\n",
        "            feature_to_remove = feature\n",
        "\n",
        "    # Break the loop if change in MSE is smaller than the threshold or if removing a feature increases the MSE\n",
        "    if abs(removed_feature_mse - previous_mse) < mse_change_threshold or removed_feature_mse > previous_mse:\n",
        "        print(\"No significant improvement in MSE or removing any more features deteriorates the model. Stopping backward selection.\")\n",
        "        break\n",
        "\n",
        "    backward_selection_features.remove(feature_to_remove)\n",
        "    print(f\"Removed feature: {feature_to_remove}, Mean Squared Error without Feature: {removed_feature_mse}\")\n",
        "\n",
        "    # Update the previous MSE for the next iteration\n",
        "    previous_mse = removed_feature_mse\n"
      ]
    },
    {
      "cell_type": "code",
      "execution_count": 53,
      "metadata": {
        "colab": {
          "base_uri": "https://localhost:8080/"
        },
        "id": "maq49NcirHJ8",
        "outputId": "255a4457-6fcc-4f32-b622-d25b1151e066"
      },
      "outputs": [
        {
          "name": "stderr",
          "output_type": "stream",
          "text": [
            "C:\\Users\\Risto Trajanov\\AppData\\Local\\Temp\\ipykernel_54392\\1444284095.py:5: SettingWithCopyWarning: \n",
            "A value is trying to be set on a copy of a slice from a DataFrame.\n",
            "Try using .loc[row_indexer,col_indexer] = value instead\n",
            "\n",
            "See the caveats in the documentation: https://pandas.pydata.org/pandas-docs/stable/user_guide/indexing.html#returning-a-view-versus-a-copy\n",
            "  backward_selection_dataset['ahi_c0h4a'] = shhs1['ahi_c0h4a']\n"
          ]
        }
      ],
      "source": [
        "# Create a new dataset with only the features having non-zero mutual information\n",
        "backward_selection_dataset = x_imputed[backward_selection_features]\n",
        "\n",
        "# Add the 'ahi_c0h4a' column to the new dataset\n",
        "backward_selection_dataset['ahi_c0h4a'] = shhs1['ahi_c0h4a']"
      ]
    },
    {
      "cell_type": "code",
      "execution_count": 54,
      "metadata": {
        "id": "qghpByEIrSAN"
      },
      "outputs": [],
      "source": [
        "#write to csv\n",
        "backward_selection_dataset.to_csv('../data/interim/feature_selection/backward_selection_ahi_c0h4a.csv', index=False)"
      ]
    },
    {
      "cell_type": "markdown",
      "metadata": {
        "id": "qjUPXi1UjtxC"
      },
      "source": [
        "## Target variable: hf15"
      ]
    },
    {
      "cell_type": "code",
      "execution_count": 55,
      "metadata": {
        "id": "BuKhyUTCkOHF"
      },
      "outputs": [],
      "source": [
        "y = x_imputed['hf15']\n",
        "x_imputed = x_imputed.drop(columns=['hf15'])"
      ]
    },
    {
      "cell_type": "markdown",
      "metadata": {
        "id": "i1S5omQBmyzP"
      },
      "source": [
        "## Random Forest"
      ]
    },
    {
      "cell_type": "code",
      "execution_count": 56,
      "metadata": {
        "colab": {
          "base_uri": "https://localhost:8080/",
          "height": 75
        },
        "id": "q8RFfqksmvlA",
        "outputId": "87c435b1-2590-4a01-e5ea-569d807dfa9d"
      },
      "outputs": [
        {
          "data": {
            "text/html": [
              "<style>#sk-container-id-4 {color: black;}#sk-container-id-4 pre{padding: 0;}#sk-container-id-4 div.sk-toggleable {background-color: white;}#sk-container-id-4 label.sk-toggleable__label {cursor: pointer;display: block;width: 100%;margin-bottom: 0;padding: 0.3em;box-sizing: border-box;text-align: center;}#sk-container-id-4 label.sk-toggleable__label-arrow:before {content: \"▸\";float: left;margin-right: 0.25em;color: #696969;}#sk-container-id-4 label.sk-toggleable__label-arrow:hover:before {color: black;}#sk-container-id-4 div.sk-estimator:hover label.sk-toggleable__label-arrow:before {color: black;}#sk-container-id-4 div.sk-toggleable__content {max-height: 0;max-width: 0;overflow: hidden;text-align: left;background-color: #f0f8ff;}#sk-container-id-4 div.sk-toggleable__content pre {margin: 0.2em;color: black;border-radius: 0.25em;background-color: #f0f8ff;}#sk-container-id-4 input.sk-toggleable__control:checked~div.sk-toggleable__content {max-height: 200px;max-width: 100%;overflow: auto;}#sk-container-id-4 input.sk-toggleable__control:checked~label.sk-toggleable__label-arrow:before {content: \"▾\";}#sk-container-id-4 div.sk-estimator input.sk-toggleable__control:checked~label.sk-toggleable__label {background-color: #d4ebff;}#sk-container-id-4 div.sk-label input.sk-toggleable__control:checked~label.sk-toggleable__label {background-color: #d4ebff;}#sk-container-id-4 input.sk-hidden--visually {border: 0;clip: rect(1px 1px 1px 1px);clip: rect(1px, 1px, 1px, 1px);height: 1px;margin: -1px;overflow: hidden;padding: 0;position: absolute;width: 1px;}#sk-container-id-4 div.sk-estimator {font-family: monospace;background-color: #f0f8ff;border: 1px dotted black;border-radius: 0.25em;box-sizing: border-box;margin-bottom: 0.5em;}#sk-container-id-4 div.sk-estimator:hover {background-color: #d4ebff;}#sk-container-id-4 div.sk-parallel-item::after {content: \"\";width: 100%;border-bottom: 1px solid gray;flex-grow: 1;}#sk-container-id-4 div.sk-label:hover label.sk-toggleable__label {background-color: #d4ebff;}#sk-container-id-4 div.sk-serial::before {content: \"\";position: absolute;border-left: 1px solid gray;box-sizing: border-box;top: 0;bottom: 0;left: 50%;z-index: 0;}#sk-container-id-4 div.sk-serial {display: flex;flex-direction: column;align-items: center;background-color: white;padding-right: 0.2em;padding-left: 0.2em;position: relative;}#sk-container-id-4 div.sk-item {position: relative;z-index: 1;}#sk-container-id-4 div.sk-parallel {display: flex;align-items: stretch;justify-content: center;background-color: white;position: relative;}#sk-container-id-4 div.sk-item::before, #sk-container-id-4 div.sk-parallel-item::before {content: \"\";position: absolute;border-left: 1px solid gray;box-sizing: border-box;top: 0;bottom: 0;left: 50%;z-index: -1;}#sk-container-id-4 div.sk-parallel-item {display: flex;flex-direction: column;z-index: 1;position: relative;background-color: white;}#sk-container-id-4 div.sk-parallel-item:first-child::after {align-self: flex-end;width: 50%;}#sk-container-id-4 div.sk-parallel-item:last-child::after {align-self: flex-start;width: 50%;}#sk-container-id-4 div.sk-parallel-item:only-child::after {width: 0;}#sk-container-id-4 div.sk-dashed-wrapped {border: 1px dashed gray;margin: 0 0.4em 0.5em 0.4em;box-sizing: border-box;padding-bottom: 0.4em;background-color: white;}#sk-container-id-4 div.sk-label label {font-family: monospace;font-weight: bold;display: inline-block;line-height: 1.2em;}#sk-container-id-4 div.sk-label-container {text-align: center;}#sk-container-id-4 div.sk-container {/* jupyter's `normalize.less` sets `[hidden] { display: none; }` but bootstrap.min.css set `[hidden] { display: none !important; }` so we also need the `!important` here to be able to override the default hidden behavior on the sphinx rendered scikit-learn.org. See: https://github.com/scikit-learn/scikit-learn/issues/21755 */display: inline-block !important;position: relative;}#sk-container-id-4 div.sk-text-repr-fallback {display: none;}</style><div id=\"sk-container-id-4\" class=\"sk-top-container\"><div class=\"sk-text-repr-fallback\"><pre>RandomForestRegressor(random_state=55)</pre><b>In a Jupyter environment, please rerun this cell to show the HTML representation or trust the notebook. <br />On GitHub, the HTML representation is unable to render, please try loading this page with nbviewer.org.</b></div><div class=\"sk-container\" hidden><div class=\"sk-item\"><div class=\"sk-estimator sk-toggleable\"><input class=\"sk-toggleable__control sk-hidden--visually\" id=\"sk-estimator-id-4\" type=\"checkbox\" checked><label for=\"sk-estimator-id-4\" class=\"sk-toggleable__label sk-toggleable__label-arrow\">RandomForestRegressor</label><div class=\"sk-toggleable__content\"><pre>RandomForestRegressor(random_state=55)</pre></div></div></div></div></div>"
            ],
            "text/plain": [
              "RandomForestRegressor(random_state=55)"
            ]
          },
          "execution_count": 56,
          "metadata": {},
          "output_type": "execute_result"
        }
      ],
      "source": [
        "forest = RandomForestRegressor(n_estimators=100, random_state = 55)  # You can change the number of trees if needed\n",
        "forest.fit(x_imputed, y)"
      ]
    },
    {
      "cell_type": "code",
      "execution_count": 57,
      "metadata": {
        "colab": {
          "base_uri": "https://localhost:8080/"
        },
        "id": "B0iMdkKlIpm5",
        "outputId": "19ff24ea-94ee-45bc-dc55-7e1ddcfc51e7"
      },
      "outputs": [
        {
          "name": "stderr",
          "output_type": "stream",
          "text": [
            "C:\\Users\\Risto Trajanov\\AppData\\Local\\Temp\\ipykernel_54392\\826678462.py:5: SettingWithCopyWarning: \n",
            "A value is trying to be set on a copy of a slice from a DataFrame.\n",
            "Try using .loc[row_indexer,col_indexer] = value instead\n",
            "\n",
            "See the caveats in the documentation: https://pandas.pydata.org/pandas-docs/stable/user_guide/indexing.html#returning-a-view-versus-a-copy\n",
            "  model_dataset[target_var] = shhs1[target_var]\n"
          ]
        },
        {
          "name": "stdout",
          "output_type": "stream",
          "text": [
            "259\n"
          ]
        }
      ],
      "source": [
        "find_important_features(forest, \"random_forest\", \"hf15\")"
      ]
    },
    {
      "cell_type": "code",
      "execution_count": 58,
      "metadata": {
        "colab": {
          "base_uri": "https://localhost:8080/"
        },
        "id": "9BLOrvgQzq5a",
        "outputId": "b0515cbf-8049-4609-e429-89ee3229d5e2"
      },
      "outputs": [
        {
          "name": "stderr",
          "output_type": "stream",
          "text": [
            "C:\\Users\\Risto Trajanov\\AppData\\Local\\Temp\\ipykernel_54392\\1931634931.py:4: SettingWithCopyWarning: \n",
            "A value is trying to be set on a copy of a slice from a DataFrame.\n",
            "Try using .loc[row_indexer,col_indexer] = value instead\n",
            "\n",
            "See the caveats in the documentation: https://pandas.pydata.org/pandas-docs/stable/user_guide/indexing.html#returning-a-view-versus-a-copy\n",
            "  random_forest_dataset['hf15'] = shhs1['hf15']\n"
          ]
        }
      ],
      "source": [
        "forest_importances = forest.feature_importances_\n",
        "random_forest_features = np.array(x_imputed.columns)[forest_importances > 0]\n",
        "random_forest_dataset = x_imputed[random_forest_features]\n",
        "random_forest_dataset['hf15'] = shhs1['hf15']"
      ]
    },
    {
      "cell_type": "code",
      "execution_count": 59,
      "metadata": {
        "colab": {
          "base_uri": "https://localhost:8080/"
        },
        "id": "_patebmxz34M",
        "outputId": "4f75379f-2f9d-4fc8-c1af-9c70945ffada"
      },
      "outputs": [
        {
          "data": {
            "text/plain": [
              "259"
            ]
          },
          "execution_count": 59,
          "metadata": {},
          "output_type": "execute_result"
        }
      ],
      "source": [
        "len(random_forest_features)"
      ]
    },
    {
      "cell_type": "code",
      "execution_count": 60,
      "metadata": {
        "id": "CjuirKNIzu_H"
      },
      "outputs": [],
      "source": [
        "random_forest_dataset.to_csv('../data/interim/feature_selection/random_forest_hf15.csv', index=False)"
      ]
    },
    {
      "cell_type": "markdown",
      "metadata": {
        "id": "sFUQF_7eyrCq"
      },
      "source": [
        "### Decision Tree"
      ]
    },
    {
      "cell_type": "code",
      "execution_count": 61,
      "metadata": {
        "colab": {
          "base_uri": "https://localhost:8080/",
          "height": 75
        },
        "id": "t_nJ4q95ytG7",
        "outputId": "5b68f043-c5fd-4a00-f0b0-5fc7defd47f2"
      },
      "outputs": [
        {
          "data": {
            "text/html": [
              "<style>#sk-container-id-5 {color: black;}#sk-container-id-5 pre{padding: 0;}#sk-container-id-5 div.sk-toggleable {background-color: white;}#sk-container-id-5 label.sk-toggleable__label {cursor: pointer;display: block;width: 100%;margin-bottom: 0;padding: 0.3em;box-sizing: border-box;text-align: center;}#sk-container-id-5 label.sk-toggleable__label-arrow:before {content: \"▸\";float: left;margin-right: 0.25em;color: #696969;}#sk-container-id-5 label.sk-toggleable__label-arrow:hover:before {color: black;}#sk-container-id-5 div.sk-estimator:hover label.sk-toggleable__label-arrow:before {color: black;}#sk-container-id-5 div.sk-toggleable__content {max-height: 0;max-width: 0;overflow: hidden;text-align: left;background-color: #f0f8ff;}#sk-container-id-5 div.sk-toggleable__content pre {margin: 0.2em;color: black;border-radius: 0.25em;background-color: #f0f8ff;}#sk-container-id-5 input.sk-toggleable__control:checked~div.sk-toggleable__content {max-height: 200px;max-width: 100%;overflow: auto;}#sk-container-id-5 input.sk-toggleable__control:checked~label.sk-toggleable__label-arrow:before {content: \"▾\";}#sk-container-id-5 div.sk-estimator input.sk-toggleable__control:checked~label.sk-toggleable__label {background-color: #d4ebff;}#sk-container-id-5 div.sk-label input.sk-toggleable__control:checked~label.sk-toggleable__label {background-color: #d4ebff;}#sk-container-id-5 input.sk-hidden--visually {border: 0;clip: rect(1px 1px 1px 1px);clip: rect(1px, 1px, 1px, 1px);height: 1px;margin: -1px;overflow: hidden;padding: 0;position: absolute;width: 1px;}#sk-container-id-5 div.sk-estimator {font-family: monospace;background-color: #f0f8ff;border: 1px dotted black;border-radius: 0.25em;box-sizing: border-box;margin-bottom: 0.5em;}#sk-container-id-5 div.sk-estimator:hover {background-color: #d4ebff;}#sk-container-id-5 div.sk-parallel-item::after {content: \"\";width: 100%;border-bottom: 1px solid gray;flex-grow: 1;}#sk-container-id-5 div.sk-label:hover label.sk-toggleable__label {background-color: #d4ebff;}#sk-container-id-5 div.sk-serial::before {content: \"\";position: absolute;border-left: 1px solid gray;box-sizing: border-box;top: 0;bottom: 0;left: 50%;z-index: 0;}#sk-container-id-5 div.sk-serial {display: flex;flex-direction: column;align-items: center;background-color: white;padding-right: 0.2em;padding-left: 0.2em;position: relative;}#sk-container-id-5 div.sk-item {position: relative;z-index: 1;}#sk-container-id-5 div.sk-parallel {display: flex;align-items: stretch;justify-content: center;background-color: white;position: relative;}#sk-container-id-5 div.sk-item::before, #sk-container-id-5 div.sk-parallel-item::before {content: \"\";position: absolute;border-left: 1px solid gray;box-sizing: border-box;top: 0;bottom: 0;left: 50%;z-index: -1;}#sk-container-id-5 div.sk-parallel-item {display: flex;flex-direction: column;z-index: 1;position: relative;background-color: white;}#sk-container-id-5 div.sk-parallel-item:first-child::after {align-self: flex-end;width: 50%;}#sk-container-id-5 div.sk-parallel-item:last-child::after {align-self: flex-start;width: 50%;}#sk-container-id-5 div.sk-parallel-item:only-child::after {width: 0;}#sk-container-id-5 div.sk-dashed-wrapped {border: 1px dashed gray;margin: 0 0.4em 0.5em 0.4em;box-sizing: border-box;padding-bottom: 0.4em;background-color: white;}#sk-container-id-5 div.sk-label label {font-family: monospace;font-weight: bold;display: inline-block;line-height: 1.2em;}#sk-container-id-5 div.sk-label-container {text-align: center;}#sk-container-id-5 div.sk-container {/* jupyter's `normalize.less` sets `[hidden] { display: none; }` but bootstrap.min.css set `[hidden] { display: none !important; }` so we also need the `!important` here to be able to override the default hidden behavior on the sphinx rendered scikit-learn.org. See: https://github.com/scikit-learn/scikit-learn/issues/21755 */display: inline-block !important;position: relative;}#sk-container-id-5 div.sk-text-repr-fallback {display: none;}</style><div id=\"sk-container-id-5\" class=\"sk-top-container\"><div class=\"sk-text-repr-fallback\"><pre>DecisionTreeRegressor(random_state=194)</pre><b>In a Jupyter environment, please rerun this cell to show the HTML representation or trust the notebook. <br />On GitHub, the HTML representation is unable to render, please try loading this page with nbviewer.org.</b></div><div class=\"sk-container\" hidden><div class=\"sk-item\"><div class=\"sk-estimator sk-toggleable\"><input class=\"sk-toggleable__control sk-hidden--visually\" id=\"sk-estimator-id-5\" type=\"checkbox\" checked><label for=\"sk-estimator-id-5\" class=\"sk-toggleable__label sk-toggleable__label-arrow\">DecisionTreeRegressor</label><div class=\"sk-toggleable__content\"><pre>DecisionTreeRegressor(random_state=194)</pre></div></div></div></div></div>"
            ],
            "text/plain": [
              "DecisionTreeRegressor(random_state=194)"
            ]
          },
          "execution_count": 61,
          "metadata": {},
          "output_type": "execute_result"
        }
      ],
      "source": [
        "tree = DecisionTreeRegressor(random_state = 194)\n",
        "tree.fit(x_imputed, y)"
      ]
    },
    {
      "cell_type": "code",
      "execution_count": 62,
      "metadata": {
        "colab": {
          "base_uri": "https://localhost:8080/"
        },
        "id": "09huXxkAJCDJ",
        "outputId": "6a7334ba-5044-4aa6-8980-ef1fe39282cd"
      },
      "outputs": [
        {
          "name": "stderr",
          "output_type": "stream",
          "text": [
            "C:\\Users\\Risto Trajanov\\AppData\\Local\\Temp\\ipykernel_54392\\826678462.py:5: SettingWithCopyWarning: \n",
            "A value is trying to be set on a copy of a slice from a DataFrame.\n",
            "Try using .loc[row_indexer,col_indexer] = value instead\n",
            "\n",
            "See the caveats in the documentation: https://pandas.pydata.org/pandas-docs/stable/user_guide/indexing.html#returning-a-view-versus-a-copy\n",
            "  model_dataset[target_var] = shhs1[target_var]\n"
          ]
        },
        {
          "name": "stdout",
          "output_type": "stream",
          "text": [
            "99\n"
          ]
        }
      ],
      "source": [
        "find_important_features(tree, \"decision_tree\", \"hf15\")"
      ]
    },
    {
      "cell_type": "code",
      "execution_count": 63,
      "metadata": {
        "colab": {
          "base_uri": "https://localhost:8080/"
        },
        "id": "JhA__Lkyy6Bz",
        "outputId": "411f203c-ce13-4d10-b2c5-ca5a2b8be691"
      },
      "outputs": [
        {
          "name": "stderr",
          "output_type": "stream",
          "text": [
            "C:\\Users\\Risto Trajanov\\AppData\\Local\\Temp\\ipykernel_54392\\1125649490.py:4: SettingWithCopyWarning: \n",
            "A value is trying to be set on a copy of a slice from a DataFrame.\n",
            "Try using .loc[row_indexer,col_indexer] = value instead\n",
            "\n",
            "See the caveats in the documentation: https://pandas.pydata.org/pandas-docs/stable/user_guide/indexing.html#returning-a-view-versus-a-copy\n",
            "  decision_tree_dataset['hf15'] = shhs1['hf15']\n"
          ]
        }
      ],
      "source": [
        "tree_importances = tree.feature_importances_\n",
        "decision_tree_features = np.array(x_imputed.columns)[tree_importances > 0]\n",
        "decision_tree_dataset = x_imputed[decision_tree_features]\n",
        "decision_tree_dataset['hf15'] = shhs1['hf15']"
      ]
    },
    {
      "cell_type": "code",
      "execution_count": 64,
      "metadata": {
        "colab": {
          "base_uri": "https://localhost:8080/"
        },
        "id": "4i5hhnCUzLWI",
        "outputId": "1a95c2e1-514b-4b63-c28b-4b13e2ffc28a"
      },
      "outputs": [
        {
          "data": {
            "text/plain": [
              "99"
            ]
          },
          "execution_count": 64,
          "metadata": {},
          "output_type": "execute_result"
        }
      ],
      "source": [
        "len(decision_tree_features)"
      ]
    },
    {
      "cell_type": "code",
      "execution_count": 65,
      "metadata": {
        "id": "pdnD1jlQzMc8"
      },
      "outputs": [],
      "source": [
        "decision_tree_dataset.to_csv('../data/interim/feature_selection/decision_tree_hf15.csv', index=False)"
      ]
    },
    {
      "cell_type": "markdown",
      "metadata": {
        "id": "ul2iBVn0ytWU"
      },
      "source": [
        "### Mutual Information"
      ]
    },
    {
      "cell_type": "code",
      "execution_count": 66,
      "metadata": {
        "id": "47tAgGzP0EaT"
      },
      "outputs": [],
      "source": [
        "mi = mutual_info_regression(x_imputed, y, random_state = 99)"
      ]
    },
    {
      "cell_type": "code",
      "execution_count": 67,
      "metadata": {
        "colab": {
          "base_uri": "https://localhost:8080/"
        },
        "id": "DXXc4ppJ0LHw",
        "outputId": "5a235042-ebf4-4d29-b202-06ba844e645f"
      },
      "outputs": [
        {
          "name": "stderr",
          "output_type": "stream",
          "text": [
            "C:\\Users\\Risto Trajanov\\AppData\\Local\\Temp\\ipykernel_54392\\1111857069.py:8: SettingWithCopyWarning: \n",
            "A value is trying to be set on a copy of a slice from a DataFrame.\n",
            "Try using .loc[row_indexer,col_indexer] = value instead\n",
            "\n",
            "See the caveats in the documentation: https://pandas.pydata.org/pandas-docs/stable/user_guide/indexing.html#returning-a-view-versus-a-copy\n",
            "  mi_dataset['hf15'] = shhs1['hf15']\n"
          ]
        }
      ],
      "source": [
        "# Get feature names where mutual information is greater than 0\n",
        "mi_features = np.array(x_imputed.columns)[mi > 0]\n",
        "\n",
        "# Create a new dataset with only the features having non-zero mutual information\n",
        "mi_dataset = x_imputed[mi_features]\n",
        "\n",
        "# Add the 'ahi_c0h4a' column to the new dataset\n",
        "mi_dataset['hf15'] = shhs1['hf15']"
      ]
    },
    {
      "cell_type": "code",
      "execution_count": 68,
      "metadata": {
        "colab": {
          "base_uri": "https://localhost:8080/"
        },
        "id": "CLahLFdP0U6S",
        "outputId": "7894faf3-5031-43a4-8397-36c8749f1d0e"
      },
      "outputs": [
        {
          "data": {
            "text/plain": [
              "162"
            ]
          },
          "execution_count": 68,
          "metadata": {},
          "output_type": "execute_result"
        }
      ],
      "source": [
        "len(mi_features)"
      ]
    },
    {
      "cell_type": "code",
      "execution_count": 69,
      "metadata": {
        "id": "blEnoPvN0OTn"
      },
      "outputs": [],
      "source": [
        "mi_dataset.to_csv('../data/interim/feature_selection/mi_hf15.csv', index=False)"
      ]
    },
    {
      "cell_type": "markdown",
      "metadata": {
        "id": "qxxaXn-S5v94"
      },
      "source": [
        "### Forward Selection"
      ]
    },
    {
      "cell_type": "code",
      "execution_count": 70,
      "metadata": {
        "colab": {
          "base_uri": "https://localhost:8080/"
        },
        "id": "sqSsrg1k5u_Y",
        "outputId": "85f75165-25f1-48a3-f53b-8179631a1ea3"
      },
      "outputs": [
        {
          "name": "stdout",
          "output_type": "stream",
          "text": [
            "Added feature: ca15, Mean Squared Error with Features: 0.4269018975236238\n",
            "Added feature: ntg1, Mean Squared Error with Features: 0.4134223021981536\n",
            "Added feature: paced, Mean Squared Error with Features: 0.40436839177173445\n",
            "Added feature: anar1a1, Mean Squared Error with Features: 0.398159507247751\n",
            "Added feature: nitro15, Mean Squared Error with Features: 0.3922905564772497\n",
            "Added feature: afib, Mean Squared Error with Features: 0.38781834254436015\n",
            "Added feature: emphys15, Mean Squared Error with Features: 0.38446332490938956\n",
            "Added feature: sob02, Mean Squared Error with Features: 0.38228746166754596\n",
            "Added feature: mi15, Mean Squared Error with Features: 0.38047594986495437\n",
            "Added feature: sa15, Mean Squared Error with Features: 0.3790238076926932\n",
            "Added feature: pacem15, Mean Squared Error with Features: 0.3776377614790318\n",
            "Added feature: yrsns15, Mean Squared Error with Features: 0.3767714850356413\n",
            "Added feature: diasbp, Mean Squared Error with Features: 0.37608278109241666\n",
            "Added feature: insuln1, Mean Squared Error with Features: 0.375404392669851\n",
            "Added feature: systbp, Mean Squared Error with Features: 0.3747294032599387\n",
            "Added feature: sitlch02, Mean Squared Error with Features: 0.37403963745472\n",
            "Added feature: hrswe02, Mean Squared Error with Features: 0.3734303449760847\n",
            "Added feature: warf1, Mean Squared Error with Features: 0.37286514865988707\n",
            "Added feature: re_s1, Mean Squared Error with Features: 0.3724785335822383\n",
            "Added feature: ace1, Mean Squared Error with Features: 0.37207978610345654\n",
            "Added feature: lvh3_1, Mean Squared Error with Features: 0.3717730416211485\n",
            "Added feature: qrs, Mean Squared Error with Features: 0.3714001647232004\n",
            "Added feature: st4_1_3, Mean Squared Error with Features: 0.3710665130316823\n",
            "Added feature: nonsp_st, Mean Squared Error with Features: 0.37073911295920164\n",
            "Added feature: coffee15, Mean Squared Error with Features: 0.370426263029852\n",
            "Added feature: exefrt25, Mean Squared Error with Features: 0.3701037094106793\n",
            "Added feature: limit25, Mean Squared Error with Features: 0.3692226167549923\n",
            "Added feature: slpill15, Mean Squared Error with Features: 0.368910734333978\n",
            "Added feature: attabl02, Mean Squared Error with Features: 0.3686115937458046\n",
            "Added feature: asth1215, Mean Squared Error with Features: 0.3683111426149193\n",
            "Added feature: educat, Mean Squared Error with Features: 0.3680367835980473\n",
            "Added feature: nsaid1, Mean Squared Error with Features: 0.3677999700650488\n",
            "Added feature: wk1blk25, Mean Squared Error with Features: 0.3675626613159017\n",
            "Added feature: skrctnae, Mean Squared Error with Features: 0.3673308469366985\n",
            "Added feature: angina15, Mean Squared Error with Features: 0.3670726110427098\n",
            "Added feature: syst320, Mean Squared Error with Features: 0.3668427797448446\n",
            "Added feature: alcoh, Mean Squared Error with Features: 0.36661547947644396\n",
            "Added feature: stroke15, Mean Squared Error with Features: 0.3663961113256145\n",
            "Added feature: wudnrs02, Mean Squared Error with Features: 0.3661981892257823\n",
            "Added feature: ventrate, Mean Squared Error with Features: 0.365991995376316\n",
            "Added feature: needbr02, Mean Squared Error with Features: 0.3657953686177223\n",
            "Added feature: bathe25, Mean Squared Error with Features: 0.36560567594545024\n",
            "Added feature: premar1, Mean Squared Error with Features: 0.3654430815602259\n",
            "Added feature: weight, Mean Squared Error with Features: 0.36522939804600685\n",
            "Added feature: basq1, Mean Squared Error with Features: 0.3650718379589849\n",
            "Added feature: diuret1, Mean Squared Error with Features: 0.36492194059499183\n",
            "Added feature: hctzk1, Mean Squared Error with Features: 0.3643222893892805\n",
            "Added feature: aai, Mean Squared Error with Features: 0.3641711929980464\n",
            "Added feature: tfaweh02, Mean Squared Error with Features: 0.36404231404422593\n",
            "Added feature: stress15, Mean Squared Error with Features: 0.3639392753571381\n",
            "Added feature: stpbrt02, Mean Squared Error with Features: 0.36383493550178586\n",
            "Added feature: loudsn02, Mean Squared Error with Features: 0.3637302096952391\n",
            "Added feature: sleepy02, Mean Squared Error with Features: 0.36362967286934783\n",
            "Added feature: incar02, Mean Squared Error with Features: 0.3635146480884243\n",
            "Added feature: antsepmi, Mean Squared Error with Features: 0.3634243128312246\n",
            "Added feature: sympth1, Mean Squared Error with Features: 0.3633410425343056\n",
            "Added feature: sinus15, Mean Squared Error with Features: 0.36325643332733143\n",
            "Added feature: hb02, Mean Squared Error with Features: 0.3631686868228681\n",
            "Added feature: lydwn02, Mean Squared Error with Features: 0.3630891921532869\n",
            "Added feature: truposmi, Mean Squared Error with Features: 0.36299922048685623\n",
            "Added feature: lah, Mean Squared Error with Features: 0.3629261801490602\n",
            "Added feature: weight20, Mean Squared Error with Features: 0.3628483495390286\n",
            "Added feature: rawrp_s1, Mean Squared Error with Features: 0.362775130508654\n",
            "Added feature: down25, Mean Squared Error with Features: 0.36270490370948455\n",
            "Added feature: happy25, Mean Squared Error with Features: 0.36258132619131483\n",
            "Added feature: rawre_s1, Mean Squared Error with Features: 0.3624919905074913\n",
            "Added feature: armbp, Mean Squared Error with Features: 0.362420000537788\n",
            "Added feature: wu2em02, Mean Squared Error with Features: 0.3623477792691464\n",
            "Added feature: carful25, Mean Squared Error with Features: 0.36227679385135747\n",
            "Added feature: ntca1, Mean Squared Error with Features: 0.3622081097428834\n",
            "Added feature: mh_s1, Mean Squared Error with Features: 0.3621387183095634\n",
            "Added feature: soda15, Mean Squared Error with Features: 0.3620803574083707\n",
            "Added feature: shhs1_cf, Mean Squared Error with Features: 0.3620250388524869\n",
            "Added feature: othprbae, Mean Squared Error with Features: 0.36197712668866444\n",
            "Added feature: watv02, Mean Squared Error with Features: 0.3619345312703461\n",
            "Added feature: ethnicity, Mean Squared Error with Features: 0.3618893097293411\n",
            "Added feature: rp_s1, Mean Squared Error with Features: 0.3612199792601521\n",
            "Added feature: pgrcar02, Mean Squared Error with Features: 0.3607424933245144\n",
            "Added feature: vpbs, Mean Squared Error with Features: 0.3606880843658626\n",
            "Added feature: trig, Mean Squared Error with Features: 0.3606597422176938\n",
            "Added feature: genhth25, Mean Squared Error with Features: 0.3597103137086554\n",
            "Added feature: napsmn15, Mean Squared Error with Features: 0.35928619638419074\n",
            "Added feature: nodal, Mean Squared Error with Features: 0.35816625692608106\n",
            "Added feature: mcs_s1, Mean Squared Error with Features: 0.3577907118166602\n",
            "Added feature: race, Mean Squared Error with Features: 0.35714378462563706\n",
            "Added feature: hosnr02, Mean Squared Error with Features: 0.3567716628741425\n",
            "Added feature: ohga1, Mean Squared Error with Features: 0.3566368083494437\n",
            "Added feature: hip, Mean Squared Error with Features: 0.35661011831858974\n",
            "Added feature: twuwda02, Mean Squared Error with Features: 0.3565672590346762\n",
            "No significant improvement in MSE or no further significant feature found. Stopping forward selection.\n"
          ]
        }
      ],
      "source": [
        "from sklearn.linear_model import LinearRegression\n",
        "from sklearn.model_selection import train_test_split\n",
        "from sklearn.metrics import mean_squared_error\n",
        "\n",
        "forward_selection_features = []\n",
        "\n",
        "# Start with an arbitrarily large initial MSE\n",
        "previous_mse = float('inf')\n",
        "mse_change_threshold = 1e-5  # Adjust this threshold value based on the scale of your MSE\n",
        "\n",
        "while len(forward_selection_features) < len(x_imputed.columns):\n",
        "    remaining_features = list(set(x_imputed.columns) - set(forward_selection_features))\n",
        "    best_feature_mse = float('inf')\n",
        "    best_feature = None\n",
        "\n",
        "    for feature in remaining_features:\n",
        "        candidate_features = forward_selection_features.copy()\n",
        "        candidate_features.append(feature)\n",
        "\n",
        "        # Split the data into training and testing sets\n",
        "        X_train, X_test, y_train, y_test = train_test_split(x_imputed[candidate_features], y, test_size=0.2, random_state=42)\n",
        "\n",
        "        # Fit a model with the selected features\n",
        "        model = LinearRegression()\n",
        "        model.fit(X_train, y_train)\n",
        "\n",
        "        # Evaluate the model with the added feature\n",
        "        y_pred = model.predict(X_test)\n",
        "        mse = mean_squared_error(y_test, y_pred)\n",
        "\n",
        "        # Update the best feature if the current one is better (lower MSE)\n",
        "        if mse < best_feature_mse:\n",
        "            best_feature_mse = mse\n",
        "            best_feature = feature\n",
        "\n",
        "    # Break the loop if change in MSE is smaller than the threshold or if no significant decrease in MSE\n",
        "    if abs(best_feature_mse - previous_mse) < mse_change_threshold or best_feature is None:\n",
        "        print(\"No significant improvement in MSE or no further significant feature found. Stopping forward selection.\")\n",
        "        break\n",
        "\n",
        "    forward_selection_features.append(best_feature)\n",
        "    print(f\"Added feature: {best_feature}, Mean Squared Error with Features: {best_feature_mse}\")\n",
        "\n",
        "    # Update the previous MSE for the next iteration\n",
        "    previous_mse = best_feature_mse"
      ]
    },
    {
      "cell_type": "code",
      "execution_count": 71,
      "metadata": {
        "colab": {
          "base_uri": "https://localhost:8080/"
        },
        "id": "pPBPGD647nrV",
        "outputId": "48c480ab-dd2e-4fe0-9d4d-21a6dc3ca350"
      },
      "outputs": [
        {
          "data": {
            "text/plain": [
              "89"
            ]
          },
          "execution_count": 71,
          "metadata": {},
          "output_type": "execute_result"
        }
      ],
      "source": [
        "len(forward_selection_features)"
      ]
    },
    {
      "cell_type": "code",
      "execution_count": 72,
      "metadata": {
        "colab": {
          "base_uri": "https://localhost:8080/"
        },
        "id": "ete_8V0258_d",
        "outputId": "40b5fa9d-87cb-44ac-984f-e2b0771e1a43"
      },
      "outputs": [
        {
          "name": "stderr",
          "output_type": "stream",
          "text": [
            "C:\\Users\\Risto Trajanov\\AppData\\Local\\Temp\\ipykernel_54392\\3294433656.py:5: SettingWithCopyWarning: \n",
            "A value is trying to be set on a copy of a slice from a DataFrame.\n",
            "Try using .loc[row_indexer,col_indexer] = value instead\n",
            "\n",
            "See the caveats in the documentation: https://pandas.pydata.org/pandas-docs/stable/user_guide/indexing.html#returning-a-view-versus-a-copy\n",
            "  forward_selection_dataset['hf15'] = shhs1['hf15']\n"
          ]
        }
      ],
      "source": [
        "# Create a new dataset with only the features having non-zero mutual information\n",
        "forward_selection_dataset = x_imputed[forward_selection_features]\n",
        "\n",
        "# Add the 'ahi_c0h4a' column to the new dataset\n",
        "forward_selection_dataset['hf15'] = shhs1['hf15']"
      ]
    },
    {
      "cell_type": "code",
      "execution_count": 73,
      "metadata": {
        "id": "5hZWiK466CTT"
      },
      "outputs": [],
      "source": [
        "forward_selection_dataset.to_csv('../data/interim/feature_selection/forward_selection_hf15.csv', index=False)"
      ]
    },
    {
      "cell_type": "markdown",
      "metadata": {
        "id": "0Ek1uH2p4HM7"
      },
      "source": [
        "### Backward selection"
      ]
    },
    {
      "cell_type": "code",
      "execution_count": 74,
      "metadata": {
        "colab": {
          "base_uri": "https://localhost:8080/"
        },
        "id": "5RiBB9W54I5O",
        "outputId": "973a9105-032b-4efa-d4b7-623119d2bf4b"
      },
      "outputs": [
        {
          "name": "stdout",
          "output_type": "stream",
          "text": [
            "Removed feature: mh_s1, Mean Squared Error without Feature: 0.507610690093645\n",
            "Removed feature: rp_s1, Mean Squared Error without Feature: 0.4272055561900396\n",
            "Removed feature: anar31, Mean Squared Error without Feature: 0.42081042879676983\n",
            "Removed feature: prev_hx_mi, Mean Squared Error without Feature: 0.4174188426683368\n",
            "Removed feature: angina15, Mean Squared Error without Feature: 0.41481262118913637\n",
            "Removed feature: asthma15, Mean Squared Error without Feature: 0.4124365154472952\n",
            "Removed feature: othrcs15, Mean Squared Error without Feature: 0.41005198676848137\n",
            "Removed feature: pcs_s1, Mean Squared Error without Feature: 0.40776657207186606\n",
            "Removed feature: lvhst, Mean Squared Error without Feature: 0.40576594389744997\n",
            "Removed feature: rawbp_s1, Mean Squared Error without Feature: 0.4038182776261773\n",
            "Removed feature: nges02, Mean Squared Error without Feature: 0.40198607562183436\n",
            "Removed feature: apbs, Mean Squared Error without Feature: 0.40013911561110227\n",
            "Removed feature: beta1, Mean Squared Error without Feature: 0.3983533462288982\n",
            "Removed feature: ccbsr1, Mean Squared Error without Feature: 0.39690070471704164\n",
            "Removed feature: lvh3_3, Mean Squared Error without Feature: 0.39536491613059976\n",
            "Removed feature: avesmk15, Mean Squared Error without Feature: 0.39415075641898173\n",
            "Removed feature: mi2slp02, Mean Squared Error without Feature: 0.3930612859969942\n",
            "Removed feature: tfawem02, Mean Squared Error without Feature: 0.3920084570502118\n",
            "Removed feature: ohga1, Mean Squared Error without Feature: 0.3909799033525326\n",
            "Removed feature: date02, Mean Squared Error without Feature: 0.39002917346860494\n",
            "Removed feature: pdei1, Mean Squared Error without Feature: 0.3891525015927797\n",
            "Removed feature: niac1, Mean Squared Error without Feature: 0.38827947608560986\n",
            "Removed feature: asa15, Mean Squared Error without Feature: 0.387427078587459\n",
            "Removed feature: av1deg, Mean Squared Error without Feature: 0.38660695558972386\n",
            "Removed feature: cabg15, Mean Squared Error without Feature: 0.3857735457781742\n",
            "Removed feature: ccb1, Mean Squared Error without Feature: 0.3850764497572361\n",
            "Removed feature: wine15, Mean Squared Error without Feature: 0.3843283764412908\n",
            "Removed feature: beer15, Mean Squared Error without Feature: 0.38364073783316516\n",
            "Removed feature: climb125, Mean Squared Error without Feature: 0.3828683813522574\n"
          ]
        },
        {
          "ename": "KeyboardInterrupt",
          "evalue": "",
          "output_type": "error",
          "traceback": [
            "\u001b[1;31m---------------------------------------------------------------------------\u001b[0m",
            "\u001b[1;31mKeyboardInterrupt\u001b[0m                         Traceback (most recent call last)",
            "\u001b[1;32mg:\\Other computers\\My Computer\\Masters\\Rice\\Fall23\\DSCI 535\\BCM_CSA_F23\\notebooks\\2.0-feature_selection.ipynb Cell 68\u001b[0m line \u001b[0;36m2\n\u001b[0;32m     <a href='vscode-notebook-cell:/g%3A/Other%20computers/My%20Computer/Masters/Rice/Fall23/DSCI%20535/BCM_CSA_F23/notebooks/2.0-feature_selection.ipynb#Y156sZmlsZQ%3D%3D?line=22'>23</a>\u001b[0m \u001b[39m# Fit a model with the selected features\u001b[39;00m\n\u001b[0;32m     <a href='vscode-notebook-cell:/g%3A/Other%20computers/My%20Computer/Masters/Rice/Fall23/DSCI%20535/BCM_CSA_F23/notebooks/2.0-feature_selection.ipynb#Y156sZmlsZQ%3D%3D?line=23'>24</a>\u001b[0m model \u001b[39m=\u001b[39m LinearRegression()\n\u001b[1;32m---> <a href='vscode-notebook-cell:/g%3A/Other%20computers/My%20Computer/Masters/Rice/Fall23/DSCI%20535/BCM_CSA_F23/notebooks/2.0-feature_selection.ipynb#Y156sZmlsZQ%3D%3D?line=24'>25</a>\u001b[0m model\u001b[39m.\u001b[39;49mfit(X_train, y_train)\n\u001b[0;32m     <a href='vscode-notebook-cell:/g%3A/Other%20computers/My%20Computer/Masters/Rice/Fall23/DSCI%20535/BCM_CSA_F23/notebooks/2.0-feature_selection.ipynb#Y156sZmlsZQ%3D%3D?line=26'>27</a>\u001b[0m \u001b[39m# Evaluate the model without the current feature\u001b[39;00m\n\u001b[0;32m     <a href='vscode-notebook-cell:/g%3A/Other%20computers/My%20Computer/Masters/Rice/Fall23/DSCI%20535/BCM_CSA_F23/notebooks/2.0-feature_selection.ipynb#Y156sZmlsZQ%3D%3D?line=27'>28</a>\u001b[0m y_pred \u001b[39m=\u001b[39m model\u001b[39m.\u001b[39mpredict(X_test)\n",
            "File \u001b[1;32mc:\\Users\\Risto Trajanov\\anaconda3\\envs\\csa\\lib\\site-packages\\sklearn\\base.py:1151\u001b[0m, in \u001b[0;36m_fit_context.<locals>.decorator.<locals>.wrapper\u001b[1;34m(estimator, *args, **kwargs)\u001b[0m\n\u001b[0;32m   1144\u001b[0m     estimator\u001b[39m.\u001b[39m_validate_params()\n\u001b[0;32m   1146\u001b[0m \u001b[39mwith\u001b[39;00m config_context(\n\u001b[0;32m   1147\u001b[0m     skip_parameter_validation\u001b[39m=\u001b[39m(\n\u001b[0;32m   1148\u001b[0m         prefer_skip_nested_validation \u001b[39mor\u001b[39;00m global_skip_validation\n\u001b[0;32m   1149\u001b[0m     )\n\u001b[0;32m   1150\u001b[0m ):\n\u001b[1;32m-> 1151\u001b[0m     \u001b[39mreturn\u001b[39;00m fit_method(estimator, \u001b[39m*\u001b[39margs, \u001b[39m*\u001b[39m\u001b[39m*\u001b[39mkwargs)\n",
            "File \u001b[1;32mc:\\Users\\Risto Trajanov\\anaconda3\\envs\\csa\\lib\\site-packages\\sklearn\\linear_model\\_base.py:751\u001b[0m, in \u001b[0;36mLinearRegression.fit\u001b[1;34m(self, X, y, sample_weight)\u001b[0m\n\u001b[0;32m    749\u001b[0m         \u001b[39mself\u001b[39m\u001b[39m.\u001b[39mcoef_ \u001b[39m=\u001b[39m np\u001b[39m.\u001b[39mvstack([out[\u001b[39m0\u001b[39m] \u001b[39mfor\u001b[39;00m out \u001b[39min\u001b[39;00m outs])\n\u001b[0;32m    750\u001b[0m \u001b[39melse\u001b[39;00m:\n\u001b[1;32m--> 751\u001b[0m     \u001b[39mself\u001b[39m\u001b[39m.\u001b[39mcoef_, _, \u001b[39mself\u001b[39m\u001b[39m.\u001b[39mrank_, \u001b[39mself\u001b[39m\u001b[39m.\u001b[39msingular_ \u001b[39m=\u001b[39m linalg\u001b[39m.\u001b[39;49mlstsq(X, y)\n\u001b[0;32m    752\u001b[0m     \u001b[39mself\u001b[39m\u001b[39m.\u001b[39mcoef_ \u001b[39m=\u001b[39m \u001b[39mself\u001b[39m\u001b[39m.\u001b[39mcoef_\u001b[39m.\u001b[39mT\n\u001b[0;32m    754\u001b[0m \u001b[39mif\u001b[39;00m y\u001b[39m.\u001b[39mndim \u001b[39m==\u001b[39m \u001b[39m1\u001b[39m:\n",
            "File \u001b[1;32mc:\\Users\\Risto Trajanov\\anaconda3\\envs\\csa\\lib\\site-packages\\scipy\\linalg\\_basic.py:1282\u001b[0m, in \u001b[0;36mlstsq\u001b[1;34m(a, b, cond, overwrite_a, overwrite_b, check_finite, lapack_driver)\u001b[0m\n\u001b[0;32m   1280\u001b[0m \u001b[39mif\u001b[39;00m real_data:\n\u001b[0;32m   1281\u001b[0m     lwork, iwork \u001b[39m=\u001b[39m _compute_lwork(lapack_lwork, m, n, nrhs, cond)\n\u001b[1;32m-> 1282\u001b[0m     x, s, rank, info \u001b[39m=\u001b[39m lapack_func(a1, b1, lwork,\n\u001b[0;32m   1283\u001b[0m                                    iwork, cond, \u001b[39mFalse\u001b[39;00m, \u001b[39mFalse\u001b[39;00m)\n\u001b[0;32m   1284\u001b[0m \u001b[39melse\u001b[39;00m:  \u001b[39m# complex data\u001b[39;00m\n\u001b[0;32m   1285\u001b[0m     lwork, rwork, iwork \u001b[39m=\u001b[39m _compute_lwork(lapack_lwork, m, n,\n\u001b[0;32m   1286\u001b[0m                                          nrhs, cond)\n",
            "\u001b[1;31mKeyboardInterrupt\u001b[0m: "
          ]
        }
      ],
      "source": [
        "from sklearn.linear_model import LinearRegression\n",
        "from sklearn.model_selection import train_test_split\n",
        "from sklearn.metrics import mean_squared_error\n",
        "\n",
        "# Starting with all the features\n",
        "backward_selection_features = list(x_imputed.columns)\n",
        "\n",
        "# Start with an arbitrarily large initial MSE\n",
        "previous_mse = float('inf')\n",
        "mse_change_threshold = 1e-4  # Adjust this threshold value based on the scale of your MSE\n",
        "\n",
        "while len(backward_selection_features) > 0:\n",
        "    removed_feature_mse = float('inf')\n",
        "    feature_to_remove = None\n",
        "\n",
        "    for feature in backward_selection_features:\n",
        "        candidate_features = backward_selection_features.copy()\n",
        "        candidate_features.remove(feature)\n",
        "\n",
        "        # Split the data into training and testing sets\n",
        "        X_train, X_test, y_train, y_test = train_test_split(x_imputed[candidate_features], y, test_size=0.2, random_state=42)\n",
        "\n",
        "        # Fit a model with the selected features\n",
        "        model = LinearRegression()\n",
        "        model.fit(X_train, y_train)\n",
        "\n",
        "        # Evaluate the model without the current feature\n",
        "        y_pred = model.predict(X_test)\n",
        "        mse = mean_squared_error(y_test, y_pred)\n",
        "\n",
        "        # Update the best feature to remove if the current one is better (lower MSE)\n",
        "        if mse < removed_feature_mse:\n",
        "            removed_feature_mse = mse\n",
        "            feature_to_remove = feature\n",
        "\n",
        "    # Break the loop if change in MSE is smaller than the threshold or if removing a feature increases the MSE\n",
        "    if abs(removed_feature_mse - previous_mse) < mse_change_threshold or removed_feature_mse > previous_mse:\n",
        "        print(\"No significant improvement in MSE or removing any more features deteriorates the model. Stopping backward selection.\")\n",
        "        break\n",
        "\n",
        "    backward_selection_features.remove(feature_to_remove)\n",
        "    print(f\"Removed feature: {feature_to_remove}, Mean Squared Error without Feature: {removed_feature_mse}\")\n",
        "\n",
        "    # Update the previous MSE for the next iteration\n",
        "    previous_mse = removed_feature_mse"
      ]
    },
    {
      "cell_type": "code",
      "execution_count": null,
      "metadata": {
        "colab": {
          "base_uri": "https://localhost:8080/"
        },
        "id": "sNKP2ChN4OZj",
        "outputId": "46bb6906-e7f3-43e7-f5a9-02ab9a2b1072"
      },
      "outputs": [
        {
          "name": "stderr",
          "output_type": "stream",
          "text": [
            "<ipython-input-55-be33fb0c6a21>:5: SettingWithCopyWarning: \n",
            "A value is trying to be set on a copy of a slice from a DataFrame.\n",
            "Try using .loc[row_indexer,col_indexer] = value instead\n",
            "\n",
            "See the caveats in the documentation: https://pandas.pydata.org/pandas-docs/stable/user_guide/indexing.html#returning-a-view-versus-a-copy\n",
            "  backward_selection_dataset['hf15'] = shhs1['hf15']\n"
          ]
        }
      ],
      "source": [
        "# Create a new dataset with only the features having non-zero mutual information\n",
        "backward_selection_dataset = x_imputed[backward_selection_features]\n",
        "\n",
        "# Add the 'ahi_c0h4a' column to the new dataset\n",
        "backward_selection_dataset['hf15'] = shhs1['hf15']"
      ]
    },
    {
      "cell_type": "code",
      "execution_count": null,
      "metadata": {
        "colab": {
          "base_uri": "https://localhost:8080/"
        },
        "id": "0N7-7kjlhksB",
        "outputId": "cc6f44bc-fff0-4ec2-a53b-c0cad5559d31"
      },
      "outputs": [
        {
          "data": {
            "text/plain": [
              "209"
            ]
          },
          "execution_count": 57,
          "metadata": {},
          "output_type": "execute_result"
        }
      ],
      "source": [
        "len(backward_selection_features)"
      ]
    },
    {
      "cell_type": "code",
      "execution_count": null,
      "metadata": {
        "id": "XDWD0hGy4Yl4"
      },
      "outputs": [],
      "source": [
        "backward_selection_dataset.to_csv('../data/interim/feature_selection/backward_selection_hf15.csv', index=False)"
      ]
    }
  ],
  "metadata": {
    "colab": {
      "provenance": []
    },
    "kernelspec": {
      "display_name": "Python 3",
      "name": "python3"
    },
    "language_info": {
      "codemirror_mode": {
        "name": "ipython",
        "version": 3
      },
      "file_extension": ".py",
      "mimetype": "text/x-python",
      "name": "python",
      "nbconvert_exporter": "python",
      "pygments_lexer": "ipython3",
      "version": "3.9.18"
    }
  },
  "nbformat": 4,
  "nbformat_minor": 0
}

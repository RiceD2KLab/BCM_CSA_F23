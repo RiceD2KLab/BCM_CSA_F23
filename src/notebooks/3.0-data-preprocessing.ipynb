{
 "cells": [
  {
   "cell_type": "markdown",
   "metadata": {},
   "source": [
    "# Data Preprocessing"
   ]
  },
  {
   "cell_type": "markdown",
   "metadata": {},
   "source": [
    "In this notebook we preprocess the datasets that will be used for training the models for finding a new threshold for CSA diagnosis. We will use 50 different threholds indicator variables allong with the feature selection variables. We will try to predict if a patient had heart failure or not. The dataset then will yield the best results will be our new proposed threshold"
   ]
  },
  {
   "cell_type": "markdown",
   "metadata": {},
   "source": [
    "## Imports"
   ]
  },
  {
   "cell_type": "code",
   "execution_count": 4,
   "metadata": {},
   "outputs": [],
   "source": [
    "import pandas as pd\n",
    "import os\n",
    "import random\n",
    "import numpy as np\n",
    "\n",
    "random.seed(0)\n",
    "np.random.seed(0)\n",
    "\n",
    "pd.options.mode.chained_assignment = None  # default='warn'\n",
    "\n",
    "# user defined methods\n",
    "import sys\n",
    "sys.path.append('../utils')\n",
    "\n",
    "from preprocessing import subsets, write_ahi_to_csv, generate_subset_dataset"
   ]
  },
  {
   "cell_type": "code",
   "execution_count": 5,
   "metadata": {},
   "outputs": [],
   "source": [
    "feature_selection_folder = '../../data/interim/feature_selection/'"
   ]
  },
  {
   "cell_type": "code",
   "execution_count": 6,
   "metadata": {},
   "outputs": [],
   "source": [
    "feature_selection_datasets = os.listdir(feature_selection_folder)"
   ]
  },
  {
   "cell_type": "code",
   "execution_count": 7,
   "metadata": {},
   "outputs": [
    {
     "data": {
      "text/plain": [
       "['decision_tree_ahi_c0h4a.csv',\n",
       " 'random_forest_ahi_c0h4a.csv',\n",
       " 'random_forest_hf15.csv',\n",
       " 'decision_tree_hf15.csv',\n",
       " 'MRMR_10_hf15.csv',\n",
       " 'MRMR_20_hf15.csv',\n",
       " 'backward_selection_AIC_ahi_c0h4a.csv',\n",
       " 'backward_selection_AIC_hf15.csv',\n",
       " 'forward_selection_AIC_ahi_c0h4a.csv',\n",
       " 'forward_selection_AIC_hf15.csv',\n",
       " 'forward_selection_BIC_ahi_c0h4a.csv',\n",
       " 'forward_selection_BIC_hf15.csv',\n",
       " 'mutual_information_ahi_c0h4a.csv',\n",
       " 'mutual_information_hf15.csv']"
      ]
     },
     "execution_count": 7,
     "metadata": {},
     "output_type": "execute_result"
    }
   ],
   "source": [
    "feature_selection_datasets"
   ]
  },
  {
   "cell_type": "code",
   "execution_count": 5,
   "metadata": {},
   "outputs": [],
   "source": [
    "shhs1 = pd.read_csv('../../data/raw/shhs1-dataset-0.20.0.csv', encoding='cp1252', engine='python')"
   ]
  },
  {
   "cell_type": "code",
   "execution_count": 6,
   "metadata": {},
   "outputs": [],
   "source": [
    "shhs1 = shhs1[['nsrrid', 'ahi_c0h4', 'ahi_o0h4', 'ahi_a0h4']]"
   ]
  },
  {
   "cell_type": "code",
   "execution_count": 7,
   "metadata": {},
   "outputs": [
    {
     "data": {
      "text/plain": [
       "(5804, 4)"
      ]
     },
     "execution_count": 7,
     "metadata": {},
     "output_type": "execute_result"
    }
   ],
   "source": [
    "shhs1.shape"
   ]
  },
  {
   "cell_type": "code",
   "execution_count": 8,
   "metadata": {},
   "outputs": [],
   "source": [
    "processed_filepath = '../../data/processed/threshold/'\n",
    "os.makedirs(processed_filepath, exist_ok=True) "
   ]
  },
  {
   "cell_type": "markdown",
   "metadata": {},
   "source": [
    "## Preprocessing for Threshold Prediction"
   ]
  },
  {
   "cell_type": "code",
   "execution_count": 9,
   "metadata": {},
   "outputs": [
    {
     "name": "stdout",
     "output_type": "stream",
     "text": [
      "['backward_selection_AIC_hf15.csv', 'forward_selection_AIC_hf15.csv', 'MRMR_20_hf15.csv', 'random_forest_hf15.csv', 'MRMR_10_hf15.csv', 'forward_selection_BIC_hf15.csv', 'mutual_information_hf15.csv', 'decision_tree_hf15.csv']\n"
     ]
    }
   ],
   "source": [
    "print(list(filter(lambda dataset: 'hf15' in dataset, feature_selection_datasets)))"
   ]
  },
  {
   "cell_type": "code",
   "execution_count": 10,
   "metadata": {},
   "outputs": [],
   "source": [
    "# Make different datasets with a dummy variable for each threshold\n",
    "for dataset in list(filter(lambda dataset: 'hf15' in dataset, feature_selection_datasets)):\n",
    "    hf = pd.read_csv(feature_selection_folder + dataset)\n",
    "    \n",
    "    hf_ahi = pd.merge(hf, shhs1, on='nsrrid', how='inner')\n",
    "    hf_ahi = hf_ahi[hf_ahi['hf15'] != 8]\n",
    "    \n",
    "    # Calculates AHI given a range of thresholds and writes them to a CSV file\n",
    "    for threshold in range(1, 10):\n",
    "        for threshold_2 in range(1, 5):\n",
    "            write_ahi_to_csv(hf_ahi.copy(), threshold, threshold_2, processed_filepath, dataset)"
   ]
  },
  {
   "cell_type": "markdown",
   "metadata": {},
   "source": [
    "## Preprocessing for Cheap Feature Selection"
   ]
  },
  {
   "cell_type": "code",
   "execution_count": 8,
   "metadata": {},
   "outputs": [],
   "source": [
    "os.makedirs('../../data/processed/cheap_features', exist_ok=True)"
   ]
  },
  {
   "cell_type": "code",
   "execution_count": 9,
   "metadata": {},
   "outputs": [],
   "source": [
    "features_df = pd.read_csv('../../data/interim/shhs-data-dictionary-0.20.0-variables.csv')"
   ]
  },
  {
   "cell_type": "code",
   "execution_count": 10,
   "metadata": {},
   "outputs": [
    {
     "data": {
      "text/html": [
       "<div>\n",
       "<style scoped>\n",
       "    .dataframe tbody tr th:only-of-type {\n",
       "        vertical-align: middle;\n",
       "    }\n",
       "\n",
       "    .dataframe tbody tr th {\n",
       "        vertical-align: top;\n",
       "    }\n",
       "\n",
       "    .dataframe thead th {\n",
       "        text-align: right;\n",
       "    }\n",
       "</style>\n",
       "<table border=\"1\" class=\"dataframe\">\n",
       "  <thead>\n",
       "    <tr style=\"text-align: right;\">\n",
       "      <th></th>\n",
       "      <th>folder</th>\n",
       "      <th>id</th>\n",
       "      <th>display_name</th>\n",
       "      <th>description</th>\n",
       "      <th>type</th>\n",
       "      <th>units</th>\n",
       "      <th>domain</th>\n",
       "      <th>labels</th>\n",
       "      <th>calculation</th>\n",
       "      <th>commonly_used</th>\n",
       "      <th>forms</th>\n",
       "    </tr>\n",
       "  </thead>\n",
       "  <tbody>\n",
       "    <tr>\n",
       "      <th>0</th>\n",
       "      <td>Administrative/Interim</td>\n",
       "      <td>calldt</td>\n",
       "      <td>Interim Follow-up: Days from index date to call</td>\n",
       "      <td>NaN</td>\n",
       "      <td>numeric</td>\n",
       "      <td>days from index date</td>\n",
       "      <td>NaN</td>\n",
       "      <td>interim_shhs</td>\n",
       "      <td>NaN</td>\n",
       "      <td>NaN</td>\n",
       "      <td>NaN</td>\n",
       "    </tr>\n",
       "    <tr>\n",
       "      <th>1</th>\n",
       "      <td>Administrative/Interim</td>\n",
       "      <td>cmplbp</td>\n",
       "      <td>Interim Follow-up: Completed blood pressure (BP)</td>\n",
       "      <td>NaN</td>\n",
       "      <td>choices</td>\n",
       "      <td>NaN</td>\n",
       "      <td>complete2</td>\n",
       "      <td>interim_shhs</td>\n",
       "      <td>NaN</td>\n",
       "      <td>NaN</td>\n",
       "      <td>NaN</td>\n",
       "    </tr>\n",
       "    <tr>\n",
       "      <th>2</th>\n",
       "      <td>Administrative/Interim</td>\n",
       "      <td>cmplcvd</td>\n",
       "      <td>Interim Follow-up: Completed cardiovascular di...</td>\n",
       "      <td>NaN</td>\n",
       "      <td>choices</td>\n",
       "      <td>NaN</td>\n",
       "      <td>complete4</td>\n",
       "      <td>interim_shhs</td>\n",
       "      <td>NaN</td>\n",
       "      <td>NaN</td>\n",
       "      <td>NaN</td>\n",
       "    </tr>\n",
       "  </tbody>\n",
       "</table>\n",
       "</div>"
      ],
      "text/plain": [
       "                   folder       id  \\\n",
       "0  Administrative/Interim   calldt   \n",
       "1  Administrative/Interim   cmplbp   \n",
       "2  Administrative/Interim  cmplcvd   \n",
       "\n",
       "                                        display_name description     type  \\\n",
       "0    Interim Follow-up: Days from index date to call         NaN  numeric   \n",
       "1   Interim Follow-up: Completed blood pressure (BP)         NaN  choices   \n",
       "2  Interim Follow-up: Completed cardiovascular di...         NaN  choices   \n",
       "\n",
       "                  units     domain        labels calculation commonly_used  \\\n",
       "0  days from index date        NaN  interim_shhs         NaN           NaN   \n",
       "1                   NaN  complete2  interim_shhs         NaN           NaN   \n",
       "2                   NaN  complete4  interim_shhs         NaN           NaN   \n",
       "\n",
       "  forms  \n",
       "0   NaN  \n",
       "1   NaN  \n",
       "2   NaN  "
      ]
     },
     "execution_count": 10,
     "metadata": {},
     "output_type": "execute_result"
    }
   ],
   "source": [
    "features_df.head(3)"
   ]
  },
  {
   "cell_type": "code",
   "execution_count": 11,
   "metadata": {},
   "outputs": [],
   "source": [
    "cheap_features = ['Anthropometry', 'Clinical Data', 'Demographics', 'General Health', 'Lifestyle and Behavioral Health', 'Medical History', 'Sleep Treatment']\n",
    "# cheap_features = ['Anthropometry', 'Demographics', 'General Health', 'Lifestyle and Behavioral Health', 'Medical History', 'Sleep Treatment']"
   ]
  },
  {
   "cell_type": "code",
   "execution_count": 12,
   "metadata": {},
   "outputs": [],
   "source": [
    "abbreviations = { 'Anthropometry': 'Ant',\n",
    "                'Clinical Data': 'Cli',\n",
    "                'Demographics': 'Dem',\n",
    "                'General Health': 'Gen',\n",
    "                'Lifestyle and Behavioral Health': 'Lif',\n",
    "                'Medical History': 'Med',\n",
    "                'Sleep Treatment': 'Tre'}"
   ]
  },
  {
   "cell_type": "code",
   "execution_count": 13,
   "metadata": {},
   "outputs": [],
   "source": [
    "# make subsets of cheap_features\n",
    "subsets = subsets(cheap_features)    \n",
    "subsets = [list(subset) for subset in subsets]"
   ]
  },
  {
   "cell_type": "code",
   "execution_count": 14,
   "metadata": {},
   "outputs": [],
   "source": [
    "shhs1 = pd.read_csv('../../data/raw/shhs1-dataset-0.20.0.csv', encoding='cp1252', engine='python')\n",
    "cahi = shhs1[['nsrrid', 'ahi_c0h4']]"
   ]
  },
  {
   "cell_type": "code",
   "execution_count": 15,
   "metadata": {},
   "outputs": [],
   "source": [
    "filepath = \"../../data/processed/cheap_features/\""
   ]
  },
  {
   "cell_type": "markdown",
   "metadata": {},
   "source": [
    "Creating all the possible subset of feature sets for the cheap feature selection."
   ]
  },
  {
   "cell_type": "code",
   "execution_count": 16,
   "metadata": {},
   "outputs": [],
   "source": [
    "# make a list of datasets with the given features\n",
    "datasets = []\n",
    "for subset in subsets:\n",
    "    generate_subset_dataset(features_df, subset, shhs1, cahi, abbreviations, filepath)"
   ]
  },
  {
   "cell_type": "code",
   "execution_count": null,
   "metadata": {},
   "outputs": [],
   "source": []
  }
 ],
 "metadata": {
  "kernelspec": {
   "display_name": "Python 3 (ipykernel)",
   "language": "python",
   "name": "python3"
  },
  "language_info": {
   "codemirror_mode": {
    "name": "ipython",
    "version": 3
   },
   "file_extension": ".py",
   "mimetype": "text/x-python",
   "name": "python",
   "nbconvert_exporter": "python",
   "pygments_lexer": "ipython3",
   "version": "3.9.18"
  }
 },
 "nbformat": 4,
 "nbformat_minor": 2
}

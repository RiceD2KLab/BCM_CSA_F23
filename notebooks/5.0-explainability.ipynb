{
 "cells": [
  {
   "cell_type": "code",
   "execution_count": 1,
   "metadata": {},
   "outputs": [],
   "source": [
    "import pandas as pd\n",
    "import pickle\n",
    "\n",
    "best_model = pickle.load(open('../models/cheap_features/ridge.pkl', 'rb'))"
   ]
  },
  {
   "cell_type": "code",
   "execution_count": 5,
   "metadata": {},
   "outputs": [],
   "source": [
    "import os\n",
    "\n",
    "folder_loc = '../data/processed/cheap_features/'\n",
    "datasets = os.listdir('../data/processed/cheap_features/')\n",
    "target = 'ahi_c0h4'"
   ]
  },
  {
   "cell_type": "code",
   "execution_count": 6,
   "metadata": {},
   "outputs": [],
   "source": [
    "dataset = 'Ant_Lif.csv'"
   ]
  },
  {
   "cell_type": "code",
   "execution_count": 8,
   "metadata": {},
   "outputs": [],
   "source": [
    "from utils import split_data\n",
    "\n",
    "df = pd.read_csv(folder_loc + dataset)\n",
    "\n",
    "features = df.columns.tolist()\n",
    "features.remove(target)\n",
    "\n",
    "# Split data\n",
    "X_train, X_test, y_train, y_test, X_val, y_val = split_data(df, features, target)"
   ]
  },
  {
   "cell_type": "code",
   "execution_count": 9,
   "metadata": {},
   "outputs": [
    {
     "data": {
      "text/plain": [
       "array([-7.07252642e-03,  4.07544146e-01,  1.07065944e-03, -7.54560639e-01,\n",
       "        3.12745711e-01,  1.17031563e+01, -1.32229182e+01,  2.57638108e-01,\n",
       "       -1.14689192e+01, -3.13236806e-01,  5.13401724e-02,  6.31674218e-02,\n",
       "       -2.18856807e-01,  1.27784972e-01, -1.11318217e-04])"
      ]
     },
     "execution_count": 9,
     "metadata": {},
     "output_type": "execute_result"
    }
   ],
   "source": [
    "best_model.coef_"
   ]
  },
  {
   "cell_type": "code",
   "execution_count": 10,
   "metadata": {},
   "outputs": [
    {
     "data": {
      "text/plain": [
       "array(['hip', 'neck20', 'coffee15', 'tea15', 'soda15', 'evsmok15',\n",
       "       'smknow15', 'asa15', 'smokstat_s1', 'bmi_s1', 'weight', 'waist',\n",
       "       'height', 'weight20', 'nsrrid'], dtype=object)"
      ]
     },
     "execution_count": 10,
     "metadata": {},
     "output_type": "execute_result"
    }
   ],
   "source": [
    "best_model.feature_names_in_"
   ]
  },
  {
   "cell_type": "code",
   "execution_count": 13,
   "metadata": {},
   "outputs": [
    {
     "name": "stderr",
     "output_type": "stream",
     "text": [
      "PermutationExplainer explainer: 3250it [03:26, 15.71it/s]                          \n"
     ]
    }
   ],
   "source": [
    "# compute the SHAP values for the linear model\n",
    "import shap\n",
    "explainer = shap.Explainer(best_model.predict, X_train)\n",
    "shap_values = explainer(X_train)"
   ]
  },
  {
   "cell_type": "code",
   "execution_count": 14,
   "metadata": {},
   "outputs": [
    {
     "ename": "NameError",
     "evalue": "name 'sample_ind' is not defined",
     "output_type": "error",
     "traceback": [
      "\u001b[1;31m---------------------------------------------------------------------------\u001b[0m",
      "\u001b[1;31mNameError\u001b[0m                                 Traceback (most recent call last)",
      "\u001b[1;32mg:\\Other computers\\My Computer\\Masters\\Rice\\Fall23\\DSCI 535\\BCM_CSA_F23\\notebooks\\5.0-explainability.ipynb Cell 8\u001b[0m line \u001b[0;36m1\n\u001b[1;32m----> <a href='vscode-notebook-cell:/g%3A/Other%20computers/My%20Computer/Masters/Rice/Fall23/DSCI%20535/BCM_CSA_F23/notebooks/5.0-explainability.ipynb#X10sZmlsZQ%3D%3D?line=0'>1</a>\u001b[0m shap\u001b[39m.\u001b[39mplots\u001b[39m.\u001b[39mwaterfall(shap_values[sample_ind], max_display\u001b[39m=\u001b[39m\u001b[39m14\u001b[39m)\n",
      "\u001b[1;31mNameError\u001b[0m: name 'sample_ind' is not defined"
     ]
    }
   ],
   "source": [
    "shap.plots.waterfall(shap_values[sample_ind], max_display=14)"
   ]
  },
  {
   "cell_type": "code",
   "execution_count": null,
   "metadata": {},
   "outputs": [],
   "source": []
  }
 ],
 "metadata": {
  "kernelspec": {
   "display_name": "csa",
   "language": "python",
   "name": "python3"
  },
  "language_info": {
   "codemirror_mode": {
    "name": "ipython",
    "version": 3
   },
   "file_extension": ".py",
   "mimetype": "text/x-python",
   "name": "python",
   "nbconvert_exporter": "python",
   "pygments_lexer": "ipython3",
   "version": "3.9.18"
  }
 },
 "nbformat": 4,
 "nbformat_minor": 2
}

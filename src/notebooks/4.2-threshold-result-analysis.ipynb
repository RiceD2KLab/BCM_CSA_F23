{
 "cells": [
  {
   "cell_type": "markdown",
   "metadata": {},
   "source": [
    "# Threshold Analysis"
   ]
  },
  {
   "cell_type": "code",
   "execution_count": 1,
   "metadata": {},
   "outputs": [],
   "source": [
    "import os\n",
    "\n",
    "log_folders = os.listdir('../../results/threshold/2023-10-19/')\n"
   ]
  },
  {
   "cell_type": "code",
   "execution_count": 2,
   "metadata": {},
   "outputs": [],
   "source": [
    "# Sample log folder\n",
    "# [2023-10-19 09:50:30,844][__main__][INFO] - Data: Decision Tree Feature Selection Dataset, Model: random_forest, Target: hf15\n",
    "# [2023-10-19 09:50:30,958][__main__][INFO] - Model already trained\n",
    "# [2023-10-19 09:50:31,098][__main__][INFO] - F1 Validation score weighted: 0.9960578118524658\n",
    "# [2023-10-19 09:50:31,200][__main__][INFO] - F1 Test score weighted: 0.9966257589337173\n",
    "# [2023-10-19 09:50:31,301][__main__][INFO] - Confusion matrix: [[1627    3]\n",
    "#  [   8 1622]]\n",
    "\n",
    "# extract the best configuration that has the lowest false negative rate\n",
    "\n",
    "import re\n",
    "import pandas as pd\n",
    "import numpy as np\n",
    "\n",
    "def extract_log(log_file):\n",
    "    with open(log_file, 'r') as f:\n",
    "        lines = f.readlines()\n",
    "        for i, line in enumerate(lines):\n",
    "            line = ' '.join(line.split('[INFO]')[1:])\n",
    "            if 'F1 Test score weighted' in line:\n",
    "                f1_test = float(re.findall(r'\\d+\\.\\d+', line)[0])\n",
    "            if 'F1 Validation score weighted' in line:\n",
    "                f1_val = float(re.findall(r'\\d+\\.\\d+', line)[0])\n",
    "            if 'Confusion matrix' in line:\n",
    "                cm = re.findall(r'\\d+', line + lines[i+1])\n",
    "                # print(cm)\n",
    "                cm = np.array(cm).reshape(2,2).astype(int)\n",
    "    return f1_test, f1_val, cm"
   ]
  },
  {
   "cell_type": "code",
   "execution_count": 3,
   "metadata": {},
   "outputs": [],
   "source": [
    "def extract_info_folder(folder):\n",
    "    settings = folder.split(',')\n",
    "    dataset = settings[0].split('=')[1].strip()\n",
    "    model = settings[1].split('=')[1].strip()\n",
    "    target = settings[2].split('=')[1].strip()\n",
    "    threshold_1 = settings[3].split('=')[1].strip().split('_')[1]\n",
    "    threshold_2 = settings[4].split('=')[1].strip().split('_')[1]\n",
    "\n",
    "    # print everything in new line and left align\n",
    "    print(f'Dataset: {dataset}')\n",
    "    print(f'Model: {model}')\n",
    "    print(f'Target: {target}')\n",
    "    print(f'Threshold CAHI > {threshold_1}')\n",
    "    print(f'Threshold CAHI > OAHI * 1/{threshold_2}')\n"
   ]
  },
  {
   "cell_type": "code",
   "execution_count": 5,
   "metadata": {},
   "outputs": [],
   "source": [
    "best_false_negative = 1000\n",
    "for folder in log_folders:\n",
    "    f1_test, f1_val, cm = extract_log('../../results/threshold/2023-10-19/' + folder + '/find_threshold.log')\n",
    "    # find the lowest false negative rate\n",
    "    false_negative = cm[0][1]\n",
    "    if false_negative < best_false_negative:\n",
    "        best_false_negative = false_negative\n",
    "        best_folder = folder\n",
    "        best_cm = cm\n",
    "        best_f1_test = f1_test\n",
    "        best_f1_val = f1_val"
   ]
  },
  {
   "cell_type": "code",
   "execution_count": 7,
   "metadata": {},
   "outputs": [
    {
     "name": "stdout",
     "output_type": "stream",
     "text": [
      "Dataset: feature_selection_dt\n",
      "Model: decision_tree\n",
      "Target: hf15\n",
      "Threshold CAHI > 4\n",
      "Threshold CAHI > OAHI * 1/1\n"
     ]
    }
   ],
   "source": [
    "extract_info_folder(best_folder)"
   ]
  }
 ],
 "metadata": {
  "kernelspec": {
   "display_name": "csa",
   "language": "python",
   "name": "python3"
  },
  "language_info": {
   "codemirror_mode": {
    "name": "ipython",
    "version": 3
   },
   "file_extension": ".py",
   "mimetype": "text/x-python",
   "name": "python",
   "nbconvert_exporter": "python",
   "pygments_lexer": "ipython3",
   "version": "3.9.6"
  }
 },
 "nbformat": 4,
 "nbformat_minor": 2
}

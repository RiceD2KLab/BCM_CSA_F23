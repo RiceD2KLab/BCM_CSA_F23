{
  "nbformat": 4,
  "nbformat_minor": 0,
  "metadata": {
    "colab": {
      "provenance": []
    },
    "kernelspec": {
      "name": "python3",
      "display_name": "Python 3"
    },
    "language_info": {
      "name": "python"
    }
  },
  "cells": [
    {
      "cell_type": "code",
      "source": [
        "#import modules\n",
        "import pandas as pd\n",
        "import numpy as np\n",
        "from sklearn.linear_model import Lasso\n",
        "from sklearn.model_selection import train_test_split\n",
        "from sklearn.metrics import mean_squared_error\n",
        "from sklearn.linear_model import LassoCV\n",
        "from sklearn.impute import KNNImputer\n",
        "from sklearn.preprocessing import OneHotEncoder\n",
        "from sklearn.tree import DecisionTreeRegressor\n",
        "from sklearn.feature_selection import mutual_info_regression\n",
        "from sklearn.ensemble import RandomForestRegressor\n",
        "from sklearn.preprocessing import StandardScaler\n",
        "from sklearn.svm import SVC\n",
        "from sklearn.metrics import mean_squared_error"
      ],
      "metadata": {
        "id": "d4gzerKEO8fL"
      },
      "execution_count": 2,
      "outputs": []
    },
    {
      "cell_type": "markdown",
      "source": [
        "upload 'shhs1-dataset-0.20.0 (1).csv' and 'shhs-data-dictionary-0.20.0-variables.csv'"
      ],
      "metadata": {
        "id": "qCvU9-SzCZ9t"
      }
    },
    {
      "cell_type": "code",
      "source": [
        "#read Sleep Heart Health Study Dataset\n",
        "\n",
        "shhs1 = pd.read_csv('/shhs1-dataset-0.20.0 (1).csv', error_bad_lines=False)\n",
        "#read Sleep Heart Health Study Dictionary\n",
        "var_dict = pd.read_csv('/shhs-data-dictionary-0.20.0-variables.csv')"
      ],
      "metadata": {
        "colab": {
          "base_uri": "https://localhost:8080/"
        },
        "id": "z0FviMLTC7Rg",
        "outputId": "0fe7e554-9a13-487b-fb6e-dac9bc664ffc"
      },
      "execution_count": 4,
      "outputs": [
        {
          "output_type": "stream",
          "name": "stderr",
          "text": [
            "<ipython-input-4-870f2d3f43b7>:3: FutureWarning: The error_bad_lines argument has been deprecated and will be removed in a future version. Use on_bad_lines in the future.\n",
            "\n",
            "\n",
            "  shhs1 = pd.read_csv('/shhs1-dataset-0.20.0 (1).csv', error_bad_lines=False)\n",
            "<ipython-input-4-870f2d3f43b7>:3: DtypeWarning: Columns (1214) have mixed types. Specify dtype option on import or set low_memory=False.\n",
            "  shhs1 = pd.read_csv('/shhs1-dataset-0.20.0 (1).csv', error_bad_lines=False)\n"
          ]
        }
      ]
    },
    {
      "cell_type": "code",
      "source": [
        "#find the shape of shhs1 - 5804 rows, 1271 columns\n",
        "shhs1.shape"
      ],
      "metadata": {
        "colab": {
          "base_uri": "https://localhost:8080/"
        },
        "id": "VAdnUVhqVlFL",
        "outputId": "dd17c258-f2fa-4f03-f2b4-cbfe26d42df7"
      },
      "execution_count": 5,
      "outputs": [
        {
          "output_type": "execute_result",
          "data": {
            "text/plain": [
              "(5804, 1271)"
            ]
          },
          "metadata": {},
          "execution_count": 5
        }
      ]
    },
    {
      "cell_type": "code",
      "source": [
        "#find the shape of var_dict - 1896 rows, 11 columns\n",
        "var_dict.shape"
      ],
      "metadata": {
        "colab": {
          "base_uri": "https://localhost:8080/"
        },
        "id": "IdBTHXTECYLa",
        "outputId": "2e5724f0-f374-43f9-f6ea-d91b29fa9aba"
      },
      "execution_count": 6,
      "outputs": [
        {
          "output_type": "execute_result",
          "data": {
            "text/plain": [
              "(1896, 11)"
            ]
          },
          "metadata": {},
          "execution_count": 6
        }
      ]
    },
    {
      "cell_type": "markdown",
      "source": [
        "# Data Processing"
      ],
      "metadata": {
        "id": "KssRAm0uWEYm"
      }
    },
    {
      "cell_type": "code",
      "source": [
        "# remove sleep monitoring columns from independent variables (unattinable for predicting)\n",
        "sleep_monitoring_col = var_dict[var_dict['folder'].str.contains(r'sleep monitoring', case=False, na=False)]['id']"
      ],
      "metadata": {
        "id": "-99Mz7qVClSt"
      },
      "execution_count": 7,
      "outputs": []
    },
    {
      "cell_type": "code",
      "source": [
        "sleep_monitoring_col"
      ],
      "metadata": {
        "colab": {
          "base_uri": "https://localhost:8080/"
        },
        "id": "aQ5CRNQDER9E",
        "outputId": "c2f56baf-f3dc-4283-e03a-ddb8c8ef3e70"
      },
      "execution_count": 8,
      "outputs": [
        {
          "output_type": "execute_result",
          "data": {
            "text/plain": [
              "633        ahiov50\n",
              "634     headbox_id\n",
              "635        hrov150\n",
              "636        hrund30\n",
              "637     monitor_id\n",
              "           ...    \n",
              "1721      timest1p\n",
              "1722       timest2\n",
              "1723      timest2p\n",
              "1724      timest34\n",
              "1725          waso\n",
              "Name: id, Length: 1093, dtype: object"
            ]
          },
          "metadata": {},
          "execution_count": 8
        }
      ]
    },
    {
      "cell_type": "code",
      "source": [
        "# drop target variables, pptidr (has numerical and categorical values in one column), and sleep monitoring columns in independent variable\n",
        "x = shhs1.drop(columns=['ahi_c0h3a', 'pptidr'])\n",
        "for col in sleep_monitoring_col:\n",
        "    if col in x.columns:\n",
        "        x = x.drop(columns=col)\n",
        "\n",
        "y = shhs1['ahi_c0h3a']"
      ],
      "metadata": {
        "id": "Say15UbMZt8d"
      },
      "execution_count": 9,
      "outputs": []
    },
    {
      "cell_type": "code",
      "source": [
        "x"
      ],
      "metadata": {
        "colab": {
          "base_uri": "https://localhost:8080/",
          "height": 444
        },
        "id": "hCeqjn03MOXY",
        "outputId": "212b7e7f-7555-47e7-c875-d36cd22ed7f8"
      },
      "execution_count": 10,
      "outputs": [
        {
          "output_type": "execute_result",
          "data": {
            "text/plain": [
              "      nsrrid  pptid  ecgdate  lvh3_1  lvh3_3  st4_1_3  st5_1_3  lvhst  mob1  \\\n",
              "0     200001      1      NaN     NaN     NaN      NaN      NaN    NaN   NaN   \n",
              "1     200002      2      NaN     NaN     NaN      NaN      NaN    NaN   NaN   \n",
              "2     200003      3      NaN     NaN     NaN      NaN      NaN    NaN   NaN   \n",
              "3     200004      4      NaN     NaN     NaN      NaN      NaN    NaN   NaN   \n",
              "4     200005      5      NaN     NaN     NaN      NaN      NaN    NaN   NaN   \n",
              "...      ...    ...      ...     ...     ...      ...      ...    ...   ...   \n",
              "5799  205800   5835   -854.0     0.0     0.0      0.0      0.0    0.0   0.0   \n",
              "5800  205801   5836   -755.0     0.0     0.0      0.0      0.0    0.0   0.0   \n",
              "5801  205802   5837   -768.0     0.0     0.0      0.0      0.0    0.0   0.0   \n",
              "5802  205803   5838   -755.0     0.0     0.0      0.0      0.0    0.0   0.0   \n",
              "5803  205804   5839   -713.0     0.0     0.0      0.0      0.0    0.0   0.0   \n",
              "\n",
              "      part2deg  ...  educat  date02  date25  weight  waist  height  weight20  \\\n",
              "0          NaN  ...     3.0   -48.0     0.0    65.0   86.0   178.0      69.0   \n",
              "1          NaN  ...     2.0  -111.0   -37.0    93.0  107.0   168.0      93.0   \n",
              "2          NaN  ...     3.0    -7.0     0.0    51.0   82.0   145.0      50.7   \n",
              "3          NaN  ...     3.0   -24.0     0.0    64.0   85.0   180.0      65.4   \n",
              "4          NaN  ...     2.0   -89.0   -33.0    56.0   76.0   155.0      56.0   \n",
              "...        ...  ...     ...     ...     ...     ...    ...     ...       ...   \n",
              "5799       0.0  ...     2.0  -168.0     1.0    70.5   99.0   166.0      70.8   \n",
              "5800       0.0  ...     3.0   -95.0     1.0    83.6   99.0   176.0      82.8   \n",
              "5801       0.0  ...     4.0   -83.0     1.0    75.0   91.0   175.0      74.2   \n",
              "5802       0.0  ...     2.0   -89.0     0.0    76.8   93.0   176.0      78.6   \n",
              "5803       0.0  ...     2.0   -77.0     1.0   112.7  112.0   186.0     117.4   \n",
              "\n",
              "      lang15  age_category_s1  visitnumber  \n",
              "0        1.0                7            1  \n",
              "1        NaN                9            1  \n",
              "2        1.0                9            1  \n",
              "3        1.0                6            1  \n",
              "4        NaN                8            1  \n",
              "...      ...              ...          ...  \n",
              "5799     1.0                8            1  \n",
              "5800     1.0                6            1  \n",
              "5801     1.0                7            1  \n",
              "5802     1.0                6            1  \n",
              "5803     1.0                6            1  \n",
              "\n",
              "[5804 rows x 293 columns]"
            ],
            "text/html": [
              "\n",
              "  <div id=\"df-5983bbe4-8a1a-4de3-a60a-364fe7527450\" class=\"colab-df-container\">\n",
              "    <div>\n",
              "<style scoped>\n",
              "    .dataframe tbody tr th:only-of-type {\n",
              "        vertical-align: middle;\n",
              "    }\n",
              "\n",
              "    .dataframe tbody tr th {\n",
              "        vertical-align: top;\n",
              "    }\n",
              "\n",
              "    .dataframe thead th {\n",
              "        text-align: right;\n",
              "    }\n",
              "</style>\n",
              "<table border=\"1\" class=\"dataframe\">\n",
              "  <thead>\n",
              "    <tr style=\"text-align: right;\">\n",
              "      <th></th>\n",
              "      <th>nsrrid</th>\n",
              "      <th>pptid</th>\n",
              "      <th>ecgdate</th>\n",
              "      <th>lvh3_1</th>\n",
              "      <th>lvh3_3</th>\n",
              "      <th>st4_1_3</th>\n",
              "      <th>st5_1_3</th>\n",
              "      <th>lvhst</th>\n",
              "      <th>mob1</th>\n",
              "      <th>part2deg</th>\n",
              "      <th>...</th>\n",
              "      <th>educat</th>\n",
              "      <th>date02</th>\n",
              "      <th>date25</th>\n",
              "      <th>weight</th>\n",
              "      <th>waist</th>\n",
              "      <th>height</th>\n",
              "      <th>weight20</th>\n",
              "      <th>lang15</th>\n",
              "      <th>age_category_s1</th>\n",
              "      <th>visitnumber</th>\n",
              "    </tr>\n",
              "  </thead>\n",
              "  <tbody>\n",
              "    <tr>\n",
              "      <th>0</th>\n",
              "      <td>200001</td>\n",
              "      <td>1</td>\n",
              "      <td>NaN</td>\n",
              "      <td>NaN</td>\n",
              "      <td>NaN</td>\n",
              "      <td>NaN</td>\n",
              "      <td>NaN</td>\n",
              "      <td>NaN</td>\n",
              "      <td>NaN</td>\n",
              "      <td>NaN</td>\n",
              "      <td>...</td>\n",
              "      <td>3.0</td>\n",
              "      <td>-48.0</td>\n",
              "      <td>0.0</td>\n",
              "      <td>65.0</td>\n",
              "      <td>86.0</td>\n",
              "      <td>178.0</td>\n",
              "      <td>69.0</td>\n",
              "      <td>1.0</td>\n",
              "      <td>7</td>\n",
              "      <td>1</td>\n",
              "    </tr>\n",
              "    <tr>\n",
              "      <th>1</th>\n",
              "      <td>200002</td>\n",
              "      <td>2</td>\n",
              "      <td>NaN</td>\n",
              "      <td>NaN</td>\n",
              "      <td>NaN</td>\n",
              "      <td>NaN</td>\n",
              "      <td>NaN</td>\n",
              "      <td>NaN</td>\n",
              "      <td>NaN</td>\n",
              "      <td>NaN</td>\n",
              "      <td>...</td>\n",
              "      <td>2.0</td>\n",
              "      <td>-111.0</td>\n",
              "      <td>-37.0</td>\n",
              "      <td>93.0</td>\n",
              "      <td>107.0</td>\n",
              "      <td>168.0</td>\n",
              "      <td>93.0</td>\n",
              "      <td>NaN</td>\n",
              "      <td>9</td>\n",
              "      <td>1</td>\n",
              "    </tr>\n",
              "    <tr>\n",
              "      <th>2</th>\n",
              "      <td>200003</td>\n",
              "      <td>3</td>\n",
              "      <td>NaN</td>\n",
              "      <td>NaN</td>\n",
              "      <td>NaN</td>\n",
              "      <td>NaN</td>\n",
              "      <td>NaN</td>\n",
              "      <td>NaN</td>\n",
              "      <td>NaN</td>\n",
              "      <td>NaN</td>\n",
              "      <td>...</td>\n",
              "      <td>3.0</td>\n",
              "      <td>-7.0</td>\n",
              "      <td>0.0</td>\n",
              "      <td>51.0</td>\n",
              "      <td>82.0</td>\n",
              "      <td>145.0</td>\n",
              "      <td>50.7</td>\n",
              "      <td>1.0</td>\n",
              "      <td>9</td>\n",
              "      <td>1</td>\n",
              "    </tr>\n",
              "    <tr>\n",
              "      <th>3</th>\n",
              "      <td>200004</td>\n",
              "      <td>4</td>\n",
              "      <td>NaN</td>\n",
              "      <td>NaN</td>\n",
              "      <td>NaN</td>\n",
              "      <td>NaN</td>\n",
              "      <td>NaN</td>\n",
              "      <td>NaN</td>\n",
              "      <td>NaN</td>\n",
              "      <td>NaN</td>\n",
              "      <td>...</td>\n",
              "      <td>3.0</td>\n",
              "      <td>-24.0</td>\n",
              "      <td>0.0</td>\n",
              "      <td>64.0</td>\n",
              "      <td>85.0</td>\n",
              "      <td>180.0</td>\n",
              "      <td>65.4</td>\n",
              "      <td>1.0</td>\n",
              "      <td>6</td>\n",
              "      <td>1</td>\n",
              "    </tr>\n",
              "    <tr>\n",
              "      <th>4</th>\n",
              "      <td>200005</td>\n",
              "      <td>5</td>\n",
              "      <td>NaN</td>\n",
              "      <td>NaN</td>\n",
              "      <td>NaN</td>\n",
              "      <td>NaN</td>\n",
              "      <td>NaN</td>\n",
              "      <td>NaN</td>\n",
              "      <td>NaN</td>\n",
              "      <td>NaN</td>\n",
              "      <td>...</td>\n",
              "      <td>2.0</td>\n",
              "      <td>-89.0</td>\n",
              "      <td>-33.0</td>\n",
              "      <td>56.0</td>\n",
              "      <td>76.0</td>\n",
              "      <td>155.0</td>\n",
              "      <td>56.0</td>\n",
              "      <td>NaN</td>\n",
              "      <td>8</td>\n",
              "      <td>1</td>\n",
              "    </tr>\n",
              "    <tr>\n",
              "      <th>...</th>\n",
              "      <td>...</td>\n",
              "      <td>...</td>\n",
              "      <td>...</td>\n",
              "      <td>...</td>\n",
              "      <td>...</td>\n",
              "      <td>...</td>\n",
              "      <td>...</td>\n",
              "      <td>...</td>\n",
              "      <td>...</td>\n",
              "      <td>...</td>\n",
              "      <td>...</td>\n",
              "      <td>...</td>\n",
              "      <td>...</td>\n",
              "      <td>...</td>\n",
              "      <td>...</td>\n",
              "      <td>...</td>\n",
              "      <td>...</td>\n",
              "      <td>...</td>\n",
              "      <td>...</td>\n",
              "      <td>...</td>\n",
              "      <td>...</td>\n",
              "    </tr>\n",
              "    <tr>\n",
              "      <th>5799</th>\n",
              "      <td>205800</td>\n",
              "      <td>5835</td>\n",
              "      <td>-854.0</td>\n",
              "      <td>0.0</td>\n",
              "      <td>0.0</td>\n",
              "      <td>0.0</td>\n",
              "      <td>0.0</td>\n",
              "      <td>0.0</td>\n",
              "      <td>0.0</td>\n",
              "      <td>0.0</td>\n",
              "      <td>...</td>\n",
              "      <td>2.0</td>\n",
              "      <td>-168.0</td>\n",
              "      <td>1.0</td>\n",
              "      <td>70.5</td>\n",
              "      <td>99.0</td>\n",
              "      <td>166.0</td>\n",
              "      <td>70.8</td>\n",
              "      <td>1.0</td>\n",
              "      <td>8</td>\n",
              "      <td>1</td>\n",
              "    </tr>\n",
              "    <tr>\n",
              "      <th>5800</th>\n",
              "      <td>205801</td>\n",
              "      <td>5836</td>\n",
              "      <td>-755.0</td>\n",
              "      <td>0.0</td>\n",
              "      <td>0.0</td>\n",
              "      <td>0.0</td>\n",
              "      <td>0.0</td>\n",
              "      <td>0.0</td>\n",
              "      <td>0.0</td>\n",
              "      <td>0.0</td>\n",
              "      <td>...</td>\n",
              "      <td>3.0</td>\n",
              "      <td>-95.0</td>\n",
              "      <td>1.0</td>\n",
              "      <td>83.6</td>\n",
              "      <td>99.0</td>\n",
              "      <td>176.0</td>\n",
              "      <td>82.8</td>\n",
              "      <td>1.0</td>\n",
              "      <td>6</td>\n",
              "      <td>1</td>\n",
              "    </tr>\n",
              "    <tr>\n",
              "      <th>5801</th>\n",
              "      <td>205802</td>\n",
              "      <td>5837</td>\n",
              "      <td>-768.0</td>\n",
              "      <td>0.0</td>\n",
              "      <td>0.0</td>\n",
              "      <td>0.0</td>\n",
              "      <td>0.0</td>\n",
              "      <td>0.0</td>\n",
              "      <td>0.0</td>\n",
              "      <td>0.0</td>\n",
              "      <td>...</td>\n",
              "      <td>4.0</td>\n",
              "      <td>-83.0</td>\n",
              "      <td>1.0</td>\n",
              "      <td>75.0</td>\n",
              "      <td>91.0</td>\n",
              "      <td>175.0</td>\n",
              "      <td>74.2</td>\n",
              "      <td>1.0</td>\n",
              "      <td>7</td>\n",
              "      <td>1</td>\n",
              "    </tr>\n",
              "    <tr>\n",
              "      <th>5802</th>\n",
              "      <td>205803</td>\n",
              "      <td>5838</td>\n",
              "      <td>-755.0</td>\n",
              "      <td>0.0</td>\n",
              "      <td>0.0</td>\n",
              "      <td>0.0</td>\n",
              "      <td>0.0</td>\n",
              "      <td>0.0</td>\n",
              "      <td>0.0</td>\n",
              "      <td>0.0</td>\n",
              "      <td>...</td>\n",
              "      <td>2.0</td>\n",
              "      <td>-89.0</td>\n",
              "      <td>0.0</td>\n",
              "      <td>76.8</td>\n",
              "      <td>93.0</td>\n",
              "      <td>176.0</td>\n",
              "      <td>78.6</td>\n",
              "      <td>1.0</td>\n",
              "      <td>6</td>\n",
              "      <td>1</td>\n",
              "    </tr>\n",
              "    <tr>\n",
              "      <th>5803</th>\n",
              "      <td>205804</td>\n",
              "      <td>5839</td>\n",
              "      <td>-713.0</td>\n",
              "      <td>0.0</td>\n",
              "      <td>0.0</td>\n",
              "      <td>0.0</td>\n",
              "      <td>0.0</td>\n",
              "      <td>0.0</td>\n",
              "      <td>0.0</td>\n",
              "      <td>0.0</td>\n",
              "      <td>...</td>\n",
              "      <td>2.0</td>\n",
              "      <td>-77.0</td>\n",
              "      <td>1.0</td>\n",
              "      <td>112.7</td>\n",
              "      <td>112.0</td>\n",
              "      <td>186.0</td>\n",
              "      <td>117.4</td>\n",
              "      <td>1.0</td>\n",
              "      <td>6</td>\n",
              "      <td>1</td>\n",
              "    </tr>\n",
              "  </tbody>\n",
              "</table>\n",
              "<p>5804 rows × 293 columns</p>\n",
              "</div>\n",
              "    <div class=\"colab-df-buttons\">\n",
              "\n",
              "  <div class=\"colab-df-container\">\n",
              "    <button class=\"colab-df-convert\" onclick=\"convertToInteractive('df-5983bbe4-8a1a-4de3-a60a-364fe7527450')\"\n",
              "            title=\"Convert this dataframe to an interactive table.\"\n",
              "            style=\"display:none;\">\n",
              "\n",
              "  <svg xmlns=\"http://www.w3.org/2000/svg\" height=\"24px\" viewBox=\"0 -960 960 960\">\n",
              "    <path d=\"M120-120v-720h720v720H120Zm60-500h600v-160H180v160Zm220 220h160v-160H400v160Zm0 220h160v-160H400v160ZM180-400h160v-160H180v160Zm440 0h160v-160H620v160ZM180-180h160v-160H180v160Zm440 0h160v-160H620v160Z\"/>\n",
              "  </svg>\n",
              "    </button>\n",
              "\n",
              "  <style>\n",
              "    .colab-df-container {\n",
              "      display:flex;\n",
              "      gap: 12px;\n",
              "    }\n",
              "\n",
              "    .colab-df-convert {\n",
              "      background-color: #E8F0FE;\n",
              "      border: none;\n",
              "      border-radius: 50%;\n",
              "      cursor: pointer;\n",
              "      display: none;\n",
              "      fill: #1967D2;\n",
              "      height: 32px;\n",
              "      padding: 0 0 0 0;\n",
              "      width: 32px;\n",
              "    }\n",
              "\n",
              "    .colab-df-convert:hover {\n",
              "      background-color: #E2EBFA;\n",
              "      box-shadow: 0px 1px 2px rgba(60, 64, 67, 0.3), 0px 1px 3px 1px rgba(60, 64, 67, 0.15);\n",
              "      fill: #174EA6;\n",
              "    }\n",
              "\n",
              "    .colab-df-buttons div {\n",
              "      margin-bottom: 4px;\n",
              "    }\n",
              "\n",
              "    [theme=dark] .colab-df-convert {\n",
              "      background-color: #3B4455;\n",
              "      fill: #D2E3FC;\n",
              "    }\n",
              "\n",
              "    [theme=dark] .colab-df-convert:hover {\n",
              "      background-color: #434B5C;\n",
              "      box-shadow: 0px 1px 3px 1px rgba(0, 0, 0, 0.15);\n",
              "      filter: drop-shadow(0px 1px 2px rgba(0, 0, 0, 0.3));\n",
              "      fill: #FFFFFF;\n",
              "    }\n",
              "  </style>\n",
              "\n",
              "    <script>\n",
              "      const buttonEl =\n",
              "        document.querySelector('#df-5983bbe4-8a1a-4de3-a60a-364fe7527450 button.colab-df-convert');\n",
              "      buttonEl.style.display =\n",
              "        google.colab.kernel.accessAllowed ? 'block' : 'none';\n",
              "\n",
              "      async function convertToInteractive(key) {\n",
              "        const element = document.querySelector('#df-5983bbe4-8a1a-4de3-a60a-364fe7527450');\n",
              "        const dataTable =\n",
              "          await google.colab.kernel.invokeFunction('convertToInteractive',\n",
              "                                                    [key], {});\n",
              "        if (!dataTable) return;\n",
              "\n",
              "        const docLinkHtml = 'Like what you see? Visit the ' +\n",
              "          '<a target=\"_blank\" href=https://colab.research.google.com/notebooks/data_table.ipynb>data table notebook</a>'\n",
              "          + ' to learn more about interactive tables.';\n",
              "        element.innerHTML = '';\n",
              "        dataTable['output_type'] = 'display_data';\n",
              "        await google.colab.output.renderOutput(dataTable, element);\n",
              "        const docLink = document.createElement('div');\n",
              "        docLink.innerHTML = docLinkHtml;\n",
              "        element.appendChild(docLink);\n",
              "      }\n",
              "    </script>\n",
              "  </div>\n",
              "\n",
              "\n",
              "<div id=\"df-3e15f212-a667-4cb2-9495-8119015e7a57\">\n",
              "  <button class=\"colab-df-quickchart\" onclick=\"quickchart('df-3e15f212-a667-4cb2-9495-8119015e7a57')\"\n",
              "            title=\"Suggest charts.\"\n",
              "            style=\"display:none;\">\n",
              "\n",
              "<svg xmlns=\"http://www.w3.org/2000/svg\" height=\"24px\"viewBox=\"0 0 24 24\"\n",
              "     width=\"24px\">\n",
              "    <g>\n",
              "        <path d=\"M19 3H5c-1.1 0-2 .9-2 2v14c0 1.1.9 2 2 2h14c1.1 0 2-.9 2-2V5c0-1.1-.9-2-2-2zM9 17H7v-7h2v7zm4 0h-2V7h2v10zm4 0h-2v-4h2v4z\"/>\n",
              "    </g>\n",
              "</svg>\n",
              "  </button>\n",
              "\n",
              "<style>\n",
              "  .colab-df-quickchart {\n",
              "      --bg-color: #E8F0FE;\n",
              "      --fill-color: #1967D2;\n",
              "      --hover-bg-color: #E2EBFA;\n",
              "      --hover-fill-color: #174EA6;\n",
              "      --disabled-fill-color: #AAA;\n",
              "      --disabled-bg-color: #DDD;\n",
              "  }\n",
              "\n",
              "  [theme=dark] .colab-df-quickchart {\n",
              "      --bg-color: #3B4455;\n",
              "      --fill-color: #D2E3FC;\n",
              "      --hover-bg-color: #434B5C;\n",
              "      --hover-fill-color: #FFFFFF;\n",
              "      --disabled-bg-color: #3B4455;\n",
              "      --disabled-fill-color: #666;\n",
              "  }\n",
              "\n",
              "  .colab-df-quickchart {\n",
              "    background-color: var(--bg-color);\n",
              "    border: none;\n",
              "    border-radius: 50%;\n",
              "    cursor: pointer;\n",
              "    display: none;\n",
              "    fill: var(--fill-color);\n",
              "    height: 32px;\n",
              "    padding: 0;\n",
              "    width: 32px;\n",
              "  }\n",
              "\n",
              "  .colab-df-quickchart:hover {\n",
              "    background-color: var(--hover-bg-color);\n",
              "    box-shadow: 0 1px 2px rgba(60, 64, 67, 0.3), 0 1px 3px 1px rgba(60, 64, 67, 0.15);\n",
              "    fill: var(--button-hover-fill-color);\n",
              "  }\n",
              "\n",
              "  .colab-df-quickchart-complete:disabled,\n",
              "  .colab-df-quickchart-complete:disabled:hover {\n",
              "    background-color: var(--disabled-bg-color);\n",
              "    fill: var(--disabled-fill-color);\n",
              "    box-shadow: none;\n",
              "  }\n",
              "\n",
              "  .colab-df-spinner {\n",
              "    border: 2px solid var(--fill-color);\n",
              "    border-color: transparent;\n",
              "    border-bottom-color: var(--fill-color);\n",
              "    animation:\n",
              "      spin 1s steps(1) infinite;\n",
              "  }\n",
              "\n",
              "  @keyframes spin {\n",
              "    0% {\n",
              "      border-color: transparent;\n",
              "      border-bottom-color: var(--fill-color);\n",
              "      border-left-color: var(--fill-color);\n",
              "    }\n",
              "    20% {\n",
              "      border-color: transparent;\n",
              "      border-left-color: var(--fill-color);\n",
              "      border-top-color: var(--fill-color);\n",
              "    }\n",
              "    30% {\n",
              "      border-color: transparent;\n",
              "      border-left-color: var(--fill-color);\n",
              "      border-top-color: var(--fill-color);\n",
              "      border-right-color: var(--fill-color);\n",
              "    }\n",
              "    40% {\n",
              "      border-color: transparent;\n",
              "      border-right-color: var(--fill-color);\n",
              "      border-top-color: var(--fill-color);\n",
              "    }\n",
              "    60% {\n",
              "      border-color: transparent;\n",
              "      border-right-color: var(--fill-color);\n",
              "    }\n",
              "    80% {\n",
              "      border-color: transparent;\n",
              "      border-right-color: var(--fill-color);\n",
              "      border-bottom-color: var(--fill-color);\n",
              "    }\n",
              "    90% {\n",
              "      border-color: transparent;\n",
              "      border-bottom-color: var(--fill-color);\n",
              "    }\n",
              "  }\n",
              "</style>\n",
              "\n",
              "  <script>\n",
              "    async function quickchart(key) {\n",
              "      const quickchartButtonEl =\n",
              "        document.querySelector('#' + key + ' button');\n",
              "      quickchartButtonEl.disabled = true;  // To prevent multiple clicks.\n",
              "      quickchartButtonEl.classList.add('colab-df-spinner');\n",
              "      try {\n",
              "        const charts = await google.colab.kernel.invokeFunction(\n",
              "            'suggestCharts', [key], {});\n",
              "      } catch (error) {\n",
              "        console.error('Error during call to suggestCharts:', error);\n",
              "      }\n",
              "      quickchartButtonEl.classList.remove('colab-df-spinner');\n",
              "      quickchartButtonEl.classList.add('colab-df-quickchart-complete');\n",
              "    }\n",
              "    (() => {\n",
              "      let quickchartButtonEl =\n",
              "        document.querySelector('#df-3e15f212-a667-4cb2-9495-8119015e7a57 button');\n",
              "      quickchartButtonEl.style.display =\n",
              "        google.colab.kernel.accessAllowed ? 'block' : 'none';\n",
              "    })();\n",
              "  </script>\n",
              "</div>\n",
              "    </div>\n",
              "  </div>\n"
            ]
          },
          "metadata": {},
          "execution_count": 10
        }
      ]
    },
    {
      "cell_type": "code",
      "source": [
        "# normalize x\n",
        "scaler = StandardScaler()\n",
        "x_scaled = scaler.fit_transform(x)\n",
        "\n",
        "imputer = KNNImputer(n_neighbors=5)  # You can change the number of neighbors if needed\n",
        "x_imputed_scaled = imputer.fit_transform(x_scaled)\n",
        "\n",
        "# reverse scaling\n",
        "x_imputed = scaler.inverse_transform(x_imputed_scaled)\n",
        "\n",
        "# Convert the result back to DataFrame\n",
        "x_imputed = pd.DataFrame(x_imputed, columns=x.columns)"
      ],
      "metadata": {
        "id": "eOMTE6ijg41r"
      },
      "execution_count": 11,
      "outputs": []
    },
    {
      "cell_type": "markdown",
      "source": [
        "problem with knn: how many neighbors are the best?\n",
        "NaNs categorical variables will be imputed, but the result might not be intepretable"
      ],
      "metadata": {
        "id": "bEi_vnQVicWc"
      }
    },
    {
      "cell_type": "code",
      "source": [
        "x_imputed"
      ],
      "metadata": {
        "colab": {
          "base_uri": "https://localhost:8080/",
          "height": 444
        },
        "id": "e997GUw7iRWw",
        "outputId": "23691090-2ffb-43cc-b07d-d10fc3ea2b31"
      },
      "execution_count": 12,
      "outputs": [
        {
          "output_type": "execute_result",
          "data": {
            "text/plain": [
              "        nsrrid   pptid  ecgdate  lvh3_1  lvh3_3  st4_1_3       st5_1_3  lvhst  \\\n",
              "0     200001.0     1.0   -748.2     0.4     0.6      0.2  2.000000e-01    0.2   \n",
              "1     200002.0     2.0    -75.8     0.2     0.2      0.0  2.000000e-01    0.0   \n",
              "2     200003.0     3.0  -1071.8     0.2     0.0      0.0  4.000000e-01    0.0   \n",
              "3     200004.0     4.0   -728.6     0.0     0.0      0.0  2.000000e-01    0.0   \n",
              "4     200005.0     5.0   -241.8     0.2     0.0      0.0  2.775558e-17    0.0   \n",
              "...        ...     ...      ...     ...     ...      ...           ...    ...   \n",
              "5799  205800.0  5835.0   -854.0     0.0     0.0      0.0  0.000000e+00    0.0   \n",
              "5800  205801.0  5836.0   -755.0     0.0     0.0      0.0  0.000000e+00    0.0   \n",
              "5801  205802.0  5837.0   -768.0     0.0     0.0      0.0  0.000000e+00    0.0   \n",
              "5802  205803.0  5838.0   -755.0     0.0     0.0      0.0  0.000000e+00    0.0   \n",
              "5803  205804.0  5839.0   -713.0     0.0     0.0      0.0  0.000000e+00    0.0   \n",
              "\n",
              "      mob1  part2deg  ...  educat  date02  date25  weight  waist  height  \\\n",
              "0      0.0       0.0  ...     3.0   -48.0     0.0    65.0   86.0   178.0   \n",
              "1      0.0       0.0  ...     2.0  -111.0   -37.0    93.0  107.0   168.0   \n",
              "2      0.0       0.0  ...     3.0    -7.0     0.0    51.0   82.0   145.0   \n",
              "3      0.0       0.0  ...     3.0   -24.0     0.0    64.0   85.0   180.0   \n",
              "4      0.0       0.0  ...     2.0   -89.0   -33.0    56.0   76.0   155.0   \n",
              "...    ...       ...  ...     ...     ...     ...     ...    ...     ...   \n",
              "5799   0.0       0.0  ...     2.0  -168.0     1.0    70.5   99.0   166.0   \n",
              "5800   0.0       0.0  ...     3.0   -95.0     1.0    83.6   99.0   176.0   \n",
              "5801   0.0       0.0  ...     4.0   -83.0     1.0    75.0   91.0   175.0   \n",
              "5802   0.0       0.0  ...     2.0   -89.0     0.0    76.8   93.0   176.0   \n",
              "5803   0.0       0.0  ...     2.0   -77.0     1.0   112.7  112.0   186.0   \n",
              "\n",
              "      weight20  lang15  age_category_s1  visitnumber  \n",
              "0         69.0     1.0              7.0          1.0  \n",
              "1         93.0     1.0              9.0          1.0  \n",
              "2         50.7     1.0              9.0          1.0  \n",
              "3         65.4     1.0              6.0          1.0  \n",
              "4         56.0     1.0              8.0          1.0  \n",
              "...        ...     ...              ...          ...  \n",
              "5799      70.8     1.0              8.0          1.0  \n",
              "5800      82.8     1.0              6.0          1.0  \n",
              "5801      74.2     1.0              7.0          1.0  \n",
              "5802      78.6     1.0              6.0          1.0  \n",
              "5803     117.4     1.0              6.0          1.0  \n",
              "\n",
              "[5804 rows x 293 columns]"
            ],
            "text/html": [
              "\n",
              "  <div id=\"df-d5fc2687-dbf0-4d7a-b340-abb13d71dc8e\" class=\"colab-df-container\">\n",
              "    <div>\n",
              "<style scoped>\n",
              "    .dataframe tbody tr th:only-of-type {\n",
              "        vertical-align: middle;\n",
              "    }\n",
              "\n",
              "    .dataframe tbody tr th {\n",
              "        vertical-align: top;\n",
              "    }\n",
              "\n",
              "    .dataframe thead th {\n",
              "        text-align: right;\n",
              "    }\n",
              "</style>\n",
              "<table border=\"1\" class=\"dataframe\">\n",
              "  <thead>\n",
              "    <tr style=\"text-align: right;\">\n",
              "      <th></th>\n",
              "      <th>nsrrid</th>\n",
              "      <th>pptid</th>\n",
              "      <th>ecgdate</th>\n",
              "      <th>lvh3_1</th>\n",
              "      <th>lvh3_3</th>\n",
              "      <th>st4_1_3</th>\n",
              "      <th>st5_1_3</th>\n",
              "      <th>lvhst</th>\n",
              "      <th>mob1</th>\n",
              "      <th>part2deg</th>\n",
              "      <th>...</th>\n",
              "      <th>educat</th>\n",
              "      <th>date02</th>\n",
              "      <th>date25</th>\n",
              "      <th>weight</th>\n",
              "      <th>waist</th>\n",
              "      <th>height</th>\n",
              "      <th>weight20</th>\n",
              "      <th>lang15</th>\n",
              "      <th>age_category_s1</th>\n",
              "      <th>visitnumber</th>\n",
              "    </tr>\n",
              "  </thead>\n",
              "  <tbody>\n",
              "    <tr>\n",
              "      <th>0</th>\n",
              "      <td>200001.0</td>\n",
              "      <td>1.0</td>\n",
              "      <td>-748.2</td>\n",
              "      <td>0.4</td>\n",
              "      <td>0.6</td>\n",
              "      <td>0.2</td>\n",
              "      <td>2.000000e-01</td>\n",
              "      <td>0.2</td>\n",
              "      <td>0.0</td>\n",
              "      <td>0.0</td>\n",
              "      <td>...</td>\n",
              "      <td>3.0</td>\n",
              "      <td>-48.0</td>\n",
              "      <td>0.0</td>\n",
              "      <td>65.0</td>\n",
              "      <td>86.0</td>\n",
              "      <td>178.0</td>\n",
              "      <td>69.0</td>\n",
              "      <td>1.0</td>\n",
              "      <td>7.0</td>\n",
              "      <td>1.0</td>\n",
              "    </tr>\n",
              "    <tr>\n",
              "      <th>1</th>\n",
              "      <td>200002.0</td>\n",
              "      <td>2.0</td>\n",
              "      <td>-75.8</td>\n",
              "      <td>0.2</td>\n",
              "      <td>0.2</td>\n",
              "      <td>0.0</td>\n",
              "      <td>2.000000e-01</td>\n",
              "      <td>0.0</td>\n",
              "      <td>0.0</td>\n",
              "      <td>0.0</td>\n",
              "      <td>...</td>\n",
              "      <td>2.0</td>\n",
              "      <td>-111.0</td>\n",
              "      <td>-37.0</td>\n",
              "      <td>93.0</td>\n",
              "      <td>107.0</td>\n",
              "      <td>168.0</td>\n",
              "      <td>93.0</td>\n",
              "      <td>1.0</td>\n",
              "      <td>9.0</td>\n",
              "      <td>1.0</td>\n",
              "    </tr>\n",
              "    <tr>\n",
              "      <th>2</th>\n",
              "      <td>200003.0</td>\n",
              "      <td>3.0</td>\n",
              "      <td>-1071.8</td>\n",
              "      <td>0.2</td>\n",
              "      <td>0.0</td>\n",
              "      <td>0.0</td>\n",
              "      <td>4.000000e-01</td>\n",
              "      <td>0.0</td>\n",
              "      <td>0.0</td>\n",
              "      <td>0.0</td>\n",
              "      <td>...</td>\n",
              "      <td>3.0</td>\n",
              "      <td>-7.0</td>\n",
              "      <td>0.0</td>\n",
              "      <td>51.0</td>\n",
              "      <td>82.0</td>\n",
              "      <td>145.0</td>\n",
              "      <td>50.7</td>\n",
              "      <td>1.0</td>\n",
              "      <td>9.0</td>\n",
              "      <td>1.0</td>\n",
              "    </tr>\n",
              "    <tr>\n",
              "      <th>3</th>\n",
              "      <td>200004.0</td>\n",
              "      <td>4.0</td>\n",
              "      <td>-728.6</td>\n",
              "      <td>0.0</td>\n",
              "      <td>0.0</td>\n",
              "      <td>0.0</td>\n",
              "      <td>2.000000e-01</td>\n",
              "      <td>0.0</td>\n",
              "      <td>0.0</td>\n",
              "      <td>0.0</td>\n",
              "      <td>...</td>\n",
              "      <td>3.0</td>\n",
              "      <td>-24.0</td>\n",
              "      <td>0.0</td>\n",
              "      <td>64.0</td>\n",
              "      <td>85.0</td>\n",
              "      <td>180.0</td>\n",
              "      <td>65.4</td>\n",
              "      <td>1.0</td>\n",
              "      <td>6.0</td>\n",
              "      <td>1.0</td>\n",
              "    </tr>\n",
              "    <tr>\n",
              "      <th>4</th>\n",
              "      <td>200005.0</td>\n",
              "      <td>5.0</td>\n",
              "      <td>-241.8</td>\n",
              "      <td>0.2</td>\n",
              "      <td>0.0</td>\n",
              "      <td>0.0</td>\n",
              "      <td>2.775558e-17</td>\n",
              "      <td>0.0</td>\n",
              "      <td>0.0</td>\n",
              "      <td>0.0</td>\n",
              "      <td>...</td>\n",
              "      <td>2.0</td>\n",
              "      <td>-89.0</td>\n",
              "      <td>-33.0</td>\n",
              "      <td>56.0</td>\n",
              "      <td>76.0</td>\n",
              "      <td>155.0</td>\n",
              "      <td>56.0</td>\n",
              "      <td>1.0</td>\n",
              "      <td>8.0</td>\n",
              "      <td>1.0</td>\n",
              "    </tr>\n",
              "    <tr>\n",
              "      <th>...</th>\n",
              "      <td>...</td>\n",
              "      <td>...</td>\n",
              "      <td>...</td>\n",
              "      <td>...</td>\n",
              "      <td>...</td>\n",
              "      <td>...</td>\n",
              "      <td>...</td>\n",
              "      <td>...</td>\n",
              "      <td>...</td>\n",
              "      <td>...</td>\n",
              "      <td>...</td>\n",
              "      <td>...</td>\n",
              "      <td>...</td>\n",
              "      <td>...</td>\n",
              "      <td>...</td>\n",
              "      <td>...</td>\n",
              "      <td>...</td>\n",
              "      <td>...</td>\n",
              "      <td>...</td>\n",
              "      <td>...</td>\n",
              "      <td>...</td>\n",
              "    </tr>\n",
              "    <tr>\n",
              "      <th>5799</th>\n",
              "      <td>205800.0</td>\n",
              "      <td>5835.0</td>\n",
              "      <td>-854.0</td>\n",
              "      <td>0.0</td>\n",
              "      <td>0.0</td>\n",
              "      <td>0.0</td>\n",
              "      <td>0.000000e+00</td>\n",
              "      <td>0.0</td>\n",
              "      <td>0.0</td>\n",
              "      <td>0.0</td>\n",
              "      <td>...</td>\n",
              "      <td>2.0</td>\n",
              "      <td>-168.0</td>\n",
              "      <td>1.0</td>\n",
              "      <td>70.5</td>\n",
              "      <td>99.0</td>\n",
              "      <td>166.0</td>\n",
              "      <td>70.8</td>\n",
              "      <td>1.0</td>\n",
              "      <td>8.0</td>\n",
              "      <td>1.0</td>\n",
              "    </tr>\n",
              "    <tr>\n",
              "      <th>5800</th>\n",
              "      <td>205801.0</td>\n",
              "      <td>5836.0</td>\n",
              "      <td>-755.0</td>\n",
              "      <td>0.0</td>\n",
              "      <td>0.0</td>\n",
              "      <td>0.0</td>\n",
              "      <td>0.000000e+00</td>\n",
              "      <td>0.0</td>\n",
              "      <td>0.0</td>\n",
              "      <td>0.0</td>\n",
              "      <td>...</td>\n",
              "      <td>3.0</td>\n",
              "      <td>-95.0</td>\n",
              "      <td>1.0</td>\n",
              "      <td>83.6</td>\n",
              "      <td>99.0</td>\n",
              "      <td>176.0</td>\n",
              "      <td>82.8</td>\n",
              "      <td>1.0</td>\n",
              "      <td>6.0</td>\n",
              "      <td>1.0</td>\n",
              "    </tr>\n",
              "    <tr>\n",
              "      <th>5801</th>\n",
              "      <td>205802.0</td>\n",
              "      <td>5837.0</td>\n",
              "      <td>-768.0</td>\n",
              "      <td>0.0</td>\n",
              "      <td>0.0</td>\n",
              "      <td>0.0</td>\n",
              "      <td>0.000000e+00</td>\n",
              "      <td>0.0</td>\n",
              "      <td>0.0</td>\n",
              "      <td>0.0</td>\n",
              "      <td>...</td>\n",
              "      <td>4.0</td>\n",
              "      <td>-83.0</td>\n",
              "      <td>1.0</td>\n",
              "      <td>75.0</td>\n",
              "      <td>91.0</td>\n",
              "      <td>175.0</td>\n",
              "      <td>74.2</td>\n",
              "      <td>1.0</td>\n",
              "      <td>7.0</td>\n",
              "      <td>1.0</td>\n",
              "    </tr>\n",
              "    <tr>\n",
              "      <th>5802</th>\n",
              "      <td>205803.0</td>\n",
              "      <td>5838.0</td>\n",
              "      <td>-755.0</td>\n",
              "      <td>0.0</td>\n",
              "      <td>0.0</td>\n",
              "      <td>0.0</td>\n",
              "      <td>0.000000e+00</td>\n",
              "      <td>0.0</td>\n",
              "      <td>0.0</td>\n",
              "      <td>0.0</td>\n",
              "      <td>...</td>\n",
              "      <td>2.0</td>\n",
              "      <td>-89.0</td>\n",
              "      <td>0.0</td>\n",
              "      <td>76.8</td>\n",
              "      <td>93.0</td>\n",
              "      <td>176.0</td>\n",
              "      <td>78.6</td>\n",
              "      <td>1.0</td>\n",
              "      <td>6.0</td>\n",
              "      <td>1.0</td>\n",
              "    </tr>\n",
              "    <tr>\n",
              "      <th>5803</th>\n",
              "      <td>205804.0</td>\n",
              "      <td>5839.0</td>\n",
              "      <td>-713.0</td>\n",
              "      <td>0.0</td>\n",
              "      <td>0.0</td>\n",
              "      <td>0.0</td>\n",
              "      <td>0.000000e+00</td>\n",
              "      <td>0.0</td>\n",
              "      <td>0.0</td>\n",
              "      <td>0.0</td>\n",
              "      <td>...</td>\n",
              "      <td>2.0</td>\n",
              "      <td>-77.0</td>\n",
              "      <td>1.0</td>\n",
              "      <td>112.7</td>\n",
              "      <td>112.0</td>\n",
              "      <td>186.0</td>\n",
              "      <td>117.4</td>\n",
              "      <td>1.0</td>\n",
              "      <td>6.0</td>\n",
              "      <td>1.0</td>\n",
              "    </tr>\n",
              "  </tbody>\n",
              "</table>\n",
              "<p>5804 rows × 293 columns</p>\n",
              "</div>\n",
              "    <div class=\"colab-df-buttons\">\n",
              "\n",
              "  <div class=\"colab-df-container\">\n",
              "    <button class=\"colab-df-convert\" onclick=\"convertToInteractive('df-d5fc2687-dbf0-4d7a-b340-abb13d71dc8e')\"\n",
              "            title=\"Convert this dataframe to an interactive table.\"\n",
              "            style=\"display:none;\">\n",
              "\n",
              "  <svg xmlns=\"http://www.w3.org/2000/svg\" height=\"24px\" viewBox=\"0 -960 960 960\">\n",
              "    <path d=\"M120-120v-720h720v720H120Zm60-500h600v-160H180v160Zm220 220h160v-160H400v160Zm0 220h160v-160H400v160ZM180-400h160v-160H180v160Zm440 0h160v-160H620v160ZM180-180h160v-160H180v160Zm440 0h160v-160H620v160Z\"/>\n",
              "  </svg>\n",
              "    </button>\n",
              "\n",
              "  <style>\n",
              "    .colab-df-container {\n",
              "      display:flex;\n",
              "      gap: 12px;\n",
              "    }\n",
              "\n",
              "    .colab-df-convert {\n",
              "      background-color: #E8F0FE;\n",
              "      border: none;\n",
              "      border-radius: 50%;\n",
              "      cursor: pointer;\n",
              "      display: none;\n",
              "      fill: #1967D2;\n",
              "      height: 32px;\n",
              "      padding: 0 0 0 0;\n",
              "      width: 32px;\n",
              "    }\n",
              "\n",
              "    .colab-df-convert:hover {\n",
              "      background-color: #E2EBFA;\n",
              "      box-shadow: 0px 1px 2px rgba(60, 64, 67, 0.3), 0px 1px 3px 1px rgba(60, 64, 67, 0.15);\n",
              "      fill: #174EA6;\n",
              "    }\n",
              "\n",
              "    .colab-df-buttons div {\n",
              "      margin-bottom: 4px;\n",
              "    }\n",
              "\n",
              "    [theme=dark] .colab-df-convert {\n",
              "      background-color: #3B4455;\n",
              "      fill: #D2E3FC;\n",
              "    }\n",
              "\n",
              "    [theme=dark] .colab-df-convert:hover {\n",
              "      background-color: #434B5C;\n",
              "      box-shadow: 0px 1px 3px 1px rgba(0, 0, 0, 0.15);\n",
              "      filter: drop-shadow(0px 1px 2px rgba(0, 0, 0, 0.3));\n",
              "      fill: #FFFFFF;\n",
              "    }\n",
              "  </style>\n",
              "\n",
              "    <script>\n",
              "      const buttonEl =\n",
              "        document.querySelector('#df-d5fc2687-dbf0-4d7a-b340-abb13d71dc8e button.colab-df-convert');\n",
              "      buttonEl.style.display =\n",
              "        google.colab.kernel.accessAllowed ? 'block' : 'none';\n",
              "\n",
              "      async function convertToInteractive(key) {\n",
              "        const element = document.querySelector('#df-d5fc2687-dbf0-4d7a-b340-abb13d71dc8e');\n",
              "        const dataTable =\n",
              "          await google.colab.kernel.invokeFunction('convertToInteractive',\n",
              "                                                    [key], {});\n",
              "        if (!dataTable) return;\n",
              "\n",
              "        const docLinkHtml = 'Like what you see? Visit the ' +\n",
              "          '<a target=\"_blank\" href=https://colab.research.google.com/notebooks/data_table.ipynb>data table notebook</a>'\n",
              "          + ' to learn more about interactive tables.';\n",
              "        element.innerHTML = '';\n",
              "        dataTable['output_type'] = 'display_data';\n",
              "        await google.colab.output.renderOutput(dataTable, element);\n",
              "        const docLink = document.createElement('div');\n",
              "        docLink.innerHTML = docLinkHtml;\n",
              "        element.appendChild(docLink);\n",
              "      }\n",
              "    </script>\n",
              "  </div>\n",
              "\n",
              "\n",
              "<div id=\"df-884f6765-55ed-475f-a00a-855b5b18eae2\">\n",
              "  <button class=\"colab-df-quickchart\" onclick=\"quickchart('df-884f6765-55ed-475f-a00a-855b5b18eae2')\"\n",
              "            title=\"Suggest charts.\"\n",
              "            style=\"display:none;\">\n",
              "\n",
              "<svg xmlns=\"http://www.w3.org/2000/svg\" height=\"24px\"viewBox=\"0 0 24 24\"\n",
              "     width=\"24px\">\n",
              "    <g>\n",
              "        <path d=\"M19 3H5c-1.1 0-2 .9-2 2v14c0 1.1.9 2 2 2h14c1.1 0 2-.9 2-2V5c0-1.1-.9-2-2-2zM9 17H7v-7h2v7zm4 0h-2V7h2v10zm4 0h-2v-4h2v4z\"/>\n",
              "    </g>\n",
              "</svg>\n",
              "  </button>\n",
              "\n",
              "<style>\n",
              "  .colab-df-quickchart {\n",
              "      --bg-color: #E8F0FE;\n",
              "      --fill-color: #1967D2;\n",
              "      --hover-bg-color: #E2EBFA;\n",
              "      --hover-fill-color: #174EA6;\n",
              "      --disabled-fill-color: #AAA;\n",
              "      --disabled-bg-color: #DDD;\n",
              "  }\n",
              "\n",
              "  [theme=dark] .colab-df-quickchart {\n",
              "      --bg-color: #3B4455;\n",
              "      --fill-color: #D2E3FC;\n",
              "      --hover-bg-color: #434B5C;\n",
              "      --hover-fill-color: #FFFFFF;\n",
              "      --disabled-bg-color: #3B4455;\n",
              "      --disabled-fill-color: #666;\n",
              "  }\n",
              "\n",
              "  .colab-df-quickchart {\n",
              "    background-color: var(--bg-color);\n",
              "    border: none;\n",
              "    border-radius: 50%;\n",
              "    cursor: pointer;\n",
              "    display: none;\n",
              "    fill: var(--fill-color);\n",
              "    height: 32px;\n",
              "    padding: 0;\n",
              "    width: 32px;\n",
              "  }\n",
              "\n",
              "  .colab-df-quickchart:hover {\n",
              "    background-color: var(--hover-bg-color);\n",
              "    box-shadow: 0 1px 2px rgba(60, 64, 67, 0.3), 0 1px 3px 1px rgba(60, 64, 67, 0.15);\n",
              "    fill: var(--button-hover-fill-color);\n",
              "  }\n",
              "\n",
              "  .colab-df-quickchart-complete:disabled,\n",
              "  .colab-df-quickchart-complete:disabled:hover {\n",
              "    background-color: var(--disabled-bg-color);\n",
              "    fill: var(--disabled-fill-color);\n",
              "    box-shadow: none;\n",
              "  }\n",
              "\n",
              "  .colab-df-spinner {\n",
              "    border: 2px solid var(--fill-color);\n",
              "    border-color: transparent;\n",
              "    border-bottom-color: var(--fill-color);\n",
              "    animation:\n",
              "      spin 1s steps(1) infinite;\n",
              "  }\n",
              "\n",
              "  @keyframes spin {\n",
              "    0% {\n",
              "      border-color: transparent;\n",
              "      border-bottom-color: var(--fill-color);\n",
              "      border-left-color: var(--fill-color);\n",
              "    }\n",
              "    20% {\n",
              "      border-color: transparent;\n",
              "      border-left-color: var(--fill-color);\n",
              "      border-top-color: var(--fill-color);\n",
              "    }\n",
              "    30% {\n",
              "      border-color: transparent;\n",
              "      border-left-color: var(--fill-color);\n",
              "      border-top-color: var(--fill-color);\n",
              "      border-right-color: var(--fill-color);\n",
              "    }\n",
              "    40% {\n",
              "      border-color: transparent;\n",
              "      border-right-color: var(--fill-color);\n",
              "      border-top-color: var(--fill-color);\n",
              "    }\n",
              "    60% {\n",
              "      border-color: transparent;\n",
              "      border-right-color: var(--fill-color);\n",
              "    }\n",
              "    80% {\n",
              "      border-color: transparent;\n",
              "      border-right-color: var(--fill-color);\n",
              "      border-bottom-color: var(--fill-color);\n",
              "    }\n",
              "    90% {\n",
              "      border-color: transparent;\n",
              "      border-bottom-color: var(--fill-color);\n",
              "    }\n",
              "  }\n",
              "</style>\n",
              "\n",
              "  <script>\n",
              "    async function quickchart(key) {\n",
              "      const quickchartButtonEl =\n",
              "        document.querySelector('#' + key + ' button');\n",
              "      quickchartButtonEl.disabled = true;  // To prevent multiple clicks.\n",
              "      quickchartButtonEl.classList.add('colab-df-spinner');\n",
              "      try {\n",
              "        const charts = await google.colab.kernel.invokeFunction(\n",
              "            'suggestCharts', [key], {});\n",
              "      } catch (error) {\n",
              "        console.error('Error during call to suggestCharts:', error);\n",
              "      }\n",
              "      quickchartButtonEl.classList.remove('colab-df-spinner');\n",
              "      quickchartButtonEl.classList.add('colab-df-quickchart-complete');\n",
              "    }\n",
              "    (() => {\n",
              "      let quickchartButtonEl =\n",
              "        document.querySelector('#df-884f6765-55ed-475f-a00a-855b5b18eae2 button');\n",
              "      quickchartButtonEl.style.display =\n",
              "        google.colab.kernel.accessAllowed ? 'block' : 'none';\n",
              "    })();\n",
              "  </script>\n",
              "</div>\n",
              "    </div>\n",
              "  </div>\n"
            ]
          },
          "metadata": {},
          "execution_count": 12
        }
      ]
    },
    {
      "cell_type": "code",
      "source": [
        "def find_important_features(model, model_name, target_var):\n",
        "  model_importances = model.feature_importances_\n",
        "  model_features = np.array(x_imputed.columns)[model_importances > 0]\n",
        "  model_dataset = x_imputed[model_features]\n",
        "  model_dataset[target_var] = shhs1[target_var]\n",
        "  print(len(model_features))\n",
        "  csv_name = model_name + \"_\" + target_var + \".csv\"\n",
        "  model_dataset.to_csv(csv_name, index=False)\n",
        "\n"
      ],
      "metadata": {
        "id": "pGCx6tEpFXNK"
      },
      "execution_count": 18,
      "outputs": []
    },
    {
      "cell_type": "markdown",
      "source": [
        "# Feature selection"
      ],
      "metadata": {
        "id": "pCvx4EI-zLV9"
      }
    },
    {
      "cell_type": "markdown",
      "source": [
        "## Target variable: ahi_c0h3a"
      ],
      "metadata": {
        "id": "jwJIjwHTlmyK"
      }
    },
    {
      "cell_type": "markdown",
      "source": [
        "### Decision Tree\n"
      ],
      "metadata": {
        "id": "DLpiYeDOzS1I"
      }
    },
    {
      "cell_type": "code",
      "source": [
        "#create decision tree\n",
        "tree = DecisionTreeRegressor()\n",
        "tree.fit(x_imputed, y)"
      ],
      "metadata": {
        "colab": {
          "base_uri": "https://localhost:8080/",
          "height": 75
        },
        "id": "2M3vVh6GzhPw",
        "outputId": "06f87ae1-8b9a-4380-a2f6-28b7e854b96b"
      },
      "execution_count": 13,
      "outputs": [
        {
          "output_type": "execute_result",
          "data": {
            "text/plain": [
              "DecisionTreeRegressor()"
            ],
            "text/html": [
              "<style>#sk-container-id-1 {color: black;background-color: white;}#sk-container-id-1 pre{padding: 0;}#sk-container-id-1 div.sk-toggleable {background-color: white;}#sk-container-id-1 label.sk-toggleable__label {cursor: pointer;display: block;width: 100%;margin-bottom: 0;padding: 0.3em;box-sizing: border-box;text-align: center;}#sk-container-id-1 label.sk-toggleable__label-arrow:before {content: \"▸\";float: left;margin-right: 0.25em;color: #696969;}#sk-container-id-1 label.sk-toggleable__label-arrow:hover:before {color: black;}#sk-container-id-1 div.sk-estimator:hover label.sk-toggleable__label-arrow:before {color: black;}#sk-container-id-1 div.sk-toggleable__content {max-height: 0;max-width: 0;overflow: hidden;text-align: left;background-color: #f0f8ff;}#sk-container-id-1 div.sk-toggleable__content pre {margin: 0.2em;color: black;border-radius: 0.25em;background-color: #f0f8ff;}#sk-container-id-1 input.sk-toggleable__control:checked~div.sk-toggleable__content {max-height: 200px;max-width: 100%;overflow: auto;}#sk-container-id-1 input.sk-toggleable__control:checked~label.sk-toggleable__label-arrow:before {content: \"▾\";}#sk-container-id-1 div.sk-estimator input.sk-toggleable__control:checked~label.sk-toggleable__label {background-color: #d4ebff;}#sk-container-id-1 div.sk-label input.sk-toggleable__control:checked~label.sk-toggleable__label {background-color: #d4ebff;}#sk-container-id-1 input.sk-hidden--visually {border: 0;clip: rect(1px 1px 1px 1px);clip: rect(1px, 1px, 1px, 1px);height: 1px;margin: -1px;overflow: hidden;padding: 0;position: absolute;width: 1px;}#sk-container-id-1 div.sk-estimator {font-family: monospace;background-color: #f0f8ff;border: 1px dotted black;border-radius: 0.25em;box-sizing: border-box;margin-bottom: 0.5em;}#sk-container-id-1 div.sk-estimator:hover {background-color: #d4ebff;}#sk-container-id-1 div.sk-parallel-item::after {content: \"\";width: 100%;border-bottom: 1px solid gray;flex-grow: 1;}#sk-container-id-1 div.sk-label:hover label.sk-toggleable__label {background-color: #d4ebff;}#sk-container-id-1 div.sk-serial::before {content: \"\";position: absolute;border-left: 1px solid gray;box-sizing: border-box;top: 0;bottom: 0;left: 50%;z-index: 0;}#sk-container-id-1 div.sk-serial {display: flex;flex-direction: column;align-items: center;background-color: white;padding-right: 0.2em;padding-left: 0.2em;position: relative;}#sk-container-id-1 div.sk-item {position: relative;z-index: 1;}#sk-container-id-1 div.sk-parallel {display: flex;align-items: stretch;justify-content: center;background-color: white;position: relative;}#sk-container-id-1 div.sk-item::before, #sk-container-id-1 div.sk-parallel-item::before {content: \"\";position: absolute;border-left: 1px solid gray;box-sizing: border-box;top: 0;bottom: 0;left: 50%;z-index: -1;}#sk-container-id-1 div.sk-parallel-item {display: flex;flex-direction: column;z-index: 1;position: relative;background-color: white;}#sk-container-id-1 div.sk-parallel-item:first-child::after {align-self: flex-end;width: 50%;}#sk-container-id-1 div.sk-parallel-item:last-child::after {align-self: flex-start;width: 50%;}#sk-container-id-1 div.sk-parallel-item:only-child::after {width: 0;}#sk-container-id-1 div.sk-dashed-wrapped {border: 1px dashed gray;margin: 0 0.4em 0.5em 0.4em;box-sizing: border-box;padding-bottom: 0.4em;background-color: white;}#sk-container-id-1 div.sk-label label {font-family: monospace;font-weight: bold;display: inline-block;line-height: 1.2em;}#sk-container-id-1 div.sk-label-container {text-align: center;}#sk-container-id-1 div.sk-container {/* jupyter's `normalize.less` sets `[hidden] { display: none; }` but bootstrap.min.css set `[hidden] { display: none !important; }` so we also need the `!important` here to be able to override the default hidden behavior on the sphinx rendered scikit-learn.org. See: https://github.com/scikit-learn/scikit-learn/issues/21755 */display: inline-block !important;position: relative;}#sk-container-id-1 div.sk-text-repr-fallback {display: none;}</style><div id=\"sk-container-id-1\" class=\"sk-top-container\"><div class=\"sk-text-repr-fallback\"><pre>DecisionTreeRegressor()</pre><b>In a Jupyter environment, please rerun this cell to show the HTML representation or trust the notebook. <br />On GitHub, the HTML representation is unable to render, please try loading this page with nbviewer.org.</b></div><div class=\"sk-container\" hidden><div class=\"sk-item\"><div class=\"sk-estimator sk-toggleable\"><input class=\"sk-toggleable__control sk-hidden--visually\" id=\"sk-estimator-id-1\" type=\"checkbox\" checked><label for=\"sk-estimator-id-1\" class=\"sk-toggleable__label sk-toggleable__label-arrow\">DecisionTreeRegressor</label><div class=\"sk-toggleable__content\"><pre>DecisionTreeRegressor()</pre></div></div></div></div></div>"
            ]
          },
          "metadata": {},
          "execution_count": 13
        }
      ]
    },
    {
      "cell_type": "code",
      "source": [
        "find_important_features(tree, \"decision_tree\", \"ahi_c0h3a\")"
      ],
      "metadata": {
        "colab": {
          "base_uri": "https://localhost:8080/"
        },
        "id": "7qQ-5aWfHDHc",
        "outputId": "db94ea66-8f9f-41cb-e3a7-e69211a11db4"
      },
      "execution_count": 19,
      "outputs": [
        {
          "output_type": "stream",
          "name": "stderr",
          "text": [
            "<ipython-input-18-cfb83178e5c9>:5: SettingWithCopyWarning: \n",
            "A value is trying to be set on a copy of a slice from a DataFrame.\n",
            "Try using .loc[row_indexer,col_indexer] = value instead\n",
            "\n",
            "See the caveats in the documentation: https://pandas.pydata.org/pandas-docs/stable/user_guide/indexing.html#returning-a-view-versus-a-copy\n",
            "  model_dataset[target_var] = shhs1[target_var]\n"
          ]
        },
        {
          "output_type": "stream",
          "name": "stdout",
          "text": [
            "256\n"
          ]
        }
      ]
    },
    {
      "cell_type": "code",
      "source": [
        "#identify the most important features through decision trees\n",
        "tree_importances = tree.feature_importances_\n",
        "decision_tree_features = np.array(x_imputed.columns)[tree_importances > 0]\n",
        "decision_tree_dataset = x_imputed[decision_tree_features]\n",
        "decision_tree_dataset['ahi_c0h3a'] = shhs1['ahi_c0h3a']"
      ],
      "metadata": {
        "id": "hN1yf7wKzhau",
        "colab": {
          "base_uri": "https://localhost:8080/"
        },
        "outputId": "ebf09549-b136-45c3-81e8-1afe1bce632e"
      },
      "execution_count": 14,
      "outputs": [
        {
          "output_type": "stream",
          "name": "stderr",
          "text": [
            "<ipython-input-14-c5bced64f58f>:5: SettingWithCopyWarning: \n",
            "A value is trying to be set on a copy of a slice from a DataFrame.\n",
            "Try using .loc[row_indexer,col_indexer] = value instead\n",
            "\n",
            "See the caveats in the documentation: https://pandas.pydata.org/pandas-docs/stable/user_guide/indexing.html#returning-a-view-versus-a-copy\n",
            "  decision_tree_dataset['ahi_c0h3a'] = shhs1['ahi_c0h3a']\n"
          ]
        }
      ]
    },
    {
      "cell_type": "code",
      "source": [
        "#end up with 249 features\n",
        "len(decision_tree_features)"
      ],
      "metadata": {
        "colab": {
          "base_uri": "https://localhost:8080/"
        },
        "id": "Vrg1Hf6ai3fm",
        "outputId": "7d0f7fac-5e03-47fc-d0ae-0919afaa99b3"
      },
      "execution_count": 15,
      "outputs": [
        {
          "output_type": "execute_result",
          "data": {
            "text/plain": [
              "256"
            ]
          },
          "metadata": {},
          "execution_count": 15
        }
      ]
    },
    {
      "cell_type": "code",
      "source": [
        "#write to csv\n",
        "decision_tree_dataset.to_csv('decision_tree_ahi_c0h3a.csv', index=False)"
      ],
      "metadata": {
        "id": "MGhisCXecbxA"
      },
      "execution_count": 16,
      "outputs": []
    },
    {
      "cell_type": "markdown",
      "source": [
        "### Random Forest"
      ],
      "metadata": {
        "id": "LdiNrYXZ3GaP"
      }
    },
    {
      "cell_type": "code",
      "source": [
        "#create a random forest with 100 \"trees\"\n",
        "forest = RandomForestRegressor(n_estimators=100)  # You can change the number of trees if needed\n",
        "forest.fit(x_imputed, y)"
      ],
      "metadata": {
        "colab": {
          "base_uri": "https://localhost:8080/",
          "height": 75
        },
        "id": "uSUr0hsg25by",
        "outputId": "616f05af-5ae4-47a4-bf9b-e46317ea925f"
      },
      "execution_count": 20,
      "outputs": [
        {
          "output_type": "execute_result",
          "data": {
            "text/plain": [
              "RandomForestRegressor()"
            ],
            "text/html": [
              "<style>#sk-container-id-2 {color: black;background-color: white;}#sk-container-id-2 pre{padding: 0;}#sk-container-id-2 div.sk-toggleable {background-color: white;}#sk-container-id-2 label.sk-toggleable__label {cursor: pointer;display: block;width: 100%;margin-bottom: 0;padding: 0.3em;box-sizing: border-box;text-align: center;}#sk-container-id-2 label.sk-toggleable__label-arrow:before {content: \"▸\";float: left;margin-right: 0.25em;color: #696969;}#sk-container-id-2 label.sk-toggleable__label-arrow:hover:before {color: black;}#sk-container-id-2 div.sk-estimator:hover label.sk-toggleable__label-arrow:before {color: black;}#sk-container-id-2 div.sk-toggleable__content {max-height: 0;max-width: 0;overflow: hidden;text-align: left;background-color: #f0f8ff;}#sk-container-id-2 div.sk-toggleable__content pre {margin: 0.2em;color: black;border-radius: 0.25em;background-color: #f0f8ff;}#sk-container-id-2 input.sk-toggleable__control:checked~div.sk-toggleable__content {max-height: 200px;max-width: 100%;overflow: auto;}#sk-container-id-2 input.sk-toggleable__control:checked~label.sk-toggleable__label-arrow:before {content: \"▾\";}#sk-container-id-2 div.sk-estimator input.sk-toggleable__control:checked~label.sk-toggleable__label {background-color: #d4ebff;}#sk-container-id-2 div.sk-label input.sk-toggleable__control:checked~label.sk-toggleable__label {background-color: #d4ebff;}#sk-container-id-2 input.sk-hidden--visually {border: 0;clip: rect(1px 1px 1px 1px);clip: rect(1px, 1px, 1px, 1px);height: 1px;margin: -1px;overflow: hidden;padding: 0;position: absolute;width: 1px;}#sk-container-id-2 div.sk-estimator {font-family: monospace;background-color: #f0f8ff;border: 1px dotted black;border-radius: 0.25em;box-sizing: border-box;margin-bottom: 0.5em;}#sk-container-id-2 div.sk-estimator:hover {background-color: #d4ebff;}#sk-container-id-2 div.sk-parallel-item::after {content: \"\";width: 100%;border-bottom: 1px solid gray;flex-grow: 1;}#sk-container-id-2 div.sk-label:hover label.sk-toggleable__label {background-color: #d4ebff;}#sk-container-id-2 div.sk-serial::before {content: \"\";position: absolute;border-left: 1px solid gray;box-sizing: border-box;top: 0;bottom: 0;left: 50%;z-index: 0;}#sk-container-id-2 div.sk-serial {display: flex;flex-direction: column;align-items: center;background-color: white;padding-right: 0.2em;padding-left: 0.2em;position: relative;}#sk-container-id-2 div.sk-item {position: relative;z-index: 1;}#sk-container-id-2 div.sk-parallel {display: flex;align-items: stretch;justify-content: center;background-color: white;position: relative;}#sk-container-id-2 div.sk-item::before, #sk-container-id-2 div.sk-parallel-item::before {content: \"\";position: absolute;border-left: 1px solid gray;box-sizing: border-box;top: 0;bottom: 0;left: 50%;z-index: -1;}#sk-container-id-2 div.sk-parallel-item {display: flex;flex-direction: column;z-index: 1;position: relative;background-color: white;}#sk-container-id-2 div.sk-parallel-item:first-child::after {align-self: flex-end;width: 50%;}#sk-container-id-2 div.sk-parallel-item:last-child::after {align-self: flex-start;width: 50%;}#sk-container-id-2 div.sk-parallel-item:only-child::after {width: 0;}#sk-container-id-2 div.sk-dashed-wrapped {border: 1px dashed gray;margin: 0 0.4em 0.5em 0.4em;box-sizing: border-box;padding-bottom: 0.4em;background-color: white;}#sk-container-id-2 div.sk-label label {font-family: monospace;font-weight: bold;display: inline-block;line-height: 1.2em;}#sk-container-id-2 div.sk-label-container {text-align: center;}#sk-container-id-2 div.sk-container {/* jupyter's `normalize.less` sets `[hidden] { display: none; }` but bootstrap.min.css set `[hidden] { display: none !important; }` so we also need the `!important` here to be able to override the default hidden behavior on the sphinx rendered scikit-learn.org. See: https://github.com/scikit-learn/scikit-learn/issues/21755 */display: inline-block !important;position: relative;}#sk-container-id-2 div.sk-text-repr-fallback {display: none;}</style><div id=\"sk-container-id-2\" class=\"sk-top-container\"><div class=\"sk-text-repr-fallback\"><pre>RandomForestRegressor()</pre><b>In a Jupyter environment, please rerun this cell to show the HTML representation or trust the notebook. <br />On GitHub, the HTML representation is unable to render, please try loading this page with nbviewer.org.</b></div><div class=\"sk-container\" hidden><div class=\"sk-item\"><div class=\"sk-estimator sk-toggleable\"><input class=\"sk-toggleable__control sk-hidden--visually\" id=\"sk-estimator-id-2\" type=\"checkbox\" checked><label for=\"sk-estimator-id-2\" class=\"sk-toggleable__label sk-toggleable__label-arrow\">RandomForestRegressor</label><div class=\"sk-toggleable__content\"><pre>RandomForestRegressor()</pre></div></div></div></div></div>"
            ]
          },
          "metadata": {},
          "execution_count": 20
        }
      ]
    },
    {
      "cell_type": "code",
      "source": [
        "find_important_features(forest, \"random_forest\", \"ahi_c0h3a\")"
      ],
      "metadata": {
        "colab": {
          "base_uri": "https://localhost:8080/"
        },
        "id": "TQBsJBEbHiLK",
        "outputId": "39e29131-7e9b-4001-92a5-b5a6a735cfd9"
      },
      "execution_count": 23,
      "outputs": [
        {
          "output_type": "stream",
          "name": "stderr",
          "text": [
            "<ipython-input-18-cfb83178e5c9>:5: SettingWithCopyWarning: \n",
            "A value is trying to be set on a copy of a slice from a DataFrame.\n",
            "Try using .loc[row_indexer,col_indexer] = value instead\n",
            "\n",
            "See the caveats in the documentation: https://pandas.pydata.org/pandas-docs/stable/user_guide/indexing.html#returning-a-view-versus-a-copy\n",
            "  model_dataset[target_var] = shhs1[target_var]\n"
          ]
        },
        {
          "output_type": "stream",
          "name": "stdout",
          "text": [
            "277\n"
          ]
        }
      ]
    },
    {
      "cell_type": "code",
      "source": [
        "#identify the most important features through random forest\n",
        "forest_importances = forest.feature_importances_\n",
        "random_forest_features = np.array(x_imputed.columns)[forest_importances > 0]\n",
        "random_forest_dataset = x_imputed[decision_tree_features]\n",
        "random_forest_dataset['ahi_c0h3a'] = shhs1['ahi_c0h3a']"
      ],
      "metadata": {
        "colab": {
          "base_uri": "https://localhost:8080/"
        },
        "id": "42ZX1P6CgcCn",
        "outputId": "2fc2cc92-2e81-45c5-e735-8878b933b481"
      },
      "execution_count": 21,
      "outputs": [
        {
          "output_type": "stream",
          "name": "stderr",
          "text": [
            "<ipython-input-21-d6133958967c>:5: SettingWithCopyWarning: \n",
            "A value is trying to be set on a copy of a slice from a DataFrame.\n",
            "Try using .loc[row_indexer,col_indexer] = value instead\n",
            "\n",
            "See the caveats in the documentation: https://pandas.pydata.org/pandas-docs/stable/user_guide/indexing.html#returning-a-view-versus-a-copy\n",
            "  random_forest_dataset['ahi_c0h3a'] = shhs1['ahi_c0h3a']\n"
          ]
        }
      ]
    },
    {
      "cell_type": "code",
      "source": [
        "#end up with 278 features\n",
        "len(random_forest_features)"
      ],
      "metadata": {
        "colab": {
          "base_uri": "https://localhost:8080/"
        },
        "id": "Qyqquzcli0iR",
        "outputId": "27f38d3b-b6d0-430c-d9b5-99f7ae0d5ae8"
      },
      "execution_count": 22,
      "outputs": [
        {
          "output_type": "execute_result",
          "data": {
            "text/plain": [
              "277"
            ]
          },
          "metadata": {},
          "execution_count": 22
        }
      ]
    },
    {
      "cell_type": "code",
      "source": [
        "#write to csv\n",
        "random_forest_dataset.to_csv('random_forest_ahi_c0h3a.csv', index=False)"
      ],
      "metadata": {
        "id": "mkn1VU0tgxxS"
      },
      "execution_count": null,
      "outputs": []
    },
    {
      "cell_type": "markdown",
      "source": [
        "### Mutual Information"
      ],
      "metadata": {
        "id": "w6JNAcZv0qKP"
      }
    },
    {
      "cell_type": "code",
      "source": [
        "#create mutual information model\n",
        "mi = mutual_info_regression(x_imputed, y)"
      ],
      "metadata": {
        "id": "by-CtvFc0O45"
      },
      "execution_count": null,
      "outputs": []
    },
    {
      "cell_type": "code",
      "source": [
        "# Get feature names where mutual information is greater than 0\n",
        "mi_features = np.array(x_imputed.columns)[mi > 0]\n",
        "\n",
        "# Create a new dataset with only the features having non-zero mutual information\n",
        "mi_dataset = x_imputed[mi_features]\n",
        "\n",
        "# Add the 'ahi_c0h3a' column to the new dataset\n",
        "mi_dataset['ahi_c0h3a'] = shhs1['ahi_c0h3a']"
      ],
      "metadata": {
        "colab": {
          "base_uri": "https://localhost:8080/"
        },
        "id": "gqmO-Oqp0yxA",
        "outputId": "3360fbe9-ab38-414f-a8c7-4ab2fc1fc286"
      },
      "execution_count": null,
      "outputs": [
        {
          "output_type": "stream",
          "name": "stderr",
          "text": [
            "<ipython-input-20-fb481aa3287c>:8: SettingWithCopyWarning: \n",
            "A value is trying to be set on a copy of a slice from a DataFrame.\n",
            "Try using .loc[row_indexer,col_indexer] = value instead\n",
            "\n",
            "See the caveats in the documentation: https://pandas.pydata.org/pandas-docs/stable/user_guide/indexing.html#returning-a-view-versus-a-copy\n",
            "  mi_dataset['ahi_c0h3a'] = shhs1['ahi_c0h3a']\n"
          ]
        }
      ]
    },
    {
      "cell_type": "code",
      "source": [
        "#end up with 198 features\n",
        "len(mi_features)"
      ],
      "metadata": {
        "colab": {
          "base_uri": "https://localhost:8080/"
        },
        "id": "ktYuPh0GiunY",
        "outputId": "64853fa3-d738-473a-a86e-ff26b671cfbd"
      },
      "execution_count": null,
      "outputs": [
        {
          "output_type": "execute_result",
          "data": {
            "text/plain": [
              "198"
            ]
          },
          "metadata": {},
          "execution_count": 21
        }
      ]
    },
    {
      "cell_type": "code",
      "source": [
        "#write to csv\n",
        "mi_dataset.to_csv('mi_ahi_c0h3a.csv', index=False)"
      ],
      "metadata": {
        "id": "2TkNyeYJhSuI"
      },
      "execution_count": null,
      "outputs": []
    },
    {
      "cell_type": "markdown",
      "source": [
        "### Forward selection"
      ],
      "metadata": {
        "id": "fQdxT8sSZyEB"
      }
    },
    {
      "cell_type": "code",
      "source": [
        "from sklearn.linear_model import LinearRegression\n",
        "from sklearn.model_selection import train_test_split\n",
        "from sklearn.metrics import mean_squared_error\n",
        "\n",
        "forward_selection_features = []\n",
        "\n",
        "# Start with an arbitrarily large initial MSE\n",
        "previous_mse = float('inf')\n",
        "mse_change_threshold = 1e-5  # Adjust this threshold value based on the scale of your MSE\n",
        "\n",
        "#run forward selection\n",
        "while len(forward_selection_features) < len(x_imputed.columns):\n",
        "    remaining_features = list(set(x_imputed.columns) - set(forward_selection_features))\n",
        "    best_feature_mse = float('inf')\n",
        "    best_feature = None\n",
        "\n",
        "    for feature in remaining_features:\n",
        "        candidate_features = forward_selection_features.copy()\n",
        "        candidate_features.append(feature)\n",
        "\n",
        "        # Split the data into training and testing sets\n",
        "        X_train, X_test, y_train, y_test = train_test_split(x_imputed[candidate_features], y, test_size=0.2, random_state=42)\n",
        "\n",
        "        # Fit a model with the selected features\n",
        "        model = LinearRegression()\n",
        "        model.fit(X_train, y_train)\n",
        "\n",
        "        # Evaluate the model with the added feature\n",
        "        y_pred = model.predict(X_test)\n",
        "        mse = mean_squared_error(y_test, y_pred)\n",
        "\n",
        "        # Update the best feature if the current one is better (lower MSE)\n",
        "        if mse < best_feature_mse:\n",
        "            best_feature_mse = mse\n",
        "            best_feature = feature\n",
        "\n",
        "    # Break the loop if change in MSE is smaller than the threshold or if no significant decrease in MSE\n",
        "    if abs(best_feature_mse - previous_mse) < mse_change_threshold or best_feature is None:\n",
        "        print(\"No significant improvement in MSE or no further significant feature found. Stopping forward selection.\")\n",
        "        break\n",
        "\n",
        "    forward_selection_features.append(best_feature)\n",
        "    print(f\"Added feature: {best_feature}, Mean Squared Error with Features: {best_feature_mse}\")\n",
        "\n",
        "    # Update the previous MSE for the next iteration\n",
        "    previous_mse = best_feature_mse\n"
      ],
      "metadata": {
        "colab": {
          "base_uri": "https://localhost:8080/"
        },
        "id": "PAVRRnQnidYY",
        "outputId": "a0291639-8493-4607-8deb-afa3eef7d8ec"
      },
      "execution_count": null,
      "outputs": [
        {
          "output_type": "stream",
          "name": "stdout",
          "text": [
            "Added feature: neck20, Mean Squared Error with Features: 112.90209971511109\n",
            "Added feature: waist, Mean Squared Error with Features: 110.71544612363748\n",
            "Added feature: asalw15, Mean Squared Error with Features: 109.73722546106609\n",
            "Added feature: rawvt_s1, Mean Squared Error with Features: 109.16030776291157\n",
            "Added feature: smknow15, Mean Squared Error with Features: 108.53770567912167\n",
            "Added feature: hosnr02, Mean Squared Error with Features: 108.04240044559938\n",
            "Added feature: shhs1_tcvd, Mean Squared Error with Features: 107.63193302269687\n",
            "Added feature: age_s1, Mean Squared Error with Features: 107.2211289372306\n",
            "Added feature: weight, Mean Squared Error with Features: 106.4544484695364\n",
            "Added feature: pptid, Mean Squared Error with Features: 105.77860099168196\n",
            "Added feature: diasbp, Mean Squared Error with Features: 105.02303217214656\n",
            "Added feature: twuweh02, Mean Squared Error with Features: 104.7423698262366\n",
            "Added feature: nonsp_st, Mean Squared Error with Features: 104.49812557170992\n",
            "Added feature: tfawem02, Mean Squared Error with Features: 104.27684134792948\n",
            "Added feature: soda15, Mean Squared Error with Features: 104.07343963080312\n",
            "Added feature: sleepy02, Mean Squared Error with Features: 103.89640604067579\n",
            "Added feature: height, Mean Squared Error with Features: 103.70604291698037\n",
            "Added feature: gender, Mean Squared Error with Features: 102.38739381712111\n",
            "Added feature: race, Mean Squared Error with Features: 102.08792148445876\n",
            "Added feature: vt_s1, Mean Squared Error with Features: 101.92659835838009\n",
            "Added feature: systbp, Mean Squared Error with Features: 101.76905864126051\n",
            "Added feature: ccb1, Mean Squared Error with Features: 101.60219789743171\n",
            "Added feature: shhs1_qc, Mean Squared Error with Features: 101.45966118730296\n",
            "Added feature: hf15, Mean Squared Error with Features: 101.31966544682857\n",
            "Added feature: ethnicity, Mean Squared Error with Features: 101.19598900693516\n",
            "Added feature: copd15, Mean Squared Error with Features: 101.07380611155652\n",
            "Added feature: pdei1, Mean Squared Error with Features: 100.951017226645\n",
            "Added feature: afib, Mean Squared Error with Features: 100.82355088433268\n",
            "Added feature: warf1, Mean Squared Error with Features: 100.64506254593522\n",
            "Added feature: hip, Mean Squared Error with Features: 100.52910628097291\n",
            "Added feature: phctdn25, Mean Squared Error with Features: 100.41406335683969\n",
            "Added feature: phacls25, Mean Squared Error with Features: 100.2960454686425\n",
            "Added feature: shhs1_all, Mean Squared Error with Features: 100.19116454702522\n",
            "Added feature: shhs1_ae, Mean Squared Error with Features: 100.07879409847106\n",
            "Added feature: av1deg, Mean Squared Error with Features: 99.97846079056285\n",
            "Added feature: irbbb, Mean Squared Error with Features: 99.88184454320593\n",
            "Added feature: aai, Mean Squared Error with Features: 99.7904312266452\n",
            "Added feature: evsmok15, Mean Squared Error with Features: 99.7019374451962\n",
            "Added feature: alcoh, Mean Squared Error with Features: 99.59665145137701\n",
            "Added feature: shhs1_ql, Mean Squared Error with Features: 99.5138431448996\n",
            "Added feature: tea15, Mean Squared Error with Features: 99.43663450837778\n",
            "Added feature: hctz1, Mean Squared Error with Features: 99.36793942737229\n",
            "Added feature: drive02, Mean Squared Error with Features: 99.30177212565229\n",
            "Added feature: nsaid1, Mean Squared Error with Features: 99.23388704409214\n",
            "Added feature: mi2slp02, Mean Squared Error with Features: 99.16990941842944\n",
            "Added feature: benzod1, Mean Squared Error with Features: 99.1035744176099\n",
            "Added feature: funres02, Mean Squared Error with Features: 99.03612640863408\n",
            "Added feature: urdbpae, Mean Squared Error with Features: 98.97067971010529\n",
            "Added feature: ace1, Mean Squared Error with Features: 98.90648204080712\n",
            "Added feature: othrcs15, Mean Squared Error with Features: 98.84539314356145\n",
            "Added feature: ventrate, Mean Squared Error with Features: 98.78192646514641\n",
            "Added feature: tfawda02, Mean Squared Error with Features: 98.72702423581805\n",
            "Added feature: runny15, Mean Squared Error with Features: 98.6731675575124\n",
            "Added feature: issnor02, Mean Squared Error with Features: 98.62219599844799\n",
            "Added feature: truposmi, Mean Squared Error with Features: 98.57493899558358\n",
            "Added feature: basq1, Mean Squared Error with Features: 98.52951032547448\n",
            "Added feature: asth1215, Mean Squared Error with Features: 98.48426955832177\n",
            "Added feature: phlegm15, Mean Squared Error with Features: 98.43190274467712\n",
            "Added feature: tfaweh02, Mean Squared Error with Features: 98.38711289934622\n",
            "Added feature: aced1, Mean Squared Error with Features: 98.34512882928576\n",
            "Added feature: paced, Mean Squared Error with Features: 98.30571054317262\n",
            "Added feature: shots15, Mean Squared Error with Features: 98.26985789716882\n",
            "Added feature: beta1, Mean Squared Error with Features: 98.23922938320122\n",
            "Added feature: exclnt25, Mean Squared Error with Features: 98.20634067823693\n",
            "Added feature: cp02, Mean Squared Error with Features: 98.17284296714703\n",
            "Added feature: sweats02, Mean Squared Error with Features: 98.14347029457235\n",
            "Added feature: pvdl1, Mean Squared Error with Features: 98.11493576796013\n",
            "Added feature: bend25, Mean Squared Error with Features: 98.09261907043195\n",
            "Added feature: slpill15, Mean Squared Error with Features: 98.07249351831814\n",
            "Added feature: nitro15, Mean Squared Error with Features: 98.04170677504561\n",
            "Added feature: lbbb, Mean Squared Error with Features: 98.02242673944147\n",
            "Added feature: date02, Mean Squared Error with Features: 98.00726774891125\n",
            "Added feature: mdsa02, Mean Squared Error with Features: 97.99147690842588\n",
            "Added feature: tripae, Mean Squared Error with Features: 97.97583709223207\n",
            "Added feature: st5_1_3, Mean Squared Error with Features: 97.96355822927347\n",
            "Added feature: nonsp_tw, Mean Squared Error with Features: 97.89933778804537\n",
            "Added feature: loudsn02, Mean Squared Error with Features: 97.88913142642281\n",
            "Added feature: mob1, Mean Squared Error with Features: 97.88025844534242\n",
            "Added feature: nsrrid, Mean Squared Error with Features: 97.8719690515111\n",
            "Added feature: rawbp_s1, Mean Squared Error with Features: 97.86414057222707\n",
            "Added feature: asthma15, Mean Squared Error with Features: 97.85724812854181\n",
            "Added feature: wine15, Mean Squared Error with Features: 97.85006557711182\n",
            "Added feature: painjt02, Mean Squared Error with Features: 97.84471183561894\n",
            "Added feature: shhs1_hi, Mean Squared Error with Features: 97.8391312991709\n",
            "Added feature: antlatmi, Mean Squared Error with Features: 97.83422708638186\n",
            "Added feature: gh_s1, Mean Squared Error with Features: 97.82914705752985\n",
            "Added feature: rawgh_s1, Mean Squared Error with Features: 97.6784043509322\n",
            "Added feature: ohga1, Mean Squared Error with Features: 97.67119821513273\n",
            "Added feature: lvh3_1, Mean Squared Error with Features: 97.66481273864416\n",
            "Added feature: shhs1_sh, Mean Squared Error with Features: 97.65891084875038\n",
            "Added feature: smokstat_s1, Mean Squared Error with Features: 97.65366314236974\n",
            "Added feature: tfawea02, Mean Squared Error with Features: 97.64619783627113\n",
            "Added feature: needbr02, Mean Squared Error with Features: 97.63872693879713\n",
            "Added feature: betad1, Mean Squared Error with Features: 97.63046623407926\n",
            "Added feature: htnderv_s1, Mean Squared Error with Features: 97.61944712006783\n",
            "Added feature: twuwda02, Mean Squared Error with Features: 97.61630824901773\n",
            "Added feature: niac1, Mean Squared Error with Features: 97.61452383959943\n",
            "Added feature: hb02, Mean Squared Error with Features: 97.61314094583108\n",
            "Added feature: wksblk25, Mean Squared Error with Features: 97.61281578321083\n",
            "Added feature: bathe25, Mean Squared Error with Features: 97.61076237243742\n",
            "Added feature: ecg, Mean Squared Error with Features: 97.610260595383\n",
            "Added feature: av3deg, Mean Squared Error with Features: 97.60989628766065\n",
            "No significant improvement in MSE or no further significant feature found. Stopping forward selection.\n"
          ]
        }
      ]
    },
    {
      "cell_type": "code",
      "source": [
        "# Create a new dataset with only the features having non-zero mutual information\n",
        "forward_selection_dataset = x_imputed[forward_selection_features]\n",
        "\n",
        "# Add the 'ahi_c0h3a' column to the new dataset\n",
        "forward_selection_dataset['ahi_c0h3a'] = shhs1['ahi_c0h3a']"
      ],
      "metadata": {
        "colab": {
          "base_uri": "https://localhost:8080/"
        },
        "id": "vXfWd0OXp5td",
        "outputId": "7cb736d8-66a4-467d-9484-ef6ad1cddf59"
      },
      "execution_count": null,
      "outputs": [
        {
          "output_type": "stream",
          "name": "stderr",
          "text": [
            "<ipython-input-14-132bdb326184>:5: SettingWithCopyWarning: \n",
            "A value is trying to be set on a copy of a slice from a DataFrame.\n",
            "Try using .loc[row_indexer,col_indexer] = value instead\n",
            "\n",
            "See the caveats in the documentation: https://pandas.pydata.org/pandas-docs/stable/user_guide/indexing.html#returning-a-view-versus-a-copy\n",
            "  forward_selection_dataset['ahi_c0h3a'] = shhs1['ahi_c0h3a']\n"
          ]
        }
      ]
    },
    {
      "cell_type": "code",
      "source": [
        "#write to csv\n",
        "forward_selection_dataset.to_csv('forward_selection_ahi_c0h3a.csv', index=False)"
      ],
      "metadata": {
        "id": "4iF11qy0qLrK"
      },
      "execution_count": null,
      "outputs": []
    },
    {
      "cell_type": "markdown",
      "source": [
        "### Backward selection"
      ],
      "metadata": {
        "id": "MleBtkR7q_fl"
      }
    },
    {
      "cell_type": "code",
      "source": [
        "from sklearn.linear_model import LinearRegression\n",
        "from sklearn.model_selection import train_test_split\n",
        "from sklearn.metrics import mean_squared_error\n",
        "\n",
        "# Starting with all the features\n",
        "backward_selection_features = list(x_imputed.columns)\n",
        "\n",
        "# Start with an arbitrarily large initial MSE\n",
        "previous_mse = float('inf')\n",
        "mse_change_threshold = 1e-4  # Adjust this threshold value based on the scale of your MSE\n",
        "\n",
        "#run backward selection\n",
        "while len(backward_selection_features) > 0:\n",
        "    removed_feature_mse = float('inf')\n",
        "    feature_to_remove = None\n",
        "\n",
        "    for feature in backward_selection_features:\n",
        "        candidate_features = backward_selection_features.copy()\n",
        "        candidate_features.remove(feature)\n",
        "\n",
        "        # Split the data into training and testing sets\n",
        "        X_train, X_test, y_train, y_test = train_test_split(x_imputed[candidate_features], y, test_size=0.2, random_state=42)\n",
        "\n",
        "        # Fit a model with the selected features\n",
        "        model = LinearRegression()\n",
        "        model.fit(X_train, y_train)\n",
        "\n",
        "        # Evaluate the model without the current feature\n",
        "        y_pred = model.predict(X_test)\n",
        "        mse = mean_squared_error(y_test, y_pred)\n",
        "\n",
        "        # Update the best feature to remove if the current one is better (lower MSE)\n",
        "        if mse < removed_feature_mse:\n",
        "            removed_feature_mse = mse\n",
        "            feature_to_remove = feature\n",
        "\n",
        "    # Break the loop if change in MSE is smaller than the threshold or if removing a feature increases the MSE\n",
        "    if abs(removed_feature_mse - previous_mse) < mse_change_threshold or removed_feature_mse > previous_mse:\n",
        "        print(\"No significant improvement in MSE or removing any more features deteriorates the model. Stopping backward selection.\")\n",
        "        break\n",
        "\n",
        "    backward_selection_features.remove(feature_to_remove)\n",
        "    print(f\"Removed feature: {feature_to_remove}, Mean Squared Error without Feature: {removed_feature_mse}\")\n",
        "\n",
        "    # Update the previous MSE for the next iteration\n",
        "    previous_mse = removed_feature_mse\n"
      ],
      "metadata": {
        "id": "1NIGQhnnrCDH",
        "colab": {
          "base_uri": "https://localhost:8080/"
        },
        "outputId": "713b18ff-da8c-4dec-fe75-9b3dedd36623"
      },
      "execution_count": null,
      "outputs": [
        {
          "output_type": "stream",
          "name": "stdout",
          "text": [
            "Removed feature: mh_s1, Mean Squared Error without Feature: 115.55953758172377\n",
            "Removed feature: o2thpy02, Mean Squared Error without Feature: 111.30286507581754\n",
            "Removed feature: incar02, Mean Squared Error without Feature: 110.40065693686064\n",
            "Removed feature: nges02, Mean Squared Error without Feature: 109.66540603375437\n",
            "Removed feature: weight20, Mean Squared Error without Feature: 109.10009716111378\n",
            "Removed feature: yrssnr02, Mean Squared Error without Feature: 108.7646633780898\n",
            "Removed feature: ca15, Mean Squared Error without Feature: 108.30558704616779\n",
            "Removed feature: sinus15, Mean Squared Error without Feature: 108.0333617883919\n",
            "Removed feature: thry1, Mean Squared Error without Feature: 107.67478918654383\n",
            "Removed feature: dias220, Mean Squared Error without Feature: 107.44425234115383\n",
            "Removed feature: parrptdiab, Mean Squared Error without Feature: 107.1374858858985\n",
            "Removed feature: sa15, Mean Squared Error without Feature: 106.90384815350156\n",
            "Removed feature: noise02, Mean Squared Error without Feature: 106.62727028009111\n",
            "Removed feature: bmi_s1, Mean Squared Error without Feature: 106.48015964573851\n",
            "Removed feature: emphys15, Mean Squared Error without Feature: 106.18930845805004\n",
            "Removed feature: dias120, Mean Squared Error without Feature: 106.02556251530753\n",
            "Removed feature: twuwea02, Mean Squared Error without Feature: 105.72680503114896\n",
            "Removed feature: hvsnrd02, Mean Squared Error without Feature: 105.59184957035627\n",
            "Removed feature: vpbs, Mean Squared Error without Feature: 105.30087908834118\n",
            "Removed feature: napsmn15, Mean Squared Error without Feature: 105.1956538042109\n",
            "Removed feature: anar1a1, Mean Squared Error without Feature: 104.9592125909018\n",
            "Removed feature: date25, Mean Squared Error without Feature: 104.89917526111645\n",
            "Removed feature: othprbae, Mean Squared Error without Feature: 104.71372375632673\n",
            "Removed feature: stpbrt02, Mean Squared Error without Feature: 104.65704992612801\n",
            "Removed feature: tca1, Mean Squared Error without Feature: 104.48519630800163\n",
            "Removed feature: dias320, Mean Squared Error without Feature: 104.43019071014494\n",
            "Removed feature: hlthlm25, Mean Squared Error without Feature: 104.25438023123559\n",
            "Removed feature: qrs, Mean Squared Error without Feature: 104.21161301707266\n",
            "Removed feature: cabg15, Mean Squared Error without Feature: 104.01491846295474\n",
            "Removed feature: fev1, Mean Squared Error without Feature: 103.98746883843852\n",
            "Removed feature: anar1b1, Mean Squared Error without Feature: 103.8203637420908\n",
            "Removed feature: tfaweh02, Mean Squared Error without Feature: 103.75944250284158\n",
            "Removed feature: lipid1, Mean Squared Error without Feature: 103.59243107063637\n",
            "Removed feature: naps02, Mean Squared Error without Feature: 103.53037433129427\n",
            "Removed feature: climb125, Mean Squared Error without Feature: 103.34356545297729\n",
            "Removed feature: alphad1, Mean Squared Error without Feature: 103.34235412858988\n",
            "Removed feature: loudsn02, Mean Squared Error without Feature: 103.34138910778306\n",
            "Removed feature: cpap02, Mean Squared Error without Feature: 103.19221993105661\n",
            "Removed feature: imosatae, Mean Squared Error without Feature: 103.18912517974549\n",
            "Removed feature: urosatae, Mean Squared Error without Feature: 103.18842812159822\n",
            "Removed feature: part2deg, Mean Squared Error without Feature: 103.18831947278551\n",
            "Removed feature: visitnumber, Mean Squared Error without Feature: 103.18808677475567\n",
            "No significant improvement in MSE or removing any more features deteriorates the model. Stopping backward selection.\n"
          ]
        }
      ]
    },
    {
      "cell_type": "code",
      "source": [
        "# Create a new dataset with only the features having non-zero mutual information\n",
        "backward_selection_dataset = x_imputed[backward_selection_features]\n",
        "\n",
        "# Add the 'ahi_c0h3a' column to the new dataset\n",
        "backward_selection_dataset['ahi_c0h3a'] = shhs1['ahi_c0h3a']"
      ],
      "metadata": {
        "id": "maq49NcirHJ8",
        "colab": {
          "base_uri": "https://localhost:8080/"
        },
        "outputId": "255a4457-6fcc-4f32-b622-d25b1151e066"
      },
      "execution_count": null,
      "outputs": [
        {
          "output_type": "stream",
          "name": "stderr",
          "text": [
            "<ipython-input-51-d859c8b63163>:5: SettingWithCopyWarning: \n",
            "A value is trying to be set on a copy of a slice from a DataFrame.\n",
            "Try using .loc[row_indexer,col_indexer] = value instead\n",
            "\n",
            "See the caveats in the documentation: https://pandas.pydata.org/pandas-docs/stable/user_guide/indexing.html#returning-a-view-versus-a-copy\n",
            "  backward_selection_dataset['ahi_c0h3a'] = shhs1['ahi_c0h3a']\n"
          ]
        }
      ]
    },
    {
      "cell_type": "code",
      "source": [
        "#write to csv\n",
        "backward_selection_dataset.to_csv('backward_selection_ahi_c0h3a.csv', index=False)"
      ],
      "metadata": {
        "id": "qghpByEIrSAN"
      },
      "execution_count": null,
      "outputs": []
    },
    {
      "cell_type": "markdown",
      "source": [
        "## Target variable: hf15"
      ],
      "metadata": {
        "id": "qjUPXi1UjtxC"
      }
    },
    {
      "cell_type": "code",
      "source": [
        "y = x_imputed['hf15']\n",
        "x_imputed = x_imputed.drop(columns=['hf15'])"
      ],
      "metadata": {
        "id": "BuKhyUTCkOHF"
      },
      "execution_count": null,
      "outputs": []
    },
    {
      "cell_type": "markdown",
      "source": [
        "## Random Forest"
      ],
      "metadata": {
        "id": "i1S5omQBmyzP"
      }
    },
    {
      "cell_type": "code",
      "source": [
        "forest = RandomForestRegressor(n_estimators=100)  # You can change the number of trees if needed\n",
        "forest.fit(x_imputed, y)"
      ],
      "metadata": {
        "id": "q8RFfqksmvlA",
        "colab": {
          "base_uri": "https://localhost:8080/",
          "height": 75
        },
        "outputId": "4d96d3b4-f4bd-478c-a584-7b8705bc24da"
      },
      "execution_count": null,
      "outputs": [
        {
          "output_type": "execute_result",
          "data": {
            "text/plain": [
              "RandomForestRegressor()"
            ],
            "text/html": [
              "<style>#sk-container-id-4 {color: black;background-color: white;}#sk-container-id-4 pre{padding: 0;}#sk-container-id-4 div.sk-toggleable {background-color: white;}#sk-container-id-4 label.sk-toggleable__label {cursor: pointer;display: block;width: 100%;margin-bottom: 0;padding: 0.3em;box-sizing: border-box;text-align: center;}#sk-container-id-4 label.sk-toggleable__label-arrow:before {content: \"▸\";float: left;margin-right: 0.25em;color: #696969;}#sk-container-id-4 label.sk-toggleable__label-arrow:hover:before {color: black;}#sk-container-id-4 div.sk-estimator:hover label.sk-toggleable__label-arrow:before {color: black;}#sk-container-id-4 div.sk-toggleable__content {max-height: 0;max-width: 0;overflow: hidden;text-align: left;background-color: #f0f8ff;}#sk-container-id-4 div.sk-toggleable__content pre {margin: 0.2em;color: black;border-radius: 0.25em;background-color: #f0f8ff;}#sk-container-id-4 input.sk-toggleable__control:checked~div.sk-toggleable__content {max-height: 200px;max-width: 100%;overflow: auto;}#sk-container-id-4 input.sk-toggleable__control:checked~label.sk-toggleable__label-arrow:before {content: \"▾\";}#sk-container-id-4 div.sk-estimator input.sk-toggleable__control:checked~label.sk-toggleable__label {background-color: #d4ebff;}#sk-container-id-4 div.sk-label input.sk-toggleable__control:checked~label.sk-toggleable__label {background-color: #d4ebff;}#sk-container-id-4 input.sk-hidden--visually {border: 0;clip: rect(1px 1px 1px 1px);clip: rect(1px, 1px, 1px, 1px);height: 1px;margin: -1px;overflow: hidden;padding: 0;position: absolute;width: 1px;}#sk-container-id-4 div.sk-estimator {font-family: monospace;background-color: #f0f8ff;border: 1px dotted black;border-radius: 0.25em;box-sizing: border-box;margin-bottom: 0.5em;}#sk-container-id-4 div.sk-estimator:hover {background-color: #d4ebff;}#sk-container-id-4 div.sk-parallel-item::after {content: \"\";width: 100%;border-bottom: 1px solid gray;flex-grow: 1;}#sk-container-id-4 div.sk-label:hover label.sk-toggleable__label {background-color: #d4ebff;}#sk-container-id-4 div.sk-serial::before {content: \"\";position: absolute;border-left: 1px solid gray;box-sizing: border-box;top: 0;bottom: 0;left: 50%;z-index: 0;}#sk-container-id-4 div.sk-serial {display: flex;flex-direction: column;align-items: center;background-color: white;padding-right: 0.2em;padding-left: 0.2em;position: relative;}#sk-container-id-4 div.sk-item {position: relative;z-index: 1;}#sk-container-id-4 div.sk-parallel {display: flex;align-items: stretch;justify-content: center;background-color: white;position: relative;}#sk-container-id-4 div.sk-item::before, #sk-container-id-4 div.sk-parallel-item::before {content: \"\";position: absolute;border-left: 1px solid gray;box-sizing: border-box;top: 0;bottom: 0;left: 50%;z-index: -1;}#sk-container-id-4 div.sk-parallel-item {display: flex;flex-direction: column;z-index: 1;position: relative;background-color: white;}#sk-container-id-4 div.sk-parallel-item:first-child::after {align-self: flex-end;width: 50%;}#sk-container-id-4 div.sk-parallel-item:last-child::after {align-self: flex-start;width: 50%;}#sk-container-id-4 div.sk-parallel-item:only-child::after {width: 0;}#sk-container-id-4 div.sk-dashed-wrapped {border: 1px dashed gray;margin: 0 0.4em 0.5em 0.4em;box-sizing: border-box;padding-bottom: 0.4em;background-color: white;}#sk-container-id-4 div.sk-label label {font-family: monospace;font-weight: bold;display: inline-block;line-height: 1.2em;}#sk-container-id-4 div.sk-label-container {text-align: center;}#sk-container-id-4 div.sk-container {/* jupyter's `normalize.less` sets `[hidden] { display: none; }` but bootstrap.min.css set `[hidden] { display: none !important; }` so we also need the `!important` here to be able to override the default hidden behavior on the sphinx rendered scikit-learn.org. See: https://github.com/scikit-learn/scikit-learn/issues/21755 */display: inline-block !important;position: relative;}#sk-container-id-4 div.sk-text-repr-fallback {display: none;}</style><div id=\"sk-container-id-4\" class=\"sk-top-container\"><div class=\"sk-text-repr-fallback\"><pre>RandomForestRegressor()</pre><b>In a Jupyter environment, please rerun this cell to show the HTML representation or trust the notebook. <br />On GitHub, the HTML representation is unable to render, please try loading this page with nbviewer.org.</b></div><div class=\"sk-container\" hidden><div class=\"sk-item\"><div class=\"sk-estimator sk-toggleable\"><input class=\"sk-toggleable__control sk-hidden--visually\" id=\"sk-estimator-id-4\" type=\"checkbox\" checked><label for=\"sk-estimator-id-4\" class=\"sk-toggleable__label sk-toggleable__label-arrow\">RandomForestRegressor</label><div class=\"sk-toggleable__content\"><pre>RandomForestRegressor()</pre></div></div></div></div></div>"
            ]
          },
          "metadata": {},
          "execution_count": 39
        }
      ]
    },
    {
      "cell_type": "code",
      "source": [
        "find_important_features(forest, \"random_forest\", \"hf15\")"
      ],
      "metadata": {
        "colab": {
          "base_uri": "https://localhost:8080/"
        },
        "id": "B0iMdkKlIpm5",
        "outputId": "acd638e9-6b91-41d3-bba9-94c3879eed8e"
      },
      "execution_count": 24,
      "outputs": [
        {
          "output_type": "stream",
          "name": "stderr",
          "text": [
            "<ipython-input-18-cfb83178e5c9>:5: SettingWithCopyWarning: \n",
            "A value is trying to be set on a copy of a slice from a DataFrame.\n",
            "Try using .loc[row_indexer,col_indexer] = value instead\n",
            "\n",
            "See the caveats in the documentation: https://pandas.pydata.org/pandas-docs/stable/user_guide/indexing.html#returning-a-view-versus-a-copy\n",
            "  model_dataset[target_var] = shhs1[target_var]\n"
          ]
        },
        {
          "output_type": "stream",
          "name": "stdout",
          "text": [
            "277\n"
          ]
        }
      ]
    },
    {
      "cell_type": "code",
      "source": [
        "forest_importances = forest.feature_importances_\n",
        "random_forest_features = np.array(x_imputed.columns)[forest_importances > 0]\n",
        "random_forest_dataset = x_imputed[decision_tree_features]\n",
        "random_forest_dataset['hf15'] = shhs1['hf15']"
      ],
      "metadata": {
        "colab": {
          "base_uri": "https://localhost:8080/"
        },
        "id": "9BLOrvgQzq5a",
        "outputId": "a31f81e0-11af-462c-c1f9-c6e35ba59a28"
      },
      "execution_count": 25,
      "outputs": [
        {
          "output_type": "stream",
          "name": "stderr",
          "text": [
            "<ipython-input-25-c550e0a4fed0>:4: SettingWithCopyWarning: \n",
            "A value is trying to be set on a copy of a slice from a DataFrame.\n",
            "Try using .loc[row_indexer,col_indexer] = value instead\n",
            "\n",
            "See the caveats in the documentation: https://pandas.pydata.org/pandas-docs/stable/user_guide/indexing.html#returning-a-view-versus-a-copy\n",
            "  random_forest_dataset['hf15'] = shhs1['hf15']\n"
          ]
        }
      ]
    },
    {
      "cell_type": "code",
      "source": [
        "len(random_forest_features)"
      ],
      "metadata": {
        "colab": {
          "base_uri": "https://localhost:8080/"
        },
        "id": "_patebmxz34M",
        "outputId": "8579f3a6-511a-47fe-bf0e-d2c52b31d493"
      },
      "execution_count": 26,
      "outputs": [
        {
          "output_type": "execute_result",
          "data": {
            "text/plain": [
              "277"
            ]
          },
          "metadata": {},
          "execution_count": 26
        }
      ]
    },
    {
      "cell_type": "code",
      "source": [
        "random_forest_dataset.to_csv('random_forest_hf15.csv', index=False)"
      ],
      "metadata": {
        "id": "CjuirKNIzu_H"
      },
      "execution_count": null,
      "outputs": []
    },
    {
      "cell_type": "markdown",
      "source": [
        "### Decision Tree"
      ],
      "metadata": {
        "id": "sFUQF_7eyrCq"
      }
    },
    {
      "cell_type": "code",
      "source": [
        "tree = DecisionTreeRegressor()\n",
        "tree.fit(x_imputed, y)"
      ],
      "metadata": {
        "colab": {
          "base_uri": "https://localhost:8080/",
          "height": 75
        },
        "id": "t_nJ4q95ytG7",
        "outputId": "c4636548-0f57-478f-dc6f-c5a869e407de"
      },
      "execution_count": 27,
      "outputs": [
        {
          "output_type": "execute_result",
          "data": {
            "text/plain": [
              "DecisionTreeRegressor()"
            ],
            "text/html": [
              "<style>#sk-container-id-3 {color: black;background-color: white;}#sk-container-id-3 pre{padding: 0;}#sk-container-id-3 div.sk-toggleable {background-color: white;}#sk-container-id-3 label.sk-toggleable__label {cursor: pointer;display: block;width: 100%;margin-bottom: 0;padding: 0.3em;box-sizing: border-box;text-align: center;}#sk-container-id-3 label.sk-toggleable__label-arrow:before {content: \"▸\";float: left;margin-right: 0.25em;color: #696969;}#sk-container-id-3 label.sk-toggleable__label-arrow:hover:before {color: black;}#sk-container-id-3 div.sk-estimator:hover label.sk-toggleable__label-arrow:before {color: black;}#sk-container-id-3 div.sk-toggleable__content {max-height: 0;max-width: 0;overflow: hidden;text-align: left;background-color: #f0f8ff;}#sk-container-id-3 div.sk-toggleable__content pre {margin: 0.2em;color: black;border-radius: 0.25em;background-color: #f0f8ff;}#sk-container-id-3 input.sk-toggleable__control:checked~div.sk-toggleable__content {max-height: 200px;max-width: 100%;overflow: auto;}#sk-container-id-3 input.sk-toggleable__control:checked~label.sk-toggleable__label-arrow:before {content: \"▾\";}#sk-container-id-3 div.sk-estimator input.sk-toggleable__control:checked~label.sk-toggleable__label {background-color: #d4ebff;}#sk-container-id-3 div.sk-label input.sk-toggleable__control:checked~label.sk-toggleable__label {background-color: #d4ebff;}#sk-container-id-3 input.sk-hidden--visually {border: 0;clip: rect(1px 1px 1px 1px);clip: rect(1px, 1px, 1px, 1px);height: 1px;margin: -1px;overflow: hidden;padding: 0;position: absolute;width: 1px;}#sk-container-id-3 div.sk-estimator {font-family: monospace;background-color: #f0f8ff;border: 1px dotted black;border-radius: 0.25em;box-sizing: border-box;margin-bottom: 0.5em;}#sk-container-id-3 div.sk-estimator:hover {background-color: #d4ebff;}#sk-container-id-3 div.sk-parallel-item::after {content: \"\";width: 100%;border-bottom: 1px solid gray;flex-grow: 1;}#sk-container-id-3 div.sk-label:hover label.sk-toggleable__label {background-color: #d4ebff;}#sk-container-id-3 div.sk-serial::before {content: \"\";position: absolute;border-left: 1px solid gray;box-sizing: border-box;top: 0;bottom: 0;left: 50%;z-index: 0;}#sk-container-id-3 div.sk-serial {display: flex;flex-direction: column;align-items: center;background-color: white;padding-right: 0.2em;padding-left: 0.2em;position: relative;}#sk-container-id-3 div.sk-item {position: relative;z-index: 1;}#sk-container-id-3 div.sk-parallel {display: flex;align-items: stretch;justify-content: center;background-color: white;position: relative;}#sk-container-id-3 div.sk-item::before, #sk-container-id-3 div.sk-parallel-item::before {content: \"\";position: absolute;border-left: 1px solid gray;box-sizing: border-box;top: 0;bottom: 0;left: 50%;z-index: -1;}#sk-container-id-3 div.sk-parallel-item {display: flex;flex-direction: column;z-index: 1;position: relative;background-color: white;}#sk-container-id-3 div.sk-parallel-item:first-child::after {align-self: flex-end;width: 50%;}#sk-container-id-3 div.sk-parallel-item:last-child::after {align-self: flex-start;width: 50%;}#sk-container-id-3 div.sk-parallel-item:only-child::after {width: 0;}#sk-container-id-3 div.sk-dashed-wrapped {border: 1px dashed gray;margin: 0 0.4em 0.5em 0.4em;box-sizing: border-box;padding-bottom: 0.4em;background-color: white;}#sk-container-id-3 div.sk-label label {font-family: monospace;font-weight: bold;display: inline-block;line-height: 1.2em;}#sk-container-id-3 div.sk-label-container {text-align: center;}#sk-container-id-3 div.sk-container {/* jupyter's `normalize.less` sets `[hidden] { display: none; }` but bootstrap.min.css set `[hidden] { display: none !important; }` so we also need the `!important` here to be able to override the default hidden behavior on the sphinx rendered scikit-learn.org. See: https://github.com/scikit-learn/scikit-learn/issues/21755 */display: inline-block !important;position: relative;}#sk-container-id-3 div.sk-text-repr-fallback {display: none;}</style><div id=\"sk-container-id-3\" class=\"sk-top-container\"><div class=\"sk-text-repr-fallback\"><pre>DecisionTreeRegressor()</pre><b>In a Jupyter environment, please rerun this cell to show the HTML representation or trust the notebook. <br />On GitHub, the HTML representation is unable to render, please try loading this page with nbviewer.org.</b></div><div class=\"sk-container\" hidden><div class=\"sk-item\"><div class=\"sk-estimator sk-toggleable\"><input class=\"sk-toggleable__control sk-hidden--visually\" id=\"sk-estimator-id-3\" type=\"checkbox\" checked><label for=\"sk-estimator-id-3\" class=\"sk-toggleable__label sk-toggleable__label-arrow\">DecisionTreeRegressor</label><div class=\"sk-toggleable__content\"><pre>DecisionTreeRegressor()</pre></div></div></div></div></div>"
            ]
          },
          "metadata": {},
          "execution_count": 27
        }
      ]
    },
    {
      "cell_type": "code",
      "source": [
        "find_important_features(tree, \"decision_tree\", \"hf15\")"
      ],
      "metadata": {
        "colab": {
          "base_uri": "https://localhost:8080/"
        },
        "id": "09huXxkAJCDJ",
        "outputId": "86abb5a7-a947-4a59-8dc1-932d46245cfe"
      },
      "execution_count": 28,
      "outputs": [
        {
          "output_type": "stream",
          "name": "stderr",
          "text": [
            "<ipython-input-18-cfb83178e5c9>:5: SettingWithCopyWarning: \n",
            "A value is trying to be set on a copy of a slice from a DataFrame.\n",
            "Try using .loc[row_indexer,col_indexer] = value instead\n",
            "\n",
            "See the caveats in the documentation: https://pandas.pydata.org/pandas-docs/stable/user_guide/indexing.html#returning-a-view-versus-a-copy\n",
            "  model_dataset[target_var] = shhs1[target_var]\n"
          ]
        },
        {
          "output_type": "stream",
          "name": "stdout",
          "text": [
            "256\n"
          ]
        }
      ]
    },
    {
      "cell_type": "code",
      "source": [
        "tree_importances = tree.feature_importances_\n",
        "decision_tree_features = np.array(x_imputed.columns)[tree_importances > 0]\n",
        "decision_tree_dataset = x_imputed[decision_tree_features]\n",
        "decision_tree_dataset['hf15'] = shhs1['hf15']"
      ],
      "metadata": {
        "colab": {
          "base_uri": "https://localhost:8080/"
        },
        "id": "JhA__Lkyy6Bz",
        "outputId": "2b574ffd-d8ba-43a6-b19f-2850ed630dd3"
      },
      "execution_count": 29,
      "outputs": [
        {
          "output_type": "stream",
          "name": "stderr",
          "text": [
            "<ipython-input-29-b852afced446>:4: SettingWithCopyWarning: \n",
            "A value is trying to be set on a copy of a slice from a DataFrame.\n",
            "Try using .loc[row_indexer,col_indexer] = value instead\n",
            "\n",
            "See the caveats in the documentation: https://pandas.pydata.org/pandas-docs/stable/user_guide/indexing.html#returning-a-view-versus-a-copy\n",
            "  decision_tree_dataset['hf15'] = shhs1['hf15']\n"
          ]
        }
      ]
    },
    {
      "cell_type": "code",
      "source": [
        "len(decision_tree_features)"
      ],
      "metadata": {
        "colab": {
          "base_uri": "https://localhost:8080/"
        },
        "id": "4i5hhnCUzLWI",
        "outputId": "37c2e790-9a50-4bb9-99a3-073412c201b8"
      },
      "execution_count": 30,
      "outputs": [
        {
          "output_type": "execute_result",
          "data": {
            "text/plain": [
              "256"
            ]
          },
          "metadata": {},
          "execution_count": 30
        }
      ]
    },
    {
      "cell_type": "code",
      "source": [
        "decision_tree_dataset.to_csv('decision_tree_hf15.csv', index=False)"
      ],
      "metadata": {
        "id": "pdnD1jlQzMc8"
      },
      "execution_count": null,
      "outputs": []
    },
    {
      "cell_type": "markdown",
      "source": [
        "### Mutual Information"
      ],
      "metadata": {
        "id": "ul2iBVn0ytWU"
      }
    },
    {
      "cell_type": "code",
      "source": [
        "mi = mutual_info_regression(x_imputed, y)"
      ],
      "metadata": {
        "id": "47tAgGzP0EaT"
      },
      "execution_count": 31,
      "outputs": []
    },
    {
      "cell_type": "code",
      "source": [
        "# Get feature names where mutual information is greater than 0\n",
        "mi_features = np.array(x_imputed.columns)[mi > 0]\n",
        "\n",
        "# Create a new dataset with only the features having non-zero mutual information\n",
        "mi_dataset = x_imputed[mi_features]\n",
        "\n",
        "# Add the 'ahi_c0h3a' column to the new dataset\n",
        "mi_dataset['hf15'] = shhs1['hf15']"
      ],
      "metadata": {
        "colab": {
          "base_uri": "https://localhost:8080/"
        },
        "id": "DXXc4ppJ0LHw",
        "outputId": "2a3126fb-462c-408f-fea6-688543ba72cb"
      },
      "execution_count": null,
      "outputs": [
        {
          "output_type": "stream",
          "name": "stderr",
          "text": [
            "<ipython-input-46-bc022fd210c0>:8: SettingWithCopyWarning: \n",
            "A value is trying to be set on a copy of a slice from a DataFrame.\n",
            "Try using .loc[row_indexer,col_indexer] = value instead\n",
            "\n",
            "See the caveats in the documentation: https://pandas.pydata.org/pandas-docs/stable/user_guide/indexing.html#returning-a-view-versus-a-copy\n",
            "  mi_dataset['hf15'] = shhs1['hf15']\n"
          ]
        }
      ]
    },
    {
      "cell_type": "code",
      "source": [
        "len(mi_features)"
      ],
      "metadata": {
        "colab": {
          "base_uri": "https://localhost:8080/"
        },
        "id": "CLahLFdP0U6S",
        "outputId": "2a6d18d7-00cf-4f6c-adea-86b3923fc1b5"
      },
      "execution_count": null,
      "outputs": [
        {
          "output_type": "execute_result",
          "data": {
            "text/plain": [
              "163"
            ]
          },
          "metadata": {},
          "execution_count": 48
        }
      ]
    },
    {
      "cell_type": "code",
      "source": [
        "mi_dataset.to_csv('mi_hf15.csv', index=False)"
      ],
      "metadata": {
        "id": "blEnoPvN0OTn"
      },
      "execution_count": null,
      "outputs": []
    },
    {
      "cell_type": "markdown",
      "source": [
        "### Forward Selection"
      ],
      "metadata": {
        "id": "qxxaXn-S5v94"
      }
    },
    {
      "cell_type": "code",
      "source": [
        "from sklearn.linear_model import LinearRegression\n",
        "from sklearn.model_selection import train_test_split\n",
        "from sklearn.metrics import mean_squared_error\n",
        "\n",
        "forward_selection_features = []\n",
        "\n",
        "# Start with an arbitrarily large initial MSE\n",
        "previous_mse = float('inf')\n",
        "mse_change_threshold = 1e-5  # Adjust this threshold value based on the scale of your MSE\n",
        "\n",
        "while len(forward_selection_features) < len(x_imputed.columns):\n",
        "    remaining_features = list(set(x_imputed.columns) - set(forward_selection_features))\n",
        "    best_feature_mse = float('inf')\n",
        "    best_feature = None\n",
        "\n",
        "    for feature in remaining_features:\n",
        "        candidate_features = forward_selection_features.copy()\n",
        "        candidate_features.append(feature)\n",
        "\n",
        "        # Split the data into training and testing sets\n",
        "        X_train, X_test, y_train, y_test = train_test_split(x_imputed[candidate_features], y, test_size=0.2, random_state=42)\n",
        "\n",
        "        # Fit a model with the selected features\n",
        "        model = LinearRegression()\n",
        "        model.fit(X_train, y_train)\n",
        "\n",
        "        # Evaluate the model with the added feature\n",
        "        y_pred = model.predict(X_test)\n",
        "        mse = mean_squared_error(y_test, y_pred)\n",
        "\n",
        "        # Update the best feature if the current one is better (lower MSE)\n",
        "        if mse < best_feature_mse:\n",
        "            best_feature_mse = mse\n",
        "            best_feature = feature\n",
        "\n",
        "    # Break the loop if change in MSE is smaller than the threshold or if no significant decrease in MSE\n",
        "    if abs(best_feature_mse - previous_mse) < mse_change_threshold or best_feature is None:\n",
        "        print(\"No significant improvement in MSE or no further significant feature found. Stopping forward selection.\")\n",
        "        break\n",
        "\n",
        "    forward_selection_features.append(best_feature)\n",
        "    print(f\"Added feature: {best_feature}, Mean Squared Error with Features: {best_feature_mse}\")\n",
        "\n",
        "    # Update the previous MSE for the next iteration\n",
        "    previous_mse = best_feature_mse"
      ],
      "metadata": {
        "colab": {
          "base_uri": "https://localhost:8080/"
        },
        "id": "sqSsrg1k5u_Y",
        "outputId": "85f75165-25f1-48a3-f53b-8179631a1ea3"
      },
      "execution_count": null,
      "outputs": [
        {
          "output_type": "stream",
          "name": "stdout",
          "text": [
            "Added feature: ca15, Mean Squared Error with Features: 0.4269018975236238\n",
            "Added feature: ntg1, Mean Squared Error with Features: 0.4134223021981537\n",
            "Added feature: paced, Mean Squared Error with Features: 0.40436839177173456\n",
            "Added feature: anar1a1, Mean Squared Error with Features: 0.39815950724775123\n",
            "Added feature: nitro15, Mean Squared Error with Features: 0.3922905564772498\n",
            "Added feature: afib, Mean Squared Error with Features: 0.3878183425443603\n",
            "Added feature: emphys15, Mean Squared Error with Features: 0.3844633249093897\n",
            "Added feature: sob02, Mean Squared Error with Features: 0.3822874616675461\n",
            "Added feature: mi15, Mean Squared Error with Features: 0.3804759498649544\n",
            "Added feature: sa15, Mean Squared Error with Features: 0.37902380769269334\n",
            "Added feature: pacem15, Mean Squared Error with Features: 0.3776377614790319\n",
            "Added feature: yrsns15, Mean Squared Error with Features: 0.3767714850356414\n",
            "Added feature: diasbp, Mean Squared Error with Features: 0.3760827810924168\n",
            "Added feature: insuln1, Mean Squared Error with Features: 0.37540439266985104\n",
            "Added feature: systbp, Mean Squared Error with Features: 0.3747294032599387\n",
            "Added feature: sitlch02, Mean Squared Error with Features: 0.37403963745472013\n",
            "Added feature: hrswe02, Mean Squared Error with Features: 0.3734303449760846\n",
            "Added feature: warf1, Mean Squared Error with Features: 0.37286514865988696\n",
            "Added feature: re_s1, Mean Squared Error with Features: 0.3724785335822387\n",
            "Added feature: ace1, Mean Squared Error with Features: 0.3720797861034567\n",
            "Added feature: lvh3_1, Mean Squared Error with Features: 0.3717730416211485\n",
            "Added feature: qrs, Mean Squared Error with Features: 0.37140016472320075\n",
            "Added feature: st4_1_3, Mean Squared Error with Features: 0.37106651303168253\n",
            "Added feature: nonsp_st, Mean Squared Error with Features: 0.37073911295920137\n",
            "Added feature: coffee15, Mean Squared Error with Features: 0.3704262630298523\n",
            "Added feature: exefrt25, Mean Squared Error with Features: 0.3701037094106797\n",
            "Added feature: limit25, Mean Squared Error with Features: 0.3692226167549924\n",
            "Added feature: slpill15, Mean Squared Error with Features: 0.36891073433397825\n",
            "Added feature: attabl02, Mean Squared Error with Features: 0.36861159374580477\n",
            "Added feature: asth1215, Mean Squared Error with Features: 0.36831114261492\n",
            "Added feature: educat, Mean Squared Error with Features: 0.3680367835980474\n",
            "Added feature: nsaid1, Mean Squared Error with Features: 0.367799970065049\n",
            "Added feature: wk1blk25, Mean Squared Error with Features: 0.367562661315902\n",
            "Added feature: skrctnae, Mean Squared Error with Features: 0.3673308469366984\n",
            "Added feature: angina15, Mean Squared Error with Features: 0.36707261104271016\n",
            "Added feature: syst320, Mean Squared Error with Features: 0.3668427797448449\n",
            "Added feature: alcoh, Mean Squared Error with Features: 0.36661547947644374\n",
            "Added feature: stroke15, Mean Squared Error with Features: 0.3663961113256142\n",
            "Added feature: wudnrs02, Mean Squared Error with Features: 0.3661981892257826\n",
            "Added feature: ventrate, Mean Squared Error with Features: 0.36599199537631605\n",
            "Added feature: needbr02, Mean Squared Error with Features: 0.36579536861772194\n",
            "Added feature: bathe25, Mean Squared Error with Features: 0.36560567594545085\n",
            "Added feature: premar1, Mean Squared Error with Features: 0.3654430815602264\n",
            "Added feature: weight, Mean Squared Error with Features: 0.36522939804600674\n",
            "Added feature: basq1, Mean Squared Error with Features: 0.36507183795898496\n",
            "Added feature: diuret1, Mean Squared Error with Features: 0.3649219405949924\n",
            "Added feature: hctzk1, Mean Squared Error with Features: 0.3643222893892805\n",
            "Added feature: aai, Mean Squared Error with Features: 0.364171192998046\n",
            "Added feature: tfaweh02, Mean Squared Error with Features: 0.36404231404422605\n",
            "Added feature: stress15, Mean Squared Error with Features: 0.3639392753571383\n",
            "Added feature: stpbrt02, Mean Squared Error with Features: 0.36383493550178614\n",
            "Added feature: loudsn02, Mean Squared Error with Features: 0.36373020969523967\n",
            "Added feature: sleepy02, Mean Squared Error with Features: 0.36362967286934844\n",
            "Added feature: incar02, Mean Squared Error with Features: 0.3635146480884251\n",
            "Added feature: antsepmi, Mean Squared Error with Features: 0.36342431283122495\n",
            "Added feature: sympth1, Mean Squared Error with Features: 0.3633410425343046\n",
            "Added feature: sinus15, Mean Squared Error with Features: 0.3632564333273311\n",
            "Added feature: hb02, Mean Squared Error with Features: 0.3631686868228682\n",
            "Added feature: lydwn02, Mean Squared Error with Features: 0.36308919215328755\n",
            "Added feature: truposmi, Mean Squared Error with Features: 0.3629992204868573\n",
            "Added feature: lah, Mean Squared Error with Features: 0.3629261801490601\n",
            "Added feature: weight20, Mean Squared Error with Features: 0.3628483495390288\n",
            "Added feature: rawrp_s1, Mean Squared Error with Features: 0.3627751305086541\n",
            "Added feature: down25, Mean Squared Error with Features: 0.3627049037094846\n",
            "Added feature: happy25, Mean Squared Error with Features: 0.36258132619131445\n",
            "Added feature: rawre_s1, Mean Squared Error with Features: 0.36249199050749187\n",
            "Added feature: armbp, Mean Squared Error with Features: 0.3624200005377885\n",
            "Added feature: wu2em02, Mean Squared Error with Features: 0.3623477792691469\n",
            "Added feature: carful25, Mean Squared Error with Features: 0.3622767938513583\n",
            "Added feature: ntca1, Mean Squared Error with Features: 0.3622081097428837\n",
            "Added feature: mh_s1, Mean Squared Error with Features: 0.36213871830956357\n",
            "Added feature: soda15, Mean Squared Error with Features: 0.36208035740837186\n",
            "Added feature: shhs1_cf, Mean Squared Error with Features: 0.36202503885248716\n",
            "Added feature: othprbae, Mean Squared Error with Features: 0.36197712668866416\n",
            "Added feature: watv02, Mean Squared Error with Features: 0.3619345312703459\n",
            "Added feature: ethnicity, Mean Squared Error with Features: 0.36188930972934136\n",
            "Added feature: hosnr02, Mean Squared Error with Features: 0.36185053581890897\n",
            "Added feature: rp_s1, Mean Squared Error with Features: 0.3611054019631881\n",
            "Added feature: tfawea02, Mean Squared Error with Features: 0.36105472262736976\n",
            "Added feature: pgrcar02, Mean Squared Error with Features: 0.36084902201066055\n",
            "Added feature: vpbs, Mean Squared Error with Features: 0.36078014688712323\n",
            "Added feature: mcs_s1, Mean Squared Error with Features: 0.36067059348537095\n",
            "Added feature: istrd1, Mean Squared Error with Features: 0.3606358636838033\n",
            "Added feature: trig, Mean Squared Error with Features: 0.3606154865842765\n",
            "Added feature: nodal, Mean Squared Error with Features: 0.35948740423983483\n",
            "Added feature: gh_s1, Mean Squared Error with Features: 0.3589466329450614\n",
            "Added feature: lipid1, Mean Squared Error with Features: 0.3584020203849001\n",
            "Added feature: twuwdm02, Mean Squared Error with Features: 0.3583377240142247\n",
            "Added feature: ccbsr1, Mean Squared Error with Features: 0.3580530518091554\n",
            "Added feature: waist, Mean Squared Error with Features: 0.35793579314208873\n",
            "Added feature: worse25, Mean Squared Error with Features: 0.3576312973830627\n",
            "Added feature: shots15, Mean Squared Error with Features: 0.3571609538425527\n",
            "Added feature: cmp1yr25, Mean Squared Error with Features: 0.3570883869810365\n",
            "No significant improvement in MSE or no further significant feature found. Stopping forward selection.\n"
          ]
        }
      ]
    },
    {
      "cell_type": "code",
      "source": [
        "len(forward_selection_features)"
      ],
      "metadata": {
        "colab": {
          "base_uri": "https://localhost:8080/"
        },
        "id": "pPBPGD647nrV",
        "outputId": "48c480ab-dd2e-4fe0-9d4d-21a6dc3ca350"
      },
      "execution_count": null,
      "outputs": [
        {
          "output_type": "execute_result",
          "data": {
            "text/plain": [
              "93"
            ]
          },
          "metadata": {},
          "execution_count": 35
        }
      ]
    },
    {
      "cell_type": "code",
      "source": [
        "# Create a new dataset with only the features having non-zero mutual information\n",
        "forward_selection_dataset = x_imputed[forward_selection_features]\n",
        "\n",
        "# Add the 'ahi_c0h3a' column to the new dataset\n",
        "forward_selection_dataset['hf15'] = shhs1['hf15']"
      ],
      "metadata": {
        "colab": {
          "base_uri": "https://localhost:8080/"
        },
        "id": "ete_8V0258_d",
        "outputId": "40b5fa9d-87cb-44ac-984f-e2b0771e1a43"
      },
      "execution_count": null,
      "outputs": [
        {
          "output_type": "stream",
          "name": "stderr",
          "text": [
            "<ipython-input-36-c416a05ffb5d>:5: SettingWithCopyWarning: \n",
            "A value is trying to be set on a copy of a slice from a DataFrame.\n",
            "Try using .loc[row_indexer,col_indexer] = value instead\n",
            "\n",
            "See the caveats in the documentation: https://pandas.pydata.org/pandas-docs/stable/user_guide/indexing.html#returning-a-view-versus-a-copy\n",
            "  forward_selection_dataset['hf15'] = shhs1['hf15']\n"
          ]
        }
      ]
    },
    {
      "cell_type": "code",
      "source": [
        "forward_selection_dataset.to_csv('forward_selection_hf15.csv', index=False)"
      ],
      "metadata": {
        "id": "5hZWiK466CTT"
      },
      "execution_count": null,
      "outputs": []
    },
    {
      "cell_type": "markdown",
      "source": [
        "### Backward selection"
      ],
      "metadata": {
        "id": "0Ek1uH2p4HM7"
      }
    },
    {
      "cell_type": "code",
      "source": [
        "from sklearn.linear_model import LinearRegression\n",
        "from sklearn.model_selection import train_test_split\n",
        "from sklearn.metrics import mean_squared_error\n",
        "\n",
        "# Starting with all the features\n",
        "backward_selection_features = list(x_imputed.columns)\n",
        "\n",
        "# Start with an arbitrarily large initial MSE\n",
        "previous_mse = float('inf')\n",
        "mse_change_threshold = 1e-4  # Adjust this threshold value based on the scale of your MSE\n",
        "\n",
        "while len(backward_selection_features) > 0:\n",
        "    removed_feature_mse = float('inf')\n",
        "    feature_to_remove = None\n",
        "\n",
        "    for feature in backward_selection_features:\n",
        "        candidate_features = backward_selection_features.copy()\n",
        "        candidate_features.remove(feature)\n",
        "\n",
        "        # Split the data into training and testing sets\n",
        "        X_train, X_test, y_train, y_test = train_test_split(x_imputed[candidate_features], y, test_size=0.2, random_state=42)\n",
        "\n",
        "        # Fit a model with the selected features\n",
        "        model = LinearRegression()\n",
        "        model.fit(X_train, y_train)\n",
        "\n",
        "        # Evaluate the model without the current feature\n",
        "        y_pred = model.predict(X_test)\n",
        "        mse = mean_squared_error(y_test, y_pred)\n",
        "\n",
        "        # Update the best feature to remove if the current one is better (lower MSE)\n",
        "        if mse < removed_feature_mse:\n",
        "            removed_feature_mse = mse\n",
        "            feature_to_remove = feature\n",
        "\n",
        "    # Break the loop if change in MSE is smaller than the threshold or if removing a feature increases the MSE\n",
        "    if abs(removed_feature_mse - previous_mse) < mse_change_threshold or removed_feature_mse > previous_mse:\n",
        "        print(\"No significant improvement in MSE or removing any more features deteriorates the model. Stopping backward selection.\")\n",
        "        break\n",
        "\n",
        "    backward_selection_features.remove(feature_to_remove)\n",
        "    print(f\"Removed feature: {feature_to_remove}, Mean Squared Error without Feature: {removed_feature_mse}\")\n",
        "\n",
        "    # Update the previous MSE for the next iteration\n",
        "    previous_mse = removed_feature_mse"
      ],
      "metadata": {
        "colab": {
          "base_uri": "https://localhost:8080/"
        },
        "id": "5RiBB9W54I5O",
        "outputId": "973a9105-032b-4efa-d4b7-623119d2bf4b"
      },
      "execution_count": null,
      "outputs": [
        {
          "output_type": "stream",
          "name": "stdout",
          "text": [
            "Removed feature: mh_s1, Mean Squared Error without Feature: 0.5081974546928006\n",
            "Removed feature: rawrp_s1, Mean Squared Error without Feature: 0.4272055561900398\n",
            "Removed feature: anar31, Mean Squared Error without Feature: 0.4208104287967728\n",
            "Removed feature: prev_hx_mi, Mean Squared Error without Feature: 0.41741884266835055\n",
            "Removed feature: angina15, Mean Squared Error without Feature: 0.4148126211891616\n",
            "Removed feature: asthma15, Mean Squared Error without Feature: 0.4124365154472988\n",
            "Removed feature: othrcs15, Mean Squared Error without Feature: 0.410051986768463\n",
            "Removed feature: pcs_s1, Mean Squared Error without Feature: 0.40776657207185946\n",
            "Removed feature: lvhst, Mean Squared Error without Feature: 0.4057659438974485\n",
            "Removed feature: rawbp_s1, Mean Squared Error without Feature: 0.40381827762617506\n",
            "Removed feature: nges02, Mean Squared Error without Feature: 0.40198607562182714\n",
            "Removed feature: apbs, Mean Squared Error without Feature: 0.40013911561110027\n",
            "Removed feature: beta1, Mean Squared Error without Feature: 0.39835334622887836\n",
            "Removed feature: ccbsr1, Mean Squared Error without Feature: 0.39690070471702377\n",
            "Removed feature: lvh3_3, Mean Squared Error without Feature: 0.39536491613059255\n",
            "Removed feature: avesmk15, Mean Squared Error without Feature: 0.3941507564189684\n",
            "Removed feature: mi2slp02, Mean Squared Error without Feature: 0.3930612859969864\n",
            "Removed feature: tfawem02, Mean Squared Error without Feature: 0.39200845705020293\n",
            "Removed feature: ohga1, Mean Squared Error without Feature: 0.39097990335252\n",
            "Removed feature: date02, Mean Squared Error without Feature: 0.39002917346860355\n",
            "Removed feature: pdei1, Mean Squared Error without Feature: 0.38915250159276943\n",
            "Removed feature: niac1, Mean Squared Error without Feature: 0.3882794760856031\n",
            "Removed feature: asa15, Mean Squared Error without Feature: 0.3874270785874458\n",
            "Removed feature: av1deg, Mean Squared Error without Feature: 0.3866069555897127\n",
            "Removed feature: cabg15, Mean Squared Error without Feature: 0.3857735457781409\n",
            "Removed feature: ccb1, Mean Squared Error without Feature: 0.38507644975721195\n",
            "Removed feature: wine15, Mean Squared Error without Feature: 0.3843283764412861\n",
            "Removed feature: beer15, Mean Squared Error without Feature: 0.38364073783316677\n",
            "Removed feature: climb125, Mean Squared Error without Feature: 0.3828683813521947\n",
            "Removed feature: phctdn25, Mean Squared Error without Feature: 0.3821162468646891\n",
            "Removed feature: phacls25, Mean Squared Error without Feature: 0.3812698312911516\n",
            "Removed feature: dig1, Mean Squared Error without Feature: 0.3806520236519539\n",
            "Removed feature: ilbbb, Mean Squared Error without Feature: 0.38006292364242383\n",
            "Removed feature: twuweh02, Mean Squared Error without Feature: 0.37959028535476524\n",
            "Removed feature: hrswd02, Mean Squared Error without Feature: 0.3791200347157175\n",
            "Removed feature: iventblk, Mean Squared Error without Feature: 0.3786554762476586\n",
            "Removed feature: infmi, Mean Squared Error without Feature: 0.37810388419112845\n",
            "Removed feature: wk1blk25, Mean Squared Error without Feature: 0.3776200975141116\n",
            "Removed feature: mdsa02, Mean Squared Error without Feature: 0.377174322147448\n",
            "Removed feature: cgpkyr, Mean Squared Error without Feature: 0.3767773281215575\n",
            "Removed feature: rawpf_s1, Mean Squared Error without Feature: 0.3763657426499648\n",
            "Removed feature: membhh02, Mean Squared Error without Feature: 0.3759888435290596\n",
            "Removed feature: ursbpae, Mean Squared Error without Feature: 0.3756418621682188\n",
            "Removed feature: runny15, Mean Squared Error without Feature: 0.37527578491110475\n",
            "Removed feature: prev_hx_stroke, Mean Squared Error without Feature: 0.37492131753922736\n",
            "Removed feature: drive02, Mean Squared Error without Feature: 0.37457804177208404\n",
            "Removed feature: anar1b1, Mean Squared Error without Feature: 0.3742304997618719\n",
            "Removed feature: yrssnr02, Mean Squared Error without Feature: 0.3739272316610587\n",
            "Removed feature: mstat, Mean Squared Error without Feature: 0.37362190491730646\n",
            "Removed feature: race, Mean Squared Error without Feature: 0.3733210716110905\n",
            "Removed feature: shhs1_tcvd, Mean Squared Error without Feature: 0.373019745296483\n",
            "Removed feature: shhs1_all, Mean Squared Error without Feature: 0.37259841989971826\n",
            "Removed feature: cp02, Mean Squared Error without Feature: 0.37230652491508265\n",
            "Removed feature: hostbr02, Mean Squared Error without Feature: 0.37206471133684804\n",
            "Removed feature: betad1, Mean Squared Error without Feature: 0.37184197448404205\n",
            "Removed feature: antlatmi, Mean Squared Error without Feature: 0.3716424747374431\n",
            "Removed feature: asalw15, Mean Squared Error without Feature: 0.3714516664206126\n",
            "Removed feature: painjt02, Mean Squared Error without Feature: 0.3712607340507217\n",
            "Removed feature: hctz1, Mean Squared Error without Feature: 0.37107855743404344\n",
            "Removed feature: diuret1, Mean Squared Error without Feature: 0.37015664664076087\n",
            "Removed feature: benzod1, Mean Squared Error without Feature: 0.36998353199903594\n",
            "Removed feature: smokstat_s1, Mean Squared Error without Feature: 0.36981689311194194\n",
            "Removed feature: irbbb, Mean Squared Error without Feature: 0.3696429870229684\n",
            "Removed feature: nsaid1, Mean Squared Error without Feature: 0.36948261485928985\n",
            "Removed feature: attabl02, Mean Squared Error without Feature: 0.36932539784225327\n",
            "Removed feature: hvsnrd02, Mean Squared Error without Feature: 0.3691678270145095\n",
            "Removed feature: cpap02, Mean Squared Error without Feature: 0.369015214002062\n",
            "Removed feature: napshr15, Mean Squared Error without Feature: 0.36885943929402715\n",
            "Removed feature: crbron15, Mean Squared Error without Feature: 0.36870699522542605\n",
            "Removed feature: twuwem02, Mean Squared Error without Feature: 0.3685633584308596\n",
            "Removed feature: rbbb, Mean Squared Error without Feature: 0.36842377424543393\n",
            "Removed feature: smknow15, Mean Squared Error without Feature: 0.36829306123870037\n",
            "Removed feature: htnderv_s1, Mean Squared Error without Feature: 0.368156323333858\n",
            "Removed feature: htnmed1, Mean Squared Error without Feature: 0.36736703373368934\n",
            "Removed feature: st5_1_3, Mean Squared Error without Feature: 0.3672335476654825\n",
            "Removed feature: truposmi, Mean Squared Error without Feature: 0.36709085418519916\n",
            "Removed feature: phlegm15, Mean Squared Error without Feature: 0.36697439781768965\n",
            "Removed feature: tca1, Mean Squared Error without Feature: 0.36685750457688193\n",
            "Removed feature: bend25, Mean Squared Error without Feature: 0.3667374703266588\n",
            "Removed feature: lift25, Mean Squared Error without Feature: 0.3665862575615562\n",
            "Removed feature: cough315, Mean Squared Error without Feature: 0.36647549446601957\n",
            "Removed feature: istrd1, Mean Squared Error without Feature: 0.3663706749063596\n",
            "Removed feature: ns1yr15, Mean Squared Error without Feature: 0.36626669578259236\n",
            "No significant improvement in MSE or removing any more features deteriorates the model. Stopping backward selection.\n"
          ]
        }
      ]
    },
    {
      "cell_type": "code",
      "source": [
        "# Create a new dataset with only the features having non-zero mutual information\n",
        "backward_selection_dataset = x_imputed[backward_selection_features]\n",
        "\n",
        "# Add the 'ahi_c0h3a' column to the new dataset\n",
        "backward_selection_dataset['hf15'] = shhs1['hf15']"
      ],
      "metadata": {
        "colab": {
          "base_uri": "https://localhost:8080/"
        },
        "id": "sNKP2ChN4OZj",
        "outputId": "46bb6906-e7f3-43e7-f5a9-02ab9a2b1072"
      },
      "execution_count": null,
      "outputs": [
        {
          "output_type": "stream",
          "name": "stderr",
          "text": [
            "<ipython-input-55-be33fb0c6a21>:5: SettingWithCopyWarning: \n",
            "A value is trying to be set on a copy of a slice from a DataFrame.\n",
            "Try using .loc[row_indexer,col_indexer] = value instead\n",
            "\n",
            "See the caveats in the documentation: https://pandas.pydata.org/pandas-docs/stable/user_guide/indexing.html#returning-a-view-versus-a-copy\n",
            "  backward_selection_dataset['hf15'] = shhs1['hf15']\n"
          ]
        }
      ]
    },
    {
      "cell_type": "code",
      "source": [
        "len(backward_selection_features)"
      ],
      "metadata": {
        "colab": {
          "base_uri": "https://localhost:8080/"
        },
        "id": "0N7-7kjlhksB",
        "outputId": "cc6f44bc-fff0-4ec2-a53b-c0cad5559d31"
      },
      "execution_count": null,
      "outputs": [
        {
          "output_type": "execute_result",
          "data": {
            "text/plain": [
              "209"
            ]
          },
          "metadata": {},
          "execution_count": 57
        }
      ]
    },
    {
      "cell_type": "code",
      "source": [
        "backward_selection_dataset.to_csv('backward_selection_hf15.csv', index=False)"
      ],
      "metadata": {
        "id": "XDWD0hGy4Yl4"
      },
      "execution_count": null,
      "outputs": []
    }
  ]
}
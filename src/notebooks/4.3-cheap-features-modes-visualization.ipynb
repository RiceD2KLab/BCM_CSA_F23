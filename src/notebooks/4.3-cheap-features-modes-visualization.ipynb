{
 "cells": [
  {
   "cell_type": "code",
   "execution_count": 1,
   "metadata": {},
   "outputs": [],
   "source": [
    "import pandas as pd\n",
    "from sklearn.preprocessing import StandardScaler\n",
    "from sklearn.impute import KNNImputer\n",
    "from xgboost import XGBRegressor\n",
    "from sklearn.metrics import mean_absolute_error, mean_squared_error\n",
    "from sklearn.model_selection import train_test_split\n",
    "from sklearn.ensemble import RandomForestRegressor\n",
    "from sklearn.linear_model import LinearRegression, Ridge, Lasso\n",
    "from sklearn.tree import DecisionTreeRegressor\n",
    "import os\n",
    "import random\n",
    "import numpy as np\n",
    "from tqdm import tqdm\n",
    "import pickle\n",
    "import dataframe_image as dfi\n",
    "\n",
    "# user defined methods\n",
    "import sys\n",
    "\n",
    "sys.path.append(\"../utils\")\n",
    "\n",
    "from modeling import split_data, train_model, find_best_data_each_model\n",
    "from visualization import model_mae_dataset_table\n",
    "\n",
    "random.seed(0)\n",
    "np.random.seed(0)"
   ]
  },
  {
   "cell_type": "code",
   "execution_count": 2,
   "metadata": {},
   "outputs": [],
   "source": [
    "# supress warnings\n",
    "import warnings\n",
    "\n",
    "warnings.filterwarnings(\"ignore\")"
   ]
  },
  {
   "cell_type": "code",
   "execution_count": 3,
   "metadata": {},
   "outputs": [],
   "source": [
    "os.makedirs('../../models/cheap_features/', exist_ok=True)"
   ]
  },
  {
   "cell_type": "code",
   "execution_count": 4,
   "metadata": {},
   "outputs": [],
   "source": [
    "folder_loc = '../../data/processed/cheap_features/'\n",
    "datasets = os.listdir('../../data/processed/cheap_features/')\n",
    "target = 'ahi_c0h4'"
   ]
  },
  {
   "cell_type": "code",
   "execution_count": 5,
   "metadata": {},
   "outputs": [
    {
     "name": "stderr",
     "output_type": "stream",
     "text": [
      "  0%|          | 0/127 [00:00<?, ?it/s]"
     ]
    },
    {
     "name": "stderr",
     "output_type": "stream",
     "text": [
      "100%|██████████| 127/127 [19:35<00:00,  9.26s/it]\n"
     ]
    }
   ],
   "source": [
    "best_models_cheap_features = find_best_data_each_model(folder_loc, datasets, target)"
   ]
  },
  {
   "cell_type": "code",
   "execution_count": 6,
   "metadata": {},
   "outputs": [],
   "source": [
    "folder_loc = '../../data/interim/feature_selection/'\n",
    "datasets = os.listdir(folder_loc)\n",
    "# Filter dataset names that end with 'ahi_c0h4a'\n",
    "datasets_with_target = [dataset for dataset in datasets if dataset.endswith('ahi_c0h4a.csv')]\n",
    "target = 'ahi_c0h4a'"
   ]
  },
  {
   "cell_type": "code",
   "execution_count": 7,
   "metadata": {},
   "outputs": [
    {
     "name": "stderr",
     "output_type": "stream",
     "text": [
      "100%|██████████| 6/6 [01:35<00:00, 15.91s/it]\n"
     ]
    }
   ],
   "source": [
    "best_models_feature_selection = find_best_data_each_model(folder_loc, datasets_with_target, target)"
   ]
  },
  {
   "cell_type": "code",
   "execution_count": 11,
   "metadata": {},
   "outputs": [
    {
     "data": {
      "text/html": [
       "<style type=\"text/css\">\n",
       "#T_7e7ab th {\n",
       "  font-size: 12pt;\n",
       "  text-align: center;\n",
       "}\n",
       "#T_7e7ab td {\n",
       "  text-align: center;\n",
       "}\n",
       "#T_7e7ab_row4_col0, #T_7e7ab_row4_col1, #T_7e7ab_row4_col2 {\n",
       "  background-color: green;\n",
       "}\n",
       "</style>\n",
       "<table id=\"T_7e7ab\">\n",
       "  <thead>\n",
       "    <tr>\n",
       "      <th class=\"blank level0\" >&nbsp;</th>\n",
       "      <th id=\"T_7e7ab_level0_col0\" class=\"col_heading level0 col0\" >Model</th>\n",
       "      <th id=\"T_7e7ab_level0_col1\" class=\"col_heading level0 col1\" >MAE</th>\n",
       "      <th id=\"T_7e7ab_level0_col2\" class=\"col_heading level0 col2\" >Dataset</th>\n",
       "    </tr>\n",
       "  </thead>\n",
       "  <tbody>\n",
       "    <tr>\n",
       "      <th id=\"T_7e7ab_level0_row0\" class=\"row_heading level0 row0\" >0</th>\n",
       "      <td id=\"T_7e7ab_row0_col0\" class=\"data row0 col0\" >XGBoost</td>\n",
       "      <td id=\"T_7e7ab_row0_col1\" class=\"data row0 col1\" >4.779168</td>\n",
       "      <td id=\"T_7e7ab_row0_col2\" class=\"data row0 col2\" >Anthropometry, Clinical Data, Lifestyle and Behavioral Health, Medical History, Sleep Treatment</td>\n",
       "    </tr>\n",
       "    <tr>\n",
       "      <th id=\"T_7e7ab_level0_row1\" class=\"row_heading level0 row1\" >1</th>\n",
       "      <td id=\"T_7e7ab_row1_col0\" class=\"data row1 col0\" >Random Forest</td>\n",
       "      <td id=\"T_7e7ab_row1_col1\" class=\"data row1 col1\" >4.730034</td>\n",
       "      <td id=\"T_7e7ab_row1_col2\" class=\"data row1 col2\" >Anthropometry, Lifestyle and Behavioral Health</td>\n",
       "    </tr>\n",
       "    <tr>\n",
       "      <th id=\"T_7e7ab_level0_row2\" class=\"row_heading level0 row2\" >2</th>\n",
       "      <td id=\"T_7e7ab_row2_col0\" class=\"data row2 col0\" >Linear Regression</td>\n",
       "      <td id=\"T_7e7ab_row2_col1\" class=\"data row2 col1\" >4.642372</td>\n",
       "      <td id=\"T_7e7ab_row2_col2\" class=\"data row2 col2\" >Anthropometry, Lifestyle and Behavioral Health</td>\n",
       "    </tr>\n",
       "    <tr>\n",
       "      <th id=\"T_7e7ab_level0_row3\" class=\"row_heading level0 row3\" >3</th>\n",
       "      <td id=\"T_7e7ab_row3_col0\" class=\"data row3 col0\" >Lasso Regression</td>\n",
       "      <td id=\"T_7e7ab_row3_col1\" class=\"data row3 col1\" >4.677656</td>\n",
       "      <td id=\"T_7e7ab_row3_col2\" class=\"data row3 col2\" >Anthropometry, Clinical Data, Demographics, General Health, Lifestyle and Behavioral Health, Medical History, Sleep Treatment</td>\n",
       "    </tr>\n",
       "    <tr>\n",
       "      <th id=\"T_7e7ab_level0_row4\" class=\"row_heading level0 row4\" >4</th>\n",
       "      <td id=\"T_7e7ab_row4_col0\" class=\"data row4 col0\" >Ridge Regression</td>\n",
       "      <td id=\"T_7e7ab_row4_col1\" class=\"data row4 col1\" >4.635646</td>\n",
       "      <td id=\"T_7e7ab_row4_col2\" class=\"data row4 col2\" >Anthropometry, Lifestyle and Behavioral Health</td>\n",
       "    </tr>\n",
       "    <tr>\n",
       "      <th id=\"T_7e7ab_level0_row5\" class=\"row_heading level0 row5\" >5</th>\n",
       "      <td id=\"T_7e7ab_row5_col0\" class=\"data row5 col0\" >Decision Tree</td>\n",
       "      <td id=\"T_7e7ab_row5_col1\" class=\"data row5 col1\" >6.182289</td>\n",
       "      <td id=\"T_7e7ab_row5_col2\" class=\"data row5 col2\" >Anthropometry, Clinical Data, Lifestyle and Behavioral Health, Sleep Treatment</td>\n",
       "    </tr>\n",
       "  </tbody>\n",
       "</table>\n"
      ],
      "text/plain": [
       "<pandas.io.formats.style.Styler at 0x1798ab050>"
      ]
     },
     "execution_count": 11,
     "metadata": {},
     "output_type": "execute_result"
    }
   ],
   "source": [
    "cheap_features_table = model_mae_dataset_table(\n",
    "    best_models_cheap_features, \"cheap_feature\"\n",
    ")\n",
    "cheap_features_table"
   ]
  },
  {
   "cell_type": "code",
   "execution_count": 12,
   "metadata": {},
   "outputs": [
    {
     "data": {
      "text/html": [
       "<style type=\"text/css\">\n",
       "#T_11752 th {\n",
       "  font-size: 12pt;\n",
       "  text-align: center;\n",
       "}\n",
       "#T_11752 td {\n",
       "  text-align: center;\n",
       "}\n",
       "#T_11752_row4_col0, #T_11752_row4_col1, #T_11752_row4_col2 {\n",
       "  background-color: green;\n",
       "}\n",
       "</style>\n",
       "<table id=\"T_11752\">\n",
       "  <thead>\n",
       "    <tr>\n",
       "      <th class=\"blank level0\" >&nbsp;</th>\n",
       "      <th id=\"T_11752_level0_col0\" class=\"col_heading level0 col0\" >Model</th>\n",
       "      <th id=\"T_11752_level0_col1\" class=\"col_heading level0 col1\" >MAE</th>\n",
       "      <th id=\"T_11752_level0_col2\" class=\"col_heading level0 col2\" >Dataset</th>\n",
       "    </tr>\n",
       "  </thead>\n",
       "  <tbody>\n",
       "    <tr>\n",
       "      <th id=\"T_11752_level0_row0\" class=\"row_heading level0 row0\" >0</th>\n",
       "      <td id=\"T_11752_row0_col0\" class=\"data row0 col0\" >XGBoost</td>\n",
       "      <td id=\"T_11752_row0_col1\" class=\"data row0 col1\" >6.219634</td>\n",
       "      <td id=\"T_11752_row0_col2\" class=\"data row0 col2\" >Mutual Information</td>\n",
       "    </tr>\n",
       "    <tr>\n",
       "      <th id=\"T_11752_level0_row1\" class=\"row_heading level0 row1\" >1</th>\n",
       "      <td id=\"T_11752_row1_col0\" class=\"data row1 col0\" >Random Forest</td>\n",
       "      <td id=\"T_11752_row1_col1\" class=\"data row1 col1\" >5.960062</td>\n",
       "      <td id=\"T_11752_row1_col2\" class=\"data row1 col2\" >Backward Selection</td>\n",
       "    </tr>\n",
       "    <tr>\n",
       "      <th id=\"T_11752_level0_row2\" class=\"row_heading level0 row2\" >2</th>\n",
       "      <td id=\"T_11752_row2_col0\" class=\"data row2 col0\" >Linear Regression</td>\n",
       "      <td id=\"T_11752_row2_col1\" class=\"data row2 col1\" >5.749217</td>\n",
       "      <td id=\"T_11752_row2_col2\" class=\"data row2 col2\" >Forward Selection</td>\n",
       "    </tr>\n",
       "    <tr>\n",
       "      <th id=\"T_11752_level0_row3\" class=\"row_heading level0 row3\" >3</th>\n",
       "      <td id=\"T_11752_row3_col0\" class=\"data row3 col0\" >Lasso Regression</td>\n",
       "      <td id=\"T_11752_row3_col1\" class=\"data row3 col1\" >5.814538</td>\n",
       "      <td id=\"T_11752_row3_col2\" class=\"data row3 col2\" >Forward Selection</td>\n",
       "    </tr>\n",
       "    <tr>\n",
       "      <th id=\"T_11752_level0_row4\" class=\"row_heading level0 row4\" >4</th>\n",
       "      <td id=\"T_11752_row4_col0\" class=\"data row4 col0\" >Ridge Regression</td>\n",
       "      <td id=\"T_11752_row4_col1\" class=\"data row4 col1\" >5.747436</td>\n",
       "      <td id=\"T_11752_row4_col2\" class=\"data row4 col2\" >Forward Selection</td>\n",
       "    </tr>\n",
       "    <tr>\n",
       "      <th id=\"T_11752_level0_row5\" class=\"row_heading level0 row5\" >5</th>\n",
       "      <td id=\"T_11752_row5_col0\" class=\"data row5 col0\" >Decision Tree</td>\n",
       "      <td id=\"T_11752_row5_col1\" class=\"data row5 col1\" >8.131265</td>\n",
       "      <td id=\"T_11752_row5_col2\" class=\"data row5 col2\" >Decision Tree</td>\n",
       "    </tr>\n",
       "  </tbody>\n",
       "</table>\n"
      ],
      "text/plain": [
       "<pandas.io.formats.style.Styler at 0x1796bdd50>"
      ]
     },
     "execution_count": 12,
     "metadata": {},
     "output_type": "execute_result"
    }
   ],
   "source": [
    "feature_selection_table = model_mae_dataset_table(\n",
    "    best_models_feature_selection, \"feature_selection\"\n",
    ")\n",
    "feature_selection_table"
   ]
  },
  {
   "cell_type": "code",
   "execution_count": 13,
   "metadata": {},
   "outputs": [],
   "source": [
    "os.chdir(\"../../vizualizations/\")\n",
    "dfi.export(\n",
    "    cheap_features_table.hide(axis=\"index\"),\n",
    "    \"cheap feature performance.png\",\n",
    "    dpi=300,\n",
    ")\n",
    "dfi.export(\n",
    "    feature_selection_table.hide(axis=\"index\"),\n",
    "    \"feature selection performance.png\",\n",
    "    dpi=300,\n",
    ")"
   ]
  }
 ],
 "metadata": {
  "kernelspec": {
   "display_name": "base",
   "language": "python",
   "name": "python3"
  },
  "language_info": {
   "codemirror_mode": {
    "name": "ipython",
    "version": 3
   },
   "file_extension": ".py",
   "mimetype": "text/x-python",
   "name": "python",
   "nbconvert_exporter": "python",
   "pygments_lexer": "ipython3",
   "version": "3.11.5"
  }
 },
 "nbformat": 4,
 "nbformat_minor": 2
}

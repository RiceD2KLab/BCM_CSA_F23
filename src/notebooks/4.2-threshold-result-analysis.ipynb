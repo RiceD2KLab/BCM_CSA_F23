{
 "cells": [
  {
   "cell_type": "markdown",
   "metadata": {},
   "source": [
    "# Threshold Analysis"
   ]
  },
  {
   "cell_type": "code",
   "execution_count": 1,
   "metadata": {},
   "outputs": [],
   "source": [
    "import os\n",
    "import pandas as pd\n",
    "\n",
    "# user defined methods\n",
    "import sys\n",
    "sys.path.append('../utils')\n",
    "\n",
    "from threshold_analysis import extract_info_folder, extract_log, create_heatmap\n",
    "\n",
    "log_dir = os.listdir('../../results/threshold/2023-11-13/')\n"
   ]
  },
  {
   "cell_type": "code",
   "execution_count": 2,
   "metadata": {},
   "outputs": [
    {
     "name": "stdout",
     "output_type": "stream",
     "text": [
      "1440\n"
     ]
    }
   ],
   "source": [
    "print(len(log_dir))"
   ]
  },
  {
   "cell_type": "code",
   "execution_count": 4,
   "metadata": {},
   "outputs": [],
   "source": [
    "# Initialize a dictionary to store the best model for each i and j\n",
    "best_models = {}\n",
    "\n",
    "for folder in os.listdir(log_dir):\n",
    "    folder_path = os.path.join(log_dir, folder)\n",
    "    if os.path.isdir(folder_path):\n",
    "        log_file_path = os.path.join(folder_path, 'find_threshold.log')\n",
    "        if os.path.isfile(log_file_path):\n",
    "            dataset, model, target, threshold_j, threshold_i = extract_info_folder(folder)\n",
    "            f1_test, f1_val, fn_rate, cm = extract_log(log_file_path)\n",
    "            \n",
    "            if fn_rate is not None:  # Ensure fn_rate is not None\n",
    "                key = (threshold_j, threshold_i)\n",
    "                if key not in best_models or (fn_rate < best_models[key][0] or \n",
    "                                              (fn_rate == best_models[key][0] and f1_test > best_models[key][1]) or \n",
    "                                              (fn_rate == best_models[key][0] and f1_test == best_models[key][1] and f1_val > best_models[key][2])):\n",
    "                    best_models[key] = (fn_rate, f1_test, f1_val, model, threshold_j, threshold_i)\n",
    "\n",
    "# Create a dataframe from the best models\n",
    "df = pd.DataFrame.from_dict(best_models, orient='index', \n",
    "                            columns=['False Negative Rate', 'F1 Test Score', 'F1 Val Score', 'Model', 'j_value', 'i_value'])\n",
    "\n",
    "\n",
    "df_sorted = df.sort_values(by=['j_value', 'i_value'])"
   ]
  },
  {
   "cell_type": "code",
   "execution_count": 5,
   "metadata": {},
   "outputs": [
    {
     "name": "stdout",
     "output_type": "stream",
     "text": [
      "Dataset: feature_selection_mrmr20\n",
      "Model: decision_tree\n",
      "Target: hf15\n",
      "Threshold CAHI > 2\n",
      "Threshold CAHI > OAHI * 1/1\n"
     ]
    }
   ],
   "source": [
    "df_sorted.head()"
   ]
  },
  {
   "cell_type": "code",
   "execution_count": null,
   "metadata": {},
   "outputs": [],
   "source": [
    "# Create and save heatmaps individually as images\n",
    "pivot_f1_test = df.pivot(\"i_value\", \"j_value\", \"F1 Test Score\")\n",
    "create_heatmap(pivot_f1_test, 'F1 Test Score for Each i, j Combination', 'f1_test_score_heatmap.png')\n",
    "\n",
    "pivot_f1_val = df.pivot(\"i_value\", \"j_value\", \"F1 Val Score\")\n",
    "create_heatmap(pivot_f1_val, 'F1 Validation Score for Each i, j Combination', 'f1_val_score_heatmap.png')\n",
    "\n",
    "pivot_fn_rate = df.pivot(\"i_value\", \"j_value\", \"False Negative Rate\")\n",
    "create_heatmap(pivot_fn_rate, 'False Negative Rate for Each i, j Combination', 'fn_rate_heatmap.png')"
   ]
  }
 ],
 "metadata": {
  "kernelspec": {
   "display_name": "csa",
   "language": "python",
   "name": "python3"
  },
  "language_info": {
   "codemirror_mode": {
    "name": "ipython",
    "version": 3
   },
   "file_extension": ".py",
   "mimetype": "text/x-python",
   "name": "python",
   "nbconvert_exporter": "python",
   "pygments_lexer": "ipython3",
   "version": "3.9.6"
  }
 },
 "nbformat": 4,
 "nbformat_minor": 2
}

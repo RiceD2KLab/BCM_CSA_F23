{
 "cells": [
  {
   "cell_type": "code",
   "execution_count": 13,
   "metadata": {},
   "outputs": [],
   "source": [
    "import pandas as pd\n",
    "from sklearn.preprocessing import StandardScaler\n",
    "from sklearn.impute import KNNImputer\n",
    "from xgboost import XGBRegressor\n",
    "from sklearn.metrics import mean_absolute_error, mean_squared_error\n",
    "from sklearn.model_selection import train_test_split\n",
    "from sklearn.ensemble import RandomForestRegressor\n",
    "from sklearn.linear_model import LinearRegression, Ridge, Lasso\n",
    "from sklearn.tree import DecisionTreeRegressor\n",
    "import os\n",
    "import random\n",
    "import numpy as np\n",
    "from tqdm import tqdm\n",
    "import pickle\n",
    "import dataframe_image as dfi\n",
    "\n",
    "# user defined methods\n",
    "import sys\n",
    "\n",
    "sys.path.append(\"../utils\")\n",
    "\n",
    "from modeling import split_data, train_model, find_best_data_each_model\n",
    "from visualization import feature_selection_cheap_feature_comparison\n",
    "\n",
    "random.seed(0)\n",
    "np.random.seed(0)"
   ]
  },
  {
   "cell_type": "code",
   "execution_count": 3,
   "metadata": {},
   "outputs": [],
   "source": [
    "# supress warnings\n",
    "import warnings\n",
    "\n",
    "warnings.filterwarnings(\"ignore\")"
   ]
  },
  {
   "cell_type": "code",
   "execution_count": 4,
   "metadata": {},
   "outputs": [],
   "source": [
    "os.makedirs('../../models/cheap_features/', exist_ok=True)"
   ]
  },
  {
   "cell_type": "code",
   "execution_count": 5,
   "metadata": {},
   "outputs": [],
   "source": [
    "folder_loc = '../../data/processed/cheap_features/'\n",
    "datasets = os.listdir('../../data/processed/cheap_features/')\n",
    "target = 'ahi_c0h4'"
   ]
  },
  {
   "cell_type": "code",
   "execution_count": 6,
   "metadata": {},
   "outputs": [
    {
     "name": "stderr",
     "output_type": "stream",
     "text": [
      "100%|██████████| 127/127 [19:26<00:00,  9.18s/it]\n"
     ]
    }
   ],
   "source": [
    "best_models_cheap_features = find_best_data_each_model(folder_loc, datasets, target)"
   ]
  },
  {
   "cell_type": "code",
   "execution_count": 8,
   "metadata": {},
   "outputs": [],
   "source": [
    "folder_loc = '../../data/interim/feature_selection/'\n",
    "datasets = os.listdir(folder_loc)\n",
    "# Filter dataset names that end with 'ahi_c0h4a'\n",
    "datasets_with_target = [dataset for dataset in datasets if dataset.endswith('ahi_c0h4a.csv')]\n",
    "target = 'ahi_c0h4a'"
   ]
  },
  {
   "cell_type": "code",
   "execution_count": 9,
   "metadata": {},
   "outputs": [
    {
     "name": "stderr",
     "output_type": "stream",
     "text": [
      "100%|██████████| 6/6 [01:35<00:00, 15.89s/it]\n"
     ]
    }
   ],
   "source": [
    "best_models_feature_selection = find_best_data_each_model(folder_loc, datasets_with_target, target)"
   ]
  },
  {
   "cell_type": "code",
   "execution_count": 15,
   "metadata": {},
   "outputs": [
    {
     "data": {
      "text/html": [
       "<style type=\"text/css\">\n",
       "#T_9fd4d th {\n",
       "  font-size: 12pt;\n",
       "  text-align: center;\n",
       "}\n",
       "#T_9fd4d td {\n",
       "  text-align: center;\n",
       "}\n",
       "#T_9fd4d_row4_col1, #T_9fd4d_row4_col3 {\n",
       "  background-color: red;\n",
       "}\n",
       "</style>\n",
       "<table id=\"T_9fd4d\">\n",
       "  <thead>\n",
       "    <tr>\n",
       "      <th class=\"blank level0\" >&nbsp;</th>\n",
       "      <th id=\"T_9fd4d_level0_col0\" class=\"col_heading level0 col0\" >Model</th>\n",
       "      <th id=\"T_9fd4d_level0_col1\" class=\"col_heading level0 col1\" >MAE for Cheap Features</th>\n",
       "      <th id=\"T_9fd4d_level0_col2\" class=\"col_heading level0 col2\" >Dataset for Cheap Features</th>\n",
       "      <th id=\"T_9fd4d_level0_col3\" class=\"col_heading level0 col3\" >MAE for Feature Selection</th>\n",
       "      <th id=\"T_9fd4d_level0_col4\" class=\"col_heading level0 col4\" >Dataset for Feature Selection</th>\n",
       "    </tr>\n",
       "  </thead>\n",
       "  <tbody>\n",
       "    <tr>\n",
       "      <th id=\"T_9fd4d_level0_row0\" class=\"row_heading level0 row0\" >0</th>\n",
       "      <td id=\"T_9fd4d_row0_col0\" class=\"data row0 col0\" >XGBoost</td>\n",
       "      <td id=\"T_9fd4d_row0_col1\" class=\"data row0 col1\" >4.779168</td>\n",
       "      <td id=\"T_9fd4d_row0_col2\" class=\"data row0 col2\" >Ant_Cli_Lif_Med_Tre.csv</td>\n",
       "      <td id=\"T_9fd4d_row0_col3\" class=\"data row0 col3\" >6.219634</td>\n",
       "      <td id=\"T_9fd4d_row0_col4\" class=\"data row0 col4\" >mutual_information_ahi_c0h4a.csv</td>\n",
       "    </tr>\n",
       "    <tr>\n",
       "      <th id=\"T_9fd4d_level0_row1\" class=\"row_heading level0 row1\" >1</th>\n",
       "      <td id=\"T_9fd4d_row1_col0\" class=\"data row1 col0\" >random forest</td>\n",
       "      <td id=\"T_9fd4d_row1_col1\" class=\"data row1 col1\" >4.730034</td>\n",
       "      <td id=\"T_9fd4d_row1_col2\" class=\"data row1 col2\" >Ant_Lif.csv</td>\n",
       "      <td id=\"T_9fd4d_row1_col3\" class=\"data row1 col3\" >5.960062</td>\n",
       "      <td id=\"T_9fd4d_row1_col4\" class=\"data row1 col4\" >backward_selection_AIC_ahi_c0h4a.csv</td>\n",
       "    </tr>\n",
       "    <tr>\n",
       "      <th id=\"T_9fd4d_level0_row2\" class=\"row_heading level0 row2\" >2</th>\n",
       "      <td id=\"T_9fd4d_row2_col0\" class=\"data row2 col0\" >linear regression</td>\n",
       "      <td id=\"T_9fd4d_row2_col1\" class=\"data row2 col1\" >4.642372</td>\n",
       "      <td id=\"T_9fd4d_row2_col2\" class=\"data row2 col2\" >Ant_Lif.csv</td>\n",
       "      <td id=\"T_9fd4d_row2_col3\" class=\"data row2 col3\" >5.749217</td>\n",
       "      <td id=\"T_9fd4d_row2_col4\" class=\"data row2 col4\" >forward_selection_AIC_ahi_c0h4a.csv</td>\n",
       "    </tr>\n",
       "    <tr>\n",
       "      <th id=\"T_9fd4d_level0_row3\" class=\"row_heading level0 row3\" >3</th>\n",
       "      <td id=\"T_9fd4d_row3_col0\" class=\"data row3 col0\" >lasso regression</td>\n",
       "      <td id=\"T_9fd4d_row3_col1\" class=\"data row3 col1\" >4.677656</td>\n",
       "      <td id=\"T_9fd4d_row3_col2\" class=\"data row3 col2\" >Ant_Cli_Dem_Gen_Lif_Med_Tre.csv</td>\n",
       "      <td id=\"T_9fd4d_row3_col3\" class=\"data row3 col3\" >5.814538</td>\n",
       "      <td id=\"T_9fd4d_row3_col4\" class=\"data row3 col4\" >forward_selection_BIC_ahi_c0h4a.csv</td>\n",
       "    </tr>\n",
       "    <tr>\n",
       "      <th id=\"T_9fd4d_level0_row4\" class=\"row_heading level0 row4\" >4</th>\n",
       "      <td id=\"T_9fd4d_row4_col0\" class=\"data row4 col0\" >ridge regression</td>\n",
       "      <td id=\"T_9fd4d_row4_col1\" class=\"data row4 col1\" >4.635646</td>\n",
       "      <td id=\"T_9fd4d_row4_col2\" class=\"data row4 col2\" >Ant_Lif.csv</td>\n",
       "      <td id=\"T_9fd4d_row4_col3\" class=\"data row4 col3\" >5.747436</td>\n",
       "      <td id=\"T_9fd4d_row4_col4\" class=\"data row4 col4\" >forward_selection_AIC_ahi_c0h4a.csv</td>\n",
       "    </tr>\n",
       "    <tr>\n",
       "      <th id=\"T_9fd4d_level0_row5\" class=\"row_heading level0 row5\" >5</th>\n",
       "      <td id=\"T_9fd4d_row5_col0\" class=\"data row5 col0\" >decision tree</td>\n",
       "      <td id=\"T_9fd4d_row5_col1\" class=\"data row5 col1\" >6.182289</td>\n",
       "      <td id=\"T_9fd4d_row5_col2\" class=\"data row5 col2\" >Ant_Cli_Lif_Tre.csv</td>\n",
       "      <td id=\"T_9fd4d_row5_col3\" class=\"data row5 col3\" >8.131265</td>\n",
       "      <td id=\"T_9fd4d_row5_col4\" class=\"data row5 col4\" >decision_tree_ahi_c0h4a.csv</td>\n",
       "    </tr>\n",
       "  </tbody>\n",
       "</table>\n"
      ],
      "text/plain": [
       "<pandas.io.formats.style.Styler at 0x289550710>"
      ]
     },
     "execution_count": 15,
     "metadata": {},
     "output_type": "execute_result"
    }
   ],
   "source": [
    "table_visualization = feature_selection_cheap_feature_comparison(\n",
    "    best_models_cheap_features, best_models_feature_selection\n",
    ")\n",
    "table_visualization"
   ]
  },
  {
   "cell_type": "code",
   "execution_count": 16,
   "metadata": {},
   "outputs": [],
   "source": [
    "os.chdir('../../vizualizations/')\n",
    "dfi.export(styled_table.hide(axis='index'), 'cheap features and feature selection comparison.png', dpi=300)"
   ]
  }
 ],
 "metadata": {
  "kernelspec": {
   "display_name": "base",
   "language": "python",
   "name": "python3"
  },
  "language_info": {
   "codemirror_mode": {
    "name": "ipython",
    "version": 3
   },
   "file_extension": ".py",
   "mimetype": "text/x-python",
   "name": "python",
   "nbconvert_exporter": "python",
   "pygments_lexer": "ipython3",
   "version": "3.11.5"
  }
 },
 "nbformat": 4,
 "nbformat_minor": 2
}

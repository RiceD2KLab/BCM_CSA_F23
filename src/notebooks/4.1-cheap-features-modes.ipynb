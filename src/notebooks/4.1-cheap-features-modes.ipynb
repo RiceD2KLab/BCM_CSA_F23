{
 "cells": [
  {
   "cell_type": "code",
   "execution_count": 45,
   "metadata": {},
   "outputs": [],
   "source": [
    "import pandas as pd\n",
    "from sklearn.preprocessing import StandardScaler\n",
    "from sklearn.impute import KNNImputer\n",
    "from xgboost import XGBRegressor\n",
    "from sklearn.metrics import mean_absolute_error, mean_squared_error\n",
    "from sklearn.model_selection import train_test_split\n",
    "from sklearn.ensemble import RandomForestRegressor\n",
    "from sklearn.linear_model import LinearRegression, Ridge, Lasso\n",
    "from sklearn.tree import DecisionTreeRegressor\n",
    "import os\n",
    "import random\n",
    "import numpy as np\n",
    "from tqdm import tqdm\n",
    "import pickle\n",
    "\n",
    "# user defined methods\n",
    "import sys\n",
    "sys.path.append('../utils')\n",
    "\n",
    "#from modeling import split_data, train_model, find_best_data\n",
    "import modeling\n",
    "\n",
    "random.seed(0)\n",
    "np.random.seed(0)"
   ]
  },
  {
   "cell_type": "code",
   "execution_count": 46,
   "metadata": {},
   "outputs": [],
   "source": [
    "# supress warnings\n",
    "import warnings\n",
    "\n",
    "warnings.filterwarnings(\"ignore\")"
   ]
  },
  {
   "cell_type": "code",
   "execution_count": 47,
   "metadata": {},
   "outputs": [],
   "source": [
    "os.makedirs('../../models/cheap_features/', exist_ok=True)"
   ]
  },
  {
   "cell_type": "markdown",
   "metadata": {},
   "source": [
    "# Models: Finding cheap features to predict Central Sleep Apnea"
   ]
  },
  {
   "cell_type": "code",
   "execution_count": 48,
   "metadata": {},
   "outputs": [],
   "source": [
    "folder_loc = '../../data/processed/cheap_features/'\n",
    "#datasets = os.listdir('../../data/processed/cheap_features/')"
   ]
  },
  {
   "cell_type": "code",
   "execution_count": 49,
   "metadata": {},
   "outputs": [],
   "source": [
    "target = 'ahi_c0h4'"
   ]
  },
  {
   "cell_type": "code",
   "execution_count": 50,
   "metadata": {},
   "outputs": [
    {
     "ename": "NameError",
     "evalue": "name 'find_best_data' is not defined",
     "output_type": "error",
     "traceback": [
      "\u001b[0;31m---------------------------------------------------------------------------\u001b[0m",
      "\u001b[0;31mNameError\u001b[0m                                 Traceback (most recent call last)",
      "\u001b[1;32m/Users/benzhao/Desktop/CSA/BCM_CSA_F23/src/notebooks/4.1-cheap-features-modes.ipynb Cell 7\u001b[0m line \u001b[0;36m7\n\u001b[1;32m      <a href='vscode-notebook-cell:/Users/benzhao/Desktop/CSA/BCM_CSA_F23/src/notebooks/4.1-cheap-features-modes.ipynb#W6sZmlsZQ%3D%3D?line=0'>1</a>\u001b[0m \u001b[39m# best_model = None\u001b[39;00m\n\u001b[1;32m      <a href='vscode-notebook-cell:/Users/benzhao/Desktop/CSA/BCM_CSA_F23/src/notebooks/4.1-cheap-features-modes.ipynb#W6sZmlsZQ%3D%3D?line=1'>2</a>\u001b[0m \u001b[39m# model_name = None\u001b[39;00m\n\u001b[1;32m      <a href='vscode-notebook-cell:/Users/benzhao/Desktop/CSA/BCM_CSA_F23/src/notebooks/4.1-cheap-features-modes.ipynb#W6sZmlsZQ%3D%3D?line=2'>3</a>\u001b[0m \u001b[39m# best_mae = 100000\u001b[39;00m\n\u001b[0;32m   (...)\u001b[0m\n\u001b[1;32m     <a href='vscode-notebook-cell:/Users/benzhao/Desktop/CSA/BCM_CSA_F23/src/notebooks/4.1-cheap-features-modes.ipynb#W6sZmlsZQ%3D%3D?line=71'>72</a>\u001b[0m \n\u001b[1;32m     <a href='vscode-notebook-cell:/Users/benzhao/Desktop/CSA/BCM_CSA_F23/src/notebooks/4.1-cheap-features-modes.ipynb#W6sZmlsZQ%3D%3D?line=72'>73</a>\u001b[0m \u001b[39m# Save model\u001b[39;00m\n\u001b[0;32m---> <a href='vscode-notebook-cell:/Users/benzhao/Desktop/CSA/BCM_CSA_F23/src/notebooks/4.1-cheap-features-modes.ipynb#W6sZmlsZQ%3D%3D?line=74'>75</a>\u001b[0m best_mae, best_model, model_name, best_dataset \u001b[39m=\u001b[39m find_best_data(folder_loc, targer)\n\u001b[1;32m     <a href='vscode-notebook-cell:/Users/benzhao/Desktop/CSA/BCM_CSA_F23/src/notebooks/4.1-cheap-features-modes.ipynb#W6sZmlsZQ%3D%3D?line=76'>77</a>\u001b[0m pickle\u001b[39m.\u001b[39mdump(best_model, \u001b[39mopen\u001b[39m(\u001b[39m'\u001b[39m\u001b[39m../../models/cheap_features/\u001b[39m\u001b[39m'\u001b[39m \u001b[39m+\u001b[39m model_name \u001b[39m+\u001b[39m \u001b[39m'\u001b[39m\u001b[39m.pkl\u001b[39m\u001b[39m'\u001b[39m, \u001b[39m'\u001b[39m\u001b[39mwb\u001b[39m\u001b[39m'\u001b[39m))\n",
      "\u001b[0;31mNameError\u001b[0m: name 'find_best_data' is not defined"
     ]
    }
   ],
   "source": [
    "# best_model = None\n",
    "# model_name = None\n",
    "# best_mae = 100000\n",
    "# best_dataset = None\n",
    "\n",
    "# for dataset in tqdm(datasets):\n",
    "#     # Load data\n",
    "#     df = pd.read_csv(folder_loc + dataset)\n",
    "\n",
    "#     features = df.columns.tolist()\n",
    "#     features.remove(target)\n",
    "\n",
    "#     # Split data\n",
    "#     X_train, X_test, y_train, y_test, X_val, y_val = split_data(df, features, target)\n",
    "\n",
    "#     # Train xgboost\n",
    "\n",
    "#     mae_xgb, model_xgb = train_model(XGBRegressor(random_state=1), X_train, y_train, X_test, y_test, X_val, y_val)\n",
    "\n",
    "#     # Train random forest\n",
    "\n",
    "#     mae_rf, model_rf = train_model(RandomForestRegressor(random_state=1), X_train, y_train, X_test, y_test, X_val, y_val)\n",
    "\n",
    "#     # Train linear regression\n",
    "\n",
    "#     mae_lr, model_lr = train_model(LinearRegression(), X_train, y_train, X_test, y_test, X_val, y_val)\n",
    "\n",
    "#     # Train lasso\n",
    "\n",
    "#     mae_lasso, model_lasso = train_model(Lasso(random_state=1), X_train, y_train, X_test, y_test, X_val, y_val)\n",
    "\n",
    "#     # Train ridge\n",
    "\n",
    "#     mae_ridge, model_ridge = train_model(Ridge(random_state=1), X_train, y_train, X_test, y_test, X_val, y_val)\n",
    "\n",
    "#     # Train decision tree\n",
    "\n",
    "#     mae_dt, model_dt = train_model(DecisionTreeRegressor(random_state=1), X_train, y_train, X_test, y_test, X_val, y_val)\n",
    "\n",
    "#     # Save best model\n",
    "\n",
    "#     if mae_xgb < best_mae:\n",
    "#         best_mae = mae_xgb\n",
    "#         best_model = model_xgb\n",
    "#         model_name = 'xgb'\n",
    "#         best_dataset = dataset\n",
    "#     if mae_rf < best_mae:\n",
    "#         best_mae = mae_rf\n",
    "#         best_model = model_rf\n",
    "#         model_name = 'rf'\n",
    "#         best_dataset = dataset\n",
    "#     if mae_lr < best_mae:\n",
    "#         best_mae = mae_lr\n",
    "#         best_model = model_lr\n",
    "#         model_name = 'lr'\n",
    "#         best_dataset = dataset\n",
    "#     if mae_lasso < best_mae:\n",
    "#         best_mae = mae_lasso\n",
    "#         best_model = model_lasso\n",
    "#         model_name = 'lasso'\n",
    "#         best_dataset = dataset\n",
    "#     if mae_ridge < best_mae:\n",
    "#         best_mae = mae_ridge\n",
    "#         best_model = model_ridge\n",
    "#         model_name = 'ridge'\n",
    "#         best_dataset = dataset\n",
    "#     if mae_dt < best_mae:\n",
    "#         best_mae = mae_dt\n",
    "#         best_model = model_dt\n",
    "#         model_name = 'dt'\n",
    "#         best_dataset = dataset\n",
    "\n",
    "# Save model\n",
    "\n",
    "best_mae, best_model, model_name, best_dataset = find_best_data(folder_loc, targer)\n",
    "\n",
    "pickle.dump(best_model, open('../../models/cheap_features/' + model_name + '.pkl', 'wb'))"
   ]
  },
  {
   "cell_type": "code",
   "execution_count": null,
   "metadata": {},
   "outputs": [
    {
     "name": "stdout",
     "output_type": "stream",
     "text": [
      "ridge 4.635646174021972\n"
     ]
    }
   ],
   "source": [
    "print(model_name, best_mae)"
   ]
  },
  {
   "cell_type": "code",
   "execution_count": null,
   "metadata": {},
   "outputs": [
    {
     "data": {
      "text/plain": [
       "array(['hip', 'neck20', 'coffee15', 'tea15', 'soda15', 'evsmok15',\n",
       "       'smknow15', 'asa15', 'smokstat_s1', 'bmi_s1', 'weight', 'waist',\n",
       "       'height', 'weight20', 'nsrrid'], dtype=object)"
      ]
     },
     "execution_count": 9,
     "metadata": {},
     "output_type": "execute_result"
    }
   ],
   "source": [
    "best_model.feature_names_in_"
   ]
  },
  {
   "cell_type": "code",
   "execution_count": null,
   "metadata": {},
   "outputs": [],
   "source": [
    "features_dict = pd.read_csv('../../data/interim/shhs-data-dictionary-0.20.0-variables.csv')"
   ]
  },
  {
   "cell_type": "code",
   "execution_count": null,
   "metadata": {},
   "outputs": [],
   "source": [
    "# keep only the rows where id == best_model.feature_names_in_\n",
    "features_dict = features_dict[features_dict['id'].isin(best_model.feature_names_in_)]\n"
   ]
  },
  {
   "cell_type": "code",
   "execution_count": null,
   "metadata": {},
   "outputs": [],
   "source": [
    "features_dict[['display_name', 'description', 'folder']].to_csv('./results.csv')"
   ]
  },
  {
   "cell_type": "code",
   "execution_count": null,
   "metadata": {},
   "outputs": [],
   "source": [
    "# Antropometric features and Lifestyle and Behavioural features are the most important features"
   ]
  },
  {
   "cell_type": "markdown",
   "metadata": {},
   "source": [
    "# Hyperparameter tuning of the best model"
   ]
  },
  {
   "cell_type": "code",
   "execution_count": null,
   "metadata": {},
   "outputs": [],
   "source": [
    "# load data and model\n",
    "import pickle\n",
    "\n",
    "best_model = pickle.load(open('../../models/cheap_features/ridge.pkl', 'rb'))\n",
    "df = pd.read_csv('../../data/processed/cheap_features/Ant_Lif.csv')"
   ]
  },
  {
   "cell_type": "code",
   "execution_count": null,
   "metadata": {},
   "outputs": [],
   "source": [
    "features = df.columns.tolist()\n",
    "features.remove(target)\n",
    "X_train, X_test, y_train, y_test, X_val, y_val = split_data(df, features, target)"
   ]
  },
  {
   "cell_type": "code",
   "execution_count": null,
   "metadata": {},
   "outputs": [
    {
     "name": "stderr",
     "output_type": "stream",
     "text": [
      "/Library/Frameworks/Python.framework/Versions/3.10/lib/python3.10/site-packages/sklearn/linear_model/_sag.py:350: ConvergenceWarning: The max_iter was reached which means the coef_ did not converge\n",
      "  warnings.warn(\n",
      "/Library/Frameworks/Python.framework/Versions/3.10/lib/python3.10/site-packages/sklearn/linear_model/_sag.py:350: ConvergenceWarning: The max_iter was reached which means the coef_ did not converge\n",
      "  warnings.warn(\n",
      "/Library/Frameworks/Python.framework/Versions/3.10/lib/python3.10/site-packages/sklearn/linear_model/_sag.py:350: ConvergenceWarning: The max_iter was reached which means the coef_ did not converge\n",
      "  warnings.warn(\n",
      "/Library/Frameworks/Python.framework/Versions/3.10/lib/python3.10/site-packages/sklearn/linear_model/_sag.py:350: ConvergenceWarning: The max_iter was reached which means the coef_ did not converge\n",
      "  warnings.warn(\n",
      "/Library/Frameworks/Python.framework/Versions/3.10/lib/python3.10/site-packages/sklearn/linear_model/_sag.py:350: ConvergenceWarning: The max_iter was reached which means the coef_ did not converge\n",
      "  warnings.warn(\n",
      "/Library/Frameworks/Python.framework/Versions/3.10/lib/python3.10/site-packages/sklearn/linear_model/_sag.py:350: ConvergenceWarning: The max_iter was reached which means the coef_ did not converge\n",
      "  warnings.warn(\n",
      "/Library/Frameworks/Python.framework/Versions/3.10/lib/python3.10/site-packages/sklearn/linear_model/_sag.py:350: ConvergenceWarning: The max_iter was reached which means the coef_ did not converge\n",
      "  warnings.warn(\n",
      "/Library/Frameworks/Python.framework/Versions/3.10/lib/python3.10/site-packages/sklearn/linear_model/_sag.py:350: ConvergenceWarning: The max_iter was reached which means the coef_ did not converge\n",
      "  warnings.warn(\n",
      "/Library/Frameworks/Python.framework/Versions/3.10/lib/python3.10/site-packages/sklearn/linear_model/_sag.py:350: ConvergenceWarning: The max_iter was reached which means the coef_ did not converge\n",
      "  warnings.warn(\n",
      "/Library/Frameworks/Python.framework/Versions/3.10/lib/python3.10/site-packages/sklearn/linear_model/_sag.py:350: ConvergenceWarning: The max_iter was reached which means the coef_ did not converge\n",
      "  warnings.warn(\n",
      "/Library/Frameworks/Python.framework/Versions/3.10/lib/python3.10/site-packages/sklearn/linear_model/_sag.py:350: ConvergenceWarning: The max_iter was reached which means the coef_ did not converge\n",
      "  warnings.warn(\n",
      "/Library/Frameworks/Python.framework/Versions/3.10/lib/python3.10/site-packages/sklearn/linear_model/_sag.py:350: ConvergenceWarning: The max_iter was reached which means the coef_ did not converge\n",
      "  warnings.warn(\n",
      "/Library/Frameworks/Python.framework/Versions/3.10/lib/python3.10/site-packages/sklearn/linear_model/_sag.py:350: ConvergenceWarning: The max_iter was reached which means the coef_ did not converge\n",
      "  warnings.warn(\n",
      "/Library/Frameworks/Python.framework/Versions/3.10/lib/python3.10/site-packages/sklearn/linear_model/_sag.py:350: ConvergenceWarning: The max_iter was reached which means the coef_ did not converge\n",
      "  warnings.warn(\n",
      "/Library/Frameworks/Python.framework/Versions/3.10/lib/python3.10/site-packages/sklearn/linear_model/_sag.py:350: ConvergenceWarning: The max_iter was reached which means the coef_ did not converge\n",
      "  warnings.warn(\n",
      "/Library/Frameworks/Python.framework/Versions/3.10/lib/python3.10/site-packages/sklearn/linear_model/_sag.py:350: ConvergenceWarning: The max_iter was reached which means the coef_ did not converge\n",
      "  warnings.warn(\n",
      "/Library/Frameworks/Python.framework/Versions/3.10/lib/python3.10/site-packages/sklearn/linear_model/_sag.py:350: ConvergenceWarning: The max_iter was reached which means the coef_ did not converge\n",
      "  warnings.warn(\n",
      "/Library/Frameworks/Python.framework/Versions/3.10/lib/python3.10/site-packages/sklearn/linear_model/_sag.py:350: ConvergenceWarning: The max_iter was reached which means the coef_ did not converge\n",
      "  warnings.warn(\n",
      "/Library/Frameworks/Python.framework/Versions/3.10/lib/python3.10/site-packages/sklearn/linear_model/_sag.py:350: ConvergenceWarning: The max_iter was reached which means the coef_ did not converge\n",
      "  warnings.warn(\n",
      "/Library/Frameworks/Python.framework/Versions/3.10/lib/python3.10/site-packages/sklearn/linear_model/_sag.py:350: ConvergenceWarning: The max_iter was reached which means the coef_ did not converge\n",
      "  warnings.warn(\n",
      "/Library/Frameworks/Python.framework/Versions/3.10/lib/python3.10/site-packages/sklearn/linear_model/_sag.py:350: ConvergenceWarning: The max_iter was reached which means the coef_ did not converge\n",
      "  warnings.warn(\n",
      "/Library/Frameworks/Python.framework/Versions/3.10/lib/python3.10/site-packages/sklearn/linear_model/_sag.py:350: ConvergenceWarning: The max_iter was reached which means the coef_ did not converge\n",
      "  warnings.warn(\n",
      "/Library/Frameworks/Python.framework/Versions/3.10/lib/python3.10/site-packages/sklearn/linear_model/_sag.py:350: ConvergenceWarning: The max_iter was reached which means the coef_ did not converge\n",
      "  warnings.warn(\n",
      "/Library/Frameworks/Python.framework/Versions/3.10/lib/python3.10/site-packages/sklearn/linear_model/_sag.py:350: ConvergenceWarning: The max_iter was reached which means the coef_ did not converge\n",
      "  warnings.warn(\n",
      "/Library/Frameworks/Python.framework/Versions/3.10/lib/python3.10/site-packages/sklearn/linear_model/_sag.py:350: ConvergenceWarning: The max_iter was reached which means the coef_ did not converge\n",
      "  warnings.warn(\n",
      "/Library/Frameworks/Python.framework/Versions/3.10/lib/python3.10/site-packages/sklearn/linear_model/_sag.py:350: ConvergenceWarning: The max_iter was reached which means the coef_ did not converge\n",
      "  warnings.warn(\n",
      "/Library/Frameworks/Python.framework/Versions/3.10/lib/python3.10/site-packages/sklearn/linear_model/_sag.py:350: ConvergenceWarning: The max_iter was reached which means the coef_ did not converge\n",
      "  warnings.warn(\n",
      "/Library/Frameworks/Python.framework/Versions/3.10/lib/python3.10/site-packages/sklearn/linear_model/_sag.py:350: ConvergenceWarning: The max_iter was reached which means the coef_ did not converge\n",
      "  warnings.warn(\n",
      "/Library/Frameworks/Python.framework/Versions/3.10/lib/python3.10/site-packages/sklearn/linear_model/_sag.py:350: ConvergenceWarning: The max_iter was reached which means the coef_ did not converge\n",
      "  warnings.warn(\n",
      "/Library/Frameworks/Python.framework/Versions/3.10/lib/python3.10/site-packages/sklearn/linear_model/_sag.py:350: ConvergenceWarning: The max_iter was reached which means the coef_ did not converge\n",
      "  warnings.warn(\n",
      "/Library/Frameworks/Python.framework/Versions/3.10/lib/python3.10/site-packages/sklearn/linear_model/_sag.py:350: ConvergenceWarning: The max_iter was reached which means the coef_ did not converge\n",
      "  warnings.warn(\n",
      "/Library/Frameworks/Python.framework/Versions/3.10/lib/python3.10/site-packages/sklearn/linear_model/_sag.py:350: ConvergenceWarning: The max_iter was reached which means the coef_ did not converge\n",
      "  warnings.warn(\n",
      "/Library/Frameworks/Python.framework/Versions/3.10/lib/python3.10/site-packages/sklearn/linear_model/_sag.py:350: ConvergenceWarning: The max_iter was reached which means the coef_ did not converge\n",
      "  warnings.warn(\n",
      "/Library/Frameworks/Python.framework/Versions/3.10/lib/python3.10/site-packages/sklearn/linear_model/_sag.py:350: ConvergenceWarning: The max_iter was reached which means the coef_ did not converge\n",
      "  warnings.warn(\n",
      "/Library/Frameworks/Python.framework/Versions/3.10/lib/python3.10/site-packages/sklearn/linear_model/_sag.py:350: ConvergenceWarning: The max_iter was reached which means the coef_ did not converge\n",
      "  warnings.warn(\n"
     ]
    },
    {
     "name": "stdout",
     "output_type": "stream",
     "text": [
      "{'alpha': 4.434528937795567, 'solver': 'sparse_cg'}\n",
      "-4.723208539258343\n",
      "Ridge(alpha=4.434528937795567, random_state=1, solver='sparse_cg')\n"
     ]
    }
   ],
   "source": [
    "# do RandomizedSearchCV to find best hyperparameters\n",
    "model = Ridge(random_state=1)\n",
    "\n",
    "from sklearn.model_selection import RandomizedSearchCV\n",
    "from scipy.stats import uniform, truncnorm, randint\n",
    "\n",
    "# Split data\n",
    "X_train, X_test, y_train, y_test, X_val, y_val = split_data(df, features, target)\n",
    "\n",
    "param_grid = {\n",
    "    'alpha': uniform(0, 10),\n",
    "    'solver': ['auto', 'svd', 'cholesky', 'lsqr', 'sparse_cg', 'sag', 'saga']\n",
    "}\n",
    "\n",
    "search = RandomizedSearchCV(model, param_grid, n_iter=20, scoring='neg_mean_absolute_error', n_jobs=-1, cv=5, random_state=1)\n",
    "search.fit(X_train, y_train)\n",
    "print(search.best_params_)\n",
    "print(search.best_score_)\n",
    "print(search.best_estimator_)\n",
    "best_param = search.best_params_"
   ]
  },
  {
   "cell_type": "code",
   "execution_count": null,
   "metadata": {},
   "outputs": [
    {
     "name": "stdout",
     "output_type": "stream",
     "text": [
      "4.625547550719264\n",
      "4.569842143977\n"
     ]
    }
   ],
   "source": [
    "# test on validation set\n",
    "model = Ridge(**best_param, random_state=1)\n",
    "model.fit(X_train, y_train)\n",
    "y_pred = model.predict(X_val)\n",
    "mae = mean_absolute_error(y_val, y_pred)\n",
    "mae_test = mean_absolute_error(y_test, model.predict(X_test))\n",
    "print(mae)\n",
    "print(mae_test)"
   ]
  },
  {
   "cell_type": "code",
   "execution_count": null,
   "metadata": {},
   "outputs": [
    {
     "name": "stdout",
     "output_type": "stream",
     "text": [
      "[-4.75856807 -4.8232436  -4.75379321 -4.76452204 -4.51591528]\n",
      "-4.7232084399072125\n"
     ]
    }
   ],
   "source": [
    "# cross validation training\n",
    "from sklearn.model_selection import cross_val_score\n",
    "model = Ridge(alpha=best_param['alpha'], solver=best_param['solver'], random_state=1)\n",
    "scores = cross_val_score(model, X_train, y_train, cv=5, scoring='neg_mean_absolute_error')\n",
    "print(scores)\n",
    "print(scores.mean())\n",
    "\n",
    "#"
   ]
  },
  {
   "cell_type": "markdown",
   "metadata": {},
   "source": [
    "# Feature selection models"
   ]
  },
  {
   "cell_type": "code",
   "execution_count": null,
   "metadata": {},
   "outputs": [],
   "source": [
    "datasets = os.listdir('../../data/interim/feature_selection')"
   ]
  },
  {
   "cell_type": "code",
   "execution_count": null,
   "metadata": {},
   "outputs": [
    {
     "name": "stdout",
     "output_type": "stream",
     "text": [
      "['forward_selection_ahi_c0h4a_BIC.csv', 'decision_tree_ahi_c0h4a.csv', 'mi_ahi_c0h4a.csv', 'random_forest_ahi_c0h4a.csv', 'forward_selection_ahi_c0h4a_AIC.csv', 'backward_selection_ahi_c0h4a_AIC.csv', 'selected_features_10_ahi_c0h4a.csv', 'selected_features_20_ahi_c0h4a.csv']\n"
     ]
    }
   ],
   "source": [
    "datasets = [dataset for dataset in datasets if 'ahi_c0h4a' in dataset]\n",
    "\n",
    "print(datasets)"
   ]
  },
  {
   "cell_type": "code",
   "execution_count": null,
   "metadata": {},
   "outputs": [],
   "source": [
    "folder_loc = '../../data/interim/feature_selection/'"
   ]
  },
  {
   "cell_type": "code",
   "execution_count": null,
   "metadata": {},
   "outputs": [],
   "source": [
    "target = 'ahi_c0h4a'"
   ]
  },
  {
   "cell_type": "code",
   "execution_count": null,
   "metadata": {},
   "outputs": [
    {
     "name": "stderr",
     "output_type": "stream",
     "text": [
      "  0%|          | 0/8 [00:00<?, ?it/s]"
     ]
    },
    {
     "name": "stdout",
     "output_type": "stream",
     "text": [
      "forward_selection_ahi_c0h4a_BIC.csv ['neck20', 'bmi_s1', 'age_s1', 'gender', 'diasbp', 'funres02', 'shhs1_tcvd', 'ess_s1', 'nonsp_st', 'hosnr02', 'benzod1', 'ccb1', 'nsrrid', 'shhs1_qc', 'twuweh02', 'race', 'estrgn1', 'waist', 'soda15', 'tea15', 'urdbpae', 'diuret1', 'pvdl1', 'height', 'weight', 'systbp']\n"
     ]
    },
    {
     "name": "stderr",
     "output_type": "stream",
     "text": [
      " 12%|█▎        | 1/8 [00:10<01:12, 10.38s/it]"
     ]
    },
    {
     "name": "stdout",
     "output_type": "stream",
     "text": [
      "5.747435889334489\n",
      "decision_tree_ahi_c0h4a.csv ['nsrrid', 'pptid', 'ecgdate', 'lvh3_1', 'lvh3_3', 'st4_1_3', 'st5_1_3', 'lvhst', 'lbbb', 'rbbb', 'ilbbb', 'irbbb', 'lah', 'iventblk', 'antsepmi', 'infmi', 'nonsp_st', 'nonsp_tw', 'ventrate', 'qrs', 'apbs', 'vpbs', 'truposmi', 'gender', 'race', 'mstat', 'srhype', 'parrptdiab', 'cgpkyr', 'alcoh', 'systbp', 'diasbp', 'hip', 'chol', 'hdl', 'trig', 'fev1', 'fvc', 'aai', 'ankbp', 'armbp', 'imdbpae', 'ursbpae', 'urdbpae', 'skrctnae', 'syst120', 'dias120', 'syst220', 'dias220', 'syst320', 'dias320', 'neck20', 'angina15', 'mi15', 'stroke15', 'hf15', 'cabg15', 'ca15', 'othrcs15', 'sa15', 'emphys15', 'crbron15', 'copd15', 'asthma15', 'asth1215', 'cough315', 'phlegm15', 'runny15', 'sinus15', 'coffee15', 'tea15', 'soda15', 'evsmok15', 'ns1yr15', 'yrsns15', 'smknow15', 'cigday15', 'avesmk15', 'wine15', 'beer15', 'shots15', 'asa15', 'asalw15', 'slpill15', 'nitro15', 'napshr15', 'napsmn15', 'stress15', 'estrgn1', 'progst1', 'htnmed1', 'anar1a1', 'lipid1', 'ohga1', 'insuln1', 'sympth1', 'tca1', 'asa1', 'nsaid1', 'benzod1', 'premar1', 'pdei1', 'ntca1', 'warf1', 'loop1', 'hctz1', 'hctzk1', 'ccbir1', 'ccbsr1', 'alpha1', 'basq1', 'thry1', 'istrd1', 'ostrd1', 'beta1', 'ccb1', 'ace1', 'aced1', 'diuret1', 'dig1', 'ntg1', 'genhth25', 'cmp1yr25', 'vigact25', 'modact25', 'lift25', 'climbs25', 'climb125', 'bend25', 'wk1ml25', 'wksblk25', 'wk1blk25', 'bathe25', 'phctdn25', 'phacls25', 'limit25', 'exefrt25', 'emctdn25', 'emacls25', 'carful25', 'probsa25', 'bdpain25', 'painin25', 'pep25', 'nrvous25', 'down25', 'calm25', 'energ25', 'blue25', 'worn25', 'happy25', 'tired25', 'hlthlm25', 'sickez25', 'hlthy25', 'worse25', 'exclnt25', 'tfawdh02', 'tfawdm02', 'tfawda02', 'tfaweh02', 'tfawem02', 'tfawea02', 'mi2slp02', 'twuwdh02', 'twuwdm02', 'twuwda02', 'twuweh02', 'twuwem02', 'twuwea02', 'hrswd02', 'hrswe02', 'naps02', 'tfa02', 'wudnrs02', 'wu2em02', 'funres02', 'sleepy02', 'tkpill02', 'nges02', 'hvsnrd02', 'hosnr02', 'loudsn02', 'yrssnr02', 'issnor02', 'surgtr02', 'stpbrt02', 'hostbr02', 'mdsa02', 'cpap02', 'surgsa02', 'cough02', 'cp02', 'sob02', 'sweats02', 'noise02', 'painjt02', 'hb02', 'legcrp02', 'needbr02', 'membhh02', 'sitrd02', 'watv02', 'sitpub02', 'pgrcar02', 'lydwn02', 'sittlk02', 'sitlch02', 'incar02', 'attabl02', 'drive02', 'prev_hx_mi', 'prev_hx_stroke', 'rawpf_s1', 'pf_s1', 'rawrp_s1', 'rp_s1', 'rawbp_s1', 'bp_s1', 'rawgh_s1', 'gh_s1', 'rawvt_s1', 'vt_s1', 'rawsf_s1', 'sf_s1', 'rawre_s1', 're_s1', 'rawmh_s1', 'mh_s1', 'pcs_s1', 'mcs_s1', 'age_s1', 'smokstat_s1', 'htnderv_s1', 'ess_s1', 'shhs1_ae', 'shhs1_cf', 'shhs1_hi', 'shhs1_sh', 'shhs1_ms', 'shhs1_ql', 'shhs1_tcvd', 'shhs1_all', 'ethnicity', 'bmi_s1', 'educat', 'date02', 'date25', 'weight', 'waist', 'height', 'weight20', 'lang15', 'age_category_s1']\n"
     ]
    },
    {
     "name": "stderr",
     "output_type": "stream",
     "text": [
      " 25%|██▌       | 2/8 [01:01<03:26, 34.46s/it]"
     ]
    },
    {
     "name": "stdout",
     "output_type": "stream",
     "text": [
      "5.747435889334489\n",
      "mi_ahi_c0h4a.csv ['av1deg', 'lbbb', 'rbbb', 'antsepmi', 'rtrial', 'rvh', 'qrs', 'afib', 'paced', 'apbs', 'vpbs', 'truposmi', 'gender', 'race', 'mstat', 'srhype', 'parrptdiab', 'cgpkyr', 'alcoh', 'systbp', 'hip', 'hdl', 'trig', 'fev1', 'fvc', 'armbp', 'ecg', 'imlohrae', 'urdbpae', 'skrctnae', 'tripae', 'othprbae', 'syst120', 'dias120', 'syst220', 'syst320', 'neck20', 'angina15', 'mi15', 'stroke15', 'hf15', 'cabg15', 'othrcs15', 'pacem15', 'sa15', 'emphys15', 'copd15', 'asthma15', 'asth1215', 'cough315', 'phlegm15', 'sinus15', 'coffee15', 'tea15', 'ns1yr15', 'yrsns15', 'smknow15', 'cigday15', 'avesmk15', 'wine15', 'beer15', 'asa15', 'asalw15', 'slpill15', 'nitro15', 'napsmn15', 'estrgn1', 'progst1', 'htnmed1', 'lipid1', 'ohga1', 'insuln1', 'sympth1', 'asa1', 'nsaid1', 'benzod1', 'premar1', 'pdei1', 'ntca1', 'warf1', 'loop1', 'hctz1', 'ccbsr1', 'alpha1', 'alphad1', 'anar1c1', 'anar31', 'pvdl1', 'niac1', 'thry1', 'betad1', 'ccb1', 'aced1', 'diuret1', 'ntg1', 'modact25', 'climbs25', 'climb125', 'bend25', 'wk1ml25', 'wksblk25', 'wk1blk25', 'phctdn25', 'phacls25', 'limit25', 'carful25', 'bdpain25', 'painin25', 'pep25', 'nrvous25', 'down25', 'energ25', 'blue25', 'worn25', 'happy25', 'hlthlm25', 'sickez25', 'hlthy25', 'exclnt25', 'tfawdh02', 'tfawdm02', 'tfaweh02', 'tfawem02', 'tfawea02', 'mi2slp02', 'twuweh02', 'twuwem02', 'hrswd02', 'hrswe02', 'naps02', 'tfa02', 'wudnrs02', 'wu2em02', 'sleepy02', 'tkpill02', 'hvsnrd02', 'hosnr02', 'loudsn02', 'issnor02', 'surgtr02', 'stpbrt02', 'hostbr02', 'mdsa02', 'cough02', 'sob02', 'sweats02', 'noise02', 'needbr02', 'membhh02', 'sitrd02', 'sitpub02', 'pgrcar02', 'lydwn02', 'sittlk02', 'sitlch02', 'incar02', 'drive02', 'prev_hx_stroke', 'rawpf_s1', 'pf_s1', 'rawbp_s1', 'bp_s1', 'rawgh_s1', 'gh_s1', 'rawvt_s1', 'vt_s1', 'rawsf_s1', 'sf_s1', 'rawre_s1', 'mh_s1', 'pcs_s1', 'mcs_s1', 'age_s1', 'smokstat_s1', 'htnderv_s1', 'ess_s1', 'shhs1_ae', 'shhs1_cf', 'shhs1_sh', 'shhs1_ql', 'shhs1_avars', 'shhs1_tcvd', 'shhs1_all', 'ethnicity', 'bmi_s1', 'date02', 'date25', 'weight', 'waist', 'height', 'weight20', 'lang15', 'age_category_s1']\n"
     ]
    },
    {
     "name": "stderr",
     "output_type": "stream",
     "text": [
      " 38%|███▊      | 3/8 [01:44<03:10, 38.15s/it]"
     ]
    },
    {
     "name": "stdout",
     "output_type": "stream",
     "text": [
      "5.747435889334489\n",
      "random_forest_ahi_c0h4a.csv ['nsrrid', 'pptid', 'ecgdate', 'lvh3_1', 'lvh3_3', 'st4_1_3', 'st5_1_3', 'lvhst', 'lbbb', 'rbbb', 'ilbbb', 'irbbb', 'lah', 'iventblk', 'antsepmi', 'infmi', 'nonsp_st', 'nonsp_tw', 'ventrate', 'qrs', 'apbs', 'vpbs', 'truposmi', 'gender', 'race', 'mstat', 'srhype', 'parrptdiab', 'cgpkyr', 'alcoh', 'systbp', 'diasbp', 'hip', 'chol', 'hdl', 'trig', 'fev1', 'fvc', 'aai', 'ankbp', 'armbp', 'imdbpae', 'ursbpae', 'urdbpae', 'skrctnae', 'syst120', 'dias120', 'syst220', 'dias220', 'syst320', 'dias320', 'neck20', 'angina15', 'mi15', 'stroke15', 'hf15', 'cabg15', 'ca15', 'othrcs15', 'sa15', 'emphys15', 'crbron15', 'copd15', 'asthma15', 'asth1215', 'cough315', 'phlegm15', 'runny15', 'sinus15', 'coffee15', 'tea15', 'soda15', 'evsmok15', 'ns1yr15', 'yrsns15', 'smknow15', 'cigday15', 'avesmk15', 'wine15', 'beer15', 'shots15', 'asa15', 'asalw15', 'slpill15', 'nitro15', 'napshr15', 'napsmn15', 'stress15', 'estrgn1', 'progst1', 'htnmed1', 'anar1a1', 'lipid1', 'ohga1', 'insuln1', 'sympth1', 'tca1', 'asa1', 'nsaid1', 'benzod1', 'premar1', 'pdei1', 'ntca1', 'warf1', 'loop1', 'hctz1', 'hctzk1', 'ccbir1', 'ccbsr1', 'alpha1', 'basq1', 'thry1', 'istrd1', 'ostrd1', 'beta1', 'ccb1', 'ace1', 'aced1', 'diuret1', 'dig1', 'ntg1', 'genhth25', 'cmp1yr25', 'vigact25', 'modact25', 'lift25', 'climbs25', 'climb125', 'bend25', 'wk1ml25', 'wksblk25', 'wk1blk25', 'bathe25', 'phctdn25', 'phacls25', 'limit25', 'exefrt25', 'emctdn25', 'emacls25', 'carful25', 'probsa25', 'bdpain25', 'painin25', 'pep25', 'nrvous25', 'down25', 'calm25', 'energ25', 'blue25', 'worn25', 'happy25', 'tired25', 'hlthlm25', 'sickez25', 'hlthy25', 'worse25', 'exclnt25', 'tfawdh02', 'tfawdm02', 'tfawda02', 'tfaweh02', 'tfawem02', 'tfawea02', 'mi2slp02', 'twuwdh02', 'twuwdm02', 'twuwda02', 'twuweh02', 'twuwem02', 'twuwea02', 'hrswd02', 'hrswe02', 'naps02', 'tfa02', 'wudnrs02', 'wu2em02', 'funres02', 'sleepy02', 'tkpill02', 'nges02', 'hvsnrd02', 'hosnr02', 'loudsn02', 'yrssnr02', 'issnor02', 'surgtr02', 'stpbrt02', 'hostbr02', 'mdsa02', 'cpap02', 'surgsa02', 'cough02', 'cp02', 'sob02', 'sweats02', 'noise02', 'painjt02', 'hb02', 'legcrp02', 'needbr02', 'membhh02', 'sitrd02', 'watv02', 'sitpub02', 'pgrcar02', 'lydwn02', 'sittlk02', 'sitlch02', 'incar02', 'attabl02', 'drive02', 'prev_hx_mi', 'prev_hx_stroke', 'rawpf_s1', 'pf_s1', 'rawrp_s1', 'rp_s1', 'rawbp_s1', 'bp_s1', 'rawgh_s1', 'gh_s1', 'rawvt_s1', 'vt_s1', 'rawsf_s1', 'sf_s1', 'rawre_s1', 're_s1', 'rawmh_s1', 'mh_s1', 'pcs_s1', 'mcs_s1', 'age_s1', 'smokstat_s1', 'htnderv_s1', 'ess_s1', 'shhs1_ae', 'shhs1_cf', 'shhs1_hi', 'shhs1_sh', 'shhs1_ms', 'shhs1_ql', 'shhs1_tcvd', 'shhs1_all', 'ethnicity', 'bmi_s1', 'educat', 'date02', 'date25', 'weight', 'waist', 'height', 'weight20', 'lang15', 'age_category_s1']\n"
     ]
    },
    {
     "name": "stderr",
     "output_type": "stream",
     "text": [
      " 50%|█████     | 4/8 [02:37<02:56, 44.09s/it]"
     ]
    },
    {
     "name": "stdout",
     "output_type": "stream",
     "text": [
      "5.747435889334489\n",
      "forward_selection_ahi_c0h4a_AIC.csv ['neck20', 'bmi_s1', 'age_s1', 'gender', 'diasbp', 'funres02', 'shhs1_tcvd', 'ess_s1', 'nonsp_st', 'hosnr02', 'benzod1', 'ccb1', 'nsrrid', 'shhs1_qc', 'twuweh02', 'race', 'estrgn1', 'waist', 'soda15', 'tea15', 'urdbpae', 'diuret1', 'pvdl1', 'height', 'weight', 'systbp']\n"
     ]
    },
    {
     "name": "stderr",
     "output_type": "stream",
     "text": [
      " 62%|██████▎   | 5/8 [02:44<01:32, 30.90s/it]"
     ]
    },
    {
     "name": "stdout",
     "output_type": "stream",
     "text": [
      "5.747435889334489\n",
      "backward_selection_ahi_c0h4a_AIC.csv ['pptid', 'st4_1_3', 'st5_1_3', 'part2deg', 'mob2', 'av1deg', 'lbbb', 'ilbbb', 'irbbb', 'iventblk', 'wpw', 'antsepmi', 'antlatmi', 'nonsp_st', 'nonsp_tw', 'ventrate', 'qrs', 'afib', 'paced', 'vpbs', 'truposmi', 'gender', 'race', 'srhype', 'cgpkyr', 'alcoh', 'systbp', 'diasbp', 'hip', 'chol', 'trig', 'fev1', 'aai', 'armbp', 'ecg', 'imsbpae', 'imosatae', 'imhihrae', 'imlohrae', 'urdbpae', 'urosatae', 'skrctnae', 'tripae', 'othprbae', 'syst120', 'dias120', 'syst320', 'dias320', 'neck20', 'stroke15', 'hf15', 'ca15', 'othrcs15', 'pacem15', 'sa15', 'emphys15', 'copd15', 'asthma15', 'asth1215', 'cough315', 'phlegm15', 'runny15', 'sinus15', 'tea15', 'soda15', 'evsmok15', 'ns1yr15', 'smknow15', 'cigday15', 'avesmk15', 'beer15', 'shots15', 'asa15', 'asalw15', 'slpill15', 'nitro15', 'napshr15', 'stress15', 'estrgn1', 'progst1', 'anar1a1', 'ohga1', 'sympth1', 'tca1', 'asa1', 'nsaid1', 'benzod1', 'premar1', 'pdei1', 'ntca1', 'warf1', 'loop1', 'hctz1', 'hctzk1', 'ccbir1', 'ccbsr1', 'alpha1', 'alphad1', 'anar1b1', 'pvdl1', 'basq1', 'thry1', 'ostrd1', 'betad1', 'ccb1', 'ace1', 'aced1', 'vaso1', 'vasod1', 'diuret1', 'ntg1', 'genhth25', 'cmp1yr25', 'vigact25', 'modact25', 'lift25', 'climbs25', 'climb125', 'bend25', 'wk1ml25', 'wksblk25', 'wk1blk25', 'bathe25', 'phctdn25', 'limit25', 'exefrt25', 'emctdn25', 'emacls25', 'carful25', 'probsa25', 'bdpain25', 'painin25', 'pep25', 'energ25', 'blue25', 'worn25', 'happy25', 'tired25', 'sickez25', 'hlthy25', 'worse25', 'exclnt25', 'tfawdh02', 'tfawda02', 'tfaweh02', 'tfawem02', 'tfawea02', 'mi2slp02', 'twuwdh02', 'twuwdm02', 'twuwda02', 'twuweh02', 'twuwem02', 'twuwea02', 'hrswd02', 'naps02', 'tfa02', 'wudnrs02', 'wu2em02', 'funres02', 'sleepy02', 'tkpill02', 'nges02', 'hvsnrd02', 'hosnr02', 'yrssnr02', 'issnor02', 'surgtr02', 'stpbrt02', 'hostbr02', 'cpap02', 'surgsa02', 'cough02', 'cp02', 'sob02', 'sweats02', 'noise02', 'painjt02', 'legcrp02', 'needbr02', 'membhh02', 'sitrd02', 'watv02', 'sitpub02', 'pgrcar02', 'lydwn02', 'incar02', 'o2thpy02', 'prev_hx_mi', 'rawpf_s1', 'rawrp_s1', 'rp_s1', 'rawbp_s1', 'rawgh_s1', 'gh_s1', 'rawvt_s1', 'vt_s1', 'sf_s1', 're_s1', 'rawmh_s1', 'mh_s1', 'pcs_s1', 'mcs_s1', 'age_s1', 'smokstat_s1', 'htnderv_s1', 'ess_s1', 'shhs1_ae', 'shhs1_bp', 'shhs1_sh', 'shhs1_ms', 'shhs1_qa', 'shhs1_qc', 'shhs1_sdr', 'shhs1_ql', 'shhs1_psg', 'shhs1_avars', 'shhs1_tcvd', 'shhs1_all', 'ethnicity', 'date02', 'date25', 'weight', 'waist', 'height', 'weight20', 'lang15', 'age_category_s1', 'visitnumber']\n"
     ]
    },
    {
     "name": "stderr",
     "output_type": "stream",
     "text": [
      " 75%|███████▌  | 6/8 [03:28<01:10, 35.16s/it]"
     ]
    },
    {
     "name": "stdout",
     "output_type": "stream",
     "text": [
      "5.747435889334489\n",
      "selected_features_10_ahi_c0h4a.csv ['mob1', 'av3deg', 'rtrial', 'paced', 'ecg', 'imsbpae', 'tripae', 'anar1a1', 'pvdl1', 'vasod1']\n"
     ]
    },
    {
     "name": "stderr",
     "output_type": "stream",
     "text": [
      " 88%|████████▊ | 7/8 [03:29<00:23, 23.96s/it]"
     ]
    },
    {
     "name": "stdout",
     "output_type": "stream",
     "text": [
      "5.747435889334489\n",
      "selected_features_20_ahi_c0h4a.csv ['mob1', 'av3deg', 'rtrial', 'paced', 'ecg', 'imsbpae', 'tripae', 'anar1a1', 'pvdl1', 'vasod1', 'o2thpy02', 'fvc', 'rvh', 'shhs1_bp', 'anar31', 'imdbpae', 'fev1', 'basq1', 'iventblk', 'hip']\n"
     ]
    },
    {
     "name": "stderr",
     "output_type": "stream",
     "text": [
      "100%|██████████| 8/8 [03:32<00:00, 26.53s/it]"
     ]
    },
    {
     "name": "stdout",
     "output_type": "stream",
     "text": [
      "5.747435889334489\n"
     ]
    },
    {
     "name": "stderr",
     "output_type": "stream",
     "text": [
      "\n"
     ]
    }
   ],
   "source": [
    "best_model = None\n",
    "model_name = None\n",
    "best_mae = 100000\n",
    "best_dataset = None\n",
    "\n",
    "for dataset in tqdm(datasets):\n",
    "    # Load data\n",
    "    df = pd.read_csv(folder_loc + dataset)\n",
    "\n",
    "    features = df.columns.tolist()\n",
    "    features.remove(target)\n",
    "    print(dataset, features)\n",
    "    # Split data\n",
    "    X_train, X_test, y_train, y_test, X_val, y_val = split_data(df, features, target)\n",
    "\n",
    "    # Train xgboost\n",
    "\n",
    "    mae_xgb, model_xgb = train_model(XGBRegressor(random_state=1), X_train, y_train, X_test, y_test, X_val, y_val)\n",
    "\n",
    "    # Train random forest\n",
    "\n",
    "    mae_rf, model_rf = train_model(RandomForestRegressor(random_state=1), X_train, y_train, X_test, y_test, X_val, y_val)\n",
    "\n",
    "    # Train linear regression\n",
    "\n",
    "    mae_lr, model_lr = train_model(LinearRegression(), X_train, y_train, X_test, y_test, X_val, y_val)\n",
    "\n",
    "    # Train lasso\n",
    "\n",
    "    mae_lasso, model_lasso = train_model(Lasso(random_state=1), X_train, y_train, X_test, y_test, X_val, y_val)\n",
    "\n",
    "    # Train ridge\n",
    "\n",
    "    mae_ridge, model_ridge = train_model(Ridge(random_state=1), X_train, y_train, X_test, y_test, X_val, y_val)\n",
    "\n",
    "    # Train decision tree\n",
    "\n",
    "    mae_dt, model_dt = train_model(DecisionTreeRegressor(random_state=1), X_train, y_train, X_test, y_test, X_val, y_val)\n",
    "\n",
    "    # Save best model\n",
    "\n",
    "    if mae_xgb < best_mae:\n",
    "        best_mae = mae_xgb\n",
    "        best_model = model_xgb\n",
    "        model_name = 'xgb'\n",
    "        best_dataset = dataset\n",
    "    if mae_rf < best_mae:\n",
    "        best_mae = mae_rf\n",
    "        best_model = model_rf\n",
    "        model_name = 'rf'\n",
    "        best_dataset = dataset\n",
    "    if mae_lr < best_mae:\n",
    "        best_mae = mae_lr\n",
    "        best_model = model_lr\n",
    "        model_name = 'lr'\n",
    "        best_dataset = dataset\n",
    "    if mae_lasso < best_mae:\n",
    "        best_mae = mae_lasso\n",
    "        best_model = model_lasso\n",
    "        model_name = 'lasso'\n",
    "        best_dataset = dataset\n",
    "    if mae_ridge < best_mae:\n",
    "        best_mae = mae_ridge\n",
    "        best_model = model_ridge\n",
    "        model_name = 'ridge'\n",
    "        best_dataset = dataset\n",
    "    if mae_dt < best_mae:\n",
    "        best_mae = mae_dt\n",
    "        best_model = model_dt\n",
    "        model_name = 'dt'\n",
    "        best_dataset = dataset\n",
    "    print(best_mae)\n",
    "# Save model\n",
    "import pickle\n",
    "pickle.dump(best_model, open('../../models/cheap_features/' + model_name + '_feature_selection.pkl', 'wb'))"
   ]
  },
  {
   "cell_type": "code",
   "execution_count": null,
   "metadata": {},
   "outputs": [],
   "source": []
  },
  {
   "cell_type": "code",
   "execution_count": null,
   "metadata": {},
   "outputs": [
    {
     "data": {
      "text/plain": [
       "'forward_selection_ahi_c0h4a_AIC.csv'"
      ]
     },
     "execution_count": 39,
     "metadata": {},
     "output_type": "execute_result"
    }
   ],
   "source": [
    "best_dataset\n"
   ]
  },
  {
   "cell_type": "code",
   "execution_count": null,
   "metadata": {},
   "outputs": [],
   "source": [
    "df = pd.read_csv(f'../../data/interim/feature_selection/{best_dataset}')"
   ]
  },
  {
   "cell_type": "code",
   "execution_count": null,
   "metadata": {},
   "outputs": [],
   "source": [
    "target=\"ahi_c0h4a\""
   ]
  },
  {
   "cell_type": "code",
   "execution_count": null,
   "metadata": {},
   "outputs": [
    {
     "data": {
      "text/plain": [
       "0        4.314248\n",
       "1       23.406593\n",
       "2        4.853556\n",
       "3        2.591362\n",
       "4        5.513514\n",
       "          ...    \n",
       "5799    21.669196\n",
       "5800    17.901391\n",
       "5801     5.625000\n",
       "5802     6.971570\n",
       "5803    29.411765\n",
       "Name: ahi_c0h4a, Length: 5804, dtype: float64"
      ]
     },
     "execution_count": 46,
     "metadata": {},
     "output_type": "execute_result"
    }
   ],
   "source": [
    "df[\"ahi_c0h4a\"]"
   ]
  },
  {
   "cell_type": "code",
   "execution_count": null,
   "metadata": {},
   "outputs": [
    {
     "name": "stdout",
     "output_type": "stream",
     "text": [
      "['neck20', 'bmi_s1', 'age_s1', 'gender', 'diasbp', 'funres02', 'shhs1_tcvd', 'ess_s1', 'nonsp_st', 'hosnr02', 'benzod1', 'ccb1', 'nsrrid', 'shhs1_qc', 'twuweh02', 'race', 'estrgn1', 'waist', 'soda15', 'tea15', 'urdbpae', 'diuret1', 'pvdl1', 'height', 'weight', 'systbp', 'hvsnrd02', 'ntca1']\n"
     ]
    }
   ],
   "source": [
    "features = df.columns.tolist()\n",
    "features.remove(target)\n",
    "\n",
    "# Split data\n",
    "X_train, X_test, y_train, y_test, X_val, y_val = split_data(df, features, target)\n",
    "\n",
    "print(features)"
   ]
  },
  {
   "cell_type": "code",
   "execution_count": null,
   "metadata": {},
   "outputs": [
    {
     "name": "stdout",
     "output_type": "stream",
     "text": [
      "ridge 5.7830904622074595\n"
     ]
    }
   ],
   "source": [
    "print(model_name, best_mae)"
   ]
  },
  {
   "cell_type": "code",
   "execution_count": null,
   "metadata": {},
   "outputs": [],
   "source": [
    "# The best feature selection method is forward selection but the results are not as good as our simple feature selection"
   ]
  }
 ],
 "metadata": {
  "kernelspec": {
   "display_name": "Python 3 (ipykernel)",
   "language": "python",
   "name": "python3"
  },
  "language_info": {
   "codemirror_mode": {
    "name": "ipython",
    "version": 3
   },
   "file_extension": ".py",
   "mimetype": "text/x-python",
   "name": "python",
   "nbconvert_exporter": "python",
   "pygments_lexer": "ipython3",
   "version": "3.10.0"
  }
 },
 "nbformat": 4,
 "nbformat_minor": 2
}

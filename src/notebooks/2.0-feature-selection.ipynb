{
 "cells": [
  {
   "cell_type": "markdown",
   "metadata": {
    "id": "ag1LCoq2_WVU"
   },
   "source": [
    "# Import modules"
   ]
  },
  {
   "cell_type": "code",
   "execution_count": 1,
   "metadata": {
    "id": "d4gzerKEO8fL"
   },
   "outputs": [
    {
     "name": "stdout",
     "output_type": "stream",
     "text": [
      "feature_selection imported\n"
     ]
    }
   ],
   "source": [
    "\n",
    "import pandas as pd\n",
    "import numpy as np\n",
    "from sklearn.impute import KNNImputer\n",
    "from sklearn.tree import DecisionTreeRegressor\n",
    "from sklearn.feature_selection import mutual_info_regression\n",
    "from sklearn.ensemble import RandomForestRegressor\n",
    "from sklearn.preprocessing import StandardScaler\n",
    "import statsmodels.api as sm\n",
    "from sklearn.linear_model import LinearRegression\n",
    "from sklearn.model_selection import train_test_split\n",
    "from sklearn.metrics import mean_squared_error\n",
    "\n",
    "\n",
    "import random\n",
    "import numpy as np\n",
    "\n",
    "random.seed(0)\n",
    "np.random.seed(0)\n",
    "\n",
    "# user defined methods\n",
    "import sys\n",
    "sys.path.append('../utils')\n",
    "\n",
    "from feature_selection import find_important_features, test_successful_import\n",
    "\n",
    "# test that module was imported\n",
    "test_successful_import()"
   ]
  },
  {
   "cell_type": "markdown",
   "metadata": {
    "id": "qCvU9-SzCZ9t"
   },
   "source": [
    "upload 'shhs1-dataset-0.20.0.csv' and 'shhs-data-dictionary-0.20.0-variables.csv'"
   ]
  },
  {
   "cell_type": "code",
   "execution_count": 2,
   "metadata": {
    "colab": {
     "base_uri": "https://localhost:8080/"
    },
    "id": "z0FviMLTC7Rg",
    "outputId": "142316fa-b45b-43f4-c9a8-c0ec2404892e"
   },
   "outputs": [],
   "source": [
    "#read Sleep Heart Health Study Dataset\n",
    "\n",
    "shhs1 = pd.read_csv('../../data/raw/shhs1-dataset-0.20.0.csv', encoding='cp1252', engine='python')\n",
    "#read Sleep Heart Health Study Dictionary\n",
    "var_dict = pd.read_csv('../../data/interim/shhs-data-dictionary-0.20.0-variables.csv', encoding='cp1252', engine='python')"
   ]
  },
  {
   "cell_type": "code",
   "execution_count": 3,
   "metadata": {
    "colab": {
     "base_uri": "https://localhost:8080/"
    },
    "id": "VAdnUVhqVlFL",
    "outputId": "0df4dff9-fe0e-4472-f74f-42bdfe7a4e24"
   },
   "outputs": [
    {
     "data": {
      "text/plain": [
       "(5804, 1271)"
      ]
     },
     "execution_count": 3,
     "metadata": {},
     "output_type": "execute_result"
    }
   ],
   "source": [
    "#find the shape of shhs1 - 5804 rows, 1271 columns\n",
    "shhs1.shape"
   ]
  },
  {
   "cell_type": "code",
   "execution_count": 4,
   "metadata": {
    "colab": {
     "base_uri": "https://localhost:8080/"
    },
    "id": "IdBTHXTECYLa",
    "outputId": "c6933808-fe9d-4279-e638-889a21dceaa9"
   },
   "outputs": [
    {
     "data": {
      "text/plain": [
       "(1896, 11)"
      ]
     },
     "execution_count": 4,
     "metadata": {},
     "output_type": "execute_result"
    }
   ],
   "source": [
    "#find the shape of var_dict - 1896 rows, 11 columns\n",
    "var_dict.shape"
   ]
  },
  {
   "cell_type": "markdown",
   "metadata": {
    "id": "KssRAm0uWEYm"
   },
   "source": [
    "# Data Processing"
   ]
  },
  {
   "cell_type": "code",
   "execution_count": 5,
   "metadata": {
    "id": "-99Mz7qVClSt"
   },
   "outputs": [],
   "source": [
    "# remove sleep monitoring columns from independent variables (unattinable for predicting)\n",
    "sleep_monitoring_col = var_dict[var_dict['folder'].str.contains(r'sleep monitoring', case=False, na=False)]['id']"
   ]
  },
  {
   "cell_type": "code",
   "execution_count": 6,
   "metadata": {
    "colab": {
     "base_uri": "https://localhost:8080/"
    },
    "id": "aQ5CRNQDER9E",
    "outputId": "a554c706-4f0f-4777-d9c0-ae0faf58d219"
   },
   "outputs": [
    {
     "data": {
      "text/plain": [
       "633        ahiov50\n",
       "634     headbox_id\n",
       "635        hrov150\n",
       "636        hrund30\n",
       "637     monitor_id\n",
       "           ...    \n",
       "1721      timest1p\n",
       "1722       timest2\n",
       "1723      timest2p\n",
       "1724      timest34\n",
       "1725          waso\n",
       "Name: id, Length: 1093, dtype: object"
      ]
     },
     "execution_count": 6,
     "metadata": {},
     "output_type": "execute_result"
    }
   ],
   "source": [
    "sleep_monitoring_col"
   ]
  },
  {
   "cell_type": "code",
   "execution_count": 7,
   "metadata": {
    "id": "Say15UbMZt8d"
   },
   "outputs": [],
   "source": [
    "# drop target variables, pptidr (has numerical and categorical values in one column), and sleep monitoring columns in independent variable\n",
    "x = shhs1.drop(columns=['ahi_c0h4a', 'pptidr'])\n",
    "for col in sleep_monitoring_col:\n",
    "    if col in x.columns:\n",
    "        x = x.drop(columns=col)\n",
    "\n",
    "y = shhs1['ahi_c0h4a']"
   ]
  },
  {
   "cell_type": "code",
   "execution_count": 8,
   "metadata": {
    "colab": {
     "base_uri": "https://localhost:8080/",
     "height": 444
    },
    "id": "hCeqjn03MOXY",
    "outputId": "0ca9e704-e342-495f-f492-2bfb421bd662"
   },
   "outputs": [
    {
     "data": {
      "text/html": [
       "<div>\n",
       "<style scoped>\n",
       "    .dataframe tbody tr th:only-of-type {\n",
       "        vertical-align: middle;\n",
       "    }\n",
       "\n",
       "    .dataframe tbody tr th {\n",
       "        vertical-align: top;\n",
       "    }\n",
       "\n",
       "    .dataframe thead th {\n",
       "        text-align: right;\n",
       "    }\n",
       "</style>\n",
       "<table border=\"1\" class=\"dataframe\">\n",
       "  <thead>\n",
       "    <tr style=\"text-align: right;\">\n",
       "      <th></th>\n",
       "      <th>nsrrid</th>\n",
       "      <th>pptid</th>\n",
       "      <th>ecgdate</th>\n",
       "      <th>lvh3_1</th>\n",
       "      <th>lvh3_3</th>\n",
       "      <th>st4_1_3</th>\n",
       "      <th>st5_1_3</th>\n",
       "      <th>lvhst</th>\n",
       "      <th>mob1</th>\n",
       "      <th>part2deg</th>\n",
       "      <th>...</th>\n",
       "      <th>educat</th>\n",
       "      <th>date02</th>\n",
       "      <th>date25</th>\n",
       "      <th>weight</th>\n",
       "      <th>waist</th>\n",
       "      <th>height</th>\n",
       "      <th>weight20</th>\n",
       "      <th>lang15</th>\n",
       "      <th>age_category_s1</th>\n",
       "      <th>visitnumber</th>\n",
       "    </tr>\n",
       "  </thead>\n",
       "  <tbody>\n",
       "    <tr>\n",
       "      <th>0</th>\n",
       "      <td>200001</td>\n",
       "      <td>1</td>\n",
       "      <td>NaN</td>\n",
       "      <td>NaN</td>\n",
       "      <td>NaN</td>\n",
       "      <td>NaN</td>\n",
       "      <td>NaN</td>\n",
       "      <td>NaN</td>\n",
       "      <td>NaN</td>\n",
       "      <td>NaN</td>\n",
       "      <td>...</td>\n",
       "      <td>3.0</td>\n",
       "      <td>-48.0</td>\n",
       "      <td>0.0</td>\n",
       "      <td>65.0</td>\n",
       "      <td>86.0</td>\n",
       "      <td>178.0</td>\n",
       "      <td>69.0</td>\n",
       "      <td>1.0</td>\n",
       "      <td>7</td>\n",
       "      <td>1</td>\n",
       "    </tr>\n",
       "    <tr>\n",
       "      <th>1</th>\n",
       "      <td>200002</td>\n",
       "      <td>2</td>\n",
       "      <td>NaN</td>\n",
       "      <td>NaN</td>\n",
       "      <td>NaN</td>\n",
       "      <td>NaN</td>\n",
       "      <td>NaN</td>\n",
       "      <td>NaN</td>\n",
       "      <td>NaN</td>\n",
       "      <td>NaN</td>\n",
       "      <td>...</td>\n",
       "      <td>2.0</td>\n",
       "      <td>-111.0</td>\n",
       "      <td>-37.0</td>\n",
       "      <td>93.0</td>\n",
       "      <td>107.0</td>\n",
       "      <td>168.0</td>\n",
       "      <td>93.0</td>\n",
       "      <td>NaN</td>\n",
       "      <td>9</td>\n",
       "      <td>1</td>\n",
       "    </tr>\n",
       "    <tr>\n",
       "      <th>2</th>\n",
       "      <td>200003</td>\n",
       "      <td>3</td>\n",
       "      <td>NaN</td>\n",
       "      <td>NaN</td>\n",
       "      <td>NaN</td>\n",
       "      <td>NaN</td>\n",
       "      <td>NaN</td>\n",
       "      <td>NaN</td>\n",
       "      <td>NaN</td>\n",
       "      <td>NaN</td>\n",
       "      <td>...</td>\n",
       "      <td>3.0</td>\n",
       "      <td>-7.0</td>\n",
       "      <td>0.0</td>\n",
       "      <td>51.0</td>\n",
       "      <td>82.0</td>\n",
       "      <td>145.0</td>\n",
       "      <td>50.7</td>\n",
       "      <td>1.0</td>\n",
       "      <td>9</td>\n",
       "      <td>1</td>\n",
       "    </tr>\n",
       "    <tr>\n",
       "      <th>3</th>\n",
       "      <td>200004</td>\n",
       "      <td>4</td>\n",
       "      <td>NaN</td>\n",
       "      <td>NaN</td>\n",
       "      <td>NaN</td>\n",
       "      <td>NaN</td>\n",
       "      <td>NaN</td>\n",
       "      <td>NaN</td>\n",
       "      <td>NaN</td>\n",
       "      <td>NaN</td>\n",
       "      <td>...</td>\n",
       "      <td>3.0</td>\n",
       "      <td>-24.0</td>\n",
       "      <td>0.0</td>\n",
       "      <td>64.0</td>\n",
       "      <td>85.0</td>\n",
       "      <td>180.0</td>\n",
       "      <td>65.4</td>\n",
       "      <td>1.0</td>\n",
       "      <td>6</td>\n",
       "      <td>1</td>\n",
       "    </tr>\n",
       "    <tr>\n",
       "      <th>4</th>\n",
       "      <td>200005</td>\n",
       "      <td>5</td>\n",
       "      <td>NaN</td>\n",
       "      <td>NaN</td>\n",
       "      <td>NaN</td>\n",
       "      <td>NaN</td>\n",
       "      <td>NaN</td>\n",
       "      <td>NaN</td>\n",
       "      <td>NaN</td>\n",
       "      <td>NaN</td>\n",
       "      <td>...</td>\n",
       "      <td>2.0</td>\n",
       "      <td>-89.0</td>\n",
       "      <td>-33.0</td>\n",
       "      <td>56.0</td>\n",
       "      <td>76.0</td>\n",
       "      <td>155.0</td>\n",
       "      <td>56.0</td>\n",
       "      <td>NaN</td>\n",
       "      <td>8</td>\n",
       "      <td>1</td>\n",
       "    </tr>\n",
       "    <tr>\n",
       "      <th>...</th>\n",
       "      <td>...</td>\n",
       "      <td>...</td>\n",
       "      <td>...</td>\n",
       "      <td>...</td>\n",
       "      <td>...</td>\n",
       "      <td>...</td>\n",
       "      <td>...</td>\n",
       "      <td>...</td>\n",
       "      <td>...</td>\n",
       "      <td>...</td>\n",
       "      <td>...</td>\n",
       "      <td>...</td>\n",
       "      <td>...</td>\n",
       "      <td>...</td>\n",
       "      <td>...</td>\n",
       "      <td>...</td>\n",
       "      <td>...</td>\n",
       "      <td>...</td>\n",
       "      <td>...</td>\n",
       "      <td>...</td>\n",
       "      <td>...</td>\n",
       "    </tr>\n",
       "    <tr>\n",
       "      <th>5799</th>\n",
       "      <td>205800</td>\n",
       "      <td>5835</td>\n",
       "      <td>-854.0</td>\n",
       "      <td>0.0</td>\n",
       "      <td>0.0</td>\n",
       "      <td>0.0</td>\n",
       "      <td>0.0</td>\n",
       "      <td>0.0</td>\n",
       "      <td>0.0</td>\n",
       "      <td>0.0</td>\n",
       "      <td>...</td>\n",
       "      <td>2.0</td>\n",
       "      <td>-168.0</td>\n",
       "      <td>1.0</td>\n",
       "      <td>70.5</td>\n",
       "      <td>99.0</td>\n",
       "      <td>166.0</td>\n",
       "      <td>70.8</td>\n",
       "      <td>1.0</td>\n",
       "      <td>8</td>\n",
       "      <td>1</td>\n",
       "    </tr>\n",
       "    <tr>\n",
       "      <th>5800</th>\n",
       "      <td>205801</td>\n",
       "      <td>5836</td>\n",
       "      <td>-755.0</td>\n",
       "      <td>0.0</td>\n",
       "      <td>0.0</td>\n",
       "      <td>0.0</td>\n",
       "      <td>0.0</td>\n",
       "      <td>0.0</td>\n",
       "      <td>0.0</td>\n",
       "      <td>0.0</td>\n",
       "      <td>...</td>\n",
       "      <td>3.0</td>\n",
       "      <td>-95.0</td>\n",
       "      <td>1.0</td>\n",
       "      <td>83.6</td>\n",
       "      <td>99.0</td>\n",
       "      <td>176.0</td>\n",
       "      <td>82.8</td>\n",
       "      <td>1.0</td>\n",
       "      <td>6</td>\n",
       "      <td>1</td>\n",
       "    </tr>\n",
       "    <tr>\n",
       "      <th>5801</th>\n",
       "      <td>205802</td>\n",
       "      <td>5837</td>\n",
       "      <td>-768.0</td>\n",
       "      <td>0.0</td>\n",
       "      <td>0.0</td>\n",
       "      <td>0.0</td>\n",
       "      <td>0.0</td>\n",
       "      <td>0.0</td>\n",
       "      <td>0.0</td>\n",
       "      <td>0.0</td>\n",
       "      <td>...</td>\n",
       "      <td>4.0</td>\n",
       "      <td>-83.0</td>\n",
       "      <td>1.0</td>\n",
       "      <td>75.0</td>\n",
       "      <td>91.0</td>\n",
       "      <td>175.0</td>\n",
       "      <td>74.2</td>\n",
       "      <td>1.0</td>\n",
       "      <td>7</td>\n",
       "      <td>1</td>\n",
       "    </tr>\n",
       "    <tr>\n",
       "      <th>5802</th>\n",
       "      <td>205803</td>\n",
       "      <td>5838</td>\n",
       "      <td>-755.0</td>\n",
       "      <td>0.0</td>\n",
       "      <td>0.0</td>\n",
       "      <td>0.0</td>\n",
       "      <td>0.0</td>\n",
       "      <td>0.0</td>\n",
       "      <td>0.0</td>\n",
       "      <td>0.0</td>\n",
       "      <td>...</td>\n",
       "      <td>2.0</td>\n",
       "      <td>-89.0</td>\n",
       "      <td>0.0</td>\n",
       "      <td>76.8</td>\n",
       "      <td>93.0</td>\n",
       "      <td>176.0</td>\n",
       "      <td>78.6</td>\n",
       "      <td>1.0</td>\n",
       "      <td>6</td>\n",
       "      <td>1</td>\n",
       "    </tr>\n",
       "    <tr>\n",
       "      <th>5803</th>\n",
       "      <td>205804</td>\n",
       "      <td>5839</td>\n",
       "      <td>-713.0</td>\n",
       "      <td>0.0</td>\n",
       "      <td>0.0</td>\n",
       "      <td>0.0</td>\n",
       "      <td>0.0</td>\n",
       "      <td>0.0</td>\n",
       "      <td>0.0</td>\n",
       "      <td>0.0</td>\n",
       "      <td>...</td>\n",
       "      <td>2.0</td>\n",
       "      <td>-77.0</td>\n",
       "      <td>1.0</td>\n",
       "      <td>112.7</td>\n",
       "      <td>112.0</td>\n",
       "      <td>186.0</td>\n",
       "      <td>117.4</td>\n",
       "      <td>1.0</td>\n",
       "      <td>6</td>\n",
       "      <td>1</td>\n",
       "    </tr>\n",
       "  </tbody>\n",
       "</table>\n",
       "<p>5804 rows × 293 columns</p>\n",
       "</div>"
      ],
      "text/plain": [
       "      nsrrid  pptid  ecgdate  lvh3_1  lvh3_3  st4_1_3  st5_1_3  lvhst  mob1  \\\n",
       "0     200001      1      NaN     NaN     NaN      NaN      NaN    NaN   NaN   \n",
       "1     200002      2      NaN     NaN     NaN      NaN      NaN    NaN   NaN   \n",
       "2     200003      3      NaN     NaN     NaN      NaN      NaN    NaN   NaN   \n",
       "3     200004      4      NaN     NaN     NaN      NaN      NaN    NaN   NaN   \n",
       "4     200005      5      NaN     NaN     NaN      NaN      NaN    NaN   NaN   \n",
       "...      ...    ...      ...     ...     ...      ...      ...    ...   ...   \n",
       "5799  205800   5835   -854.0     0.0     0.0      0.0      0.0    0.0   0.0   \n",
       "5800  205801   5836   -755.0     0.0     0.0      0.0      0.0    0.0   0.0   \n",
       "5801  205802   5837   -768.0     0.0     0.0      0.0      0.0    0.0   0.0   \n",
       "5802  205803   5838   -755.0     0.0     0.0      0.0      0.0    0.0   0.0   \n",
       "5803  205804   5839   -713.0     0.0     0.0      0.0      0.0    0.0   0.0   \n",
       "\n",
       "      part2deg  ...  educat  date02  date25  weight  waist  height  weight20  \\\n",
       "0          NaN  ...     3.0   -48.0     0.0    65.0   86.0   178.0      69.0   \n",
       "1          NaN  ...     2.0  -111.0   -37.0    93.0  107.0   168.0      93.0   \n",
       "2          NaN  ...     3.0    -7.0     0.0    51.0   82.0   145.0      50.7   \n",
       "3          NaN  ...     3.0   -24.0     0.0    64.0   85.0   180.0      65.4   \n",
       "4          NaN  ...     2.0   -89.0   -33.0    56.0   76.0   155.0      56.0   \n",
       "...        ...  ...     ...     ...     ...     ...    ...     ...       ...   \n",
       "5799       0.0  ...     2.0  -168.0     1.0    70.5   99.0   166.0      70.8   \n",
       "5800       0.0  ...     3.0   -95.0     1.0    83.6   99.0   176.0      82.8   \n",
       "5801       0.0  ...     4.0   -83.0     1.0    75.0   91.0   175.0      74.2   \n",
       "5802       0.0  ...     2.0   -89.0     0.0    76.8   93.0   176.0      78.6   \n",
       "5803       0.0  ...     2.0   -77.0     1.0   112.7  112.0   186.0     117.4   \n",
       "\n",
       "      lang15  age_category_s1  visitnumber  \n",
       "0        1.0                7            1  \n",
       "1        NaN                9            1  \n",
       "2        1.0                9            1  \n",
       "3        1.0                6            1  \n",
       "4        NaN                8            1  \n",
       "...      ...              ...          ...  \n",
       "5799     1.0                8            1  \n",
       "5800     1.0                6            1  \n",
       "5801     1.0                7            1  \n",
       "5802     1.0                6            1  \n",
       "5803     1.0                6            1  \n",
       "\n",
       "[5804 rows x 293 columns]"
      ]
     },
     "execution_count": 8,
     "metadata": {},
     "output_type": "execute_result"
    }
   ],
   "source": [
    "x"
   ]
  },
  {
   "cell_type": "code",
   "execution_count": 9,
   "metadata": {
    "id": "eOMTE6ijg41r"
   },
   "outputs": [],
   "source": [
    "# normalize x\n",
    "scaler = StandardScaler()\n",
    "x_scaled = scaler.fit_transform(x)\n",
    "\n",
    "imputer = KNNImputer(n_neighbors=5)  # You can change the number of neighbors if needed\n",
    "x_imputed_scaled = imputer.fit_transform(x_scaled)\n",
    "\n",
    "# reverse scaling\n",
    "x_imputed = scaler.inverse_transform(x_imputed_scaled)\n",
    "\n",
    "# Convert the result back to DataFrame\n",
    "x_imputed = pd.DataFrame(x_imputed, columns=x.columns)"
   ]
  },
  {
   "cell_type": "markdown",
   "metadata": {
    "id": "bEi_vnQVicWc"
   },
   "source": [
    "problem with knn: how many neighbors are the best?\n",
    "NaNs categorical variables will be imputed, but the result might not be intepretable"
   ]
  },
  {
   "cell_type": "code",
   "execution_count": 10,
   "metadata": {
    "colab": {
     "base_uri": "https://localhost:8080/",
     "height": 444
    },
    "id": "e997GUw7iRWw",
    "outputId": "f16d84c3-f509-48f2-ce2e-682a340d9dae"
   },
   "outputs": [
    {
     "data": {
      "text/html": [
       "<div>\n",
       "<style scoped>\n",
       "    .dataframe tbody tr th:only-of-type {\n",
       "        vertical-align: middle;\n",
       "    }\n",
       "\n",
       "    .dataframe tbody tr th {\n",
       "        vertical-align: top;\n",
       "    }\n",
       "\n",
       "    .dataframe thead th {\n",
       "        text-align: right;\n",
       "    }\n",
       "</style>\n",
       "<table border=\"1\" class=\"dataframe\">\n",
       "  <thead>\n",
       "    <tr style=\"text-align: right;\">\n",
       "      <th></th>\n",
       "      <th>nsrrid</th>\n",
       "      <th>pptid</th>\n",
       "      <th>ecgdate</th>\n",
       "      <th>lvh3_1</th>\n",
       "      <th>lvh3_3</th>\n",
       "      <th>st4_1_3</th>\n",
       "      <th>st5_1_3</th>\n",
       "      <th>lvhst</th>\n",
       "      <th>mob1</th>\n",
       "      <th>part2deg</th>\n",
       "      <th>...</th>\n",
       "      <th>educat</th>\n",
       "      <th>date02</th>\n",
       "      <th>date25</th>\n",
       "      <th>weight</th>\n",
       "      <th>waist</th>\n",
       "      <th>height</th>\n",
       "      <th>weight20</th>\n",
       "      <th>lang15</th>\n",
       "      <th>age_category_s1</th>\n",
       "      <th>visitnumber</th>\n",
       "    </tr>\n",
       "  </thead>\n",
       "  <tbody>\n",
       "    <tr>\n",
       "      <th>0</th>\n",
       "      <td>200001.0</td>\n",
       "      <td>1.0</td>\n",
       "      <td>-748.2</td>\n",
       "      <td>0.4</td>\n",
       "      <td>0.6</td>\n",
       "      <td>0.2</td>\n",
       "      <td>2.000000e-01</td>\n",
       "      <td>0.2</td>\n",
       "      <td>0.0</td>\n",
       "      <td>0.0</td>\n",
       "      <td>...</td>\n",
       "      <td>3.0</td>\n",
       "      <td>-48.0</td>\n",
       "      <td>0.0</td>\n",
       "      <td>65.0</td>\n",
       "      <td>86.0</td>\n",
       "      <td>178.0</td>\n",
       "      <td>69.0</td>\n",
       "      <td>1.0</td>\n",
       "      <td>7.0</td>\n",
       "      <td>1.0</td>\n",
       "    </tr>\n",
       "    <tr>\n",
       "      <th>1</th>\n",
       "      <td>200002.0</td>\n",
       "      <td>2.0</td>\n",
       "      <td>-75.8</td>\n",
       "      <td>0.2</td>\n",
       "      <td>0.2</td>\n",
       "      <td>0.0</td>\n",
       "      <td>2.000000e-01</td>\n",
       "      <td>0.0</td>\n",
       "      <td>0.0</td>\n",
       "      <td>0.0</td>\n",
       "      <td>...</td>\n",
       "      <td>2.0</td>\n",
       "      <td>-111.0</td>\n",
       "      <td>-37.0</td>\n",
       "      <td>93.0</td>\n",
       "      <td>107.0</td>\n",
       "      <td>168.0</td>\n",
       "      <td>93.0</td>\n",
       "      <td>1.0</td>\n",
       "      <td>9.0</td>\n",
       "      <td>1.0</td>\n",
       "    </tr>\n",
       "    <tr>\n",
       "      <th>2</th>\n",
       "      <td>200003.0</td>\n",
       "      <td>3.0</td>\n",
       "      <td>-1071.8</td>\n",
       "      <td>0.2</td>\n",
       "      <td>0.0</td>\n",
       "      <td>0.0</td>\n",
       "      <td>4.000000e-01</td>\n",
       "      <td>0.0</td>\n",
       "      <td>0.0</td>\n",
       "      <td>0.0</td>\n",
       "      <td>...</td>\n",
       "      <td>3.0</td>\n",
       "      <td>-7.0</td>\n",
       "      <td>0.0</td>\n",
       "      <td>51.0</td>\n",
       "      <td>82.0</td>\n",
       "      <td>145.0</td>\n",
       "      <td>50.7</td>\n",
       "      <td>1.0</td>\n",
       "      <td>9.0</td>\n",
       "      <td>1.0</td>\n",
       "    </tr>\n",
       "    <tr>\n",
       "      <th>3</th>\n",
       "      <td>200004.0</td>\n",
       "      <td>4.0</td>\n",
       "      <td>-728.6</td>\n",
       "      <td>0.0</td>\n",
       "      <td>0.0</td>\n",
       "      <td>0.0</td>\n",
       "      <td>2.000000e-01</td>\n",
       "      <td>0.0</td>\n",
       "      <td>0.0</td>\n",
       "      <td>0.0</td>\n",
       "      <td>...</td>\n",
       "      <td>3.0</td>\n",
       "      <td>-24.0</td>\n",
       "      <td>0.0</td>\n",
       "      <td>64.0</td>\n",
       "      <td>85.0</td>\n",
       "      <td>180.0</td>\n",
       "      <td>65.4</td>\n",
       "      <td>1.0</td>\n",
       "      <td>6.0</td>\n",
       "      <td>1.0</td>\n",
       "    </tr>\n",
       "    <tr>\n",
       "      <th>4</th>\n",
       "      <td>200005.0</td>\n",
       "      <td>5.0</td>\n",
       "      <td>-241.8</td>\n",
       "      <td>0.2</td>\n",
       "      <td>0.0</td>\n",
       "      <td>0.0</td>\n",
       "      <td>2.775558e-17</td>\n",
       "      <td>0.0</td>\n",
       "      <td>0.0</td>\n",
       "      <td>0.0</td>\n",
       "      <td>...</td>\n",
       "      <td>2.0</td>\n",
       "      <td>-89.0</td>\n",
       "      <td>-33.0</td>\n",
       "      <td>56.0</td>\n",
       "      <td>76.0</td>\n",
       "      <td>155.0</td>\n",
       "      <td>56.0</td>\n",
       "      <td>1.0</td>\n",
       "      <td>8.0</td>\n",
       "      <td>1.0</td>\n",
       "    </tr>\n",
       "    <tr>\n",
       "      <th>...</th>\n",
       "      <td>...</td>\n",
       "      <td>...</td>\n",
       "      <td>...</td>\n",
       "      <td>...</td>\n",
       "      <td>...</td>\n",
       "      <td>...</td>\n",
       "      <td>...</td>\n",
       "      <td>...</td>\n",
       "      <td>...</td>\n",
       "      <td>...</td>\n",
       "      <td>...</td>\n",
       "      <td>...</td>\n",
       "      <td>...</td>\n",
       "      <td>...</td>\n",
       "      <td>...</td>\n",
       "      <td>...</td>\n",
       "      <td>...</td>\n",
       "      <td>...</td>\n",
       "      <td>...</td>\n",
       "      <td>...</td>\n",
       "      <td>...</td>\n",
       "    </tr>\n",
       "    <tr>\n",
       "      <th>5799</th>\n",
       "      <td>205800.0</td>\n",
       "      <td>5835.0</td>\n",
       "      <td>-854.0</td>\n",
       "      <td>0.0</td>\n",
       "      <td>0.0</td>\n",
       "      <td>0.0</td>\n",
       "      <td>0.000000e+00</td>\n",
       "      <td>0.0</td>\n",
       "      <td>0.0</td>\n",
       "      <td>0.0</td>\n",
       "      <td>...</td>\n",
       "      <td>2.0</td>\n",
       "      <td>-168.0</td>\n",
       "      <td>1.0</td>\n",
       "      <td>70.5</td>\n",
       "      <td>99.0</td>\n",
       "      <td>166.0</td>\n",
       "      <td>70.8</td>\n",
       "      <td>1.0</td>\n",
       "      <td>8.0</td>\n",
       "      <td>1.0</td>\n",
       "    </tr>\n",
       "    <tr>\n",
       "      <th>5800</th>\n",
       "      <td>205801.0</td>\n",
       "      <td>5836.0</td>\n",
       "      <td>-755.0</td>\n",
       "      <td>0.0</td>\n",
       "      <td>0.0</td>\n",
       "      <td>0.0</td>\n",
       "      <td>0.000000e+00</td>\n",
       "      <td>0.0</td>\n",
       "      <td>0.0</td>\n",
       "      <td>0.0</td>\n",
       "      <td>...</td>\n",
       "      <td>3.0</td>\n",
       "      <td>-95.0</td>\n",
       "      <td>1.0</td>\n",
       "      <td>83.6</td>\n",
       "      <td>99.0</td>\n",
       "      <td>176.0</td>\n",
       "      <td>82.8</td>\n",
       "      <td>1.0</td>\n",
       "      <td>6.0</td>\n",
       "      <td>1.0</td>\n",
       "    </tr>\n",
       "    <tr>\n",
       "      <th>5801</th>\n",
       "      <td>205802.0</td>\n",
       "      <td>5837.0</td>\n",
       "      <td>-768.0</td>\n",
       "      <td>0.0</td>\n",
       "      <td>0.0</td>\n",
       "      <td>0.0</td>\n",
       "      <td>0.000000e+00</td>\n",
       "      <td>0.0</td>\n",
       "      <td>0.0</td>\n",
       "      <td>0.0</td>\n",
       "      <td>...</td>\n",
       "      <td>4.0</td>\n",
       "      <td>-83.0</td>\n",
       "      <td>1.0</td>\n",
       "      <td>75.0</td>\n",
       "      <td>91.0</td>\n",
       "      <td>175.0</td>\n",
       "      <td>74.2</td>\n",
       "      <td>1.0</td>\n",
       "      <td>7.0</td>\n",
       "      <td>1.0</td>\n",
       "    </tr>\n",
       "    <tr>\n",
       "      <th>5802</th>\n",
       "      <td>205803.0</td>\n",
       "      <td>5838.0</td>\n",
       "      <td>-755.0</td>\n",
       "      <td>0.0</td>\n",
       "      <td>0.0</td>\n",
       "      <td>0.0</td>\n",
       "      <td>0.000000e+00</td>\n",
       "      <td>0.0</td>\n",
       "      <td>0.0</td>\n",
       "      <td>0.0</td>\n",
       "      <td>...</td>\n",
       "      <td>2.0</td>\n",
       "      <td>-89.0</td>\n",
       "      <td>0.0</td>\n",
       "      <td>76.8</td>\n",
       "      <td>93.0</td>\n",
       "      <td>176.0</td>\n",
       "      <td>78.6</td>\n",
       "      <td>1.0</td>\n",
       "      <td>6.0</td>\n",
       "      <td>1.0</td>\n",
       "    </tr>\n",
       "    <tr>\n",
       "      <th>5803</th>\n",
       "      <td>205804.0</td>\n",
       "      <td>5839.0</td>\n",
       "      <td>-713.0</td>\n",
       "      <td>0.0</td>\n",
       "      <td>0.0</td>\n",
       "      <td>0.0</td>\n",
       "      <td>0.000000e+00</td>\n",
       "      <td>0.0</td>\n",
       "      <td>0.0</td>\n",
       "      <td>0.0</td>\n",
       "      <td>...</td>\n",
       "      <td>2.0</td>\n",
       "      <td>-77.0</td>\n",
       "      <td>1.0</td>\n",
       "      <td>112.7</td>\n",
       "      <td>112.0</td>\n",
       "      <td>186.0</td>\n",
       "      <td>117.4</td>\n",
       "      <td>1.0</td>\n",
       "      <td>6.0</td>\n",
       "      <td>1.0</td>\n",
       "    </tr>\n",
       "  </tbody>\n",
       "</table>\n",
       "<p>5804 rows × 293 columns</p>\n",
       "</div>"
      ],
      "text/plain": [
       "        nsrrid   pptid  ecgdate  lvh3_1  lvh3_3  st4_1_3       st5_1_3  lvhst  \\\n",
       "0     200001.0     1.0   -748.2     0.4     0.6      0.2  2.000000e-01    0.2   \n",
       "1     200002.0     2.0    -75.8     0.2     0.2      0.0  2.000000e-01    0.0   \n",
       "2     200003.0     3.0  -1071.8     0.2     0.0      0.0  4.000000e-01    0.0   \n",
       "3     200004.0     4.0   -728.6     0.0     0.0      0.0  2.000000e-01    0.0   \n",
       "4     200005.0     5.0   -241.8     0.2     0.0      0.0  2.775558e-17    0.0   \n",
       "...        ...     ...      ...     ...     ...      ...           ...    ...   \n",
       "5799  205800.0  5835.0   -854.0     0.0     0.0      0.0  0.000000e+00    0.0   \n",
       "5800  205801.0  5836.0   -755.0     0.0     0.0      0.0  0.000000e+00    0.0   \n",
       "5801  205802.0  5837.0   -768.0     0.0     0.0      0.0  0.000000e+00    0.0   \n",
       "5802  205803.0  5838.0   -755.0     0.0     0.0      0.0  0.000000e+00    0.0   \n",
       "5803  205804.0  5839.0   -713.0     0.0     0.0      0.0  0.000000e+00    0.0   \n",
       "\n",
       "      mob1  part2deg  ...  educat  date02  date25  weight  waist  height  \\\n",
       "0      0.0       0.0  ...     3.0   -48.0     0.0    65.0   86.0   178.0   \n",
       "1      0.0       0.0  ...     2.0  -111.0   -37.0    93.0  107.0   168.0   \n",
       "2      0.0       0.0  ...     3.0    -7.0     0.0    51.0   82.0   145.0   \n",
       "3      0.0       0.0  ...     3.0   -24.0     0.0    64.0   85.0   180.0   \n",
       "4      0.0       0.0  ...     2.0   -89.0   -33.0    56.0   76.0   155.0   \n",
       "...    ...       ...  ...     ...     ...     ...     ...    ...     ...   \n",
       "5799   0.0       0.0  ...     2.0  -168.0     1.0    70.5   99.0   166.0   \n",
       "5800   0.0       0.0  ...     3.0   -95.0     1.0    83.6   99.0   176.0   \n",
       "5801   0.0       0.0  ...     4.0   -83.0     1.0    75.0   91.0   175.0   \n",
       "5802   0.0       0.0  ...     2.0   -89.0     0.0    76.8   93.0   176.0   \n",
       "5803   0.0       0.0  ...     2.0   -77.0     1.0   112.7  112.0   186.0   \n",
       "\n",
       "      weight20  lang15  age_category_s1  visitnumber  \n",
       "0         69.0     1.0              7.0          1.0  \n",
       "1         93.0     1.0              9.0          1.0  \n",
       "2         50.7     1.0              9.0          1.0  \n",
       "3         65.4     1.0              6.0          1.0  \n",
       "4         56.0     1.0              8.0          1.0  \n",
       "...        ...     ...              ...          ...  \n",
       "5799      70.8     1.0              8.0          1.0  \n",
       "5800      82.8     1.0              6.0          1.0  \n",
       "5801      74.2     1.0              7.0          1.0  \n",
       "5802      78.6     1.0              6.0          1.0  \n",
       "5803     117.4     1.0              6.0          1.0  \n",
       "\n",
       "[5804 rows x 293 columns]"
      ]
     },
     "execution_count": 10,
     "metadata": {},
     "output_type": "execute_result"
    }
   ],
   "source": [
    "x_imputed"
   ]
  },
  {
   "cell_type": "markdown",
   "metadata": {
    "id": "pCvx4EI-zLV9"
   },
   "source": [
    "# Feature selection"
   ]
  },
  {
   "cell_type": "markdown",
   "metadata": {
    "id": "jwJIjwHTlmyK"
   },
   "source": [
    "## Target variable: ahi_c0h4a"
   ]
  },
  {
   "cell_type": "markdown",
   "metadata": {
    "id": "DLpiYeDOzS1I"
   },
   "source": [
    "### Decision Tree\n"
   ]
  },
  {
   "cell_type": "code",
   "execution_count": 11,
   "metadata": {
    "colab": {
     "base_uri": "https://localhost:8080/",
     "height": 75
    },
    "id": "2M3vVh6GzhPw",
    "outputId": "b5ec0867-e8cb-4ad7-90bf-a5de127c9e6c"
   },
   "outputs": [
    {
     "data": {
      "text/html": [
       "<style>#sk-container-id-1 {color: black;}#sk-container-id-1 pre{padding: 0;}#sk-container-id-1 div.sk-toggleable {background-color: white;}#sk-container-id-1 label.sk-toggleable__label {cursor: pointer;display: block;width: 100%;margin-bottom: 0;padding: 0.3em;box-sizing: border-box;text-align: center;}#sk-container-id-1 label.sk-toggleable__label-arrow:before {content: \"▸\";float: left;margin-right: 0.25em;color: #696969;}#sk-container-id-1 label.sk-toggleable__label-arrow:hover:before {color: black;}#sk-container-id-1 div.sk-estimator:hover label.sk-toggleable__label-arrow:before {color: black;}#sk-container-id-1 div.sk-toggleable__content {max-height: 0;max-width: 0;overflow: hidden;text-align: left;background-color: #f0f8ff;}#sk-container-id-1 div.sk-toggleable__content pre {margin: 0.2em;color: black;border-radius: 0.25em;background-color: #f0f8ff;}#sk-container-id-1 input.sk-toggleable__control:checked~div.sk-toggleable__content {max-height: 200px;max-width: 100%;overflow: auto;}#sk-container-id-1 input.sk-toggleable__control:checked~label.sk-toggleable__label-arrow:before {content: \"▾\";}#sk-container-id-1 div.sk-estimator input.sk-toggleable__control:checked~label.sk-toggleable__label {background-color: #d4ebff;}#sk-container-id-1 div.sk-label input.sk-toggleable__control:checked~label.sk-toggleable__label {background-color: #d4ebff;}#sk-container-id-1 input.sk-hidden--visually {border: 0;clip: rect(1px 1px 1px 1px);clip: rect(1px, 1px, 1px, 1px);height: 1px;margin: -1px;overflow: hidden;padding: 0;position: absolute;width: 1px;}#sk-container-id-1 div.sk-estimator {font-family: monospace;background-color: #f0f8ff;border: 1px dotted black;border-radius: 0.25em;box-sizing: border-box;margin-bottom: 0.5em;}#sk-container-id-1 div.sk-estimator:hover {background-color: #d4ebff;}#sk-container-id-1 div.sk-parallel-item::after {content: \"\";width: 100%;border-bottom: 1px solid gray;flex-grow: 1;}#sk-container-id-1 div.sk-label:hover label.sk-toggleable__label {background-color: #d4ebff;}#sk-container-id-1 div.sk-serial::before {content: \"\";position: absolute;border-left: 1px solid gray;box-sizing: border-box;top: 0;bottom: 0;left: 50%;z-index: 0;}#sk-container-id-1 div.sk-serial {display: flex;flex-direction: column;align-items: center;background-color: white;padding-right: 0.2em;padding-left: 0.2em;position: relative;}#sk-container-id-1 div.sk-item {position: relative;z-index: 1;}#sk-container-id-1 div.sk-parallel {display: flex;align-items: stretch;justify-content: center;background-color: white;position: relative;}#sk-container-id-1 div.sk-item::before, #sk-container-id-1 div.sk-parallel-item::before {content: \"\";position: absolute;border-left: 1px solid gray;box-sizing: border-box;top: 0;bottom: 0;left: 50%;z-index: -1;}#sk-container-id-1 div.sk-parallel-item {display: flex;flex-direction: column;z-index: 1;position: relative;background-color: white;}#sk-container-id-1 div.sk-parallel-item:first-child::after {align-self: flex-end;width: 50%;}#sk-container-id-1 div.sk-parallel-item:last-child::after {align-self: flex-start;width: 50%;}#sk-container-id-1 div.sk-parallel-item:only-child::after {width: 0;}#sk-container-id-1 div.sk-dashed-wrapped {border: 1px dashed gray;margin: 0 0.4em 0.5em 0.4em;box-sizing: border-box;padding-bottom: 0.4em;background-color: white;}#sk-container-id-1 div.sk-label label {font-family: monospace;font-weight: bold;display: inline-block;line-height: 1.2em;}#sk-container-id-1 div.sk-label-container {text-align: center;}#sk-container-id-1 div.sk-container {/* jupyter's `normalize.less` sets `[hidden] { display: none; }` but bootstrap.min.css set `[hidden] { display: none !important; }` so we also need the `!important` here to be able to override the default hidden behavior on the sphinx rendered scikit-learn.org. See: https://github.com/scikit-learn/scikit-learn/issues/21755 */display: inline-block !important;position: relative;}#sk-container-id-1 div.sk-text-repr-fallback {display: none;}</style><div id=\"sk-container-id-1\" class=\"sk-top-container\"><div class=\"sk-text-repr-fallback\"><pre>DecisionTreeRegressor(random_state=131)</pre><b>In a Jupyter environment, please rerun this cell to show the HTML representation or trust the notebook. <br />On GitHub, the HTML representation is unable to render, please try loading this page with nbviewer.org.</b></div><div class=\"sk-container\" hidden><div class=\"sk-item\"><div class=\"sk-estimator sk-toggleable\"><input class=\"sk-toggleable__control sk-hidden--visually\" id=\"sk-estimator-id-1\" type=\"checkbox\" checked><label for=\"sk-estimator-id-1\" class=\"sk-toggleable__label sk-toggleable__label-arrow\">DecisionTreeRegressor</label><div class=\"sk-toggleable__content\"><pre>DecisionTreeRegressor(random_state=131)</pre></div></div></div></div></div>"
      ],
      "text/plain": [
       "DecisionTreeRegressor(random_state=131)"
      ]
     },
     "execution_count": 11,
     "metadata": {},
     "output_type": "execute_result"
    }
   ],
   "source": [
    "#create decision tree\n",
    "tree = DecisionTreeRegressor(random_state = 131)\n",
    "tree.fit(x_imputed, y)"
   ]
  },
  {
   "cell_type": "code",
   "execution_count": 12,
   "metadata": {
    "colab": {
     "base_uri": "https://localhost:8080/"
    },
    "id": "7qQ-5aWfHDHc",
    "outputId": "3b41fff8-e16c-41b8-fb2c-3aaf59f60c19"
   },
   "outputs": [
    {
     "name": "stderr",
     "output_type": "stream",
     "text": [
      "/Users/jingwenhu/Documents/GitHub/BCM_CSA_F23/src/notebooks/../utils/feature_selection.py:10: SettingWithCopyWarning: \n",
      "A value is trying to be set on a copy of a slice from a DataFrame.\n",
      "Try using .loc[row_indexer,col_indexer] = value instead\n",
      "\n",
      "See the caveats in the documentation: https://pandas.pydata.org/pandas-docs/stable/user_guide/indexing.html#returning-a-view-versus-a-copy\n",
      "  model_dataset[target_var] = shhs1[target_var]\n"
     ]
    },
    {
     "name": "stdout",
     "output_type": "stream",
     "text": [
      "Number of features: 254\n"
     ]
    }
   ],
   "source": [
    "find_important_features(x_imputed, shhs1, tree, \"decision_tree\", \"ahi_c0h4a\")"
   ]
  },
  {
   "cell_type": "code",
   "execution_count": 13,
   "metadata": {
    "colab": {
     "base_uri": "https://localhost:8080/"
    },
    "id": "hN1yf7wKzhau",
    "outputId": "e0ad9a66-b2aa-44a6-f465-a09d9b1a0f9f"
   },
   "outputs": [
    {
     "name": "stderr",
     "output_type": "stream",
     "text": [
      "/var/folders/sq/7t31xm6962nbdwtkl3xr3kch0000gn/T/ipykernel_16650/122505251.py:5: SettingWithCopyWarning: \n",
      "A value is trying to be set on a copy of a slice from a DataFrame.\n",
      "Try using .loc[row_indexer,col_indexer] = value instead\n",
      "\n",
      "See the caveats in the documentation: https://pandas.pydata.org/pandas-docs/stable/user_guide/indexing.html#returning-a-view-versus-a-copy\n",
      "  decision_tree_dataset['ahi_c0h4a'] = shhs1['ahi_c0h4a']\n"
     ]
    }
   ],
   "source": [
    "#identify the most important features through decision trees\n",
    "tree_importances = tree.feature_importances_\n",
    "decision_tree_features = np.array(x_imputed.columns)[tree_importances > 0]\n",
    "decision_tree_dataset = x_imputed[decision_tree_features]\n",
    "decision_tree_dataset['ahi_c0h4a'] = shhs1['ahi_c0h4a']"
   ]
  },
  {
   "cell_type": "code",
   "execution_count": 14,
   "metadata": {
    "colab": {
     "base_uri": "https://localhost:8080/"
    },
    "id": "Vrg1Hf6ai3fm",
    "outputId": "f510d55c-550d-46e3-9fa5-1105407a0eb6"
   },
   "outputs": [
    {
     "data": {
      "text/plain": [
       "254"
      ]
     },
     "execution_count": 14,
     "metadata": {},
     "output_type": "execute_result"
    }
   ],
   "source": [
    "#end up with 254 features\n",
    "len(decision_tree_features)"
   ]
  },
  {
   "cell_type": "code",
   "execution_count": 15,
   "metadata": {
    "id": "MGhisCXecbxA"
   },
   "outputs": [],
   "source": [
    "#write to csv\n",
    "decision_tree_dataset.to_csv('../../data/interim/feature_selection/decision_tree_ahi_c0h4a.csv', index=False)"
   ]
  },
  {
   "cell_type": "markdown",
   "metadata": {
    "id": "LdiNrYXZ3GaP"
   },
   "source": [
    "### Random Forest"
   ]
  },
  {
   "cell_type": "code",
   "execution_count": 16,
   "metadata": {
    "colab": {
     "base_uri": "https://localhost:8080/",
     "height": 75
    },
    "id": "uSUr0hsg25by",
    "outputId": "ce9aa420-2c02-4281-cfaa-11d64f0d20b3"
   },
   "outputs": [
    {
     "data": {
      "text/html": [
       "<style>#sk-container-id-2 {color: black;}#sk-container-id-2 pre{padding: 0;}#sk-container-id-2 div.sk-toggleable {background-color: white;}#sk-container-id-2 label.sk-toggleable__label {cursor: pointer;display: block;width: 100%;margin-bottom: 0;padding: 0.3em;box-sizing: border-box;text-align: center;}#sk-container-id-2 label.sk-toggleable__label-arrow:before {content: \"▸\";float: left;margin-right: 0.25em;color: #696969;}#sk-container-id-2 label.sk-toggleable__label-arrow:hover:before {color: black;}#sk-container-id-2 div.sk-estimator:hover label.sk-toggleable__label-arrow:before {color: black;}#sk-container-id-2 div.sk-toggleable__content {max-height: 0;max-width: 0;overflow: hidden;text-align: left;background-color: #f0f8ff;}#sk-container-id-2 div.sk-toggleable__content pre {margin: 0.2em;color: black;border-radius: 0.25em;background-color: #f0f8ff;}#sk-container-id-2 input.sk-toggleable__control:checked~div.sk-toggleable__content {max-height: 200px;max-width: 100%;overflow: auto;}#sk-container-id-2 input.sk-toggleable__control:checked~label.sk-toggleable__label-arrow:before {content: \"▾\";}#sk-container-id-2 div.sk-estimator input.sk-toggleable__control:checked~label.sk-toggleable__label {background-color: #d4ebff;}#sk-container-id-2 div.sk-label input.sk-toggleable__control:checked~label.sk-toggleable__label {background-color: #d4ebff;}#sk-container-id-2 input.sk-hidden--visually {border: 0;clip: rect(1px 1px 1px 1px);clip: rect(1px, 1px, 1px, 1px);height: 1px;margin: -1px;overflow: hidden;padding: 0;position: absolute;width: 1px;}#sk-container-id-2 div.sk-estimator {font-family: monospace;background-color: #f0f8ff;border: 1px dotted black;border-radius: 0.25em;box-sizing: border-box;margin-bottom: 0.5em;}#sk-container-id-2 div.sk-estimator:hover {background-color: #d4ebff;}#sk-container-id-2 div.sk-parallel-item::after {content: \"\";width: 100%;border-bottom: 1px solid gray;flex-grow: 1;}#sk-container-id-2 div.sk-label:hover label.sk-toggleable__label {background-color: #d4ebff;}#sk-container-id-2 div.sk-serial::before {content: \"\";position: absolute;border-left: 1px solid gray;box-sizing: border-box;top: 0;bottom: 0;left: 50%;z-index: 0;}#sk-container-id-2 div.sk-serial {display: flex;flex-direction: column;align-items: center;background-color: white;padding-right: 0.2em;padding-left: 0.2em;position: relative;}#sk-container-id-2 div.sk-item {position: relative;z-index: 1;}#sk-container-id-2 div.sk-parallel {display: flex;align-items: stretch;justify-content: center;background-color: white;position: relative;}#sk-container-id-2 div.sk-item::before, #sk-container-id-2 div.sk-parallel-item::before {content: \"\";position: absolute;border-left: 1px solid gray;box-sizing: border-box;top: 0;bottom: 0;left: 50%;z-index: -1;}#sk-container-id-2 div.sk-parallel-item {display: flex;flex-direction: column;z-index: 1;position: relative;background-color: white;}#sk-container-id-2 div.sk-parallel-item:first-child::after {align-self: flex-end;width: 50%;}#sk-container-id-2 div.sk-parallel-item:last-child::after {align-self: flex-start;width: 50%;}#sk-container-id-2 div.sk-parallel-item:only-child::after {width: 0;}#sk-container-id-2 div.sk-dashed-wrapped {border: 1px dashed gray;margin: 0 0.4em 0.5em 0.4em;box-sizing: border-box;padding-bottom: 0.4em;background-color: white;}#sk-container-id-2 div.sk-label label {font-family: monospace;font-weight: bold;display: inline-block;line-height: 1.2em;}#sk-container-id-2 div.sk-label-container {text-align: center;}#sk-container-id-2 div.sk-container {/* jupyter's `normalize.less` sets `[hidden] { display: none; }` but bootstrap.min.css set `[hidden] { display: none !important; }` so we also need the `!important` here to be able to override the default hidden behavior on the sphinx rendered scikit-learn.org. See: https://github.com/scikit-learn/scikit-learn/issues/21755 */display: inline-block !important;position: relative;}#sk-container-id-2 div.sk-text-repr-fallback {display: none;}</style><div id=\"sk-container-id-2\" class=\"sk-top-container\"><div class=\"sk-text-repr-fallback\"><pre>RandomForestRegressor(random_state=52)</pre><b>In a Jupyter environment, please rerun this cell to show the HTML representation or trust the notebook. <br />On GitHub, the HTML representation is unable to render, please try loading this page with nbviewer.org.</b></div><div class=\"sk-container\" hidden><div class=\"sk-item\"><div class=\"sk-estimator sk-toggleable\"><input class=\"sk-toggleable__control sk-hidden--visually\" id=\"sk-estimator-id-2\" type=\"checkbox\" checked><label for=\"sk-estimator-id-2\" class=\"sk-toggleable__label sk-toggleable__label-arrow\">RandomForestRegressor</label><div class=\"sk-toggleable__content\"><pre>RandomForestRegressor(random_state=52)</pre></div></div></div></div></div>"
      ],
      "text/plain": [
       "RandomForestRegressor(random_state=52)"
      ]
     },
     "execution_count": 16,
     "metadata": {},
     "output_type": "execute_result"
    }
   ],
   "source": [
    "#create a random forest with 100 \"trees\"\n",
    "forest = RandomForestRegressor(n_estimators=100, random_state = 52)  # You can change the number of trees if needed\n",
    "forest.fit(x_imputed, y)"
   ]
  },
  {
   "cell_type": "code",
   "execution_count": 17,
   "metadata": {
    "colab": {
     "base_uri": "https://localhost:8080/"
    },
    "id": "TQBsJBEbHiLK",
    "outputId": "1ea21eef-bf29-40cb-cd9a-048f4f22a76f"
   },
   "outputs": [
    {
     "name": "stderr",
     "output_type": "stream",
     "text": [
      "/Users/jingwenhu/Documents/GitHub/BCM_CSA_F23/src/notebooks/../utils/feature_selection.py:10: SettingWithCopyWarning: \n",
      "A value is trying to be set on a copy of a slice from a DataFrame.\n",
      "Try using .loc[row_indexer,col_indexer] = value instead\n",
      "\n",
      "See the caveats in the documentation: https://pandas.pydata.org/pandas-docs/stable/user_guide/indexing.html#returning-a-view-versus-a-copy\n",
      "  model_dataset[target_var] = shhs1[target_var]\n"
     ]
    },
    {
     "name": "stdout",
     "output_type": "stream",
     "text": [
      "Number of features: 279\n"
     ]
    }
   ],
   "source": [
    "find_important_features(x_imputed, shhs1, forest, \"random_forest\", \"ahi_c0h4a\")"
   ]
  },
  {
   "cell_type": "code",
   "execution_count": 18,
   "metadata": {
    "colab": {
     "base_uri": "https://localhost:8080/"
    },
    "id": "42ZX1P6CgcCn",
    "outputId": "baec43a8-a8b1-4bfc-f9ff-f030bba4c268"
   },
   "outputs": [
    {
     "name": "stderr",
     "output_type": "stream",
     "text": [
      "/var/folders/sq/7t31xm6962nbdwtkl3xr3kch0000gn/T/ipykernel_16650/14452465.py:5: SettingWithCopyWarning: \n",
      "A value is trying to be set on a copy of a slice from a DataFrame.\n",
      "Try using .loc[row_indexer,col_indexer] = value instead\n",
      "\n",
      "See the caveats in the documentation: https://pandas.pydata.org/pandas-docs/stable/user_guide/indexing.html#returning-a-view-versus-a-copy\n",
      "  random_forest_dataset['ahi_c0h4a'] = shhs1['ahi_c0h4a']\n"
     ]
    }
   ],
   "source": [
    "#identify the most important features through random forest\n",
    "forest_importances = forest.feature_importances_\n",
    "random_forest_features = np.array(x_imputed.columns)[forest_importances > 0]\n",
    "random_forest_dataset = x_imputed[decision_tree_features]\n",
    "random_forest_dataset['ahi_c0h4a'] = shhs1['ahi_c0h4a']"
   ]
  },
  {
   "cell_type": "code",
   "execution_count": 21,
   "metadata": {
    "colab": {
     "base_uri": "https://localhost:8080/"
    },
    "id": "Qyqquzcli0iR",
    "outputId": "57787b0f-0b5d-4119-a26d-e9e700a0436c"
   },
   "outputs": [
    {
     "data": {
      "text/plain": [
       "279"
      ]
     },
     "execution_count": 21,
     "metadata": {},
     "output_type": "execute_result"
    }
   ],
   "source": [
    "#end up with 279 features\n",
    "len(random_forest_features)"
   ]
  },
  {
   "cell_type": "code",
   "execution_count": 22,
   "metadata": {
    "id": "mkn1VU0tgxxS"
   },
   "outputs": [],
   "source": [
    "#write to csv\n",
    "random_forest_dataset.to_csv('../../data/interim/feature_selection/random_forest_ahi_c0h4a.csv', index=False)"
   ]
  },
  {
   "cell_type": "markdown",
   "metadata": {
    "id": "w6JNAcZv0qKP"
   },
   "source": [
    "### Mutual Information"
   ]
  },
  {
   "cell_type": "code",
   "execution_count": 23,
   "metadata": {
    "id": "by-CtvFc0O45"
   },
   "outputs": [],
   "source": [
    "#create mutual information model\n",
    "mi = mutual_info_regression(x_imputed, y, random_state = 568)"
   ]
  },
  {
   "cell_type": "code",
   "execution_count": 24,
   "metadata": {
    "colab": {
     "base_uri": "https://localhost:8080/"
    },
    "id": "gqmO-Oqp0yxA",
    "outputId": "7a3f8ad5-3945-4f01-e05c-af3dd62e5df3"
   },
   "outputs": [
    {
     "name": "stderr",
     "output_type": "stream",
     "text": [
      "/var/folders/sq/7t31xm6962nbdwtkl3xr3kch0000gn/T/ipykernel_16650/3929246669.py:8: SettingWithCopyWarning: \n",
      "A value is trying to be set on a copy of a slice from a DataFrame.\n",
      "Try using .loc[row_indexer,col_indexer] = value instead\n",
      "\n",
      "See the caveats in the documentation: https://pandas.pydata.org/pandas-docs/stable/user_guide/indexing.html#returning-a-view-versus-a-copy\n",
      "  mi_dataset['ahi_c0h4a'] = shhs1['ahi_c0h4a']\n"
     ]
    }
   ],
   "source": [
    "# Get feature names where mutual information is greater than 0\n",
    "mi_features = np.array(x_imputed.columns)[mi > 0]\n",
    "\n",
    "# Create a new dataset with only the features having non-zero mutual information\n",
    "mi_dataset = x_imputed[mi_features]\n",
    "\n",
    "# Add the 'ahi_c0h4a' column to the new dataset\n",
    "mi_dataset['ahi_c0h4a'] = shhs1['ahi_c0h4a']"
   ]
  },
  {
   "cell_type": "code",
   "execution_count": 25,
   "metadata": {
    "colab": {
     "base_uri": "https://localhost:8080/"
    },
    "id": "ktYuPh0GiunY",
    "outputId": "0c93a9ae-f71c-4b53-c525-7365ec97f81c"
   },
   "outputs": [
    {
     "data": {
      "text/plain": [
       "193"
      ]
     },
     "execution_count": 25,
     "metadata": {},
     "output_type": "execute_result"
    }
   ],
   "source": [
    "#end up with 198 features\n",
    "len(mi_features)"
   ]
  },
  {
   "cell_type": "code",
   "execution_count": 26,
   "metadata": {
    "id": "2TkNyeYJhSuI"
   },
   "outputs": [],
   "source": [
    "#write to csv\n",
    "mi_dataset.to_csv('../../data/interim/feature_selection/mi_ahi_c0h4a.csv', index=False)"
   ]
  },
  {
   "cell_type": "markdown",
   "metadata": {
    "id": "fQdxT8sSZyEB"
   },
   "source": [
    "### Forward selection"
   ]
  },
  {
   "cell_type": "code",
   "execution_count": 27,
   "metadata": {
    "colab": {
     "base_uri": "https://localhost:8080/"
    },
    "id": "5BM13WmgArqX",
    "outputId": "68fe854f-c3ba-4428-e1ce-708ae293264c"
   },
   "outputs": [
    {
     "name": "stdout",
     "output_type": "stream",
     "text": [
      "Added feature: neck20, AIC with Features: 41518.08129720545\n",
      "Added feature: bmi_s1, AIC with Features: 41364.24158861602\n",
      "Added feature: age_s1, AIC with Features: 41255.61741102298\n",
      "Added feature: gender, AIC with Features: 41217.242718044195\n",
      "Added feature: diasbp, AIC with Features: 41197.10638671003\n",
      "Added feature: funres02, AIC with Features: 41178.68179985349\n",
      "Added feature: shhs1_tcvd, AIC with Features: 41168.85552545749\n",
      "Added feature: ess_s1, AIC with Features: 41159.22469341669\n",
      "Added feature: nonsp_st, AIC with Features: 41150.241932690806\n",
      "Added feature: hosnr02, AIC with Features: 41142.70588275835\n",
      "Added feature: benzod1, AIC with Features: 41134.709576518544\n",
      "Added feature: ccb1, AIC with Features: 41127.89408107898\n",
      "Added feature: nsrrid, AIC with Features: 41120.29037287675\n",
      "Added feature: shhs1_qc, AIC with Features: 41113.16689854111\n",
      "Added feature: twuweh02, AIC with Features: 41107.11970492668\n",
      "Added feature: race, AIC with Features: 41100.13620305085\n",
      "Added feature: estrgn1, AIC with Features: 41094.28092170194\n",
      "Added feature: waist, AIC with Features: 41089.08132370068\n",
      "Added feature: soda15, AIC with Features: 41084.95674689869\n",
      "Added feature: tea15, AIC with Features: 41080.884861566876\n",
      "Added feature: urdbpae, AIC with Features: 41077.013981929515\n",
      "Added feature: diuret1, AIC with Features: 41073.48440333409\n",
      "Added feature: pvdl1, AIC with Features: 41069.96428983951\n",
      "Added feature: height, AIC with Features: 41066.89047161673\n",
      "Added feature: weight, AIC with Features: 41057.95484161254\n",
      "Added feature: systbp, AIC with Features: 41054.40897523206\n",
      "No significant improvement in AIC or no further significant feature found. Stopping forward selection.\n"
     ]
    }
   ],
   "source": [
    "#USING AIC\n",
    "forward_selection_features = []\n",
    "\n",
    "# Start with an arbitrarily large initial AIC\n",
    "previous_AIC = float('inf')\n",
    "AIC_change_threshold = 3  # Adjust this threshold value based on the scale of your AIC\n",
    "\n",
    "#run forward selection\n",
    "while len(forward_selection_features) < len(x_imputed.columns):\n",
    "    remaining_features = list(set(x_imputed.columns) - set(forward_selection_features))\n",
    "    best_feature_AIC = float('inf')\n",
    "    best_feature = None\n",
    "\n",
    "    for feature in remaining_features:\n",
    "        candidate_features = forward_selection_features.copy()\n",
    "        candidate_features.append(feature)\n",
    "\n",
    "        x_forward = x_imputed[candidate_features]\n",
    "        y_forward = y.copy()\n",
    "\n",
    "        x_forward = sm.add_constant(x_forward)\n",
    "        model = sm.OLS(y_forward, x_forward).fit()\n",
    "        AIC = model.aic\n",
    "\n",
    "        # Update the best feature if the current one is better (lower AIC)\n",
    "        if AIC < best_feature_AIC:\n",
    "            best_feature_AIC = AIC\n",
    "            best_feature = feature\n",
    "\n",
    "    # Break the loop if change in AIC is smaller than the threshold or if no significant decrease in AIC\n",
    "    if abs(best_feature_AIC - previous_AIC) < AIC_change_threshold or best_feature is None:\n",
    "        print(\"No significant improvement in AIC or no further significant feature found. Stopping forward selection.\")\n",
    "        break\n",
    "\n",
    "    forward_selection_features.append(best_feature)\n",
    "    print(f\"Added feature: {best_feature}, AIC with Features: {best_feature_AIC}\")\n",
    "\n",
    "    # Update the previous AIC for the next iteration\n",
    "    previous_AIC = best_feature_AIC\n"
   ]
  },
  {
   "cell_type": "code",
   "execution_count": 22,
   "metadata": {
    "colab": {
     "base_uri": "https://localhost:8080/"
    },
    "id": "_32Y5bG1FKtr",
    "outputId": "d6a24abd-81e2-40a7-992d-07de20901b4a"
   },
   "outputs": [],
   "source": [
    "# Create a new dataset with only the features having non-zero mutual information\n",
    "forward_selection_dataset = x_imputed[forward_selection_features]\n",
    "\n",
    "# Add the 'ahi_c0h4a' column to the new dataset\n",
    "forward_selection_dataset['ahi_c0h4a'] = shhs1['ahi_c0h4a']\n",
    "\n",
    "#write to csv\n",
    "forward_selection_dataset.to_csv('../../data/interim/feature_selection/forward_selection_ahi_c0h4a_AIC.csv', index=False)\n"
   ]
  },
  {
   "cell_type": "code",
   "execution_count": 27,
   "metadata": {},
   "outputs": [
    {
     "name": "stdout",
     "output_type": "stream",
     "text": [
      "28\n"
     ]
    }
   ],
   "source": [
    "print(len(forward_selection_features))"
   ]
  },
  {
   "cell_type": "code",
   "execution_count": 40,
   "metadata": {
    "colab": {
     "base_uri": "https://localhost:8080/"
    },
    "id": "CvcDDNEWAuuC",
    "outputId": "450d93f6-f0e7-40f0-a5c1-b9bb3a64352a"
   },
   "outputs": [
    {
     "name": "stdout",
     "output_type": "stream",
     "text": [
      "Added feature: neck20, Mean Squared Error with Features: 41531.41390243346\n",
      "Added feature: bmi_s1, Mean Squared Error with Features: 41384.240496458035\n",
      "Added feature: age_s1, Mean Squared Error with Features: 41282.282621479\n",
      "Added feature: gender, Mean Squared Error with Features: 41250.57423111422\n",
      "Added feature: diasbp, Mean Squared Error with Features: 41237.10420239405\n",
      "Added feature: funres02, Mean Squared Error with Features: 41225.34591815152\n",
      "Added feature: shhs1_tcvd, Mean Squared Error with Features: 41222.18594636952\n",
      "Added feature: ess_s1, Mean Squared Error with Features: 41219.221416942724\n",
      "Added feature: nonsp_st, Mean Squared Error with Features: 41216.90495883085\n",
      "No significant improvement in BIC or no further significant feature found. Stopping forward selection.\n"
     ]
    }
   ],
   "source": [
    "#USING BIC\n",
    "forward_selection_features = []\n",
    "\n",
    "# Start with an arbitrarily large initial BIC\n",
    "previous_BIC = float('inf')\n",
    "BIC_change_threshold = 2  # Adjust this threshold value based on the scale of your BIC\n",
    "\n",
    "#run forward selection\n",
    "while len(forward_selection_features) < len(x_imputed.columns):\n",
    "    remaining_features = list(set(x_imputed.columns) - set(forward_selection_features))\n",
    "    best_feature_BIC = float('inf')\n",
    "    best_feature = None\n",
    "\n",
    "    for feature in remaining_features:\n",
    "        candidate_features = forward_selection_features.copy()\n",
    "        candidate_features.append(feature)\n",
    "\n",
    "        x_forward = x_imputed[candidate_features]\n",
    "        y_forward = y.copy()\n",
    "\n",
    "        x_forward = sm.add_constant(x_forward)\n",
    "        model = sm.OLS(y_forward, x_forward).fit()\n",
    "        BIC = model.bic\n",
    "\n",
    "        # Update the best feature if the current one is better (lower BIC)\n",
    "        if BIC < best_feature_BIC:\n",
    "            best_feature_BIC = BIC\n",
    "            best_feature = feature\n",
    "\n",
    "    # Break the loop if change in BIC is smaller than the threshold or if no significant decrease in BIC\n",
    "    if abs(best_feature_BIC - previous_BIC) < BIC_change_threshold or best_feature is None:\n",
    "        print(\"No significant improvement in BIC or no further significant feature found. Stopping forward selection.\")\n",
    "        break\n",
    "\n",
    "    forward_selection_features.append(best_feature)\n",
    "    print(f\"Added feature: {best_feature}, Mean Squared Error with Features: {best_feature_BIC}\")\n",
    "\n",
    "    # Update the previous MSE for the next iteration\n",
    "    previous_BIC = best_feature_BIC\n"
   ]
  },
  {
   "cell_type": "code",
   "execution_count": 28,
   "metadata": {
    "colab": {
     "base_uri": "https://localhost:8080/"
    },
    "id": "-ZkeOtuoFmYL",
    "outputId": "aea00a3f-99d7-4606-e70f-80a9756582aa"
   },
   "outputs": [
    {
     "name": "stderr",
     "output_type": "stream",
     "text": [
      "/var/folders/sq/7t31xm6962nbdwtkl3xr3kch0000gn/T/ipykernel_16650/2548653904.py:5: SettingWithCopyWarning: \n",
      "A value is trying to be set on a copy of a slice from a DataFrame.\n",
      "Try using .loc[row_indexer,col_indexer] = value instead\n",
      "\n",
      "See the caveats in the documentation: https://pandas.pydata.org/pandas-docs/stable/user_guide/indexing.html#returning-a-view-versus-a-copy\n",
      "  forward_selection_dataset['ahi_c0h4a'] = shhs1['ahi_c0h4a']\n"
     ]
    }
   ],
   "source": [
    "# Create a new dataset with only the features having non-zero mutual information\n",
    "forward_selection_dataset = x_imputed[forward_selection_features]\n",
    "\n",
    "# Add the 'ahi_c0h4a' column to the new dataset\n",
    "forward_selection_dataset['ahi_c0h4a'] = shhs1['ahi_c0h4a']\n",
    "\n",
    "#write to csv\n",
    "forward_selection_dataset.to_csv('../../data/interim/feature_selection/forward_selection_ahi_c0h4a_BIC.csv', index=False)\n"
   ]
  },
  {
   "cell_type": "markdown",
   "metadata": {
    "id": "MleBtkR7q_fl"
   },
   "source": [
    "### Backward selection"
   ]
  },
  {
   "cell_type": "code",
   "execution_count": 29,
   "metadata": {
    "colab": {
     "base_uri": "https://localhost:8080/"
    },
    "id": "1NIGQhnnrCDH",
    "outputId": "713b18ff-da8c-4dec-fe75-9b3dedd36623"
   },
   "outputs": [
    {
     "name": "stdout",
     "output_type": "stream",
     "text": [
      "Removed feature: infmi, AIC without Feature: 41279.19479672043\n",
      "Removed feature: down25, AIC without Feature: 41277.195110526256\n",
      "Removed feature: bmi_s1, AIC without Feature: 41275.19569786143\n",
      "Removed feature: lvhst, AIC without Feature: 41273.1966214187\n",
      "Removed feature: rawre_s1, AIC without Feature: 41271.197773243824\n",
      "Removed feature: phacls25, AIC without Feature: 41269.198916199595\n",
      "Removed feature: drive02, AIC without Feature: 41267.20086974731\n",
      "Removed feature: beta1, AIC without Feature: 41265.20338491277\n",
      "Removed feature: av3deg, AIC without Feature: 41263.20595960944\n",
      "Removed feature: mi15, AIC without Feature: 41261.208966046244\n",
      "Removed feature: shhs1_cf, AIC without Feature: 41259.2142429573\n",
      "Removed feature: istrd1, AIC without Feature: 41257.22183061651\n",
      "Removed feature: lah, AIC without Feature: 41255.23068344611\n",
      "Removed feature: nrvous25, AIC without Feature: 41253.23928783782\n",
      "Removed feature: ecgdate, AIC without Feature: 41251.24999745495\n",
      "Removed feature: hlthlm25, AIC without Feature: 41249.25873895363\n",
      "Removed feature: fvc, AIC without Feature: 41247.269841827925\n",
      "Removed feature: hb02, AIC without Feature: 41245.28076976426\n",
      "Removed feature: rvh, AIC without Feature: 41243.29188276503\n",
      "Removed feature: wine15, AIC without Feature: 41241.30895192214\n",
      "Removed feature: rbbb, AIC without Feature: 41239.32712528448\n",
      "Removed feature: dig1, AIC without Feature: 41237.344658364585\n",
      "Removed feature: sittlk02, AIC without Feature: 41235.365450837155\n",
      "Removed feature: lipid1, AIC without Feature: 41233.38624449559\n",
      "Removed feature: anar31, AIC without Feature: 41231.41341594942\n",
      "Removed feature: mdsa02, AIC without Feature: 41229.43881643726\n",
      "Removed feature: coffee15, AIC without Feature: 41227.46528242432\n",
      "Removed feature: yrsns15, AIC without Feature: 41225.49195659498\n",
      "Removed feature: sitlch02, AIC without Feature: 41223.52055545693\n",
      "Removed feature: loudsn02, AIC without Feature: 41221.55128001711\n",
      "Removed feature: ankbp, AIC without Feature: 41219.5845647353\n",
      "Removed feature: attabl02, AIC without Feature: 41217.6199219963\n",
      "Removed feature: anar1c1, AIC without Feature: 41215.656543321486\n",
      "Removed feature: insuln1, AIC without Feature: 41213.69168756876\n",
      "Removed feature: parrptdiab, AIC without Feature: 41211.71328585998\n",
      "Removed feature: lvh3_3, AIC without Feature: 41209.75468348748\n",
      "Removed feature: tfawdm02, AIC without Feature: 41207.79848925768\n",
      "Removed feature: educat, AIC without Feature: 41205.845497794166\n",
      "Removed feature: prev_hx_stroke, AIC without Feature: 41203.897550809284\n",
      "Removed feature: cabg15, AIC without Feature: 41201.9548302653\n",
      "Removed feature: angina15, AIC without Feature: 41200.010672680066\n",
      "Removed feature: pf_s1, AIC without Feature: 41198.07384875693\n",
      "Removed feature: syst220, AIC without Feature: 41196.14800467892\n",
      "Removed feature: mstat, AIC without Feature: 41194.23260204019\n",
      "Removed feature: hdl, AIC without Feature: 41192.32126472902\n",
      "Removed feature: nsrrid, AIC without Feature: 41190.411001915054\n",
      "Removed feature: apbs, AIC without Feature: 41188.50120452383\n",
      "Removed feature: niac1, AIC without Feature: 41186.597909782155\n",
      "Removed feature: lvh3_1, AIC without Feature: 41184.69727985149\n",
      "Removed feature: bp_s1, AIC without Feature: 41182.79920210334\n",
      "Removed feature: htnmed1, AIC without Feature: 41180.899746880175\n",
      "Removed feature: rawsf_s1, AIC without Feature: 41179.00029233428\n",
      "Removed feature: hrswe02, AIC without Feature: 41177.10501404332\n",
      "Removed feature: rtrial, AIC without Feature: 41175.207486076004\n",
      "Removed feature: ursbpae, AIC without Feature: 41173.330223620105\n",
      "Removed feature: crbron15, AIC without Feature: 41171.45656986835\n",
      "Removed feature: napsmn15, AIC without Feature: 41169.58880368132\n",
      "Removed feature: shhs1_hi, AIC without Feature: 41167.72986620983\n",
      "Removed feature: imdbpae, AIC without Feature: 41165.87146646895\n",
      "Removed feature: shhs1_meds, AIC without Feature: 41164.00861739934\n",
      "Removed feature: nodal, AIC without Feature: 41162.157601215775\n",
      "Removed feature: calm25, AIC without Feature: 41160.32507833056\n",
      "Removed feature: dias220, AIC without Feature: 41158.50336271635\n",
      "Removed feature: mob1, AIC without Feature: 41156.68473011005\n",
      "No significant improvement in AIC or removing any more features deteriorates the model. Stopping backward selection.\n"
     ]
    }
   ],
   "source": [
    "# USING AIC\n",
    "\n",
    "# Starting with all the features\n",
    "backward_selection_features = list(x_imputed.columns)\n",
    "\n",
    "# Start with an arbitrarily large initial AIC\n",
    "previous_AIC = float('inf')\n",
    "AIC_change_threshold = 1.8 # Adjust this threshold value based on the scale of your AIC\n",
    "\n",
    "#run backward selection\n",
    "while len(backward_selection_features) > 0:\n",
    "    removed_feature_AIC = float('inf')\n",
    "    feature_to_remove = None\n",
    "\n",
    "    for feature in backward_selection_features:\n",
    "        candidate_features = backward_selection_features.copy()\n",
    "        candidate_features.remove(feature)\n",
    "        \n",
    "        x_backward = x_imputed[candidate_features]\n",
    "        y_backward = y.copy()\n",
    "        \n",
    "        x_backward = sm.add_constant(x_backward)\n",
    "        model = sm.OLS(y_backward, x_backward).fit()\n",
    "        AIC = model.aic\n",
    "        # Update the best feature to remove if the current one is better (lower MSE)\n",
    "        if AIC < removed_feature_AIC:\n",
    "            removed_feature_AIC = AIC\n",
    "            feature_to_remove = feature\n",
    "\n",
    "    # Break the loop if change in MSE is smaller than the threshold or if removing a feature increases the MSE\n",
    "    if abs(removed_feature_AIC - previous_AIC) < AIC_change_threshold or removed_feature_AIC > previous_AIC or best_feature is None:\n",
    "        print(\"No significant improvement in AIC or removing any more features deteriorates the model. Stopping backward selection.\")\n",
    "        break\n",
    "\n",
    "    backward_selection_features.remove(feature_to_remove)\n",
    "    print(f\"Removed feature: {feature_to_remove}, AIC without Feature: {removed_feature_AIC}\")\n",
    "\n",
    "    # Update the previous MSE for the next iteration\n",
    "    previous_AIC = removed_feature_AIC\n"
   ]
  },
  {
   "cell_type": "code",
   "execution_count": 30,
   "metadata": {
    "colab": {
     "base_uri": "https://localhost:8080/"
    },
    "id": "maq49NcirHJ8",
    "outputId": "255a4457-6fcc-4f32-b622-d25b1151e066"
   },
   "outputs": [
    {
     "name": "stderr",
     "output_type": "stream",
     "text": [
      "/var/folders/sq/7t31xm6962nbdwtkl3xr3kch0000gn/T/ipykernel_16650/1444284095.py:5: SettingWithCopyWarning: \n",
      "A value is trying to be set on a copy of a slice from a DataFrame.\n",
      "Try using .loc[row_indexer,col_indexer] = value instead\n",
      "\n",
      "See the caveats in the documentation: https://pandas.pydata.org/pandas-docs/stable/user_guide/indexing.html#returning-a-view-versus-a-copy\n",
      "  backward_selection_dataset['ahi_c0h4a'] = shhs1['ahi_c0h4a']\n"
     ]
    }
   ],
   "source": [
    "# Create a new dataset with only the features having non-zero mutual information\n",
    "backward_selection_dataset = x_imputed[backward_selection_features]\n",
    "\n",
    "# Add the 'ahi_c0h4a' column to the new dataset\n",
    "backward_selection_dataset['ahi_c0h4a'] = shhs1['ahi_c0h4a']"
   ]
  },
  {
   "cell_type": "code",
   "execution_count": 31,
   "metadata": {
    "id": "qghpByEIrSAN"
   },
   "outputs": [],
   "source": [
    "#write to csv\n",
    "backward_selection_dataset.to_csv('../../data/interim/feature_selection/backward_selection_ahi_c0h4a_AIC.csv', index=False)"
   ]
  },
  {
   "cell_type": "markdown",
   "metadata": {
    "id": "qjUPXi1UjtxC"
   },
   "source": [
    "## Target variable: hf15"
   ]
  },
  {
   "cell_type": "code",
   "execution_count": 32,
   "metadata": {
    "id": "BuKhyUTCkOHF"
   },
   "outputs": [],
   "source": [
    "y = x_imputed['hf15']\n",
    "x_imputed = x_imputed.drop(columns=['hf15'])"
   ]
  },
  {
   "cell_type": "markdown",
   "metadata": {
    "id": "i1S5omQBmyzP"
   },
   "source": [
    "## MRMR\n"
   ]
  },
  {
   "cell_type": "code",
   "execution_count": 34,
   "metadata": {},
   "outputs": [
    {
     "name": "stderr",
     "output_type": "stream",
     "text": [
      "100%|██████████| 10/10 [00:03<00:00,  2.62it/s]\n",
      "100%|██████████| 20/20 [00:07<00:00,  2.64it/s]\n"
     ]
    }
   ],
   "source": [
    "#MRMR\n",
    "import pandas as pd\n",
    "from sklearn.datasets import make_classification\n",
    "from mrmr import mrmr_classif\n",
    "selected_features_10 = mrmr_classif(X=x_imputed, y=y, K=10)\n",
    "selected_features_20 = mrmr_classif(X=x_imputed, y=y, K=20)"
   ]
  },
  {
   "cell_type": "code",
   "execution_count": 35,
   "metadata": {},
   "outputs": [],
   "source": [
    "# Create a new dataset with only the features having non-zero mutual information\n",
    "selected_features_10_dataset = x_imputed[selected_features_10]\n",
    "selected_features_20_dataset = x_imputed[selected_features_20]\n",
    "\n",
    "# Add the 'ahi_c0h4a' column to the new dataset\n",
    "selected_features_10_dataset['hf15'] = shhs1['hf15']\n",
    "selected_features_20_dataset['hf15'] = shhs1['hf15']\n",
    "\n",
    "selected_features_10_dataset['nsrrid'] = shhs1['nsrrid']\n",
    "selected_features_20_dataset['nsrrid'] = shhs1['nsrrid']\n",
    "\n",
    "selected_features_10_dataset.to_csv('../../data/interim/feature_selection/selected_features_10_hf15.csv', index=False)\n",
    "selected_features_20_dataset.to_csv('../../data/interim/feature_selection/selected_features_20_hf15.csv', index=False)"
   ]
  },
  {
   "cell_type": "markdown",
   "metadata": {},
   "source": [
    "## Random Forest"
   ]
  },
  {
   "cell_type": "code",
   "execution_count": 36,
   "metadata": {
    "colab": {
     "base_uri": "https://localhost:8080/",
     "height": 75
    },
    "id": "q8RFfqksmvlA",
    "outputId": "87c435b1-2590-4a01-e5ea-569d807dfa9d"
   },
   "outputs": [
    {
     "data": {
      "text/html": [
       "<style>#sk-container-id-3 {color: black;}#sk-container-id-3 pre{padding: 0;}#sk-container-id-3 div.sk-toggleable {background-color: white;}#sk-container-id-3 label.sk-toggleable__label {cursor: pointer;display: block;width: 100%;margin-bottom: 0;padding: 0.3em;box-sizing: border-box;text-align: center;}#sk-container-id-3 label.sk-toggleable__label-arrow:before {content: \"▸\";float: left;margin-right: 0.25em;color: #696969;}#sk-container-id-3 label.sk-toggleable__label-arrow:hover:before {color: black;}#sk-container-id-3 div.sk-estimator:hover label.sk-toggleable__label-arrow:before {color: black;}#sk-container-id-3 div.sk-toggleable__content {max-height: 0;max-width: 0;overflow: hidden;text-align: left;background-color: #f0f8ff;}#sk-container-id-3 div.sk-toggleable__content pre {margin: 0.2em;color: black;border-radius: 0.25em;background-color: #f0f8ff;}#sk-container-id-3 input.sk-toggleable__control:checked~div.sk-toggleable__content {max-height: 200px;max-width: 100%;overflow: auto;}#sk-container-id-3 input.sk-toggleable__control:checked~label.sk-toggleable__label-arrow:before {content: \"▾\";}#sk-container-id-3 div.sk-estimator input.sk-toggleable__control:checked~label.sk-toggleable__label {background-color: #d4ebff;}#sk-container-id-3 div.sk-label input.sk-toggleable__control:checked~label.sk-toggleable__label {background-color: #d4ebff;}#sk-container-id-3 input.sk-hidden--visually {border: 0;clip: rect(1px 1px 1px 1px);clip: rect(1px, 1px, 1px, 1px);height: 1px;margin: -1px;overflow: hidden;padding: 0;position: absolute;width: 1px;}#sk-container-id-3 div.sk-estimator {font-family: monospace;background-color: #f0f8ff;border: 1px dotted black;border-radius: 0.25em;box-sizing: border-box;margin-bottom: 0.5em;}#sk-container-id-3 div.sk-estimator:hover {background-color: #d4ebff;}#sk-container-id-3 div.sk-parallel-item::after {content: \"\";width: 100%;border-bottom: 1px solid gray;flex-grow: 1;}#sk-container-id-3 div.sk-label:hover label.sk-toggleable__label {background-color: #d4ebff;}#sk-container-id-3 div.sk-serial::before {content: \"\";position: absolute;border-left: 1px solid gray;box-sizing: border-box;top: 0;bottom: 0;left: 50%;z-index: 0;}#sk-container-id-3 div.sk-serial {display: flex;flex-direction: column;align-items: center;background-color: white;padding-right: 0.2em;padding-left: 0.2em;position: relative;}#sk-container-id-3 div.sk-item {position: relative;z-index: 1;}#sk-container-id-3 div.sk-parallel {display: flex;align-items: stretch;justify-content: center;background-color: white;position: relative;}#sk-container-id-3 div.sk-item::before, #sk-container-id-3 div.sk-parallel-item::before {content: \"\";position: absolute;border-left: 1px solid gray;box-sizing: border-box;top: 0;bottom: 0;left: 50%;z-index: -1;}#sk-container-id-3 div.sk-parallel-item {display: flex;flex-direction: column;z-index: 1;position: relative;background-color: white;}#sk-container-id-3 div.sk-parallel-item:first-child::after {align-self: flex-end;width: 50%;}#sk-container-id-3 div.sk-parallel-item:last-child::after {align-self: flex-start;width: 50%;}#sk-container-id-3 div.sk-parallel-item:only-child::after {width: 0;}#sk-container-id-3 div.sk-dashed-wrapped {border: 1px dashed gray;margin: 0 0.4em 0.5em 0.4em;box-sizing: border-box;padding-bottom: 0.4em;background-color: white;}#sk-container-id-3 div.sk-label label {font-family: monospace;font-weight: bold;display: inline-block;line-height: 1.2em;}#sk-container-id-3 div.sk-label-container {text-align: center;}#sk-container-id-3 div.sk-container {/* jupyter's `normalize.less` sets `[hidden] { display: none; }` but bootstrap.min.css set `[hidden] { display: none !important; }` so we also need the `!important` here to be able to override the default hidden behavior on the sphinx rendered scikit-learn.org. See: https://github.com/scikit-learn/scikit-learn/issues/21755 */display: inline-block !important;position: relative;}#sk-container-id-3 div.sk-text-repr-fallback {display: none;}</style><div id=\"sk-container-id-3\" class=\"sk-top-container\"><div class=\"sk-text-repr-fallback\"><pre>RandomForestRegressor(random_state=55)</pre><b>In a Jupyter environment, please rerun this cell to show the HTML representation or trust the notebook. <br />On GitHub, the HTML representation is unable to render, please try loading this page with nbviewer.org.</b></div><div class=\"sk-container\" hidden><div class=\"sk-item\"><div class=\"sk-estimator sk-toggleable\"><input class=\"sk-toggleable__control sk-hidden--visually\" id=\"sk-estimator-id-3\" type=\"checkbox\" checked><label for=\"sk-estimator-id-3\" class=\"sk-toggleable__label sk-toggleable__label-arrow\">RandomForestRegressor</label><div class=\"sk-toggleable__content\"><pre>RandomForestRegressor(random_state=55)</pre></div></div></div></div></div>"
      ],
      "text/plain": [
       "RandomForestRegressor(random_state=55)"
      ]
     },
     "execution_count": 36,
     "metadata": {},
     "output_type": "execute_result"
    }
   ],
   "source": [
    "forest = RandomForestRegressor(n_estimators=100, random_state = 55)  # You can change the number of trees if needed\n",
    "forest.fit(x_imputed, y)"
   ]
  },
  {
   "cell_type": "code",
   "execution_count": 37,
   "metadata": {
    "colab": {
     "base_uri": "https://localhost:8080/"
    },
    "id": "B0iMdkKlIpm5",
    "outputId": "19ff24ea-94ee-45bc-dc55-7e1ddcfc51e7"
   },
   "outputs": [
    {
     "name": "stdout",
     "output_type": "stream",
     "text": [
      "Number of features: 259\n"
     ]
    }
   ],
   "source": [
    "find_important_features(x_imputed, shhs1, forest, \"random_forest\", \"hf15\")"
   ]
  },
  {
   "cell_type": "code",
   "execution_count": 38,
   "metadata": {
    "colab": {
     "base_uri": "https://localhost:8080/"
    },
    "id": "9BLOrvgQzq5a",
    "outputId": "b0515cbf-8049-4609-e429-89ee3229d5e2"
   },
   "outputs": [],
   "source": [
    "forest_importances = forest.feature_importances_\n",
    "random_forest_features = np.array(x_imputed.columns)[forest_importances > 0]\n",
    "random_forest_dataset = x_imputed[random_forest_features]\n",
    "random_forest_dataset['hf15'] = shhs1['hf15']"
   ]
  },
  {
   "cell_type": "code",
   "execution_count": 39,
   "metadata": {
    "colab": {
     "base_uri": "https://localhost:8080/"
    },
    "id": "_patebmxz34M",
    "outputId": "4f75379f-2f9d-4fc8-c1af-9c70945ffada"
   },
   "outputs": [
    {
     "data": {
      "text/plain": [
       "259"
      ]
     },
     "execution_count": 39,
     "metadata": {},
     "output_type": "execute_result"
    }
   ],
   "source": [
    "len(random_forest_features)"
   ]
  },
  {
   "cell_type": "code",
   "execution_count": 40,
   "metadata": {
    "id": "CjuirKNIzu_H"
   },
   "outputs": [],
   "source": [
    "random_forest_dataset.to_csv('../../data/interim/feature_selection/random_forest_hf15.csv', index=False)"
   ]
  },
  {
   "cell_type": "markdown",
   "metadata": {
    "id": "sFUQF_7eyrCq"
   },
   "source": [
    "### Decision Tree"
   ]
  },
  {
   "cell_type": "code",
   "execution_count": 41,
   "metadata": {
    "colab": {
     "base_uri": "https://localhost:8080/",
     "height": 75
    },
    "id": "t_nJ4q95ytG7",
    "outputId": "5b68f043-c5fd-4a00-f0b0-5fc7defd47f2"
   },
   "outputs": [
    {
     "data": {
      "text/html": [
       "<style>#sk-container-id-4 {color: black;}#sk-container-id-4 pre{padding: 0;}#sk-container-id-4 div.sk-toggleable {background-color: white;}#sk-container-id-4 label.sk-toggleable__label {cursor: pointer;display: block;width: 100%;margin-bottom: 0;padding: 0.3em;box-sizing: border-box;text-align: center;}#sk-container-id-4 label.sk-toggleable__label-arrow:before {content: \"▸\";float: left;margin-right: 0.25em;color: #696969;}#sk-container-id-4 label.sk-toggleable__label-arrow:hover:before {color: black;}#sk-container-id-4 div.sk-estimator:hover label.sk-toggleable__label-arrow:before {color: black;}#sk-container-id-4 div.sk-toggleable__content {max-height: 0;max-width: 0;overflow: hidden;text-align: left;background-color: #f0f8ff;}#sk-container-id-4 div.sk-toggleable__content pre {margin: 0.2em;color: black;border-radius: 0.25em;background-color: #f0f8ff;}#sk-container-id-4 input.sk-toggleable__control:checked~div.sk-toggleable__content {max-height: 200px;max-width: 100%;overflow: auto;}#sk-container-id-4 input.sk-toggleable__control:checked~label.sk-toggleable__label-arrow:before {content: \"▾\";}#sk-container-id-4 div.sk-estimator input.sk-toggleable__control:checked~label.sk-toggleable__label {background-color: #d4ebff;}#sk-container-id-4 div.sk-label input.sk-toggleable__control:checked~label.sk-toggleable__label {background-color: #d4ebff;}#sk-container-id-4 input.sk-hidden--visually {border: 0;clip: rect(1px 1px 1px 1px);clip: rect(1px, 1px, 1px, 1px);height: 1px;margin: -1px;overflow: hidden;padding: 0;position: absolute;width: 1px;}#sk-container-id-4 div.sk-estimator {font-family: monospace;background-color: #f0f8ff;border: 1px dotted black;border-radius: 0.25em;box-sizing: border-box;margin-bottom: 0.5em;}#sk-container-id-4 div.sk-estimator:hover {background-color: #d4ebff;}#sk-container-id-4 div.sk-parallel-item::after {content: \"\";width: 100%;border-bottom: 1px solid gray;flex-grow: 1;}#sk-container-id-4 div.sk-label:hover label.sk-toggleable__label {background-color: #d4ebff;}#sk-container-id-4 div.sk-serial::before {content: \"\";position: absolute;border-left: 1px solid gray;box-sizing: border-box;top: 0;bottom: 0;left: 50%;z-index: 0;}#sk-container-id-4 div.sk-serial {display: flex;flex-direction: column;align-items: center;background-color: white;padding-right: 0.2em;padding-left: 0.2em;position: relative;}#sk-container-id-4 div.sk-item {position: relative;z-index: 1;}#sk-container-id-4 div.sk-parallel {display: flex;align-items: stretch;justify-content: center;background-color: white;position: relative;}#sk-container-id-4 div.sk-item::before, #sk-container-id-4 div.sk-parallel-item::before {content: \"\";position: absolute;border-left: 1px solid gray;box-sizing: border-box;top: 0;bottom: 0;left: 50%;z-index: -1;}#sk-container-id-4 div.sk-parallel-item {display: flex;flex-direction: column;z-index: 1;position: relative;background-color: white;}#sk-container-id-4 div.sk-parallel-item:first-child::after {align-self: flex-end;width: 50%;}#sk-container-id-4 div.sk-parallel-item:last-child::after {align-self: flex-start;width: 50%;}#sk-container-id-4 div.sk-parallel-item:only-child::after {width: 0;}#sk-container-id-4 div.sk-dashed-wrapped {border: 1px dashed gray;margin: 0 0.4em 0.5em 0.4em;box-sizing: border-box;padding-bottom: 0.4em;background-color: white;}#sk-container-id-4 div.sk-label label {font-family: monospace;font-weight: bold;display: inline-block;line-height: 1.2em;}#sk-container-id-4 div.sk-label-container {text-align: center;}#sk-container-id-4 div.sk-container {/* jupyter's `normalize.less` sets `[hidden] { display: none; }` but bootstrap.min.css set `[hidden] { display: none !important; }` so we also need the `!important` here to be able to override the default hidden behavior on the sphinx rendered scikit-learn.org. See: https://github.com/scikit-learn/scikit-learn/issues/21755 */display: inline-block !important;position: relative;}#sk-container-id-4 div.sk-text-repr-fallback {display: none;}</style><div id=\"sk-container-id-4\" class=\"sk-top-container\"><div class=\"sk-text-repr-fallback\"><pre>DecisionTreeRegressor(random_state=194)</pre><b>In a Jupyter environment, please rerun this cell to show the HTML representation or trust the notebook. <br />On GitHub, the HTML representation is unable to render, please try loading this page with nbviewer.org.</b></div><div class=\"sk-container\" hidden><div class=\"sk-item\"><div class=\"sk-estimator sk-toggleable\"><input class=\"sk-toggleable__control sk-hidden--visually\" id=\"sk-estimator-id-4\" type=\"checkbox\" checked><label for=\"sk-estimator-id-4\" class=\"sk-toggleable__label sk-toggleable__label-arrow\">DecisionTreeRegressor</label><div class=\"sk-toggleable__content\"><pre>DecisionTreeRegressor(random_state=194)</pre></div></div></div></div></div>"
      ],
      "text/plain": [
       "DecisionTreeRegressor(random_state=194)"
      ]
     },
     "execution_count": 41,
     "metadata": {},
     "output_type": "execute_result"
    }
   ],
   "source": [
    "tree = DecisionTreeRegressor(random_state = 194)\n",
    "tree.fit(x_imputed, y)"
   ]
  },
  {
   "cell_type": "code",
   "execution_count": 42,
   "metadata": {
    "colab": {
     "base_uri": "https://localhost:8080/"
    },
    "id": "09huXxkAJCDJ",
    "outputId": "6a7334ba-5044-4aa6-8980-ef1fe39282cd"
   },
   "outputs": [
    {
     "name": "stdout",
     "output_type": "stream",
     "text": [
      "Number of features: 99\n"
     ]
    }
   ],
   "source": [
    "find_important_features(x_imputed, shhs1, tree, \"decision_tree\", \"hf15\")"
   ]
  },
  {
   "cell_type": "code",
   "execution_count": 43,
   "metadata": {
    "colab": {
     "base_uri": "https://localhost:8080/"
    },
    "id": "JhA__Lkyy6Bz",
    "outputId": "411f203c-ce13-4d10-b2c5-ca5a2b8be691"
   },
   "outputs": [],
   "source": [
    "tree_importances = tree.feature_importances_\n",
    "decision_tree_features = np.array(x_imputed.columns)[tree_importances > 0]\n",
    "decision_tree_dataset = x_imputed[decision_tree_features]\n",
    "decision_tree_dataset['hf15'] = shhs1['hf15']"
   ]
  },
  {
   "cell_type": "code",
   "execution_count": 44,
   "metadata": {
    "colab": {
     "base_uri": "https://localhost:8080/"
    },
    "id": "4i5hhnCUzLWI",
    "outputId": "1a95c2e1-514b-4b63-c28b-4b13e2ffc28a"
   },
   "outputs": [
    {
     "data": {
      "text/plain": [
       "99"
      ]
     },
     "execution_count": 44,
     "metadata": {},
     "output_type": "execute_result"
    }
   ],
   "source": [
    "len(decision_tree_features)"
   ]
  },
  {
   "cell_type": "code",
   "execution_count": 45,
   "metadata": {
    "id": "pdnD1jlQzMc8"
   },
   "outputs": [],
   "source": [
    "decision_tree_dataset.to_csv('../../data/interim/feature_selection/decision_tree_hf15.csv', index=False)"
   ]
  },
  {
   "cell_type": "markdown",
   "metadata": {
    "id": "ul2iBVn0ytWU"
   },
   "source": [
    "### Mutual Information"
   ]
  },
  {
   "cell_type": "code",
   "execution_count": 46,
   "metadata": {
    "id": "47tAgGzP0EaT"
   },
   "outputs": [],
   "source": [
    "mi = mutual_info_regression(x_imputed, y, random_state = 99)"
   ]
  },
  {
   "cell_type": "code",
   "execution_count": 47,
   "metadata": {
    "colab": {
     "base_uri": "https://localhost:8080/"
    },
    "id": "DXXc4ppJ0LHw",
    "outputId": "5a235042-ebf4-4d29-b202-06ba844e645f"
   },
   "outputs": [],
   "source": [
    "# Get feature names where mutual information is greater than 0\n",
    "mi_features = np.array(x_imputed.columns)[mi > 0]\n",
    "\n",
    "# Create a new dataset with only the features having non-zero mutual information\n",
    "mi_dataset = x_imputed[mi_features]\n",
    "\n",
    "# Add the 'ahi_c0h4a' column to the new dataset\n",
    "mi_dataset['hf15'] = shhs1['hf15']"
   ]
  },
  {
   "cell_type": "code",
   "execution_count": 48,
   "metadata": {
    "colab": {
     "base_uri": "https://localhost:8080/"
    },
    "id": "CLahLFdP0U6S",
    "outputId": "7894faf3-5031-43a4-8397-36c8749f1d0e"
   },
   "outputs": [
    {
     "data": {
      "text/plain": [
       "162"
      ]
     },
     "execution_count": 48,
     "metadata": {},
     "output_type": "execute_result"
    }
   ],
   "source": [
    "len(mi_features)"
   ]
  },
  {
   "cell_type": "code",
   "execution_count": 49,
   "metadata": {
    "id": "blEnoPvN0OTn"
   },
   "outputs": [],
   "source": [
    "mi_dataset.to_csv('../../data/interim/feature_selection/mi_hf15.csv', index=False)"
   ]
  },
  {
   "cell_type": "markdown",
   "metadata": {
    "id": "qxxaXn-S5v94"
   },
   "source": [
    "### Forward Selection"
   ]
  },
  {
   "cell_type": "code",
   "execution_count": 50,
   "metadata": {
    "colab": {
     "base_uri": "https://localhost:8080/"
    },
    "id": "sqSsrg1k5u_Y",
    "outputId": "85f75165-25f1-48a3-f53b-8179631a1ea3"
   },
   "outputs": [
    {
     "name": "stdout",
     "output_type": "stream",
     "text": [
      "Added feature: ca15, AIC with Features: 10402.540699719797\n",
      "Added feature: prev_hx_mi, AIC with Features: 10234.591701308265\n",
      "Added feature: ntg1, AIC with Features: 10140.19491657621\n",
      "Added feature: paced, AIC with Features: 10088.318130917713\n",
      "Added feature: anar1a1, AIC with Features: 10053.87704350314\n",
      "Added feature: copd15, AIC with Features: 10022.421325565636\n",
      "Added feature: afib, AIC with Features: 9998.443109182313\n",
      "Added feature: anar31, AIC with Features: 9979.172221253239\n",
      "Added feature: sa15, AIC with Features: 9960.771618478764\n",
      "Added feature: nitro15, AIC with Features: 9943.80104174349\n",
      "Added feature: infmi, AIC with Features: 9932.463725929947\n",
      "Added feature: yrsns15, AIC with Features: 9919.341738048402\n",
      "Added feature: age_s1, AIC with Features: 9906.659544118535\n",
      "Added feature: prev_hx_stroke, AIC with Features: 9898.180161970471\n",
      "Added feature: re_s1, AIC with Features: 9889.76772114306\n",
      "Added feature: shhs1_cf, AIC with Features: 9883.257109852257\n",
      "Added feature: sob02, AIC with Features: 9876.696302755518\n",
      "Added feature: pacem15, AIC with Features: 9869.970800406287\n",
      "Added feature: cabg15, AIC with Features: 9858.525444994204\n",
      "Added feature: hrswe02, AIC with Features: 9853.821457753693\n",
      "Added feature: nges02, AIC with Features: 9846.341262136099\n",
      "Added feature: syst320, AIC with Features: 9842.140681835586\n",
      "Added feature: warf1, AIC with Features: 9838.332181563093\n",
      "Added feature: emphys15, AIC with Features: 9834.499037640742\n",
      "No significant improvement in AIC or no further significant feature found. Stopping forward selection.\n"
     ]
    }
   ],
   "source": [
    "#USING AIC\n",
    "forward_selection_features = []\n",
    "\n",
    "# Start with an arbitrarily large initial AIC\n",
    "previous_AIC = float('inf')\n",
    "AIC_change_threshold = 3  # Adjust this threshold value based on the scale of your AIC\n",
    "\n",
    "#run forward selection\n",
    "while len(forward_selection_features) < len(x_imputed.columns):\n",
    "    remaining_features = list(set(x_imputed.columns) - set(forward_selection_features))\n",
    "    best_feature_AIC = float('inf')\n",
    "    best_feature = None\n",
    "\n",
    "    for feature in remaining_features:\n",
    "        candidate_features = forward_selection_features.copy()\n",
    "        candidate_features.append(feature)\n",
    "\n",
    "        x_forward = x_imputed[candidate_features]\n",
    "        y_forward = y.copy()\n",
    "\n",
    "        x_forward = sm.add_constant(x_forward)\n",
    "        model = sm.OLS(y_forward, x_forward).fit()\n",
    "        AIC = model.aic\n",
    "\n",
    "        # Update the best feature if the current one is better (lower AIC)\n",
    "        if AIC < best_feature_AIC:\n",
    "            best_feature_AIC = AIC\n",
    "            best_feature = feature\n",
    "\n",
    "    # Break the loop if change in AIC is smaller than the threshold or if no significant decrease in AIC\n",
    "    if abs(best_feature_AIC - previous_AIC) < AIC_change_threshold or best_feature is None:\n",
    "        print(\"No significant improvement in AIC or no further significant feature found. Stopping forward selection.\")\n",
    "        break\n",
    "\n",
    "    forward_selection_features.append(best_feature)\n",
    "    print(f\"Added feature: {best_feature}, AIC with Features: {best_feature_AIC}\")\n",
    "\n",
    "    # Update the previous AIC for the next iteration\n",
    "    previous_AIC = best_feature_AIC\n"
   ]
  },
  {
   "cell_type": "code",
   "execution_count": 51,
   "metadata": {
    "colab": {
     "base_uri": "https://localhost:8080/"
    },
    "id": "pPBPGD647nrV",
    "outputId": "48c480ab-dd2e-4fe0-9d4d-21a6dc3ca350"
   },
   "outputs": [
    {
     "data": {
      "text/plain": [
       "24"
      ]
     },
     "execution_count": 51,
     "metadata": {},
     "output_type": "execute_result"
    }
   ],
   "source": [
    "len(forward_selection_features)"
   ]
  },
  {
   "cell_type": "code",
   "execution_count": 52,
   "metadata": {
    "colab": {
     "base_uri": "https://localhost:8080/"
    },
    "id": "ete_8V0258_d",
    "outputId": "40b5fa9d-87cb-44ac-984f-e2b0771e1a43"
   },
   "outputs": [],
   "source": [
    "# Create a new dataset with only the features having non-zero mutual information\n",
    "forward_selection_dataset = x_imputed[forward_selection_features]\n",
    "\n",
    "# Add the 'ahi_c0h4a' column to the new dataset\n",
    "forward_selection_dataset['hf15'] = shhs1['hf15']\n",
    "\n",
    "forward_selection_dataset['nsrrid'] = shhs1['nsrrid']"
   ]
  },
  {
   "cell_type": "code",
   "execution_count": 53,
   "metadata": {
    "id": "5hZWiK466CTT"
   },
   "outputs": [],
   "source": [
    "forward_selection_dataset.to_csv('../../data/interim/feature_selection/forward_selection_hf15.csv', index=False)"
   ]
  },
  {
   "cell_type": "markdown",
   "metadata": {
    "id": "0Ek1uH2p4HM7"
   },
   "source": [
    "### Backward selection"
   ]
  },
  {
   "cell_type": "code",
   "execution_count": 54,
   "metadata": {
    "colab": {
     "base_uri": "https://localhost:8080/"
    },
    "id": "5RiBB9W54I5O",
    "outputId": "973a9105-032b-4efa-d4b7-623119d2bf4b"
   },
   "outputs": [
    {
     "name": "stdout",
     "output_type": "stream",
     "text": [
      "Removed feature: mh_s1, Mean Squared Error without Feature: 0.5080315179335119\n",
      "Removed feature: rawrp_s1, Mean Squared Error without Feature: 0.42720555619003797\n",
      "Removed feature: anar31, Mean Squared Error without Feature: 0.42081042879677577\n",
      "Removed feature: prev_hx_mi, Mean Squared Error without Feature: 0.417418842668346\n",
      "Removed feature: angina15, Mean Squared Error without Feature: 0.4148126211891606\n",
      "Removed feature: asthma15, Mean Squared Error without Feature: 0.4124365154472934\n",
      "Removed feature: othrcs15, Mean Squared Error without Feature: 0.41005198676846505\n",
      "Removed feature: pcs_s1, Mean Squared Error without Feature: 0.4077665720718637\n",
      "Removed feature: lvhst, Mean Squared Error without Feature: 0.4057659438974488\n",
      "Removed feature: rawbp_s1, Mean Squared Error without Feature: 0.4038182776261818\n",
      "Removed feature: nges02, Mean Squared Error without Feature: 0.4019860756218264\n",
      "Removed feature: apbs, Mean Squared Error without Feature: 0.40013911561110715\n",
      "Removed feature: beta1, Mean Squared Error without Feature: 0.39835334622888124\n",
      "Removed feature: ccbsr1, Mean Squared Error without Feature: 0.3969007047170343\n",
      "Removed feature: lvh3_3, Mean Squared Error without Feature: 0.3953649161305872\n",
      "Removed feature: avesmk15, Mean Squared Error without Feature: 0.39415075641896125\n",
      "Removed feature: mi2slp02, Mean Squared Error without Feature: 0.3930612859969887\n",
      "Removed feature: tfawem02, Mean Squared Error without Feature: 0.3920084570501961\n",
      "Removed feature: ohga1, Mean Squared Error without Feature: 0.3909799033525239\n",
      "Removed feature: date02, Mean Squared Error without Feature: 0.3900291734685995\n",
      "Removed feature: pdei1, Mean Squared Error without Feature: 0.3891525015927691\n",
      "Removed feature: niac1, Mean Squared Error without Feature: 0.388279476085611\n",
      "Removed feature: asa15, Mean Squared Error without Feature: 0.38742707858743813\n",
      "Removed feature: av1deg, Mean Squared Error without Feature: 0.3866069555897096\n",
      "Removed feature: cabg15, Mean Squared Error without Feature: 0.3857735457781457\n",
      "Removed feature: ccb1, Mean Squared Error without Feature: 0.3850764497571926\n",
      "Removed feature: wine15, Mean Squared Error without Feature: 0.38432837644129114\n",
      "Removed feature: beer15, Mean Squared Error without Feature: 0.3836407378331653\n",
      "Removed feature: climb125, Mean Squared Error without Feature: 0.38286838135220014\n",
      "Removed feature: phctdn25, Mean Squared Error without Feature: 0.38211624686469947\n",
      "Removed feature: phacls25, Mean Squared Error without Feature: 0.3812698312911393\n",
      "Removed feature: dig1, Mean Squared Error without Feature: 0.3806520236519486\n",
      "Removed feature: ilbbb, Mean Squared Error without Feature: 0.380062923642429\n",
      "Removed feature: twuweh02, Mean Squared Error without Feature: 0.37959028535476774\n",
      "Removed feature: hrswd02, Mean Squared Error without Feature: 0.37912003471572214\n",
      "Removed feature: iventblk, Mean Squared Error without Feature: 0.37865547624767554\n",
      "Removed feature: infmi, Mean Squared Error without Feature: 0.378103884191124\n",
      "Removed feature: wk1blk25, Mean Squared Error without Feature: 0.37762009751410053\n",
      "Removed feature: mdsa02, Mean Squared Error without Feature: 0.3771743221474443\n",
      "Removed feature: cgpkyr, Mean Squared Error without Feature: 0.37677732812155496\n",
      "Removed feature: rawpf_s1, Mean Squared Error without Feature: 0.37636574264997313\n",
      "Removed feature: membhh02, Mean Squared Error without Feature: 0.3759888435290572\n",
      "Removed feature: ursbpae, Mean Squared Error without Feature: 0.3756418621682233\n",
      "Removed feature: runny15, Mean Squared Error without Feature: 0.37527578491110786\n",
      "Removed feature: prev_hx_stroke, Mean Squared Error without Feature: 0.3749213175392161\n",
      "Removed feature: drive02, Mean Squared Error without Feature: 0.37457804177208254\n",
      "Removed feature: anar1b1, Mean Squared Error without Feature: 0.37423049976187023\n",
      "Removed feature: yrssnr02, Mean Squared Error without Feature: 0.37392723166105873\n",
      "Removed feature: mstat, Mean Squared Error without Feature: 0.37362190491730807\n",
      "Removed feature: race, Mean Squared Error without Feature: 0.37332107161109834\n",
      "Removed feature: shhs1_tcvd, Mean Squared Error without Feature: 0.3730197452964872\n",
      "Removed feature: shhs1_all, Mean Squared Error without Feature: 0.3725984198997031\n",
      "Removed feature: cp02, Mean Squared Error without Feature: 0.3723065249150714\n",
      "Removed feature: hostbr02, Mean Squared Error without Feature: 0.37206471133684366\n",
      "Removed feature: betad1, Mean Squared Error without Feature: 0.3718419744840572\n",
      "Removed feature: antlatmi, Mean Squared Error without Feature: 0.37164247473744777\n",
      "Removed feature: asalw15, Mean Squared Error without Feature: 0.37145166642061644\n",
      "Removed feature: painjt02, Mean Squared Error without Feature: 0.37126073405072096\n",
      "Removed feature: hctz1, Mean Squared Error without Feature: 0.37107855743405005\n",
      "Removed feature: diuret1, Mean Squared Error without Feature: 0.37015664664075226\n",
      "Removed feature: benzod1, Mean Squared Error without Feature: 0.3699835319990314\n",
      "Removed feature: smokstat_s1, Mean Squared Error without Feature: 0.3698168931119433\n",
      "Removed feature: irbbb, Mean Squared Error without Feature: 0.3696429870229609\n",
      "Removed feature: nsaid1, Mean Squared Error without Feature: 0.36948261485929607\n",
      "Removed feature: attabl02, Mean Squared Error without Feature: 0.3693253978422528\n",
      "Removed feature: hvsnrd02, Mean Squared Error without Feature: 0.36916782701451795\n",
      "Removed feature: cpap02, Mean Squared Error without Feature: 0.36901521400205506\n",
      "Removed feature: napshr15, Mean Squared Error without Feature: 0.3688594392940316\n",
      "Removed feature: crbron15, Mean Squared Error without Feature: 0.36870699522543204\n",
      "Removed feature: twuwem02, Mean Squared Error without Feature: 0.3685633584308665\n",
      "Removed feature: rbbb, Mean Squared Error without Feature: 0.3684237742454479\n",
      "Removed feature: smknow15, Mean Squared Error without Feature: 0.36829306123871897\n",
      "Removed feature: htnderv_s1, Mean Squared Error without Feature: 0.3681563233338484\n",
      "Removed feature: htnmed1, Mean Squared Error without Feature: 0.3673670337336939\n",
      "Removed feature: st5_1_3, Mean Squared Error without Feature: 0.3672335476654873\n",
      "Removed feature: truposmi, Mean Squared Error without Feature: 0.3670908541852053\n",
      "Removed feature: phlegm15, Mean Squared Error without Feature: 0.3669743978176837\n",
      "Removed feature: tca1, Mean Squared Error without Feature: 0.3668575045768746\n",
      "Removed feature: bend25, Mean Squared Error without Feature: 0.36673747032664694\n",
      "Removed feature: lift25, Mean Squared Error without Feature: 0.3665862575615636\n",
      "Removed feature: cough315, Mean Squared Error without Feature: 0.36647549446602845\n",
      "Removed feature: istrd1, Mean Squared Error without Feature: 0.36637067490636027\n",
      "Removed feature: ns1yr15, Mean Squared Error without Feature: 0.36626669578260046\n",
      "No significant improvement in MSE or removing any more features deteriorates the model. Stopping backward selection.\n"
     ]
    }
   ],
   "source": [
    "# Starting with all the features\n",
    "backward_selection_features = list(x_imputed.columns)\n",
    "\n",
    "# Start with an arbitrarily large initial MSE\n",
    "previous_mse = float('inf')\n",
    "mse_change_threshold = 1e-4  # Adjust this threshold value based on the scale of your MSE\n",
    "\n",
    "while len(backward_selection_features) > 0:\n",
    "    removed_feature_mse = float('inf')\n",
    "    feature_to_remove = None\n",
    "\n",
    "    for feature in backward_selection_features:\n",
    "        candidate_features = backward_selection_features.copy()\n",
    "        candidate_features.remove(feature)\n",
    "\n",
    "        # Split the data into training and testing sets\n",
    "        X_train, X_test, y_train, y_test = train_test_split(x_imputed[candidate_features], y, test_size=0.2, random_state=42)\n",
    "\n",
    "        # Fit a model with the selected features\n",
    "        model = LinearRegression()\n",
    "        model.fit(X_train, y_train)\n",
    "\n",
    "        # Evaluate the model without the current feature\n",
    "        y_pred = model.predict(X_test)\n",
    "        mse = mean_squared_error(y_test, y_pred)\n",
    "\n",
    "        # Update the best feature to remove if the current one is better (lower MSE)\n",
    "        if mse < removed_feature_mse:\n",
    "            removed_feature_mse = mse\n",
    "            feature_to_remove = feature\n",
    "\n",
    "    # Break the loop if change in MSE is smaller than the threshold or if removing a feature increases the MSE\n",
    "    if abs(removed_feature_mse - previous_mse) < mse_change_threshold or removed_feature_mse > previous_mse:\n",
    "        print(\"No significant improvement in MSE or removing any more features deteriorates the model. Stopping backward selection.\")\n",
    "        break\n",
    "\n",
    "    backward_selection_features.remove(feature_to_remove)\n",
    "    print(f\"Removed feature: {feature_to_remove}, Mean Squared Error without Feature: {removed_feature_mse}\")\n",
    "\n",
    "    # Update the previous MSE for the next iteration\n",
    "    previous_mse = removed_feature_mse"
   ]
  },
  {
   "cell_type": "code",
   "execution_count": 55,
   "metadata": {
    "colab": {
     "base_uri": "https://localhost:8080/"
    },
    "id": "sNKP2ChN4OZj",
    "outputId": "46bb6906-e7f3-43e7-f5a9-02ab9a2b1072"
   },
   "outputs": [],
   "source": [
    "# Create a new dataset with only the features having non-zero mutual information\n",
    "backward_selection_dataset = x_imputed[backward_selection_features]\n",
    "\n",
    "# Add the 'ahi_c0h4a' column to the new dataset\n",
    "backward_selection_dataset['hf15'] = shhs1['hf15']"
   ]
  },
  {
   "cell_type": "code",
   "execution_count": 56,
   "metadata": {
    "colab": {
     "base_uri": "https://localhost:8080/"
    },
    "id": "0N7-7kjlhksB",
    "outputId": "cc6f44bc-fff0-4ec2-a53b-c0cad5559d31"
   },
   "outputs": [
    {
     "data": {
      "text/plain": [
       "209"
      ]
     },
     "execution_count": 56,
     "metadata": {},
     "output_type": "execute_result"
    }
   ],
   "source": [
    "len(backward_selection_features)"
   ]
  },
  {
   "cell_type": "code",
   "execution_count": 57,
   "metadata": {
    "id": "XDWD0hGy4Yl4"
   },
   "outputs": [],
   "source": [
    "backward_selection_dataset.to_csv('../../data/interim/feature_selection/backward_selection_hf15.csv', index=False)"
   ]
  }
 ],
 "metadata": {
  "colab": {
   "provenance": []
  },
  "kernelspec": {
   "display_name": "Python 3 (ipykernel)",
   "language": "python",
   "name": "python3"
  },
  "language_info": {
   "codemirror_mode": {
    "name": "ipython",
    "version": 3
   },
   "file_extension": ".py",
   "mimetype": "text/x-python",
   "name": "python",
   "nbconvert_exporter": "python",
   "pygments_lexer": "ipython3",
   "version": "3.9.6"
  }
 },
 "nbformat": 4,
 "nbformat_minor": 1
}

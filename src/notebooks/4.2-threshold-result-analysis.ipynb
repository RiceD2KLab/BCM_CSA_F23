{
 "cells": [
  {
   "cell_type": "markdown",
   "metadata": {},
   "source": [
    "# Threshold Analysis"
   ]
  },
  {
   "cell_type": "code",
   "execution_count": 5,
   "metadata": {},
   "outputs": [],
   "source": [
    "import os\n",
    "import pandas as pd\n",
    "\n",
    "# user defined methods\n",
    "import sys\n",
    "sys.path.append('../utils')\n",
    "\n",
    "from threshold_analysis import extract_info_folder, extract_log, create_heatmap\n",
    "\n",
    "log_path = '../../results/threshold/2023-11-13/'\n",
    "log_dir = os.listdir(log_path)\n"
   ]
  },
  {
   "cell_type": "code",
   "execution_count": 8,
   "metadata": {},
   "outputs": [],
   "source": [
    "# Initialize a dictionary to store the best model for each i and j\n",
    "best_models = {}\n",
    "\n",
    "for folder in os.listdir(log_path):\n",
    "    folder_path = os.path.join(log_path, folder)\n",
    "    if os.path.isdir(folder_path):\n",
    "        log_file_path = os.path.join(folder_path, 'find_threshold.log')\n",
    "        if os.path.isfile(log_file_path):\n",
    "            dataset, model, target, threshold_j, threshold_i = extract_info_folder(folder)\n",
    "            f1_test, f1_val, fn_rate, cm = extract_log(log_file_path)\n",
    "            \n",
    "            if fn_rate is not None:  # Ensure fn_rate is not None\n",
    "                key = (threshold_j, threshold_i)\n",
    "                if key not in best_models or (fn_rate < best_models[key][0] or \n",
    "                                              (fn_rate == best_models[key][0] and f1_test > best_models[key][1]) or \n",
    "                                              (fn_rate == best_models[key][0] and f1_test == best_models[key][1] and f1_val > best_models[key][2])):\n",
    "                    best_models[key] = (fn_rate, f1_test, f1_val, model, threshold_j, threshold_i)\n",
    "\n",
    "# Create a dataframe from the best models\n",
    "df = pd.DataFrame.from_dict(best_models, orient='index', \n",
    "                            columns=['False Negative Rate', 'F1 Test Score', 'F1 Val Score', 'Model', 'j_value', 'i_value'])\n",
    "\n",
    "\n",
    "df_sorted = df.sort_values(by=['j_value', 'i_value'])"
   ]
  },
  {
   "cell_type": "code",
   "execution_count": 9,
   "metadata": {},
   "outputs": [
    {
     "data": {
      "text/html": [
       "<div>\n",
       "<style scoped>\n",
       "    .dataframe tbody tr th:only-of-type {\n",
       "        vertical-align: middle;\n",
       "    }\n",
       "\n",
       "    .dataframe tbody tr th {\n",
       "        vertical-align: top;\n",
       "    }\n",
       "\n",
       "    .dataframe thead th {\n",
       "        text-align: right;\n",
       "    }\n",
       "</style>\n",
       "<table border=\"1\" class=\"dataframe\">\n",
       "  <thead>\n",
       "    <tr style=\"text-align: right;\">\n",
       "      <th></th>\n",
       "      <th>False Negative Rate</th>\n",
       "      <th>F1 Test Score</th>\n",
       "      <th>F1 Val Score</th>\n",
       "      <th>Model</th>\n",
       "      <th>j_value</th>\n",
       "      <th>i_value</th>\n",
       "    </tr>\n",
       "  </thead>\n",
       "  <tbody>\n",
       "    <tr>\n",
       "      <th>(1, 1)</th>\n",
       "      <td>0.003681</td>\n",
       "      <td>0.996933</td>\n",
       "      <td>0.99343</td>\n",
       "      <td>xgboost</td>\n",
       "      <td>1</td>\n",
       "      <td>1</td>\n",
       "    </tr>\n",
       "    <tr>\n",
       "      <th>(1, 2)</th>\n",
       "      <td>0.003681</td>\n",
       "      <td>0.996933</td>\n",
       "      <td>0.99343</td>\n",
       "      <td>xgboost</td>\n",
       "      <td>1</td>\n",
       "      <td>2</td>\n",
       "    </tr>\n",
       "    <tr>\n",
       "      <th>(1, 3)</th>\n",
       "      <td>0.003681</td>\n",
       "      <td>0.996933</td>\n",
       "      <td>0.99343</td>\n",
       "      <td>xgboost</td>\n",
       "      <td>1</td>\n",
       "      <td>3</td>\n",
       "    </tr>\n",
       "    <tr>\n",
       "      <th>(1, 4)</th>\n",
       "      <td>0.003681</td>\n",
       "      <td>0.996933</td>\n",
       "      <td>0.99343</td>\n",
       "      <td>xgboost</td>\n",
       "      <td>1</td>\n",
       "      <td>4</td>\n",
       "    </tr>\n",
       "    <tr>\n",
       "      <th>(1, 5)</th>\n",
       "      <td>0.003681</td>\n",
       "      <td>0.996933</td>\n",
       "      <td>0.99343</td>\n",
       "      <td>xgboost</td>\n",
       "      <td>1</td>\n",
       "      <td>5</td>\n",
       "    </tr>\n",
       "  </tbody>\n",
       "</table>\n",
       "</div>"
      ],
      "text/plain": [
       "        False Negative Rate  F1 Test Score  F1 Val Score    Model  j_value  \\\n",
       "(1, 1)             0.003681       0.996933       0.99343  xgboost        1   \n",
       "(1, 2)             0.003681       0.996933       0.99343  xgboost        1   \n",
       "(1, 3)             0.003681       0.996933       0.99343  xgboost        1   \n",
       "(1, 4)             0.003681       0.996933       0.99343  xgboost        1   \n",
       "(1, 5)             0.003681       0.996933       0.99343  xgboost        1   \n",
       "\n",
       "        i_value  \n",
       "(1, 1)        1  \n",
       "(1, 2)        2  \n",
       "(1, 3)        3  \n",
       "(1, 4)        4  \n",
       "(1, 5)        5  "
      ]
     },
     "execution_count": 9,
     "metadata": {},
     "output_type": "execute_result"
    }
   ],
   "source": [
    "df_sorted.head()"
   ]
  },
  {
   "cell_type": "code",
   "execution_count": 10,
   "metadata": {},
   "outputs": [
    {
     "name": "stderr",
     "output_type": "stream",
     "text": [
      "In a future version of pandas all arguments of DataFrame.pivot will be keyword-only.\n",
      "In a future version of pandas all arguments of DataFrame.pivot will be keyword-only.\n",
      "In a future version of pandas all arguments of DataFrame.pivot will be keyword-only.\n"
     ]
    }
   ],
   "source": [
    "# Create and save heatmaps individually as images\n",
    "pivot_f1_test = df.pivot(\"i_value\", \"j_value\", \"F1 Test Score\")\n",
    "create_heatmap(pivot_f1_test, 'F1 Test Score for Each i, j Combination', '../../visualizations/f1_test_score_heatmap.png')\n",
    "\n",
    "pivot_f1_val = df.pivot(\"i_value\", \"j_value\", \"F1 Val Score\")\n",
    "create_heatmap(pivot_f1_val, 'F1 Validation Score for Each i, j Combination', '../../visualizations/f1_val_score_heatmap.png')\n",
    "\n",
    "pivot_fn_rate = df.pivot(\"i_value\", \"j_value\", \"False Negative Rate\")\n",
    "create_heatmap(pivot_fn_rate, 'False Negative Rate for Each i, j Combination', '../../visualizations/fn_rate_heatmap.png')"
   ]
  }
 ],
 "metadata": {
  "kernelspec": {
   "display_name": "csa",
   "language": "python",
   "name": "python3"
  },
  "language_info": {
   "codemirror_mode": {
    "name": "ipython",
    "version": 3
   },
   "file_extension": ".py",
   "mimetype": "text/x-python",
   "name": "python",
   "nbconvert_exporter": "python",
   "pygments_lexer": "ipython3",
   "version": "3.9.6"
  }
 },
 "nbformat": 4,
 "nbformat_minor": 2
}

{
 "cells": [
  {
   "cell_type": "markdown",
   "metadata": {},
   "source": [
    "# Threshold Analysis"
   ]
  },
  {
   "cell_type": "code",
   "execution_count": 1,
   "metadata": {},
   "outputs": [],
   "source": [
    "import os\n",
    "\n",
    "# user defined methods\n",
    "import sys\n",
    "sys.path.append('../utils')\n",
    "\n",
    "from threshold_logs import extract_info_folder, extract_log\n",
    "\n",
    "log_folders = os.listdir('../../results/threshold/2023-11-10/')\n"
   ]
  },
  {
   "cell_type": "code",
   "execution_count": 2,
   "metadata": {},
   "outputs": [
    {
     "name": "stdout",
     "output_type": "stream",
     "text": [
      "720\n"
     ]
    }
   ],
   "source": [
    "print(len(log_folders))"
   ]
  },
  {
   "cell_type": "code",
   "execution_count": 3,
   "metadata": {},
   "outputs": [],
   "source": [
    "best_false_negative = 1000\n",
    "for folder in log_folders:\n",
    "    f1_test, f1_val, cm = extract_log('../../results/threshold/2023-11-10/' + folder + '/find_threshold.log')\n",
    "\n",
    "    if f1_test is None:\n",
    "        continue\n",
    "    # find the lowest false negative rate\n",
    "    false_negative = cm[0][1]\n",
    "    if false_negative < best_false_negative:\n",
    "        best_false_negative = false_negative\n",
    "        best_folder = folder\n",
    "        best_cm = cm\n",
    "        best_f1_test = f1_test\n",
    "        best_f1_val = f1_val"
   ]
  },
  {
   "cell_type": "code",
   "execution_count": 4,
   "metadata": {},
   "outputs": [
    {
     "name": "stdout",
     "output_type": "stream",
     "text": [
      "Dataset: feature_selection_mrmr20\n",
      "Model: decision_tree\n",
      "Target: hf15\n",
      "Threshold CAHI > 2\n",
      "Threshold CAHI > OAHI * 1/1\n"
     ]
    }
   ],
   "source": [
    "extract_info_folder(best_folder)"
   ]
  }
 ],
 "metadata": {
  "kernelspec": {
   "display_name": "csa",
   "language": "python",
   "name": "python3"
  },
  "language_info": {
   "codemirror_mode": {
    "name": "ipython",
    "version": 3
   },
   "file_extension": ".py",
   "mimetype": "text/x-python",
   "name": "python",
   "nbconvert_exporter": "python",
   "pygments_lexer": "ipython3",
   "version": "3.9.6"
  }
 },
 "nbformat": 4,
 "nbformat_minor": 2
}
